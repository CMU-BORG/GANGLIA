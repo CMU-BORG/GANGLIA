{
 "cells": [
  {
   "cell_type": "markdown",
   "metadata": {},
   "source": [
    "Initial Set Up (Modules, User-Defined Functions, etc)"
   ]
  },
  {
   "cell_type": "code",
   "execution_count": 1,
   "metadata": {},
   "outputs": [],
   "source": [
    "# -*- coding: utf-8 -*-\n",
    "\"\"\"\n",
    "Generation of Automatic Neuron Graph-Like Interconnected Arrangements (GANGLIA)\n",
    "\n",
    "Liao, A.S., Zhang, Y.J., Webster-Wood, V.A. (2023). GANGLIA: A Tool for Designing Customized Neuron Circuit Patterns. In: Meder, F., Hunt, A., Margheri, L., Mura, A., Mazzolai, B. (eds) Biomimetic and Biohybrid Systems. Living Machines 2023. Lecture Notes in Computer Science(), vol 14158. Springer, Cham. https://doi.org/10.1007/978-3-031-39504-8_14\n",
    "\n",
    "2023 March 31\n",
    "\n",
    "@author: Ashlee S. Liao\n",
    "\"\"\"\n",
    "import matplotlib.pyplot as plt\n",
    "import igraph as ig\n",
    "import numpy as np\n",
    "import math\n",
    "import random\n",
    "import ezdxf\n",
    "from ezdxf.addons.drawing.properties import LayoutProperties\n",
    "from ezdxf.addons.drawing import RenderContext, Frontend\n",
    "from ezdxf.addons.drawing.matplotlib import MatplotlibBackend\n",
    "import cadquery as cq\n",
    "# import subprocess\n",
    "import collections\n",
    "import cairosvg\n",
    "import matplotlib.image as mpimg\n",
    "import time\n",
    "import PySimpleGUI as psg\n",
    "from matplotlib.backends.backend_tkagg import FigureCanvasTkAgg\n",
    "import matplotlib\n",
    "import plotly.express as px\n",
    "import pandas as pd\n",
    "\n",
    "matplotlib.use('TkAgg')\n",
    "%matplotlib inline\n",
    "\n",
    "random.seed(0) #set the random seed to a constant seed for repeatability\n",
    "\n",
    "#to check intersections (https://www.geeksforgeeks.org/check-if-two-given-line-segments-intersect/)\n",
    "\n",
    "##############\n",
    "# A Python3 program to find if 2 given line segments intersect or not\n",
    "  \n",
    "class Point:\n",
    "    def __init__(self, x, y):\n",
    "        self.x = x\n",
    "        self.y = y\n",
    "  \n",
    "# Given three collinear points p, q, r, the function checks if \n",
    "# point q lies on line segment 'pr' \n",
    "def onSegment(p, q, r):\n",
    "    if ( (q.x <= max(p.x, r.x)) and (q.x >= min(p.x, r.x)) and \n",
    "           (q.y <= max(p.y, r.y)) and (q.y >= min(p.y, r.y))):\n",
    "        return True\n",
    "    return False\n",
    "  \n",
    "def orientation(p, q, r):\n",
    "    # to find the orientation of an ordered triplet (p,q,r)\n",
    "    # function returns the following values:\n",
    "    # 0 : Collinear points\n",
    "    # 1 : Clockwise points\n",
    "    # 2 : Counterclockwise\n",
    "      \n",
    "    # See https://www.geeksforgeeks.org/orientation-3-ordered-points/amp/ \n",
    "    # for details of below formula. \n",
    "      \n",
    "    val = (float(q.y - p.y) * (r.x - q.x)) - (float(q.x - p.x) * (r.y - q.y))\n",
    "    if (val > 0):\n",
    "          \n",
    "        # Clockwise orientation\n",
    "        return 1\n",
    "    elif (val < 0):\n",
    "          \n",
    "        # Counterclockwise orientation\n",
    "        return 2\n",
    "    else:\n",
    "          \n",
    "        # Collinear orientation\n",
    "        return 0\n",
    "  \n",
    "# The main function that returns true if \n",
    "# the line segment 'p1q1' and 'p2q2' intersect.\n",
    "def doIntersect(p1,q1,p2,q2):\n",
    "      \n",
    "    # Find the 4 orientations required for \n",
    "    # the general and special cases\n",
    "    o1 = orientation(p1, q1, p2)\n",
    "    o2 = orientation(p1, q1, q2)\n",
    "    o3 = orientation(p2, q2, p1)\n",
    "    o4 = orientation(p2, q2, q1)\n",
    "  \n",
    "    # General case\n",
    "    if ((o1 != o2) and (o3 != o4)):\n",
    "        return True\n",
    "  \n",
    "    # Special Cases\n",
    "  \n",
    "    # p1 , q1 and p2 are collinear and p2 lies on segment p1q1\n",
    "    if ((o1 == 0) and onSegment(p1, p2, q1)):\n",
    "        return True\n",
    "  \n",
    "    # p1 , q1 and q2 are collinear and q2 lies on segment p1q1\n",
    "    if ((o2 == 0) and onSegment(p1, q2, q1)):\n",
    "        return True\n",
    "  \n",
    "    # p2 , q2 and p1 are collinear and p1 lies on segment p2q2\n",
    "    if ((o3 == 0) and onSegment(p2, p1, q2)):\n",
    "        return True\n",
    "  \n",
    "    # p2 , q2 and q1 are collinear and q1 lies on segment p2q2\n",
    "    if ((o4 == 0) and onSegment(p2, q1, q2)):\n",
    "        return True\n",
    "  \n",
    "    # If none of the cases\n",
    "    return False\n",
    "\n",
    "def draw_figure(canvas, figure):\n",
    "    figure_canvas_agg = FigureCanvasTkAgg(figure, canvas)\n",
    "    figure_canvas_agg.draw()\n",
    "    figure_canvas_agg.get_tk_widget().pack(side='top', fill='both', expand=1)\n",
    "    return figure_canvas_agg\n",
    "\n",
    "##################"
   ]
  },
  {
   "cell_type": "markdown",
   "metadata": {},
   "source": [
    "GANGLIA GUI Version"
   ]
  },
  {
   "cell_type": "code",
   "execution_count": 22,
   "metadata": {},
   "outputs": [
    {
     "name": "stdout",
     "output_type": "stream",
     "text": [
      "Fruchterman-Reingold was selected.\n",
      "Total number of intersections: 0\n",
      "Time Elapsed for Procedure 1 (s): 0.0567626953125\n",
      "Time Elapsed for Procedure 2 (s): 0.47577500343322754\n",
      "Time Elapsed Total (s): 0.5325376987457275\n",
      "IGRAPH U--- 2 2 --\n",
      "+ attr: isCell (v)\n",
      "+ edges:\n",
      "0--1 0--1\n"
     ]
    },
    {
     "data": {
      "application/javascript": "\n\nfunction render(data, parent_element, ratio){\n    \n    // Initial setup\n    const renderWindow = vtk.Rendering.Core.vtkRenderWindow.newInstance();\n    const renderer = vtk.Rendering.Core.vtkRenderer.newInstance({ background: [1, 1, 1 ] });\n    renderWindow.addRenderer(renderer);\n        \n    // iterate over all children children\n    for (var el of data){ \n        var trans = el.position;\n        var rot = el.orientation;\n        var rgba = el.color;\n        var shape = el.shape;\n        \n        // load the inline data\n        var reader = vtk.IO.XML.vtkXMLPolyDataReader.newInstance();\n        const textEncoder = new TextEncoder();\n        reader.parseAsArrayBuffer(textEncoder.encode(shape));\n\n        // setup actor,mapper and add\n        const mapper = vtk.Rendering.Core.vtkMapper.newInstance();\n        mapper.setInputConnection(reader.getOutputPort());\n        mapper.setResolveCoincidentTopologyToPolygonOffset();\n        mapper.setResolveCoincidentTopologyPolygonOffsetParameters(0.9,20);\n\n        const actor = vtk.Rendering.Core.vtkActor.newInstance();\n        actor.setMapper(mapper);\n\n        // set color and position\n        actor.getProperty().setColor(rgba.slice(0,3));\n        actor.getProperty().setOpacity(rgba[3]);\n        \n        actor.rotateZ(rot[2]*180/Math.PI);\n        actor.rotateY(rot[1]*180/Math.PI);\n        actor.rotateX(rot[0]*180/Math.PI);\n        \n        actor.setPosition(trans);\n\n        renderer.addActor(actor);\n\n    };\n    \n    renderer.resetCamera();\n    \n    const openglRenderWindow = vtk.Rendering.OpenGL.vtkRenderWindow.newInstance();\n    renderWindow.addView(openglRenderWindow);\n\n    // Add output to the \"parent element\"\n    var container;\n    var dims;\n    \n    if(typeof(parent_element.appendChild) !== \"undefined\"){\n        container = document.createElement(\"div\");\n        parent_element.appendChild(container);\n        dims = parent_element.getBoundingClientRect();\n    }else{\n        container = parent_element.append(\"<div/>\").children(\"div:last-child\").get(0);\n        dims = parent_element.get(0).getBoundingClientRect();\n    };\n\n    openglRenderWindow.setContainer(container);\n    \n    // handle size\n    if (ratio){\n        openglRenderWindow.setSize(dims.width, dims.width*ratio);\n    }else{\n        openglRenderWindow.setSize(dims.width, dims.height);\n    };\n    \n    // Interaction setup\n    const interact_style = vtk.Interaction.Style.vtkInteractorStyleManipulator.newInstance();\n\n    const manips = {\n        rot: vtk.Interaction.Manipulators.vtkMouseCameraTrackballRotateManipulator.newInstance(),\n        pan: vtk.Interaction.Manipulators.vtkMouseCameraTrackballPanManipulator.newInstance(),\n        zoom1: vtk.Interaction.Manipulators.vtkMouseCameraTrackballZoomManipulator.newInstance(),\n        zoom2: vtk.Interaction.Manipulators.vtkMouseCameraTrackballZoomManipulator.newInstance(),\n        roll: vtk.Interaction.Manipulators.vtkMouseCameraTrackballRollManipulator.newInstance(),\n    };\n\n    manips.zoom1.setControl(true);\n    manips.zoom2.setScrollEnabled(true);\n    manips.roll.setShift(true);\n    manips.pan.setButton(2);\n\n    for (var k in manips){\n        interact_style.addMouseManipulator(manips[k]);\n    };\n\n    const interactor = vtk.Rendering.Core.vtkRenderWindowInteractor.newInstance();\n    interactor.setView(openglRenderWindow);\n    interactor.initialize();\n    interactor.bindEvents(container);\n    interactor.setInteractorStyle(interact_style);\n\n    // Orientation marker\n\n    const axes = vtk.Rendering.Core.vtkAnnotatedCubeActor.newInstance();\n    axes.setXPlusFaceProperty({text: '+X'});\n    axes.setXMinusFaceProperty({text: '-X'});\n    axes.setYPlusFaceProperty({text: '+Y'});\n    axes.setYMinusFaceProperty({text: '-Y'});\n    axes.setZPlusFaceProperty({text: '+Z'});\n    axes.setZMinusFaceProperty({text: '-Z'});\n\n    const orientationWidget = vtk.Interaction.Widgets.vtkOrientationMarkerWidget.newInstance({\n        actor: axes,\n        interactor: interactor });\n    orientationWidget.setEnabled(true);\n    orientationWidget.setViewportCorner(vtk.Interaction.Widgets.vtkOrientationMarkerWidget.Corners.BOTTOM_LEFT);\n    orientationWidget.setViewportSize(0.2);\n\n};\n\n\nnew Promise(\n  function(resolve, reject)\n  {\n    if (typeof(require) !== \"undefined\" ){\n        require.config({\n         \"paths\": {\"vtk\": \"https://unpkg.com/vtk\"},\n        });\n        require([\"vtk\"], resolve, reject);\n    } else if ( typeof(vtk) === \"undefined\" ){\n        var script = document.createElement(\"script\");\n    \tscript.onload = resolve;\n    \tscript.onerror = reject;\n    \tscript.src = \"https://unpkg.com/vtk.js\";\n    \tdocument.head.appendChild(script);\n    } else { resolve() };\n }\n).then(() => {\n    var parent_element = element;\n    var data = [{\"shape\": \"<?xml version=\\\"1.0\\\"?>\\n<VTKFile type=\\\"PolyData\\\" version=\\\"0.1\\\" byte_order=\\\"LittleEndian\\\" header_type=\\\"UInt32\\\" compressor=\\\"vtkZLibDataCompressor\\\">\\n  <PolyData>\\n    <Piece NumberOfPoints=\\\"4132\\\"                 NumberOfVerts=\\\"64\\\"                   NumberOfLines=\\\"2268\\\"                 NumberOfStrips=\\\"0\\\"                    NumberOfPolys=\\\"1448\\\"                >\\n      <PointData Normals=\\\"Normals\\\">\\n        <DataArray type=\\\"Float32\\\" Name=\\\"Normals\\\" NumberOfComponents=\\\"3\\\" format=\\\"appended\\\" RangeMin=\\\"0\\\"                    RangeMax=\\\"1.0000000977\\\"         offset=\\\"0\\\"                   />\\n      </PointData>\\n      <CellData Normals=\\\"Normals\\\">\\n        <DataArray type=\\\"Int64\\\" IdType=\\\"1\\\" Name=\\\"SUBSHAPE_IDS\\\" format=\\\"appended\\\" RangeMin=\\\"5\\\"                    RangeMax=\\\"230\\\"                  offset=\\\"8680\\\"                />\\n        <DataArray type=\\\"Int64\\\" IdType=\\\"1\\\" Name=\\\"MESH_TYPES\\\" format=\\\"appended\\\" RangeMin=\\\"2\\\"                    RangeMax=\\\"7\\\"                    offset=\\\"9460\\\"                />\\n        <DataArray type=\\\"Float32\\\" Name=\\\"Normals\\\" NumberOfComponents=\\\"3\\\" format=\\\"appended\\\" RangeMin=\\\"0.99999996253\\\"        RangeMax=\\\"1.0000000407\\\"         offset=\\\"9588\\\"                />\\n      </CellData>\\n      <Points>\\n        <DataArray type=\\\"Float32\\\" Name=\\\"Points\\\" NumberOfComponents=\\\"3\\\" format=\\\"appended\\\" RangeMin=\\\"18.107583902\\\"         RangeMax=\\\"207.32895268\\\"         offset=\\\"17204\\\"               />\\n      </Points>\\n      <Verts>\\n        <DataArray type=\\\"Int64\\\" Name=\\\"connectivity\\\" format=\\\"appended\\\" RangeMin=\\\"\\\"                     RangeMax=\\\"\\\"                     offset=\\\"32304\\\"               />\\n        <DataArray type=\\\"Int64\\\" Name=\\\"offsets\\\" format=\\\"appended\\\" RangeMin=\\\"\\\"                     RangeMax=\\\"\\\"                     offset=\\\"32480\\\"               />\\n      </Verts>\\n      <Lines>\\n        <DataArray type=\\\"Int64\\\" Name=\\\"connectivity\\\" format=\\\"appended\\\" RangeMin=\\\"\\\"                     RangeMax=\\\"\\\"                     offset=\\\"32656\\\"               />\\n        <DataArray type=\\\"Int64\\\" Name=\\\"offsets\\\" format=\\\"appended\\\" RangeMin=\\\"\\\"                     RangeMax=\\\"\\\"                     offset=\\\"38708\\\"               />\\n      </Lines>\\n      <Strips>\\n        <DataArray type=\\\"Int64\\\" Name=\\\"connectivity\\\" format=\\\"appended\\\" RangeMin=\\\"\\\"                     RangeMax=\\\"\\\"                     offset=\\\"43052\\\"               />\\n        <DataArray type=\\\"Int64\\\" Name=\\\"offsets\\\" format=\\\"appended\\\" RangeMin=\\\"\\\"                     RangeMax=\\\"\\\"                     offset=\\\"43068\\\"               />\\n      </Strips>\\n      <Polys>\\n        <DataArray type=\\\"Int64\\\" Name=\\\"connectivity\\\" format=\\\"appended\\\" RangeMin=\\\"\\\"                     RangeMax=\\\"\\\"                     offset=\\\"43084\\\"               />\\n        <DataArray type=\\\"Int64\\\" Name=\\\"offsets\\\" format=\\\"appended\\\" RangeMin=\\\"\\\"                     RangeMax=\\\"\\\"                     offset=\\\"50880\\\"               />\\n      </Polys>\\n    </Piece>\\n  </PolyData>\\n  <AppendedData encoding=\\\"base64\\\">\\n   _AgAAAACAAACwQQAAiwIAAM0WAAA=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AQAAAACAAAAgdgAANwIAAA==eJzt2verzXEcx3G/yCYre++998q8uDd77z0yMjKy994jNzOEiIiISEZWJCIiciP+DnU8fzk6p3enz6nP93zu6/nL4594Fi7wryJYDEtgGSyHFbESVsFqWANrYR2shw2wETbBZtgCW2EbbIcdsBN2wW7YC/tgP+yPA3EwDsXhOBJH41gcjxNxMk7F6TgTZ+N8XIzLcTWuwXW4ATfhFtyGO3AX7sH9eBAP4wk8hY/xORaSCS2KxWVCS2JpGausTGh5GatCIFbGqlgda0bc2lgX62PDQGwsYzUNxObYEltj24jbHjtiZ+waiN1lrJ4p2hv7JjELBwRmNg7CIYbDAnEEjsIxOC7iTsBJOAWnBeKMwJ2FcwJzHi7ARbgkictwBa4KxLW4Hjfi5oi7FbfjTtwdiHsDd59M6IEUPYRHDI/hcTyZxNN4Fs/hBbyIl/EqXsebeBvv4n18hE/wWRJf4Et8je/wA37CL/gNf+BP/I0FpXSwlJRSSimllPnYHlI6mCOllNKrcw0XOrrUcKWUUkqvHpXSwVwpHTwjpYPnZaS9ZHjF8JrhDZlWbxneMbxn+EBG2oeGT6V08JXhG0ffykj7Xkbaj4afDb8afpdpNc/wl+EfQ9//tcwsff9JUkoppZRS+tT3by0zS99fqJRS5jdd/3f97VJK6VffP7TMLHOlTEHfv7PMLH3/1zJe6z/XX55erX9cf3i01f8tXXT9u33/yjJe33+yjNf6s/Vfp9e8/7R+6r8pI70lAQAAAACAAAAgdgAATAAAAA==eJztxbENAAAEADCRiP8/NrjBpF2asdIvL9u2bdu2bdu2bdu2bdu2bdu2bdu2bdu2bdu2D27btm3btm3btm3btm3btm3bfvIAZG1UZQ==AgAAAACAAAAwMQAAZgIAANUTAAA=eJztz19ojXEcx/GjU4oWRrGUaUdMi1hYLOf5ZpkLbVI2TXPDZIRCO81a23kupEXJv1YYNwodLpRZYc6yi5GLXezCvwuSyVrEaf5cSMlRnM7X83gez3nOzsX7d/Xq2+f75xcImBL4/TDGGGOMMcYYY4wxxhhjjDHGGGOMMcYYY4wxxhhjjDHGGGOMMcYYY4wxxhhjjDHGGGOMMcYYY4wxxhhjjDHGGGOMMcY4e965fnpvw/doX5rNkWfF4bGHv+qpnhOfasxubku6NnE7XJNoV07NFC6sMErrW5UHZzYZoxcPKQ93nzImrY0obwxcMx5UHVBe+rLfMO/uVW5e89yoPN2ofKEgYVQ92ab8NBaUumP1yj2RKbLgZo3yjjcF0rKpWvn+WEhi+yuVg+cWyeRpYeUlQytksGy58pFOQ5pGS5Ke+2qdVJQW2daHP9XKjRN5SX+4vkHm589SbujeKh09E1Q+tZ7/drtsmfE+nu5Y5z65dDWe9JeOXdIVeqycmonlHZT+W5eVN49EJFR3XPnbQKt8Xbkq6aLiFjkje5TLB9qksHeiyqfWz86LyuKhK/fSXfYiKiWHg8rnP0fl0euTq3/6zu6oVHcdDdvV35W3y7LGj8p/ntmXZtOiTj73b8u1vFv7PT+bNnPghvG630tvLuxyMtP0kPfjzkzNt5rj9/1+3+xkl9u823uyOcfqL5my271e7nebd3KDk/z/2PTwXy+9bvJWvW7/YtebaTv9i/kPO8n7scuq18mu9F43eS92u8sqb1c3Lex2r+nD3/820+7mTNzg93ynN/iZz2bvuM7/AURTrI54nNXZeTyV2/oAcJGSkiakDBmuVDQcQ9mvvZ50QkUa0IAiFQmFTJn2JqU0omSopElUmqjs136fUofmzqlO58iQ5hnNnQb9tt2957c/1tWto/P53Ouf9+vxrGetF+v1vIucnBDl/vyQWihjua/w/3r+N9W5XODCz84TSGNVc+35PQ8JsLF+EBM4tNMx908CHLc8hfGp07Eu+yDA3Uu6s+MK7MXaByXxw4eYbY6K4uvVAlw+cgFr7lEhLqqIQ/2IEsZYOVNsOkaA43uvZGebqXGbRsbiJAvz0lovO26HYTTyNjUwtf0bxOoQh/kFieyJXG3uQWMM6jW+Y+a8G8O9aC/JuezNFAXoc5PKYqRrM7L151KMFmNjrgk7uUcEd94/EjVWDrPWy0jjDuiEISPWtX6/fRnn9iEcjSqL2eVOezhtEoy9bDcxwfMzuRImFNu3L2ZX38zi1rQLlX4/QrPLuPzTAXh2fQYzZOghzqVpIeYrpLNDQyo5m5O+6Fm4nklWO8N5BfpjN14qm32qgZMb5o1Na9cx25bc4Ion+iAMX8MeKZNHSzUPzOOtYhQDX3Gz93hhX/lkNsdZBfMWueLug0nMfG9FLBW6YVbKUjZrjQa6T3TC5FcJjBGqYtBVZyy5J2RDAvUwb78dHnwfzeSUa6J/gSPe6BbJWj4aiIbpBM+tD2YqQwzwWQdbPP8ikFX7ZIYVSpa47JwP05UzwbR6awzyms0m7LLGM11MsWO6O1OxzQJ7+pjjUPdp7I9VozE7zwC9301g9vclmBIyCF/fdmR9Mhzxdq0mbvvtR+aGgR0O19THNb1sWM1KZxQdU8Wes4Yzs46MxwuevfHICXNWJ9MNVRlFzPYeyNy76IJVDl0xTMuYNbnqhWqVL7mOatpMLz93XHdbAT8+7MNmLvNBtbxa7qm9KtM7fhbemf6c47mrsA/3+uOepxWcR5d2jENPX/zdo5rbd6pJ9PzHICwTHeCW1d3hzdAKwB41P3E1N26K7o0Jxc1amZxbUTlvemYQnrhfyHkOOSWaVxKBanrxnHhfHi8xKRTvJm/keAd2iiakRaF34SRuQX0SL/tOBDbmCbjVpstEWwqj8FLuBG6zrqPoztUYVMvux40c4MS7ejsGXfV0Ob/fO4lOx8ThNMda8Qf1zrwPCXG4OLFaXOO/suTtCgHmHg0Tmz9eZaW9UoDBy0LF/9pM/7xAC//za/82/i0531rza/K/duz3jreW8635f3e8LffV1jUIv6F+W9bWlnnbss7W6rTFX6rZ2rxfs7a/Ora1/O819lvX/3fcy/da/9e4LXN9zdi2WtiKv0d9YSv+O+r/r4z9O9zaer5X/E/n1N0hkz/NkcZk/b3upcvUTihQnobNn8n6C2P/yj0K/4Nbq/M1Y//bLHsvX2PhV+a0Nu+/q/O9/FfW+S112rKGr1lPW9b5rWP/jprfel/fa81tWcPX1PlSfeF3vvevnfd/2cJW/L3yWxv7rTltif8dNf8b4n9lrLAN3x/hX6z/H/PX83tYz/kokMZkvbOyv/jFadpRz0rEzs/iKGtzqlyfiFjKb/uP4szco6VuUg/l7m+J/GL8eVEq13F0GGVFuT3cVcdgyuE3yrgQNoDyRJvr3IQ0X8o1vZ9xzG+zKFcVKOCUle6Ut4R1RcvDLpQD7/bGRc7jKSe+0MfqIFvKJlkmeEeVT5m5bIEnLM0pB6QTXPdoIGXDm3ZoPUyPcsNeJ/xHdw3Kb166Ytq6LpTHFHlg8ZF2lI3ue6NSz6dE+nNZPg9j9K+RlvGt6YF4dTdH5cjGc7qEYLsju6Se8SAMn09d88W4bv/FuA/8pf5YHo3sCKsvxpnyWOxQ2oFyloEA3/2Sx2+2Ra0Ahycq8L8Uz34lwPjbKaUtLGT9BFiZnSxu6ce8OAzzbZSeDcpY6FjoIs7I+7xH/Gp1Sss+CADiurPB8+zF3Q8JIOrdIGazkyK/sloAPmMWsP5DO41w/ySA5nP4rcqZ/EFjBKDWeyU7f689X+ugADodOMTcM2rg94E4qNuTyF5wr+AXV8TBmOASJjJAn7iUxUjnEuRqk0eNMTDu2TvmxQ9qZOvIWNBlzEvrvOzIDsNo6JnewFS/G0Oeto8G50xvxs7Wn6w1WgyiayZs/M0ssq5dqLSOyo5lZNqHcNBuKGaX9YggZ/wjYapgmLXv/EwiYkJhu3wxOzEjjRTohEF8ka41M/QQmdy0EM5opLPDnfYQExIMHWw2MavUzhDPQH8I46eybHYZyT4dAKZLM5gVS24QdqIPaFiuaT6HJzYnfeFcwXrGMPAVcdvjBQ6Kyc3n8ERumDf8krqOcfFWhDNCN4hevZQ9WiYPlmoeUGCxijFGVVh41RkcbgnZzc4qsHuRKww6lsTklmuCX4EjHO8Ryaat0QCviU6Q/TaBqQ0xgKcdbCH6bSAbGqgHu/bbQfYf0c3n6pBWbw0mwbNZU8neMk0nMHB1MHN8mwX08TEHTc9pbO9PZnBSyRIWlfowB/sSWBsyCEbfdWSX7rKG8i6m4LXenak2sAOepj4E9rVhSdVo2JpnAG9fTWA8j4yHnz17w/AKc3ZOhiPcrdUEtcs/Np+rQ5VDVzDQMGb7VTrDgWOqMH7G8OZzdVh3WwGaz9X7ZrpBL0YR3HwHMn3jZ8Fv058TD3cVdshVL1CufEmK1LSZsT194ZZHNUkvbBJtWuYDynm15NkYVcZLKwA61PxEampviu7t9YcjTyvIeo12jGtmEFy/X0i6aZ5qPoeHMtEB0nwOvzwpFM4nbyRYuLP5HB42a2WS0+fLeZvuRMCveQJy1GpZ8zk8qOnFk+Zz+AlpUTC1cBL54U4SL7swCrptm0D2NTg0n7eDdnY/kuQuPW8HVz1dcnaf9LwdpjnW8p1Hd+Z9TIiDzonV/N1hK0v+WCGAkiNhfPd7q6x0Vgpg/dJQ6X4MG+wvvpX2eR/ljlpdqvBaABcczBivwdPFftsFsGbdXNZetdR6RL0AlnWJZ+rCE9mYJgHoOR5mTWzj+ZNiP48VuPvwXdYLgN1rVnql5wi+fpEA+iSusta1v8B/XhwH4voBopC4TmR5YSxs6qjHs+l/nF9dFQfHUrVLj5S4kjyPKGmd93e7kyrPWIieMaC08xATUj49Bp7riJnXMJlAchTYjatkBs/8kXy0jwYrwfBSdlYoGZsZCSaXi9i19QnkSXQEKPUrZMYeyiLaSqGQ2W4P4+GTSsqcwsC48iB7zqaAhAcGw68ZhWyK5iEyTT4I+FvyGAf1M0RJso/WPtnOlBSdIPgmAJS67GHPZt0g98f5wNBXOcziA78Tn0ZfMLTKY5dkviIqOV5QeyCb0evfQCLcvKFPn+3s4QRFuBbgBg7/2MjMXCoP/lYeoFy8hT31QBU+HXWGK5NTmQYjFVBMcYU0+Sz20ltNECQ6wk2z1cylYA0YP9cJbnfcwBbtNYBj10bDoLNJzCpPPTghsoNJJ9ey5U0mYHzYGib1TmB0JftIWbKPGq2S2SkPLeCUjjnsJJFMTmdzGPbBAl7OSmTVfQnk6wyCH474M+GcNcQ8NwGz+Bi24yI76HdMDxTSZzLTPo4G3zgDuHV4IWuh5ATPGzXg2Z2JjPpJR7i3UxOqnbxZRt8Vzl5UgQ97RzFNyi7weIEqBHu4sPtL3eH1VAXQPm3GrP/ZDfBGeygst2UvXpkFVw2fkZ8DDJkc1Vnw6uMLcp61ZMtmS/ZRpypyxb8XM/2UD8zZVUPwgxG7wC8AQvxPkcnVCozdY3+YWV5O7MrV2dybQVA1dR9Rz73L6xsfBKsD9hOdekX2/JlQcKveQLr3K+ONWBIK43ZtJHfrH4jidSOhk2oMeV6wmfekPgI6dhQQQ+WfRBPKoiDSwIkk38oRXa+LghsXHAjWLeTFv48BkzItEu64SKTdJRYCevYl9s76PKvMOGgnd41v5Wko6rg1Doa+vcK/v2aHVVCWAOoaZ/Mrj+0qycsWwIf13tJ95LMtFCfVpHPNf5tk3bQhCPPfFVIOfuaPf+SXU+56zAeTrtdIvfaJF44Qvmy2XCtxoWKaG8bZKmKzzfc7Y81r1WbLtRIXatk54mrHPlL7uI/GEBtDaX4rcWH/VwzevWAqdYiGGdo8tZTmtxIXPjs9ADdlAGU31X7InrWnLN+oht0FEyjHhHTGqv1TKJduksNu02dI1yBj4ZRHj7j94bMp2yhd5Qa296OckFPKpTQFUk47voOb6x1COTp8FZdsGi6dV8bCxv2+nMBjMWW3SgtuYn005ZgUBe5iXay0joyFx5/niit+EFBG61hMV1LnWtpXSZ0ct/5cR9aSHJDkkJY2SxGRYT4LsKWdyn4hh5L8KJsHP5D87ZpD+UNKE9HSnklZsbMy7Ns4Ver54b3g9uqJX4yrJenACvmxlDdbGIP6+5GUtWKGQXjMCMqmrjxIXTmEMohGgfEQI8qau8fByflalJ9rTIYDdj0oJ3eYDr4VHSkvW+AJco/+4Fp6u+NcGFBwmzJv83y4VX2e8i6PhXAxpZiy0fJFkH9tM2WiHQERJUsp1z7WEt++9Pl3RtaSK5x7oiXtn2V9/bEWv/nzlhbHRYPOKCAtDZci4cLHIMopCWHQv1sKZXFWMJTZ5lM27RMIO7udoHxLYR60m/U75fbu3pBk3ED5mr4HvNgrDy19wtMV9oaoSP2rmhN0uKHxxXjpWDuY9liP8gA5AitTBlEuJBZgdM6c8nxlE8BUPuVYP30Iv2VL2d67N1QVjaec+E4FwhRdKV8doQApl9wpXx/TSHK7elNOWV5JjnO+lH8iZSS0OoCy5eICsndOMOW4MalkhEsYZX7kIrJtdyTlh2U2pKdXNOXMujuc86fPzxBZ/2Hqz5f0n1LPGzydP2+7AB+vmMuuXZTISPpMbHI7zO6xX20t/1qAYyR9qWf3EWKDIgE2rFhlHWl8XPx7VRxWpmiX2vcqLZX0qLhRIZ55Nt1HPGW9pE6+Wek/7C+IJf0nrjkyUGQyOl7sHPt5rgN3u3M1nrH4VNJnFsd14pYVxqLD6H68ssEm3JnpMVinLWZSZv7IvbGPxoak4aX+IydzVslRuIGpZDbNCuUcMiOx5/Uitr7EldvhESWtWVSfwN2PjsCtkv7TwCeVO+sUhho/H2TrbQq4oMBgPLeikJX0pZykL8V7Pfcwe4pOcCfeBOCL9nvYpZqHODf5IGR25jE5B37nZjT6YiaTxw5QP8OpBvrj+4btjGr/Bi7GzRvFutvZy1k3uHvjfNDzaQ4zfak8LrDyQBvxFtYv8xXXK8cLd+dnM2+MVPDTOle0/5TJViQo4tkAN2wy2shcDNZASZ+J6aob2KMPVFHpmDN2HZ/KJHjq4VmRHRaeX8ueeauJiYmOmDlgNWP8aCDKpxP0Nk9my/caYP610bj4YhKT1dkcLT9YYPjsRPZEkwmaHLbGWvUEJpqzxojnJvgpMYad/NACK3TM0YEfyUz9OBr94gxw0oGFrK4vwRydQRh41J/pdtIR63dqYqmLN9sUYocDj+nhqHUzGbnOLvhggSqmTXRhGSUnfNSogU0NE5k1P7vh2Rvt8cPPtuwQfVesuaiCZ7ePau4z8fXHF9zKA5Zscak7PpmqgBt/MWNmnvLBCbtqOOMmI/b0lVn40PAZZ7nAkLF57I9h5eVcV1advTDbF492quIcQ3sx/eOD0ClgP2d5V5H19wvApf6nOPWHCszgJaG4YtdGzrH7Q5GkL0VJX8oVRNzlNdRH4K8dBNzlzj+JTp8JxUXVG7jjemU8x7Io3GPgxJnezBEl6kbita4x3Ib8zbzf6qJQ66ID16VyIW/J+xiUK9PilKdI+0/06NmXOz5E2n/i60+/ijcmGYqUtsZh+ZsrYs2MHVbBWQLUbJwtDi+S9p9I1ntLn+caUzvBYuVp0NJycm36v9ufnr8tFCxr0qXPXlm/3hAEV98VUl76zB8y8sspPzzqA3pVNZQ3PPECA+FLykppbhBpqwgtPW+/M6x7rUpZzs4RDjn2oRzhPhpm2BhSbnzJgN5FU8rJGmYw8Kkl5Q+nB0BaBlAeqtoPqs/aUx7RqAaP4iZQXhjSGW7vn0I5d5Mc6E6fQfnOo0ckOXw25ZFKV8mg9n6U1+aUkjVNgZTTcQdZ5x1COSViFfE2Dae8e58vyfVYTHlLpQUZXx9N+WyqAjlZF0vZ51ku/9wPAspFcdF4eRRwLSy0uBSJkU1BUqclhKFmtxRpTitxoaTHQEmPIfWoPoFo3e2ENF82LukrUNJXSOMyOcJ3kmfqPuMGaVwmRzYuvKPvgdV75aU9laSXQEkvIX3mtxIXVqs54cdaDanzxtph8GM9aX4rcWF/OYJrUgZJc2QsjCIW6HbOnPISZRPMS+VL82UsLPbTxzG3bCkbeffGF0XjKbu8U8ENiq6U21kpYPgld8oTxzZy8V29Kc9fXsmd4Xwpq5EyLqM6gPKhxQVc+pxg6fplLJT0GJykx6CsErmI27k7kvKBkzZcJ69oyl2f/H8PLGvp9YmW9J1d1pKcP3tgWe9fJ+IcfBZQ7lv2C8clfd5rt4MfcHd6z/lifFxqE6eoPZNyjLIyts+YShnDe+Gu1RMpd0/SwVXyYylnWhij5vuRlHvFDMPYmBGU77rw8MbKIVKnikZhxWAjKv4mbxw2zNeicmTj/XpPxoV2PSjP6DAd91d0pJy/wBMTH/5BWnqf41yUK7hN2XzzfPxYfZ5ylsdCVE0tpmy6fBFGX9tMWzsCn5cspdz8Th0r8379Lwsl1+b35+YcWTdfY2Xer//l/wPdpqxnAgAAAACAAACwQQAALxcAAPcUAAA=eJztnHdUFtfTx7FgRLGARIOiYMMG9h6Vu4P1ZzQaFQVrVCwJqMQWC4gdCyoWwIJeUIwKilhjQdi1Ye8dwS7GXiPWd53J2btE15Jy3uRk+etznrPPw+7ce+fOd2buVgt1UuosbqJYqH8RZ/vIs5+skN9wNe1zzsTnnNWovRq2p13C68/nHw7nM/Jsf8OpCQPlCXVC8Lt5dhZSvm9VvP4bHrWnpHJjTpT0hl96NVfczociT/FwU4oHbkh8w489ApQfb4Thd7s7L1MWcvqdSb8sU+aEXER2Txul9D97HflyrKti2bYx3sPKPSNhVBUbvIfIQzGws3tJ5HNH4sE3phbyvHk7oUP1msjdwhNh9c3iyHO+SIPRHfMjb7PK7r6gFP3O0e+zu/s7f4a8NSUNunfOgRy8fQN0mXgZ/+/0o/bSCs/1aBPBTqzRhLlSQv/dv2O93Tj7uVIFt5DQEPxc2I0zYTfOhN04E3bjTNiNM2E3zoTdOBN240zYjTNhN842nrYDx+R8299wmYrXpJ+/y7U98705sWeWLtKkcQt+x5wJm3MmbM6ZsDlnwuacCZtzJmzOmbA5Z8LmnAmbcyZszpmYb5zN9LaHESutkYe61ofU0ja/exYn3TVOumucdM/uxKrp5n/H8CJK1CriSfMLKg2HE/8SZaM0yEEcG2+tpHxDc+/x3s+UGd0aIV+7n1V5VKkhcoU2L+S9MiCX+OWB/LKghLx21Q15QWU3ZHnpBTk1X33kvKdPycU21EWu0/SQfL5UbeSfX+ySt3augXzy2TZ5bPeqyKuabJQL1aiEXC49Tg48VQH5xYVl8pXmZZGjakbJ42aXQu50e74sr3VCdrEKlQvEOiCfCJ4h5wn8gjhgity+qh1y77QJcvzOfMj+a8bId+rlRh7/2F++Ny8H/d/BQ+VVl7Ig50v3k9tWfIZrM6m1r3x1yD3kcuv7yu7R15DD7XrL8YkpyFv8vOWA/UeR5x/oKVseTUZeXNZbjjq5ja4f00tee2Gd/D6/VO2dvosz8V3OxG9yJv4XZ+Ie1Ou1e+NM3DNn4lk4E8+oXqM9O2fCJpwJW3EmbMiZsK3Kms05E2PBmRgjzsTYcSbGVP2/2lhzJuYAZ2JuqOtXmzOcibnEmZhjnIm5x5mYk5yJucqZmMOcibmt+hxtznMm1gJnYo2o/kdbO5yJNaUfL/2eknns9J+7tSgmDy+9HHnANz8l7f2NZ26zSRz/K12z2WsMmz53FfJAy9zSWiuaM4Pc2kqLG26h77afJmU02oF8osAaqX7OQzSX3E5IV8adQy6z41fJY90N5HO7rOFJcAZyjHtRyDfOEudYQEtXsLemdTHrfD1o4WmPPOR6c+jjTWstaw8vWFOuMnLfJn3AclE9WtdTB8PBhGbI8XajoUBAe5q3uSfCsFPeyG4/TYXG8iDkyldCoIb9GPo8MRTk/JORh9eYD/1hJnL5houg4fJ5yKfSo6AUW4zcvPhSOJ0lFjnk5jLIfWMd8pNGMeBxLwHZutJKqGu7G3lF9CpwaXYY+dayOJgx/Qyyfq/Xc7NNKyHfWeK0ujHQ4BHxjG3LQKpI++P9RkvhwW975Zyji+GLLFfI1/WKhF5zia9lWQQjWl1FXvLTArhY+hpycod5YGt/HXlfwXDwK5eO7Hh5DrT2uEH+J3EWPFj4C91PbAiMyXoL+XDMdHAMvI2cIzEYjhe8i1z6+hTgO+8he5WeDP2mPEDePjwIivV+hPxD+gQY1f4Jcq/+48Gj41N6rvzjwMvvGf3+/jFQPfwF+f8lo2HiwVfIm+cGwuBJFhgnhLUfBY/isyAHbvSH7BeyItdtOxKu2mZHXlpxBBxrZknXNBkOOcdRjNFp0TDYnESxR3TNYeD0OidyRJ5h0L9BLuSupYZBin9u5JThw2DeVmtkfTym5wm+vSFL9bzI43a0hV+rEVcuDpD42zVp0ypBwHjiM18UheGn6Dc99+YCh3v0v150ui/dP0T3EMoPSMuGWiHXGbxCskune250b6JUugQ9i0+Lr6T7zvS8Ll65pNhfySZy59msTYXXtJ+WdXPblJ1sa3GcJcUG0Fh0aXw8aeKCO8j71xWXU7+lOZA32UMedvQijePCcbLHg7PIOYcvkJfsPIY8M32NnNBqP3LblN1yhfAdtBaanpMX8a3II4vflu/3o3XxZaeXskNOWi8//mqp1POjddStj7USFEfr69YLG6VdcgjyhviCSi45CPnS2MJK8wajkIv5FVX6HPah/Xeoo8LdvZD1+5Q+Tn4ePkyO3DwR+XyVQPnu7pHI163HyalDvkN27RgkRwd3QH5sHyzPKtQEWWo8U17jWBN5X0qYvGV1aeTcZyNkmxOfI9epu0TeFJoD+auMFfLyV3eT3nDWAmvkupWPI6eO2SRvPLYJ2aWhLCdncOQc3+yRi6+ZhOzx0xH5YcE+yCcbnJVfOTPkwgUuy1EriyBPLXZLPjb2Mcbzgzs+lpve34xsseOVHJ08EbloueyKf9vayNYWVkrorgvb3nDi5TzK0tiuyMWO2CoTXgxIeMN6HWGkKYz0hZHW0PORG+7KmT13kSt4N1V62H+Bz3J851dK8J4vkQtatVY6p3VHbu3STvGInID8yMVTWeITgRyUs7Mydvt65OVbuyk3Qg8h523SU0k7+QvyxOjeStNN2XAsXp/4TikTa4vsf9JXOVy3BLJz9AAlumNV2vvYQCUuuzty+aWDlcUV2iL3OzFUub7TGzlu/zBlfvJQ5J8nj1C+thtPe19ef+V/vtNozui0lZHOMtJcRvpLz2vuByiBEfeRO+7yVy42eo78svNIJaFXVpzzIzYNV4oX+oz2izM/KmXiKZ5snzREuV4lP3LtfoOUoFCKP59e8VPcUygurercX/G2KIq8uJqP0sqiOHKZfH0V/zO0527e7K0ETKK4d2jt7srLPC7IoZO7KNt7Upz8/VovZc0Uip+/Xe+hHAikuPr1zG+UGkDx9uWWLRXXgxSHb7vZTLEvSfF5O59Gyig3ittHH2OKVQmK58uXqqcE7aE4v+G3tZQ71Sn+PxZcVenQg3SBkVb179sX2g8k9szqAZ1+JK7CAaYy4tstK8Fn+0mf9ivsAIWKEI/OawVlKuZD3uh7S9prSf7cucFuaUMU+e2y0VHSDkvy2yN+8JceViJf/dipltSjBPnqW1musg6p5J83PGjAanrTPnW2YFBidj/yz3EVFiUpazOQj5zILVcMfYicFNFIzulA+6zj3pFyy2a0d49ZEC5XLpGG7OAdLxeIOYW8KC5ZnpF+CDnBN1Xum0axR8GZD+SQ2Ym0RwdlVZzybKRY604upU3LVcg3h9gqUztHUzzgYK80ZQuQrVKKKSVfUCzkEF9SORg6CTn33DJKvoKByANCyiv+r8kn/xjuogSu9XzvuAxmAdDpW1vkUg9HQZWpBZDb3QsEiLdDvpZtDJw89DlyeLWxUOt6QeSYgHGw/kkh5JZXxsOSl18gL+wxEbo+t0de/jwIGt4tTGMaMxm2nC5C+Qq/qVBxowPlH1pMA9vJRX8b0xlwqVUxigGkmeCY2xH5nsdsaPsz8eGRoWDXwQn5Ynw4ZNwg3vZoHizzpVzHU/cIOHCJuMjCReDYrATdT5Yo6MiJi/sugRbpxM9Sl8JOJ8qlrGi3HHizkm/lWIzyLUa5F6M8jJ6zX5LBYRhxvOMO+N9TehbLVrtgcl/ipX7JUO0APbv72L0QXZJ4ztj90NyXbNXV7yDMXkE27N/8MGScI9tG5T8KGVmIUxOPQZGiZP/CHU7AHVcaF8/TJyFbDRqvVW6n4UlVGse6wWfAuyyNb+Wks/Dkcxr3o6fOwTcvaG4MPJYCzik0Z4auOQ/OG2gutRuUCp9NsXkr72SUgzLKRxnlpvT8yDsNLEpTbNnscCo8upuNntEhFbIk0ho/0+w8pM+keCyXVwr08qHYtXGLc+ATTjFtrVJnwaEXxbphaafBzZ3itOqBp6BiFYqNb+U4CbWrUMy8atBxiGxI8duPe49CpA/F2O2tjsC3Kyj27lX1ELx6RXHd4cYHYOL35EP2NdkHGfduIs+vuQcazaDYfqrdbmj2P4r5n13aAccdKQ5svFiBSBvSCCkeSdDRifxP5dcJsOAr0hQJEVvgRihpDcvqm2Dda9Ij+jyePh4rUt9Z3lV+OrEUnxSRlXhDQJXEkvIM5CZe41gj79nIxV/nlZJvzUU+XrGj1LBtJPK6xrMk1zDSp42H/CwdjVuP3DDfealrmIIc5m8B6Y2OIGfY2IL3Gtpnn9YpCduOPqRY7mY1SD+QDe/zduGGsDEwL8XMiW3gy+ekPVcc6g49azojL5X8IK58Ndq/rEdBqcMMuZ7dBOhW7Gvk7o2nwlzrLsjZ7GdCZIgv8uSgMLi92B+ZhyyAQw4TkV2rRAJbMp3i7Z7RkKdHOGmissvheJtI2hNHxEIhvxW0F3SMg/rr1yIv3xkPMwuT3uSb1kLr+btof6yxHqKqkN5sX2cD8FNn3hoXfU7g8pdl5SlNlyNXzncoqe7TZciVfIsk7bKka+I6HnBbNyAW2Tt1LUuvtfp3udnMeVr95/qc7f6qgdK0oCTk0i1aSGGBm393vXGOV8+RMVulBmGUX3Ksnyb5+6QhF5tlAeev30b2KWcDuy1eIUe1Lw4nT76JkThztqsCOX+wQY5qx6Dx/iLIOQt8DT5pzsjh7p3h+hLK+aSnfgdbPqcczpWUoTCh/FfItwqPgfHnPJFr3p8IYU59kFN8g6Hx/SHI84NnQs8SY5H7tgiDLFZTkAetmA97y8yi+4laBHeHzUcuVXUxjHq2GLlVh6XQb0ks8gHb5RD+w3rkF11jYEfXbcgBDVbC0l67keusXAWXRh9GbhMTBzaxZ5Tf58bfnXPIPI5G+XNLl+pysPd05F7ZbiRlPTMNObt3m6Sis6e/97tCi3EmtBhnQotxJrQYZ0KLcSa0GGdCi3EmtJj67JoW40xoMc6EFlPvR9NinAktxpnQYpwJLcaZ0GKcCS3GmdBinAktxpnQYpwJLcaZ0GKcCS2mzlVNi2WuTRjVKYxqFkb1Cz0LLcaZ0GKcCS3GmdBinAktxpnQYpwJLcaZ0GKcCS3GmdBinAktxpnQYuqc17QYZ0KLcSa0GGdCi6n+R9Ni6hzTtJi6jjQtlrleY1S7MarjGNV09Cy0GGdCi6n217QYZ0KLcSa0GGdCi3EmtBhnQotxJrQYZ0KLcSa0GGdCi3EmtBhnQotxJrQYZ0KLqWOhaTHV52tajDOhxTgTWowzocXUcdG0GGdCi3EmtJhx/eu4U1YYlJwX+YZbmlR1OtWY2iibpc+LUo1pS2qo9OwHqpG5tOstXQjJiXx9cAnp2nCqVcWHbGMtKmVH9o6/6zZwdRbksj6WSatfv8T/e8YqIcm1wVPk693t5YOOD5CVI63lBstuIl84NVb2OneF/GS/CLlawnny5wvWy9bfnCR/3m6/3GbhQeR5ky7K0Ut3IfdxfSzv7E++129eNiXiFflkvje3UqfDSmSvEgWU3aOXINeLsFemB5Jv967lqDzynIk88nZJpV+BSchxW8sohbxHkd2iyisHhvkgn45wUVoP8HyvbfW1RT3vy7ldSra0Qm4xlEtO31Pt71sHf2ndfEuy2/a6Ulh4NuRFdo/Ys+5kz+fdfFinp2RPi9NPEurvI3sWCR6YtEJ6iGzb/GbSrS63kffYushjnK8jb8rVTS664AIybAySF26nPahffi7bRR5Ftsy2QU6ovQ85y5i98otp22n/Gn1e7rpsC3Kvx3fkOZPWIrsefyX71Yqh/zs5h3JxQxTN85PWygPrecg9m9sqyQ1CaKyvFlTmtw5C3h1VWBk4JwC5fmBR5XkXsu2AkY5KRC4vZH3dRL9/6Wu1etbHKvoarj5u0V9fwnc0s/l6NvLs7LdZoUdhb31XX/99929ywxqx0NRq/KBpanUta5qaM6Gp1dhG09ScCU3NmdDUnAlNrfp5TVOr46hpas6EpuZMaGrVt2uamjOhqTkTmpozoak5E5pa9UWaplZ9o6ap1bmnaWr1fjRNzZnQ1Kp9NE3NmdDUmWvoRvV0o9q6UZ1dz0JTqz5K09TqPNc0NWdCU6t7iqapOROamjOhqTkTmlqNUTVNrcYwmqZWYxJNU3MmNDVnQlNzJjS1GttrmlodL01TcyY0tbqnaJpanT+aps7cV2DUY2DUb2DUe6Bnoak5E5pafUZNU6u+XdPUnAlNzZnQ1JwJTc2Z0NScCU2t+nlNU6u20jQ1Z0JTq/u1pqlVX6RpanXeappa9bGaplbjfE1Tq/GhpqnVOalpavU+NU2tagRNU6vjomlqzoSmVuePpqkz92no/UDQ1SFS2uglyGMHcelW81XI9g92SMdTNiHHn0iXVrqSD7mZPQcE1jyJvLVeIfj6DtXiLXKWhcLNM5BjOtWGh5xq7k8rN4VuPUgr+Y1oD72vUT39XtVeULJkOeSlLQeBu21N5AKXA8E61h15ddOJ4JneGtmjbTAs29aNdFDWWVDYeQDFGF+Hw5ZcgciDa0fAfIn8dpvNkbB9zQzy80ejwdlzLnLTgOUwtxL5/01bYuFIZdoXDgTFgU/7dRQDXI6HBxEJyD/sWwsnXtHePaTBehg2iPTRZ/U2QK2MM2/ZVq+JRB1WjeW0Oixnog7LmajDqutCq8Oq8bBWh1V9r1aH5UzUYTkTdVh1Lml1WFXPanVYzkQdVr0frQ6rzkOtDqvqF60Oy5mow6pxiFaH5UzUYVWbaHVYdW5rdVj1ubQ6rPr7Wh1WjaW1Oqwaf2p1WHV9aXVYzkQdVvU5Wh1WnRtaHVa9RqvDcibqsJyJOqy6X2h1WNUfanVYdb1oddjMfUp6rnSjLyyqRHGmw1ZPWF6H2CqkGfxaiLhD/zowdy9d37dLOVjb+v39TvrP9Xturas+8Op74sXPOsEMf+IJ+VuASy+bt37n3fdsYfHu+C1zb9XtCdYQkZOYj34tLWySG/nd1/NM39VrcH0uTj/n9Xmhd++VmXP4eju8Oy+t3zf1eWmjPVSfp9XvL0Y5W/2eos/ZGu0vFhb6/rR3j69xD9viOiXA1Ss/2Tm2Ehw8mP+91+vjc30dRB/D68dO/9135wH0NUG9JjWqJ+p1rr7+aKSR9XVbfd7AqOarz0Xoa8Tc7Pcz+/3Mfr9/UL+fuR7/XevR7M80+zPN/kyzP9PszzT7M83+TLM/0+zPNPszzf5Msz/T7M80+zPN/sz/Yn+m0flNs2/T7Ns0z/P+U/NFZv7835o//zv8qtlTbfZUmz3VZk+12VNt9lRzs6f6rT7qzNcY6RGjHmyjzz9Vv/x/9XIb6Saj+zF7v83eb7P32+z9Nnu//9re7w/7ZzN/9efzV2ZfvdlX/9f11Zt9Wf/WvqzM5yBM//Dv8g9G9Qij8TX78f6Z/XhG/f9m3uPP5z3+7rNdf8cebXRezOwT+Gf2CRid4zN14t+nE43ye5+aJzTKi/6Z+uCHz2+aOcNPyRkanXs1eyb/vp5JfT7WKGdrNM8/9TyyUa/mh3PCRj2cmc81G+WQje7H6Bz0fznnbGRbs2/2/X2z+py8Ud7+rzp3b9Sv++G6gFEfb+bz+0Z1hA+/B8DsB/6UfmCjeNKs1/yxeo3RfDbSdEY50k99f8WH45ZPz7Ua3cNf9a4Ms7/l7+tvMXoPiXkm6595Jssod2TUp2S0pozeM/NXvffmY37/Y3Jc5rngP3suOPP7gsw+4T/WJ2yU/zTyn2Yv6x/rZTV6n5V5tvqPna3+8Fl1o/eGZR6LT32f2Mdcr7/GqFf8Y87mG73H7NPeb/Zffu+B8Tvf/mtnGT7mfXfvfm+G0fWZf/NT35v3MdfrrzE6t/Ix7wnRf9foXIxRXGG+T+zf9T4xozNu5pnEf+aZRFMH/TEdZOQn/7/3/f8DSMZFzHic7Zt3VFXH2oc3CgqKDYkGRQELNrD3KMx+sXGNLSoq1qigJqASW1BBrGBBBRVQRAcQooIiYokFYW8bdkXFhmAHYq8R6x3fyZo5yfq4yy/f/VbuXcG/nuU67LPP7Jl5f/Oc9yiKony8+J1eL9FCY6j4ZXnrZ9vXQraPm6jHDW6O7Ewm6UnGLsgN46fosY36IY+/OE3PO+yBnHTSV4/MmIb886IZei/L+ciTy/vp//BeivzSzV//sSAceaT9Rn0dDUFe+MtGfVXITWSX3Fn6hKt5yNuf+usBUU+RBx/x0292fov8fuhMPdWzhP6JZ+yZrttVLY2ce+VHvV5yWeQB6VP1vGYVkduOn6wHhVkiv77jo7tkf4nc3H6C7qHUQI5t4aX3VuyQ61UYp/tdqYO8d6+H7r+wPvK0tiP19+UckMMWDdMPjm6C/H2Ku759cXPkb3e66acCWiF/DP1GbwVtkW/37Kk7nm6PfOC+q25VuyNyf6/O+ixnZ+TZ54luVktFblingx50DJA7fdtGf9SyE/L54Ob6wFGd+TUTHXWTfl2QtxybCbOaVTqIz3HcOBgwifOgEm4w5EfOzSjAEsL5Yc8mUPpkReTx1ayhanXOs8ubQb3GFZB3ez9Qj5uUR7Z3OqruijFHrh8Xox4yKYs84wc/9XkTM+SXtm3UUbVKIz8wuksG5hgj73rmRFp7lEC+WiUozdjnI95zUqP16XpKIfK5i2W1xmHPkdOjOmum1g+RbY7P1Hq63kOeszZCa1orF9naI1mrnHAJeX1ShrY8/wxyqneONi73KHKV0GdayMo05LpBJXTbcruR/R+V0fv23Ip8f6qFvmRoHPIJayu9G1mLbJZdU6/9LpS/V3Jt/XTYQuSyq+vpFaoEIE8Maaj7ffRC/jHCQQ9IGYQ8hfjDkG8t8PPWeT4Lmi2pjNz/SQBAsiXyvZJzIOvMF8gRLeZCm7wqyAn+82Dnq6rIPe/Mhw3vv0ReNyoQhr+1Qt70Ngg6Pa7Gn13CIth3uTryNZ8l0Hi3NXJmj6VgsajGb89uOdzqXRM5Sg0Fm7I2yE/cVkK/nzmfnRkGlgNtkW8mR0BhAecDL9bARm875NcuUXDqFufq69aDjWstfj9GMTCYcrbz3gA98jm/yYmHw7a1kTf33wTUlXP0mQQ4PJLztXPJ4J3QBnnNmsMwsGVr5BERabDtPn8v41saWPtyTrY5BP94ze/NpPcRWDSOc7xPBrQ4xT+Ly9zjEFeb86q5J6G7N//sw31Ow8rNfEwmdD8Lhdf4WMVUzIRCI845aeeheg0+ntUGXoRHjnycB13OgpKt+Phvdb4Mr5rz59I++Ap41OfPq2n6VXj1BX+OmZeuwTfv+LOedD4b7LP5HJi2/TrY7+Jzo//kHCi9mK/HVV/mwuzBfA0eMDN2WVuH/3/m98YufvZ8Te3PzoWRQ0shv/DIBaWuCbLr2Rx48bgkv2frHDBK42vtiut1yA81Qi7jng2eXgpylx7XwCviA87VNnWugrXnO+Tw3Mvg7PIGuWXAJWjc7DXyg1JZ0LbZK+Stky9AdKcXfM4fz4Ror2d8vzU7B99ufoLs2fwMfPjwCPlsl1MQ+D1fyye6noDCJ/eRI1sfg87Lf0FeYnkUXP9RgPzm1iG4YJOP3CVWh+hKecjZbukw2JbvA00/psLar+/y9R61DwrC7iCbtNwDOz7eRg4+uAuGBXKu3tFeO9JwGdaO6mpyelQJzrv8m6XV1pYjd3WfRzp7rES2+1hezXiwGvlC48Fqp37RyDu6rFAdwzcjd5n6s5qZtBO5U4Xr6vBwHTncT4H8zueQCytZgMd2Xtdet6sNBzKfI5e93wLyT5XEe3tYrRPsDiiPnJjWF756a4W8+cxIGN3aHjle9YGkhi147TCfBXXOEuQOlgtgRM1eyCO7LIHV5sOQS1qFQnSIN/KioHB4GOuHTEPWwhnrQGTHZtFANixDdh8dB+VGRSAvr78JLvSN5vVoRiJU9dnM9+HBSdBxZwrypsPJEFotlV9zTwr0iTzCa1OrnRDT7CyfD+12Ab10BblFmK3eLrYr8uCI6nrMVs4LI6vonaZz/iWmku5UinNisrme/Q2vay+Pl9aXj+D17t7TEvqLJrwONur7Tjuu8fpY65dn2vsqvG6mbC3Q1jbl9VSLv6HlVOB1tvzlS1rNXbz+tut2Rrteh9fln98d0fYP5fU6680Bbe5IXse3dt2tVW3F63uD/CQt4FIj5Hc3Nmp3uvM8ENM6Rpu3kueEIQ8jNS3FFtnBLEyrnGiNfDF4uVYugOeNi/6LtQHNeQ4Zk7tASz5cAdlv+xztUQeeW+a/9NOerCnF33fKNG3rLSPkCvk+Wr/Gb3D+pPfx1u5OfYLcYOc4zSXuHnKE5RgtOS0beZ+Ph+Z/MhM58tRozSQzAzm2vocWk3WAv36Op5ZyYwdy1NWx2spXfG4796ipTa+7CXniNz+lH/+NQw9USpv/K3/NXvc5ZNnqrciTTMqqKWb8OpOd+6mxnfbxvx2wVC3sfAj5YuXtakfTM8gtnC+qd+ZdQ6536FfVbUcB8rUj5vAquBA5waUGVJhnwut1T0ewMudjteJ6B+gxiK+RqXndYawHH/8So9xhe4OmyOO6jgWT9R34s14yBU6nuiInW86Gyv4DkKPKBoLvJQ9k55+WQBdtMt9b7oRAK6s5/P/TwkCruAh5eqtImAA8DzTstB46bVqDfCk/BuqQWOTudvFw2SgROeT+RihbsAP5VecEcHvC14t5ky3Q3oLnk81xW8HBla+XBxuTYPkyvl5atd0GB3NvIbvu2QIVrnLObZ8ATi84Lz+wEdTGfH972jkenv22163KjIUvjfh+WN4zGjxXc75ntB5m9OZ75oaf1sLNunwvzRi4Biys+B57okoE+DTge6/N7VXQx43vyQ3SVsCzdXyvdk0MgTklHvC9PWEZ2ATwvb1UWjBcqPKYZ628xUAP81rgXncRjF/Ma8TB6UFQcwyvHT/kL4BZA3hN8ZwwH9wG81qzvOI8cPfhNejsyTnQMoLXppcbZkPgaV6z9q4OgCkLeS0LHzALXiTzGhew2w+Mb/Da177fTLhrwfNnfOMZcN6V18qArtPBdB6voUPW+8LedF5b41r7gu1HU56RyvnCBKcyPDPU8YVsP551s6f7wpr9PANfrzgdrheWQ17gPQaMWvKcPO9QP/i1BeemdgBpv70md2kT8J/P+cqXNWD6JX6dQcfLgPUTfv13Q56qT8/w9w2jp9SN03iubjdls2qZz++z85NAtW4tfv9ePb5Wn9rzz+jgXkZN/JWPgzZ0JenbiGfsxPrOznuM+XgqF0h6oj8f/2FdLqQHruU1+uQOOy3nW/7cy2e4ab6ZN/mzWzdPc3t2Fdl0+lptw+HzyKH527XU3ieR+2Uf1RpFHOJzvts1bT3djzzT7qH2dDyf/18Nea9Zm/J18eOvJnoHH75eRow114OS+Dp68K6S3j8jBHlXchW9jBaEfGtuNb270yzkmj419LFned6OmWajUxd3vpYN9i7JlBTvY/85+5hkSjovWK2mTjiKzyg6Yb/qFJ6JbNMxV/XzykWuuUKB63kPkb0aVIKjygfkmAF2kJVVGq9jb9kMTH+ohBzTn0CXk9WRTSv3Aq9ce+QIl6GQt6E5cn7Od7DvC2fkO9nTYEHDr5EfVJsD868NQm79NBDCbcciZ3sHQ5enU5Ejg0NhdK25yON6hIOR2WLkyZsj4Xi9Ffx+YtbDY99I5DrNY2HWm1jk3gPjYfyGRORTFpsg4oedyO+GJ8Ch4QeQ/Z22QLznUeR2W7bCrdlnkfsmJEGlxCt/GDdbcrJ5gLo0KB25bo8eanjAXuRlmVbq5kE7/8CU3P6qvra42ybkphXOpLd/vRG5iXf19CMmfL0kDT7lvGNiIrJHTgrJb7MN2XBNycxAicwSbHxExqBEZg/2epFJKJFZhRKZYSiR2Ya9RmQeSmQWokRmJEpkdqJEZirGImtRIjMYJTKbsXkiMhsbf5Hl2PuKjEeJzH6UyExIicyK7BmJDEmJzJaUyMxJicyilMiMSonMrpTITEuJzLqUyAxMiczGlMjMTInM0pTIjP1/e9aGc+bnJo2cQ8JCkHNSJ2kL2nE2cWipBXssQ/YsWZBe4spSZGOPvuk1VvL/fxvhq0XvDUS+3ixAe3x0JnKe+TwtZ+p3yI6Dg7S44IHIL62CtRVVuyKrXUK17TatkU9kh2v7ttVFLns1Sqt08Qvkdu03aHvCSiF/XbhZ2/ThcfonLlF5u9a+6QXknDl7tN3n9yA7dNK0jEKKXOqbY5rd9oXIbj+d055XGYuc5XRV+2BPkKtVvq3FbKmOvKTmA+383Jdpn3jK4Jdat6d7kZVDH7S4jEDkGg2Mdb9+bZHNFTM97MiNA5847XY5PT5xOHLNcxb6gncTUz9xucNV9e9723X8xLOO1dYLVsWon/i9e3fd+XoY8mI3Z90uYBde81yBi37l2GPkRh7d9FFWX+K9XTj8tR587CvkKmZ99KG5I5H7OPTX3aIXIL9wGKRv8IpCDjIdqs89uBN50/4RekHYGeTyXUfruVm/IAfGjdG77SmJYyv9MFuDwg+zvU74YVZnhR+mRPphSqQfZvNN+GE2r4QfZvun8MNsDgg/TIn0w2zOCz9MifTDlEg/zNaC8MNsDIUfpkT6YUqkH6ZE+mFKpB+mRPphSqQfZnud8MOUSD9MifTDlEg/TIn0w5RIP0yJ9MNsbIUfZmtW+GFKpB+mRPphSqQfZuMs/DAl0g9TIv0wu6bww5TsvmwJNhmfvC6bM7YlYHJGeeQC51y1+bJyyH31veoXNcyR9+WEqW9+KIPs0H+MeiPEFDlvSi313vRSyMkhB0iPJsbIHsmPnSdtM0Ku72WSvu3je3zfK2ap6Y5Or5HzRlppp22eIevn+mhOG+8j37g0V3O/dofXu/FRWovU67wur92pmX+Txety/5Na33WnkdcsvKnFxR9BHuv4Ujs8gddQnzUl9agPvLbS42X1dgO3ILvXqqwfnb0BuUOUlb4sgNdojzY2+otBocgzH9bWx1deiJy0v55e1WMWH7eYhvopXy/ky1EOep+JPCfUa3xP/fk7Pj4nTA+qGSZmyD2mUdX2+9LI31r7qTsiTfiYHGyvhkeURF5v+YK8GcnH6u0ILzLkNR8r5fKr1I4n+FhVD56Uvll9jmzR/X76g2EPkY9ZOGhz7POQ95QZodVYewMZdgdp6w7ynDC+ItUsozORTUru0lLbnkA2mnNce7f0IK9fs69rwzfuQ/Z8+UhbtTAF2fHCB82nTQJ/30Wl9Ju7YvgczjLXn5mvQR7d3ULPcArhz/FuFT2yTxDy0Zhq+qRV/sgdA2rob4fxcZs400aPKuPOa6hBTZFcdG4p6jW1vGeTSr1WIq80fkiqvghHfmPioC6ctxb5c/KSfD0t8m8N86r8noXVAuH5Wd4Tnp+tWeH5WX0Xnp9lIeH5KZGenxLp+SmRnp/tz8Lzs2cqPD8l0vNTIj0/25OF52eZTXh+SqTnp0R6fkqk52d7jvD8bA8Unp/NQ+H52f0Iz0+J9Pxs3ITnp0R6fpbthedn9yw8P1u/wvNTIj0/yw/C87O9RXh+NoeF56dEen5WC4Tnp0R6fkqk56dEen6W/YTnZ9lAeH5W64Xnp0R6fpYDheenRHp+lqmE52fjLzw/JdLzs1ogPD+bD8Lzs/sUnp+NufD87DrC81MiPT+r3cLzUyI9P7tn4fnZHis8PyXS81MiPT8l0vNTIj0/JdLzs/1WeH722YXnp0R6flY3hedn+4bw/GxeCc/P9kPh+dm5QHh+lqOE52dzRnh+dp/C87Mzl/D8bJyF56dEen42H4Tnp0R6fvq7tRx0d6qaO3sD8tzJVH3QfSuy1bND6oXsPcjJF/PVLY58Xd83LgUBrbOQ93eoCr0e8XOKYlofqnUvRE4Y0haeU34eed20G4wYxc+ePjMGwJh7/KzxpLkn1K7dADm+52RwsWiNXPl2AJgnuiBv6xYIg/L7ILv1C4aNB0YgjyuxAqrZT+S1vlcE7CsTgDylbRREqnyP7bs3Gg5uX8735Mw4sB+0Grmb/yZY3YTv1Xv2JcK5pnwPPxWUBF4DdvBafDsZnkWlIv9wIgUufuA1dKrTTvCdzM+bpTvsgjaFfzxvFp/T/zfndEPXIf0ty5/C31Ii/S0l0t+y/UH4W5bJhb9ldUT4W0qkv6VE+lu27oS/Zc9I+Ft2thX+lt2P8LdszQp/y85Ewt9SIv0ty07C31Ii/S2bP8Lfsn1A+Fv2uYS/ZdcX/pZle+FvWWYW/pbtRcLfUiL9Ldtvhb9l60j4W/Ya4W/ZuV74W0qkv2W1T/hbVguEv2XzRPhbdiYV/padiwvGwfomPA9b7x8Em9pxNgtxhV+rch44oR2sPs5fP25YA0jpwznUwwpmbOHXnObYEXLq8v28zV0v+PA959g3Q2C5H+cFFXuAgyfnYs//3+X5i9f1f9e6/p9ZUf5d612yLXm4wByiTDnT2R/VdV3LIstzom3xmfFPnhkN3aZhL0Hx925/7fduhk5YsqJ8jh8uygN8zrm+OOf/e3O+4RmquG/qP6dvytCfGPZMGvb6Fvea/ute02Jf92d83e/7covyeIavKcrvGfb0FtXfW5QPNHRlhv2xf7fe4L+vI/19L3RR7tTwNUU5VcM+6qJ6qotysMV913+u77rYY/85j13UGVP6JdvfuSbDPGBY74p/B/TX/g7I8PdZxd/F//99Fy/H05bEtqsFju4VkUMTm8Dp0xX/5dr5HE9r6G0MfY7h+xo+06LW7Oc4os/5LIZnbdlnpSiyz0pRZJ8VO7OIPiu2NkWflaLIPis250WfFZvbos9KUWSflaLIPitFkX1WLBeJPitFkX1WiiL7rBRF9lkpiuyzYnVT9FmxeiT6rNi5RvRZsX+iz0pRZJ+Vosg+K0WRfVaKIvusFEX2Wf3eVxT3p31+f1pR+1jxb3U//7e6xX1rn9+3VtTvwYvqAzT8LXlRfYOG1yzqd+hF9R/KPkyWT0QfpqLIPkxFkX2YLG+IPkxFkX2Y7Owg+jAVRfZhKorsw1QU2YepKLIP86/7nf7fuQdV9uIajgPb04ro0ZV9vIpSVE+v4TUNa5Ph3xbVG/xPxiohhg==AQAAAACAAAAAAgAAcAAAAA==eJwtxbVhAgAAADCgSHF3p8XdHf7/ioFkSSDwFXTIPw474qhj/nXcCSedctoZZ51z3gUXXXLZFVddc90NN91y2x133XPfA//530OPPPbEU88898JLr7z2xlvvvPfBR5989sVX33z3w0+//PYHV0sH4Q==AQAAAACAAAAAAgAAcQAAAA==eJwtxUVCAgAAADBAQhrpLpXubvj/qziwXRYMfIT85bAjjjrmb8edcNIpp51x1jn/OO+Ciy657Iqrrrnuhptuue2Ou+6571//+d8DDz3y2BNPPfPcCy+98tobb73z3gcfffLZF199890PP/3yG5hLCCE=AgAAAACAAADADQAAnQ8AAAkCAAA=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\\n  </AppendedData>\\n</VTKFile>\\n\", \"color\": [1, 0.8, 0, 1], \"position\": [0, 0, 0], \"orientation\": [0, 0, 0]}];\n    render(data, parent_element, 0.5);\n});\n",
      "text/plain": [
       "<cadquery.cq.Workplane at 0x21b53f8ae50>"
      ]
     },
     "metadata": {},
     "output_type": "display_data"
    },
    {
     "data": {
      "application/javascript": "\n\nfunction render(data, parent_element, ratio){\n    \n    // Initial setup\n    const renderWindow = vtk.Rendering.Core.vtkRenderWindow.newInstance();\n    const renderer = vtk.Rendering.Core.vtkRenderer.newInstance({ background: [1, 1, 1 ] });\n    renderWindow.addRenderer(renderer);\n        \n    // iterate over all children children\n    for (var el of data){ \n        var trans = el.position;\n        var rot = el.orientation;\n        var rgba = el.color;\n        var shape = el.shape;\n        \n        // load the inline data\n        var reader = vtk.IO.XML.vtkXMLPolyDataReader.newInstance();\n        const textEncoder = new TextEncoder();\n        reader.parseAsArrayBuffer(textEncoder.encode(shape));\n\n        // setup actor,mapper and add\n        const mapper = vtk.Rendering.Core.vtkMapper.newInstance();\n        mapper.setInputConnection(reader.getOutputPort());\n        mapper.setResolveCoincidentTopologyToPolygonOffset();\n        mapper.setResolveCoincidentTopologyPolygonOffsetParameters(0.9,20);\n\n        const actor = vtk.Rendering.Core.vtkActor.newInstance();\n        actor.setMapper(mapper);\n\n        // set color and position\n        actor.getProperty().setColor(rgba.slice(0,3));\n        actor.getProperty().setOpacity(rgba[3]);\n        \n        actor.rotateZ(rot[2]*180/Math.PI);\n        actor.rotateY(rot[1]*180/Math.PI);\n        actor.rotateX(rot[0]*180/Math.PI);\n        \n        actor.setPosition(trans);\n\n        renderer.addActor(actor);\n\n    };\n    \n    renderer.resetCamera();\n    \n    const openglRenderWindow = vtk.Rendering.OpenGL.vtkRenderWindow.newInstance();\n    renderWindow.addView(openglRenderWindow);\n\n    // Add output to the \"parent element\"\n    var container;\n    var dims;\n    \n    if(typeof(parent_element.appendChild) !== \"undefined\"){\n        container = document.createElement(\"div\");\n        parent_element.appendChild(container);\n        dims = parent_element.getBoundingClientRect();\n    }else{\n        container = parent_element.append(\"<div/>\").children(\"div:last-child\").get(0);\n        dims = parent_element.get(0).getBoundingClientRect();\n    };\n\n    openglRenderWindow.setContainer(container);\n    \n    // handle size\n    if (ratio){\n        openglRenderWindow.setSize(dims.width, dims.width*ratio);\n    }else{\n        openglRenderWindow.setSize(dims.width, dims.height);\n    };\n    \n    // Interaction setup\n    const interact_style = vtk.Interaction.Style.vtkInteractorStyleManipulator.newInstance();\n\n    const manips = {\n        rot: vtk.Interaction.Manipulators.vtkMouseCameraTrackballRotateManipulator.newInstance(),\n        pan: vtk.Interaction.Manipulators.vtkMouseCameraTrackballPanManipulator.newInstance(),\n        zoom1: vtk.Interaction.Manipulators.vtkMouseCameraTrackballZoomManipulator.newInstance(),\n        zoom2: vtk.Interaction.Manipulators.vtkMouseCameraTrackballZoomManipulator.newInstance(),\n        roll: vtk.Interaction.Manipulators.vtkMouseCameraTrackballRollManipulator.newInstance(),\n    };\n\n    manips.zoom1.setControl(true);\n    manips.zoom2.setScrollEnabled(true);\n    manips.roll.setShift(true);\n    manips.pan.setButton(2);\n\n    for (var k in manips){\n        interact_style.addMouseManipulator(manips[k]);\n    };\n\n    const interactor = vtk.Rendering.Core.vtkRenderWindowInteractor.newInstance();\n    interactor.setView(openglRenderWindow);\n    interactor.initialize();\n    interactor.bindEvents(container);\n    interactor.setInteractorStyle(interact_style);\n\n    // Orientation marker\n\n    const axes = vtk.Rendering.Core.vtkAnnotatedCubeActor.newInstance();\n    axes.setXPlusFaceProperty({text: '+X'});\n    axes.setXMinusFaceProperty({text: '-X'});\n    axes.setYPlusFaceProperty({text: '+Y'});\n    axes.setYMinusFaceProperty({text: '-Y'});\n    axes.setZPlusFaceProperty({text: '+Z'});\n    axes.setZMinusFaceProperty({text: '-Z'});\n\n    const orientationWidget = vtk.Interaction.Widgets.vtkOrientationMarkerWidget.newInstance({\n        actor: axes,\n        interactor: interactor });\n    orientationWidget.setEnabled(true);\n    orientationWidget.setViewportCorner(vtk.Interaction.Widgets.vtkOrientationMarkerWidget.Corners.BOTTOM_LEFT);\n    orientationWidget.setViewportSize(0.2);\n\n};\n\n\nnew Promise(\n  function(resolve, reject)\n  {\n    if (typeof(require) !== \"undefined\" ){\n        require.config({\n         \"paths\": {\"vtk\": \"https://unpkg.com/vtk\"},\n        });\n        require([\"vtk\"], resolve, reject);\n    } else if ( typeof(vtk) === \"undefined\" ){\n        var script = document.createElement(\"script\");\n    \tscript.onload = resolve;\n    \tscript.onerror = reject;\n    \tscript.src = \"https://unpkg.com/vtk.js\";\n    \tdocument.head.appendChild(script);\n    } else { resolve() };\n }\n).then(() => {\n    var parent_element = element;\n    var data = [{\"shape\": \"<?xml version=\\\"1.0\\\"?>\\n<VTKFile type=\\\"PolyData\\\" version=\\\"0.1\\\" byte_order=\\\"LittleEndian\\\" header_type=\\\"UInt32\\\" compressor=\\\"vtkZLibDataCompressor\\\">\\n  <PolyData>\\n    <Piece NumberOfPoints=\\\"4132\\\"                 NumberOfVerts=\\\"64\\\"                   NumberOfLines=\\\"2268\\\"                 NumberOfStrips=\\\"0\\\"                    NumberOfPolys=\\\"1448\\\"                >\\n      <PointData Normals=\\\"Normals\\\">\\n        <DataArray type=\\\"Float32\\\" Name=\\\"Normals\\\" NumberOfComponents=\\\"3\\\" format=\\\"appended\\\" RangeMin=\\\"0\\\"                    RangeMax=\\\"1.0000000977\\\"         offset=\\\"0\\\"                   />\\n      </PointData>\\n      <CellData Normals=\\\"Normals\\\">\\n        <DataArray type=\\\"Int64\\\" IdType=\\\"1\\\" Name=\\\"SUBSHAPE_IDS\\\" format=\\\"appended\\\" RangeMin=\\\"5\\\"                    RangeMax=\\\"230\\\"                  offset=\\\"8680\\\"                />\\n        <DataArray type=\\\"Int64\\\" IdType=\\\"1\\\" Name=\\\"MESH_TYPES\\\" format=\\\"appended\\\" RangeMin=\\\"2\\\"                    RangeMax=\\\"7\\\"                    offset=\\\"9460\\\"                />\\n        <DataArray type=\\\"Float32\\\" Name=\\\"Normals\\\" NumberOfComponents=\\\"3\\\" format=\\\"appended\\\" RangeMin=\\\"0.99999996253\\\"        RangeMax=\\\"1.0000000407\\\"         offset=\\\"9588\\\"                />\\n      </CellData>\\n      <Points>\\n        <DataArray type=\\\"Float32\\\" Name=\\\"Points\\\" NumberOfComponents=\\\"3\\\" format=\\\"appended\\\" RangeMin=\\\"18.107583902\\\"         RangeMax=\\\"207.32895268\\\"         offset=\\\"17204\\\"               />\\n      </Points>\\n      <Verts>\\n        <DataArray type=\\\"Int64\\\" Name=\\\"connectivity\\\" format=\\\"appended\\\" RangeMin=\\\"\\\"                     RangeMax=\\\"\\\"                     offset=\\\"32304\\\"               />\\n        <DataArray type=\\\"Int64\\\" Name=\\\"offsets\\\" format=\\\"appended\\\" RangeMin=\\\"\\\"                     RangeMax=\\\"\\\"                     offset=\\\"32480\\\"               />\\n      </Verts>\\n      <Lines>\\n        <DataArray type=\\\"Int64\\\" Name=\\\"connectivity\\\" format=\\\"appended\\\" RangeMin=\\\"\\\"                     RangeMax=\\\"\\\"                     offset=\\\"32656\\\"               />\\n        <DataArray type=\\\"Int64\\\" Name=\\\"offsets\\\" format=\\\"appended\\\" RangeMin=\\\"\\\"                     RangeMax=\\\"\\\"                     offset=\\\"38708\\\"               />\\n      </Lines>\\n      <Strips>\\n        <DataArray type=\\\"Int64\\\" Name=\\\"connectivity\\\" format=\\\"appended\\\" RangeMin=\\\"\\\"                     RangeMax=\\\"\\\"                     offset=\\\"43052\\\"               />\\n        <DataArray type=\\\"Int64\\\" Name=\\\"offsets\\\" format=\\\"appended\\\" RangeMin=\\\"\\\"                     RangeMax=\\\"\\\"                     offset=\\\"43068\\\"               />\\n      </Strips>\\n      <Polys>\\n        <DataArray type=\\\"Int64\\\" Name=\\\"connectivity\\\" format=\\\"appended\\\" RangeMin=\\\"\\\"                     RangeMax=\\\"\\\"                     offset=\\\"43084\\\"               />\\n        <DataArray type=\\\"Int64\\\" Name=\\\"offsets\\\" format=\\\"appended\\\" RangeMin=\\\"\\\"                     RangeMax=\\\"\\\"                     offset=\\\"50880\\\"               />\\n      </Polys>\\n    </Piece>\\n  </PolyData>\\n  <AppendedData encoding=\\\"base64\\\">\\n   _AgAAAACAAACwQQAAiwIAAM0WAAA=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AQAAAACAAAAgdgAANwIAAA==eJzt2verzXEcx3G/yCYre++998q8uDd77z0yMjKy994jNzOEiIiISEZWJCIiciP+DnU8fzk6p3enz6nP93zu6/nL4594Fi7wryJYDEtgGSyHFbESVsFqWANrYR2shw2wETbBZtgCW2EbbIcdsBN2wW7YC/tgP+yPA3EwDsXhOBJH41gcjxNxMk7F6TgTZ+N8XIzLcTWuwXW4ATfhFtyGO3AX7sH9eBAP4wk8hY/xORaSCS2KxWVCS2JpGausTGh5GatCIFbGqlgda0bc2lgX62PDQGwsYzUNxObYEltj24jbHjtiZ+waiN1lrJ4p2hv7JjELBwRmNg7CIYbDAnEEjsIxOC7iTsBJOAWnBeKMwJ2FcwJzHi7ARbgkictwBa4KxLW4Hjfi5oi7FbfjTtwdiHsDd59M6IEUPYRHDI/hcTyZxNN4Fs/hBbyIl/EqXsebeBvv4n18hE/wWRJf4Et8je/wA37CL/gNf+BP/I0FpXSwlJRSSimllPnYHlI6mCOllNKrcw0XOrrUcKWUUkqvHpXSwVwpHTwjpYPnZaS9ZHjF8JrhDZlWbxneMbxn+EBG2oeGT6V08JXhG0ffykj7Xkbaj4afDb8afpdpNc/wl+EfQ9//tcwsff9JUkoppZRS+tT3by0zS99fqJRS5jdd/3f97VJK6VffP7TMLHOlTEHfv7PMLH3/1zJe6z/XX55erX9cf3i01f8tXXT9u33/yjJe33+yjNf6s/Vfp9e8/7R+6r8pI70lAQAAAACAAAAgdgAATAAAAA==eJztxbENAAAEADCRiP8/NrjBpF2asdIvL9u2bdu2bdu2bdu2bdu2bdu2bdu2bdu2bdu2D27btm3btm3btm3btm3btm3bfvIAZG1UZQ==AgAAAACAAAAwMQAAZgIAANUTAAA=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AQAAAACAAAAAAgAAcAAAAA==eJwtxbVhAgAAADCgSHF3p8XdHf7/ioFkSSDwFXTIPw474qhj/nXcCSedctoZZ51z3gUXXXLZFVddc90NN91y2x133XPfA//530OPPPbEU88898JLr7z2xlvvvPfBR5989sVX33z3w0+//PYHV0sH4Q==AQAAAACAAAAAAgAAcQAAAA==eJwtxUVCAgAAADBAQhrpLpXubvj/qziwXRYMfIT85bAjjjrmb8edcNIpp51x1jn/OO+Ciy657Iqrrrnuhptuue2Ou+6571//+d8DDz3y2BNPPfPcCy+98tobb73z3gcfffLZF199890PP/3yG5hLCCE=AgAAAACAAADADQAAnQ8AAAkCAAA=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\\n  </AppendedData>\\n</VTKFile>\\n\", \"color\": [1, 0.8, 0, 1], \"position\": [0, 0, 0], \"orientation\": [0, 0, 0]}];\n    render(data, parent_element, 0.5);\n});\n",
      "text/plain": [
       "<cadquery.cq.Workplane at 0x21b53f8ae50>"
      ]
     },
     "metadata": {},
     "output_type": "display_data"
    }
   ],
   "source": [
    "plt.ioff()\n",
    "w,h = figSize = (2, 2)\n",
    "\n",
    "circuitNames = ['Half-Center Oscillator', 'Rat Hindlimb Motor Circuit', 'User-Designed 9-Cell Circuit', 'Apysia Feeding Circuit']\n",
    "graphNames = ['Fruchterman-Reingold','Kamada-Kawai']\n",
    "layout = [[psg.Text('GUI Test')],\n",
    "          [psg.Combo(circuitNames,readonly=True,key='-CIRCUIT-',default_value=circuitNames[0]),psg.Button('Generate Layouts')],\n",
    "          [psg.Text('Layout Preview',visible=False,key='-LAYOUT PREVIEW STATUS-')],\n",
    "          [psg.Canvas(key='-FRCANVAS-'),psg.Canvas(key='-KKCANVAS-')],\n",
    "          [psg.Combo(graphNames,readonly=True,key='-GRAPH-',disabled=True,default_value=graphNames[0]), psg.Button('Generate CAD layout',disabled=True,key='-CADButton-')],\n",
    "          [psg.Text(key='-CAD Status-')],\n",
    "          [psg.Text('Save Location'),psg.FolderBrowse(key='-FOLDERBROWSE-',target='-FOLDER-',disabled=True),psg.Button('Save',key='-SAVEBUTTON-',disabled=True)],\n",
    "          [psg.Input(key='-FOLDER-', enable_events=True, visible=False, disabled=True)],\n",
    "          [psg.Text('Save Preview',visible=False,key='-SAVE PREVIEW STATUS-')],\n",
    "          [psg.Canvas(key='-CADVAS-')],\n",
    "          [psg.Button('Close')]]\n",
    "\n",
    "window = psg.Window('Demo', layout, finalize=True, element_justification='center', font='Helvetica 18')\n",
    "# fig_canvas_agg = draw_figure(window['-CANVAS-'].TKCanvas, fig_fr)\n",
    "# event, values = window.read()\n",
    "# window.close()\n",
    "\n",
    "hasGraphRun = False\n",
    "hasCADRun = False\n",
    "hasSaveRun = False\n",
    "\n",
    "while True:\n",
    "    event, values = window.read()\n",
    "    if event == psg.WIN_CLOSED or event == 'Close':\n",
    "        break\n",
    "    elif event == 'Generate Layouts':\n",
    "        timeStart = time.time() #start time counter\n",
    "        if values['-CIRCUIT-'] == 'Half-Center Oscillator':\n",
    "            '''\n",
    "            # Half-Center Oscillator\n",
    "\n",
    "            For more information: \n",
    "            Marder, E., Bucher, D.: Central pattern generators and the con-\n",
    "            trol of rhythmic movements. Current Biology 11(23), R986–\n",
    "            R996 (11 2001). https://doi.org/10.1016/S0960-9822(01)00581-4\n",
    "            '''\n",
    "\n",
    "            edgeList=[[0,1],\n",
    "                    [1,0]]\n",
    "            saveFileName = \"half_center\"\n",
    "        elif values['-CIRCUIT-'] == 'Rat Hindlimb Motor Circuit':\n",
    "            '''\n",
    "            Rat Hindlimb Motor Circuit\n",
    "            #https://www.ncbi.nlm.nih.gov/pmc/articles/PMC6477610/\n",
    "\n",
    "            Deng, K., Szczecinski, N.S., Arnold, D., Andrada, E., Fischer, M.S., Quinn,\n",
    "            R.D., Hunt, A.J.: Neuromechanical Model of Rat Hindlimb Walking with\n",
    "            Two-Layer CPGs. Biomimetics (Basel, Switzerland) 4(1), 21 (3 2019).\n",
    "            https://doi.org/10.3390/biomimetics4010021\n",
    "            '''\n",
    "\n",
    "            neuronNames = [\"ExtensorIN\",\n",
    "                            \"FlexorIN\",\n",
    "                            \"ExtensorHC\",\n",
    "                            \"FlexorHC\",\n",
    "                            \"ExtensorIaIN\",\n",
    "                            \"FlexorIaIN\",\n",
    "                            \"ExtensorMN\",\n",
    "                            \"FlexorMN\",\n",
    "                            \"ExtensorRE\",\n",
    "                            \"FlexorRE\"]\n",
    "\n",
    "\n",
    "            con =  [[\"ExtensorIN\",\"FlexorHC\"],\n",
    "                    [\"ExtensorHC\",\"ExtensorIN\"],\n",
    "                    [\"FlexorIN\",\"ExtensorHC\"],\n",
    "                    [\"FlexorHC\",\"FlexorIN\"],\n",
    "                    [\"ExtensorHC\",\"ExtensorIaIN\"],\n",
    "                    [\"ExtensorHC\",\"ExtensorMN\"],\n",
    "                    [\"FlexorHC\",\"FlexorIaIN\"],\n",
    "                    [\"FlexorHC\",\"FlexorMN\"],\n",
    "                    [\"ExtensorIaIN\",\"FlexorIaIN\"],\n",
    "                    [\"FlexorIaIN\",\"ExtensorIaIN\"],\n",
    "                    [\"ExtensorIaIN\",\"FlexorMN\"],\n",
    "                    [\"ExtensorRE\",\"ExtensorIaIN\"],\n",
    "                    [\"FlexorIaIN\",\"ExtensorMN\"],\n",
    "                    [\"FlexorRE\",\"FlexorIaIN\"],\n",
    "                    [\"ExtensorMN\",\"ExtensorRE\"],\n",
    "                    [\"ExtensorRE\",\"ExtensorMN\"],\n",
    "                    [\"FlexorMN\",\"FlexorRE\"],\n",
    "                    [\"FlexorRE\",\"FlexorMN\"],\n",
    "                    [\"FlexorRE\",\"ExtensorRE\"],\n",
    "                    [\"ExtensorRE\",\"FlexorRE\"]\n",
    "                    ]\n",
    "\n",
    "            edgeList = []\n",
    "            for cons in range(len(con)):\n",
    "                pre = neuronNames.index(con[cons][0])\n",
    "                post = neuronNames.index(con[cons][1])\n",
    "                edgeList.append([pre,post])\n",
    "\n",
    "            saveFileName = \"ratMotor\"\n",
    "\n",
    "        elif values['-CIRCUIT-'] == 'User-Designed 9-Cell Circuit':\n",
    "            # User-designed 9-cell network\n",
    "\n",
    "            edgeList=[[0,1],\n",
    "                    [2,0],\n",
    "                    [3,0],\n",
    "                    [4,0],\n",
    "                    [5,0],\n",
    "                    [6,0],\n",
    "                    [1,2],\n",
    "                    [3,2],\n",
    "                    [7,4],\n",
    "                    [3,8]]\n",
    "\n",
    "            saveFileName = \"nineCell\"\n",
    "        \n",
    "        elif values['-CIRCUIT-'] == 'Apysia Feeding Circuit':\n",
    "            '''\n",
    "            BASED ON WEBSTER-WOOD (2020) CONTROL FOR MULTIFUNCTIONALITY - FIG. 9\n",
    "\n",
    "            Webster-Wood, V.A., Gill, J.P., Thomas, P.J., Chiel, H.J.: Control for multifunc-\n",
    "            tionality: bioinspired control based on feeding in Aplysia californica. Biological Cy-\n",
    "            bernetics 114(6), 557–588 (12 2020). https://doi.org/10.1007/s00422-020-00851-9\n",
    "            '''\n",
    "\n",
    "            neuronNames = [\"CBI-2\",\n",
    "                            \"CBI-4\",\n",
    "                            \"CBI-3\",\n",
    "                            \"B4/B5\",\n",
    "                            \"B30/B40\",\n",
    "                            \"B64\",\n",
    "                            \"B20\",\n",
    "                            \"B7\",\n",
    "                            \"B3/B6/B9\",\n",
    "                            \"B8a/b\",\n",
    "                            \"B31/B32\",\n",
    "                            \"B38\"]\n",
    "\n",
    "\n",
    "            con =  [[\"B64\",\"CBI-2\"], #B64 -> CBI2\n",
    "                    [\"B4/B5\",\"CBI-3\"],   #B4/B5 -> CBI3\n",
    "                    [\"CBI-2\",\"B30/B40\"], #CBI2 -> B30/B40\n",
    "                    [\"CBI-4\",\"B30/B40\"], #CBI4 -> B30/B40\n",
    "                    [\"B64\",\"B4/B5\"],  #B64 -> B4/B5\n",
    "                    [\"B31/B32\",\"B30/B40\"], #B31/B32 -> B30/B40\n",
    "                    [\"B64\",\"B30/B40\"],   #B64 -> B30/B40\n",
    "                    [\"B31/B32\",\"B64\"],   #B31/B32 -> B54\n",
    "                    [\"B31/B32\", \"B20\"],  #B31/32 -> B20\n",
    "                    [\"B64\",\"B20\"],     #B64 -> B20\n",
    "                    [\"CBI-3\",\"B20\"],      #CBI3 -> B20\n",
    "                    [\"CBI-2\",\"B20\"],      #CBI2 -> B20\n",
    "                    [\"CBI-4\",\"B20\"],      #CBI4 -> B20\n",
    "                    [\"CBI-3\",\"B7\"],       #CBI3 -> B7\n",
    "                    [\"B64\",\"B3/B6/B9\"],    #B64 -> B6/B9 and B3\n",
    "                    [\"B20\", \"B8a/b\"],     #B20 -> B8a/b\n",
    "                    [\"B4/B5\",\"B3/B6/B9\"],    #B4/B5 -> B6/B9 and B3\n",
    "                    [\"B30/B40\",\"B8a/b\"],    #B30/B40 -> B8\n",
    "                    [\"B4/B5\",\"B8a/b\"],      #B4/B5 -> B8\n",
    "                    [\"B31/B32\",\"B8a/b\"],    #B31/B32 -> B8\n",
    "                    [\"B64\",\"B31/B32\"],   #B64 -> B31/B32\n",
    "                    [\"CBI-3\",\"B38\"]       #CBI3 -> B38\n",
    "                    ]\n",
    "\n",
    "            edgeList = []\n",
    "            for cons in range(len(con)):\n",
    "                pre = neuronNames.index(con[cons][0])\n",
    "                post = neuronNames.index(con[cons][1])\n",
    "                edgeList.append([pre,post])\n",
    "\n",
    "            saveFileName = \"boolean\"\n",
    "\n",
    "        # End of establishing circuit connectivity\n",
    "        \n",
    "        allPreCells = [preC[0] for preC in edgeList] #all the pre-synaptic cells in the list\n",
    "        preCellCounter = collections.Counter(allPreCells) #count how many repeats of the same pre-synaptic cell (multiple axonal outputs)\n",
    "        multiAxonPre = {k:v for (k,v) in preCellCounter.items() if v > 1} #list of all the pre-synaptic cells with multiple axonal outputs\n",
    "        multiAxonPreCellID = list(multiAxonPre) #list version\n",
    "\n",
    "        #initial cell ID value for the first branching node or \"false cell\"\n",
    "        #this value is the next largest cell ID number\n",
    "        fcVal = max([element for innerList in edgeList for element in innerList])+1\n",
    "        falseCells = [] #preallocate an empty array to record all the false cells or branching nodes\n",
    "\n",
    "        #add additional connection pairs based on branching nodes needed\n",
    "        for fcInsert in range(len(multiAxonPreCellID)):\n",
    "            falseCells.append(fcVal)\n",
    "            multiAxonCellTemp = multiAxonPreCellID[fcInsert]\n",
    "            idxMultiAxon = [i for i, x in enumerate(allPreCells) if x == multiAxonCellTemp]\n",
    "            for fc in range(len(idxMultiAxon)):\n",
    "                edgeList[idxMultiAxon[fc]][0] = fcVal\n",
    "                \n",
    "            edgeList.append([multiAxonCellTemp,fcVal])\n",
    "            fcVal = fcVal + 1\n",
    "\n",
    "        numCells = np.max(edgeList)+1 #number of cells & branching nodes\n",
    "        numEdges = len(edgeList) #number of connections or edges\n",
    "\n",
    "\n",
    "        #Create an iGraph Graph based on the connections list\n",
    "        g = ig.Graph(edges=edgeList)\n",
    "\n",
    "        #add an attribute to the graph based on whether the cell ID is for a real cell ('True') or a branching node ('False')\n",
    "        g.vs[\"isCell\"] = True\n",
    "        for i in range(len(falseCells)):\n",
    "            g.vs[falseCells[i]][\"isCell\"] = False\n",
    "\n",
    "        #generate the somas/branching node placements based on either the Kamada-Kawai ('kk') or Fruchterman-Reingold ('fr') algorithms\n",
    "            #Kamada-Kawai\n",
    "        fig_kk,ax_kk = plt.subplots(figsize=figSize)\n",
    "        ax_kk.set_aspect(\"equal\")\n",
    "        l_kk = g.layout_kamada_kawai()\n",
    "        ig.plot(g,layout=l_kk,target=ax_kk,axes=False,vertex_label=g.vs.indices)\n",
    "        lcoord_kk = l_kk.coords\n",
    "        plt.title('Kamada Kawai')\n",
    "        plt.close(fig_kk)\n",
    "        # plt.show()\n",
    "\n",
    "            #Fruchterman-Reingold\n",
    "        fig_fr,ax_fr = plt.subplots(figsize=figSize)\n",
    "        ax_fr.set_aspect(\"equal\")\n",
    "        l_fr=g.layout_fruchterman_reingold()\n",
    "        ig.plot(g,layout=l_fr,target=ax_fr,axes=True,vertex_label=g.vs.indices)\n",
    "        lcoord_fr = l_fr.coords\n",
    "        plt.title('Fruchterman Reingold')\n",
    "        plt.close(fig_fr)\n",
    "        # plt.show()\n",
    "\n",
    "        time_graphPreUser = time.time() #end timer for Procedure 1\n",
    "        time_procedure1 = time_graphPreUser - timeStart #duration for Procedure 1\n",
    "        if hasGraphRun:\n",
    "            fig_canvas_agg_fr.get_tk_widget().forget()\n",
    "            fig_canvas_agg_kk.get_tk_widget().forget()\n",
    "        fig_canvas_agg_fr = draw_figure(window['-FRCANVAS-'].TKCanvas, fig_fr)\n",
    "        fig_canvas_agg_kk = draw_figure(window['-KKCANVAS-'].TKCanvas, fig_kk)\n",
    "\n",
    "        window['-LAYOUT PREVIEW STATUS-'].update(visible=True)\n",
    "        hasGraphRun = True\n",
    "        window.Element('-GRAPH-').update(disabled=False)\n",
    "        window.Element('-CADButton-').update(disabled=False)\n",
    "\n",
    "    elif event == '-CADButton-':\n",
    "        if values['-GRAPH-'] == 'Fruchterman-Reingold':\n",
    "            print(\"Fruchterman-Reingold was selected.\")\n",
    "            lcoord = lcoord_fr\n",
    "            window['-CAD Status-'].update(value=\"Fruchterman-Reingold was selected.\")\n",
    "            graphDrawingUserChoice = 'fr'\n",
    "        elif values['-GRAPH-'] == 'Kamada-Kawai':\n",
    "            print(\"Kamada-Kawai was selected.\")\n",
    "            lcoord = lcoord_kk\n",
    "            window['-CAD Status-'].update(value=\"Kamada-Kawai was selected.\")\n",
    "            graphDrawingUserChoice = 'kk'\n",
    "\n",
    "        saveFileName = saveFileName + \"_\" + graphDrawingUserChoice #update the save file name to include with kk or fr\n",
    "\n",
    "        #   BEGIN PROCEDURE 2: Generate neural circuit micro-pattern\n",
    "        #### Get Distances between somas and/or branching nodes\n",
    "        time_graphPostUser = time.time() #begin timer for Procedure 2\n",
    "\n",
    "        dist_mat =np.zeros(numEdges)\n",
    "        for i in range(numEdges):\n",
    "            dist_mat[i] = abs(math.dist(lcoord[edgeList[i][0]],lcoord[edgeList[i][1]]))\n",
    "\n",
    "        #Feature sizes for the pattern (can be edited by the User)\n",
    "        somaR = 25; #soma radius, um\n",
    "        neuriteWidth = 10; #neurite short dimension, um\n",
    "        axonLength = 90; #axon long dimension, um (target/average length desired)\n",
    "        dendriteLength = 20; #dendrite long dimension, um\n",
    "        gapLength = 10; #distance between the end of the axon and the end of the dendrite (synaptic cleft)\n",
    "\n",
    "        extrudeThickness = 5 #extrude thickness for the 3D model\n",
    "\n",
    "        #the following are parameters only if the soma area space needs a scoop (not necessary for now)\n",
    "        scoopDepth = 2.5 #how deep into the extrude should the deepest point of the scoop should go (center of a sphere)\n",
    "                        #ideally, this value should be less than the extrude thickness\n",
    "        scoopR = 15 #the radius of the scoop at the top rim\n",
    "                    #ideally, this value should be less than the somaR\n",
    "        scoopSphereR = scoopDepth/2 + (scoopR*2)**2/(8*scoopDepth) #radius of the sphere to make the desired scoop\n",
    "\n",
    "        multiBump = 50 #if there is a mutually connected pair with no additional axonal outputs, this is the sagitta of the arc pathway between the two cells\n",
    "\n",
    "        avgDist = np.mean([min(dist_mat), max(dist_mat)]) #average distance between all of the somas and/or branching nodes\n",
    "        scaleFactor = (axonLength+dendriteLength+2*somaR+gapLength)/avgDist #scale factor for soma/branching node position\n",
    "\n",
    "        #scaling the model\n",
    "        scaledCoords = np.array(lcoord)*scaleFactor\n",
    "        scaledDist = dist_mat*scaleFactor\n",
    "        #scaledCoords = scaledCoords - scaledCoords[0,:] #uncomment if you want the coordinates to also be normalized, relative to the first cell\n",
    "                                                        #uncommenting may cause issues due to the first cell having coordinates of (0,0)\n",
    "        #scaledCoordsMM = scaledCoords/1000 #only for reporting purposes if someone wanted to scale the coordinates value by 1000\n",
    "\n",
    "\n",
    "        angs = [None]*numCells #preallocate an array for storing angles for neurite orientation, relative to the global coordinate system\n",
    "        neuritesCount = np.zeros(numCells) #preallocate array for counting the number of neurites per cell\n",
    "\n",
    "        minNeurites = 4  #minimum number of neurites per cell (to ensure polarity if the pattern were to be used for microcontact printing)\n",
    "        '''\n",
    "        Based on:\n",
    "        Yamamoto, H., Matsumura, R., Takaoki, H., Katsurabayashi, S., Hirano-\n",
    "        Iwata, A., Niwano, M.: Unidirectional signal propagation in primary\n",
    "        neurons micropatterned at a single-cell resolution. Applied Physics\n",
    "        Letters 109(4), 043703 (7 2016). https://doi.org/10.1063/1.4959836\n",
    "\n",
    "        They patterned neurons to grow on bipolar, quadrupolar, and octupolar patterns.\n",
    "        They found that the quadrupolar pattern worked well in terms of the health of the \n",
    "        cells and their ability to appropriately polarize.\n",
    "\n",
    "        ***********************************************\n",
    "        ***Currently the method to add additional neurites to meet the minimum expects the minimum neurites to be added\n",
    "        to be 4 - if this value is changed, the tool may not work as intended. **********\n",
    "        '''\n",
    "\n",
    "        numIntersections = 0 #initialize variable for the number of intersections for the whole pattern\n",
    "        multiCellComplete = [] #preallocate an empty array for keeping track of which individual mutual synapsing pairs have already been completed (excluding those with additional axonal outputs)\n",
    "\n",
    "        result = cq.Workplane(\"XY\") #initialize the 3D model\n",
    "\n",
    "        for connection in range(numEdges): #for each connection pair\n",
    "            #positions of the pre- and post-synaptic connections for testing intersections (first pair of connections)\n",
    "            pos1_preCell = Point(scaledCoords[edgeList[connection][0]][0], scaledCoords[edgeList[connection][0]][1])\n",
    "            pos1_postCell = Point(scaledCoords[edgeList[connection][1]][0], scaledCoords[edgeList[connection][1]][1])\n",
    "            \n",
    "            #determine whether there are any intersections in the pattern\n",
    "            for jj in range(numEdges - connection - 1):\n",
    "                # print(\"Comparing: \" + str(edgeList[connection]) + \" and \" + str(edgeList[connection+jj+1]) )\n",
    "                #positions of the pre- and post-synaptic connections for the second pair of connections\n",
    "                pos2_preCell = Point(scaledCoords[edgeList[connection+jj+1][0]][0], scaledCoords[edgeList[connection+jj+1][0]][1])\n",
    "                pos2_postCell = Point(scaledCoords[edgeList[connection+jj+1][1]][0], scaledCoords[edgeList[connection+jj+1][1]][1])\n",
    "                if doIntersect(pos1_preCell, pos1_postCell, pos2_preCell, pos2_postCell) and (not bool(set(edgeList[connection]) & set(edgeList[connection+jj+1]))):\n",
    "                    numIntersections = numIntersections + 1\n",
    "                    print(str(edgeList[connection]) + \" and \" + str(edgeList[connection+jj+1]) + \" intersect.\")\n",
    "            \n",
    "            #coordinates of the pre- and post-synaptic connections\n",
    "            preSynCoord = scaledCoords[edgeList[connection][0]]\n",
    "            postSynCoord = scaledCoords[edgeList[connection][1]]\n",
    "            \n",
    "            #increase number count of neurites for each cell in the connection\n",
    "            neuritesCount[edgeList[connection][0]] = neuritesCount[edgeList[connection][0]]+1\n",
    "            neuritesCount[edgeList[connection][1]] = neuritesCount[edgeList[connection][1]]+1\n",
    "            \n",
    "            #angle in which the pre-synaptic cell is relative to the post-synaptic cell\n",
    "            post2preAng = math.degrees(math.atan2( (preSynCoord[1]-postSynCoord[1]), (preSynCoord[0]-postSynCoord[0])) )\n",
    "            \n",
    "            #re-set the angle from [-180, 180] to [0, 360]\n",
    "            if post2preAng < 0:\n",
    "                post2preAng = post2preAng + 360\n",
    "                pre2postAng = post2preAng - 180\n",
    "\n",
    "            else:\n",
    "                pre2postAng = post2preAng + 180\n",
    "                \n",
    "            \n",
    "            \n",
    "            if g.count_multiple(connection) == 2: #if the two connecting points are mutually synapsing, add 2 curved neurite paths\n",
    "                \n",
    "                #curved path for the dendrite and axon (no gap yet) (sagitta arc)\n",
    "                dendriteAxon = cq.Workplane(\"XZ\",origin=(postSynCoord[0],postSynCoord[1],extrudeThickness/2)).rect(neuriteWidth,extrudeThickness).sweep(cq.Workplane(\"XY\",origin=(postSynCoord[0],postSynCoord[1],0)).sagittaArc((preSynCoord[0]-postSynCoord[0],preSynCoord[1]-postSynCoord[1]),multiBump))\n",
    "                \n",
    "                result = result.union(dendriteAxon)\n",
    "                multiCellComplete.append(edgeList[connection])\n",
    "                \n",
    "                #the following is to create the gap between the axon and the dendrite paths\n",
    "                arcW = math.dist(preSynCoord,postSynCoord) #arc width of sagitta arc\n",
    "                arcR = multiBump/2 + (arcW**2)/(8*multiBump) #arc radius of sagitta arc\n",
    "                arcAng = math.degrees(math.acos(1- (multiBump / arcR))) #tangent angle at the start of the sagitta arc\n",
    "                post2preAng = post2preAng + arcAng\n",
    "                pre2postAng = pre2postAng - arcAng\n",
    "                \n",
    "                #create the gap solid to \"cut\" from the dendrite/axon path\n",
    "                gapAngStart = (dendriteLength+(arcR*2*math.asin(somaR/(2*arcR))))/arcR #radians, start angle of gap\n",
    "                gapChordAng = post2preAng-math.degrees(gapAngStart)/2 #angle of chord for the gap, relative to X axis\n",
    "                \n",
    "                chordDist = 2*arcR*math.sin(gapAngStart/2) #chord distance from center of soma to gap\n",
    "                \n",
    "                gap_deltaX = chordDist*math.cos(math.radians(gapChordAng)) #change in X coordinate, relative to soma center, to reach gap beginning\n",
    "                gap_deltaY = chordDist*math.sin(math.radians(gapChordAng)) #change in Y coordinate, relative to soma center, to reach gap beginning\n",
    "                \n",
    "                gapEndAng = (dendriteLength+(arcR*2*math.asin(somaR/(2*arcR))) + gapLength)/arcR #radians, end point of gap\n",
    "                gapEndChordAng = post2preAng-math.degrees(gapEndAng)/2 #angle of chord, relative to X axis\n",
    "                chordDistEnd = 2*arcR*math.sin(gapEndAng/2) #chord distance from center of soma to end of gap\n",
    "                gapEnd_deltaX = chordDistEnd*math.cos(math.radians(gapEndChordAng)) #change in X coordinate, relative to soma center, to reach gap beginning\n",
    "                gapEnd_deltaY = chordDistEnd*math.sin(math.radians(gapEndChordAng)) #change in Y coordinate, relative to soma center, to reach gap beginning\n",
    "                \n",
    "                #intial solid from the cell to the start of the gap\n",
    "                gap5 = cq.Workplane(\"XZ\",origin=(postSynCoord[0],postSynCoord[1],3*extrudeThickness/4)).rect(neuriteWidth*1.1,extrudeThickness/2).sweep(cq.Workplane(\"XY\",origin=(postSynCoord[0],postSynCoord[1],0)).radiusArc((gap_deltaX, gap_deltaY),arcR))\n",
    "                #initial solid from the cell to the end of the gap\n",
    "                gap6 = cq.Workplane(\"XZ\",origin=(postSynCoord[0],postSynCoord[1],3*extrudeThickness/4)).rect(neuriteWidth*1.1,extrudeThickness/2).sweep(cq.Workplane(\"XY\",origin=(postSynCoord[0],postSynCoord[1],0)).radiusArc((gapEnd_deltaX, gapEnd_deltaY),arcR))\n",
    "                \n",
    "                #cut the gap5 solid from the gap6 solid to create the solid for the gap\n",
    "                gap7 = gap6.cut(gap5)\n",
    "                \n",
    "                #cut the gap7 from the dendriteAxon path to separate them and create the synaptic cleft\n",
    "                result = result.cut(gap7)\n",
    "\n",
    "\n",
    "            else: #if not a mutually synapsing connection add straight paths for the dendrite and axon\n",
    "                \n",
    "                #create a short path solid for the dendrite based on the dendrite length from the post-synaptic cell, towards the pre-synaptic cell\n",
    "                dendrite = cq.Workplane(\"XY\").rect(dendriteLength+somaR,neuriteWidth,centered=False).extrude(extrudeThickness).translate((0,-neuriteWidth/2,0)).rotate((0,0,0),(0,0,1),post2preAng).translate((postSynCoord[0],postSynCoord[1],0))\n",
    "                result = result.union(dendrite) #add the dendrite solid to the full model\n",
    "                \n",
    "                #calculate the axonal length based on the dendrite length, gap length, and the remaining distance between the pre- and post-synaptic cells\n",
    "                axonLen = scaledDist[connection]-somaR-gapLength-dendriteLength\n",
    "\n",
    "                #create a long path solid for the axon based on the axon length, from the pre-synaptic cell, towards the post-synaptic cell\n",
    "                axon = cq.Workplane(\"XY\").rect(axonLen,neuriteWidth,centered=False).extrude(extrudeThickness).translate((0,-neuriteWidth/2,0)).rotate((0,0,0),(0,0,1),pre2postAng).translate((preSynCoord[0],preSynCoord[1],0))\n",
    "                result = result.union(axon) #add the axon solid to the full model\n",
    "                \n",
    "                #do not add the gap if the connection is with a branching node (fill the gap space). else, add a gap (do not fill the gap space)\n",
    "                if edgeList[connection][1] in set(falseCells):\n",
    "                    gap = cq.Workplane(\"XY\").rect(gapLength,neuriteWidth,centered=False).extrude(extrudeThickness).translate((axonLen,-neuriteWidth/2,0)).rotate((0,0,0),(0,0,1),pre2postAng).translate((preSynCoord[0],preSynCoord[1],0))\n",
    "                else:\n",
    "                    gap = cq.Workplane(\"XY\").rect(gapLength,neuriteWidth,centered=False).extrude(extrudeThickness/2).translate((axonLen,-neuriteWidth/2,0)).rotate((0,0,0),(0,0,1),pre2postAng).translate((preSynCoord[0],preSynCoord[1],0))\n",
    "                \n",
    "                result = result.add(gap) #add the relevant gap solid to the full model\n",
    "                \n",
    "            #record all of the angles for the pre- and post-synaptic cells\n",
    "            if angs[edgeList[connection][1]] is None:\n",
    "                angs[edgeList[connection][1]] = [post2preAng]\n",
    "            else:\n",
    "                angs[edgeList[connection][1]].append(post2preAng)\n",
    "            \n",
    "            if angs[edgeList[connection][0]] is None:\n",
    "                angs[edgeList[connection][0]] = [pre2postAng]\n",
    "            else:\n",
    "                angs[edgeList[connection][0]].append(pre2postAng)\n",
    "                \n",
    "        print(\"Total number of intersections: \" + str(numIntersections))        \n",
    "                \n",
    "                \n",
    "        #This for loop adds additional neurites, if the minimum is not met, and the solids for the somas (for each cell)\n",
    "        for i in range(numCells):\n",
    "            \n",
    "            #check if the cell has already has an axon\n",
    "            hasAxon = any(cIdx in [i] for cIdx in allPreCells)\n",
    "            \n",
    "            #check if the cell is a branching node or already met the neurite minimum. If so, do not add more neurites and do not add a large circular area for a soma.\n",
    "            if any(cIdx in [i] for cIdx in falseCells):\n",
    "                print(\"The cell \" + str(i) + \" is a false cell. No soma or extra dendrites will be added.\")\n",
    "                falseSoma = cq.Workplane(\"XY\").box(neuriteWidth,neuriteWidth,extrudeThickness).translate((scaledCoords[i][0],scaledCoords[i][1],extrudeThickness/2))\n",
    "                result = result.union(falseSoma)\n",
    "\n",
    "            elif (angs[i] == None):\n",
    "                print(\"The cell \" + str(i) + \" has no connections. No soma or extra dendrites will be added.\")\n",
    "                \n",
    "            else: #cell is a real cell (not branching node) and has less than the minimum number of neurites\n",
    "                \n",
    "                #calculate the largest angular gap between the existing neurites\n",
    "                angsSort = sorted(angs[i])\n",
    "                angsDiff = np.append(np.diff(angsSort),(angsSort[0]+360-angsSort[-1]))\n",
    "                largestGap = max(angsDiff)\n",
    "                largestGapLoc = np.argmax(angsDiff)\n",
    "                \n",
    "                #calculate the number of neurites to be added to meet the minimum\n",
    "                numDen2Add = int(minNeurites - neuritesCount[i])\n",
    "                    \n",
    "                #The method to determine the angular orientation of the remaining neurites\n",
    "                #depends on the angular gaps between the existing neurites and the number of \n",
    "                #remaining neurites to be added.\n",
    "                    \n",
    "                if numDen2Add == 2: #if the number of neurites to be added is 2\n",
    "                    #deterine which method to add the remaining neurites based on the standard \n",
    "                    # deviation of the neurite angle orientation\n",
    "                    #the method that results in the smallest standard deviation is the method used\n",
    "                    #for placing additional neurites\n",
    "                    \n",
    "                    #method 1 - put both neurites within the largest gap\n",
    "                    method1_midAngDelta = largestGap/3\n",
    "                    method1_std = np.std([min(angsDiff), method1_midAngDelta, method1_midAngDelta, method1_midAngDelta])\n",
    "                    \n",
    "                    \n",
    "                    #method 2 - put one neurite between each gap\n",
    "                    method2_midAngDelta = angsDiff/2            \n",
    "                    method2_std = np.std([method2_midAngDelta[0], method2_midAngDelta[0], method2_midAngDelta[1], method2_midAngDelta[1]])\n",
    "                    denAng = np.ones(2)\n",
    "                    \n",
    "                    if method1_std < method2_std:\n",
    "                        denAng[0] = angsSort[largestGapLoc] + method1_midAngDelta\n",
    "                        denAng[1] = denAng[0] + method1_midAngDelta\n",
    "                    else:\n",
    "                        denAng[0] = angsSort[0] + method2_midAngDelta[0]\n",
    "                        denAng[1] = angsSort[1] + method2_midAngDelta[1]\n",
    "                        \n",
    "                    for denIdx in range(2):\n",
    "                        \n",
    "                        #if the neuron does not already have an axon, add one of the remaining\n",
    "                        #neurites with the target axon length. else, add a dendrite\n",
    "                        if denIdx == 0 and hasAxon == False:\n",
    "                            neuriteLength = axonLength\n",
    "                        else:   \n",
    "                            neuriteLength = dendriteLength\n",
    "                        \n",
    "                        neurite = cq.Workplane(\"XY\").rect(neuriteLength+somaR,neuriteWidth,centered=False).extrude(extrudeThickness).translate((0,-neuriteWidth/2,0)).rotate((0,0,0),(0,0,1),denAng[denIdx]).translate((scaledCoords[i][0],scaledCoords[i][1],0))\n",
    "                        result = result.union(neurite)\n",
    "                        \n",
    "                    \n",
    "                        \n",
    "                elif numDen2Add == 1: #number of neurites to add is 1\n",
    "                \n",
    "                    #add the single neurite in the middle of the largest gap between the existing neurites\n",
    "                    addDenAng = angsSort[largestGapLoc] + largestGap/2\n",
    "                    \n",
    "                    #if the neuron does not already have an axon, add one of the remaining\n",
    "                    #neurites with the target axon length. else, add a dendrite\n",
    "                    if hasAxon == False:\n",
    "                        neuriteLength = axonLength\n",
    "                    else:\n",
    "                        neuriteLength = dendriteLength\n",
    "                    \n",
    "                    neurite = cq.Workplane(\"XY\").rect(neuriteLength+somaR,neuriteWidth,centered=False).extrude(extrudeThickness).translate((0,-neuriteWidth/2,0)).rotate((0,0,0),(0,0,1),addDenAng).translate((scaledCoords[i][0],scaledCoords[i][1],0))\n",
    "                    result = result.union(neurite)\n",
    "                                \n",
    "                elif numDen2Add == 3: #number of neurites to add is 3\n",
    "                \n",
    "                    #With the assumption that the minimum number of neurites to add is 4\n",
    "                    #that means there is only one existing neurite.\n",
    "                    #For four neurites evenly spaced, all of the neurites are 90 degrees relative to each other\n",
    "\n",
    "                    #if the neuron does not already have an axon, add one of the remaining\n",
    "                    #neurites with the target axon length. else, add a dendrite\n",
    "                    for denIdx in range(3):\n",
    "                        if denIdx == 0 and hasAxon == False:\n",
    "                            neuriteLength = axonLength\n",
    "                        else:   \n",
    "                            neuriteLength = dendriteLength\n",
    "\n",
    "                        neurite = cq.Workplane(\"XY\").rect(neuriteLength+somaR,neuriteWidth,centered=False).extrude(extrudeThickness).translate((0,-neuriteWidth/2,0)).rotate((0,0,0),(0,0,1),angs[i][0]+(90*(1+denIdx))).translate((scaledCoords[i][0],scaledCoords[i][1],0))\n",
    "                        result = result.union(neurite)\n",
    "                        \n",
    "                elif numDen2Add <= 0: #number of neurites is less than or equal to 0 - means there are no neurites that need to be added\n",
    "                    print(\"No dendrites need to be added for cell ID: \" + str(i))\n",
    "                    \n",
    "                else: #if for some reason, an invalid number is needed (likely the minimum neurites was changed to be larger than 4 or not a number)\n",
    "                    print(\"Invalid number of extra neurites to add\")\n",
    "\n",
    "                soma = cq.Workplane(\"XY\").circle(somaR).extrude(extrudeThickness).translate((scaledCoords[i][0],scaledCoords[i][1],0))\n",
    "                result = result.union(soma)#.cut(cq.Workplane(\"XY\").sphere(scoopSphereR).translate((scaledCoords[i][0],scaledCoords[i][1],scoopSphereR+extrudeThickness-scoopDepth)))\n",
    "                    #Scoop in the soma area could be uncommented needed\n",
    "                \n",
    "        time_postModel = time.time() #end timer for procedure 2\n",
    "        timeElapsed = (time_graphPreUser - timeStart) + (time_postModel - time_graphPostUser) #total time elapsed (procedure1 + procedure2) DOES NOT INCLUDE USER SELECTION TIME\n",
    "        time_procedure2 = (time_postModel - time_graphPostUser) #time elapsed for procedure 2\n",
    "\n",
    "        print(\"Time Elapsed for Procedure 1 (s): \" + str(time_procedure1))\n",
    "        print(\"Time Elapsed for Procedure 2 (s): \" + str(time_procedure2))\n",
    "        print(\"Time Elapsed Total (s): \" + str(timeElapsed))\n",
    "        print(g)\n",
    "\n",
    "        display(result)\n",
    "\n",
    "        hasCADRun = True\n",
    "        window.Element('-FOLDERBROWSE-').update(disabled=False)\n",
    "        \n",
    "\n",
    "    elif event == '-FOLDER-':\n",
    "        window.Element('-SAVEBUTTON-').update(disabled=False)\n",
    "        window['-FOLDER-'].update(visible=True)\n",
    "    elif event == '-SAVEBUTTON-':\n",
    "        print(\"Results saving...\")   \n",
    "        ''' USER NEEDS TO UPDATE THIS AS NEEDED\n",
    "            #Directory to export files to \n",
    "        '''\n",
    "        # exportDir = input(\"Save Directory: \") or 'G:/Shared drives/CMU BORG - Constrained Neuron Patterning & Transfer/02 Design Tool/exportTests/v11'\n",
    "        # exportDir = 'G:/Shared drives/CMU BORG - Constrained Neuron Patterning & Transfer/02 Design Tool/exportTests/v11'\n",
    "        exportDir = values['-FOLDERBROWSE-']\n",
    "        \n",
    "        fig_kk.savefig(exportDir+\"/intermediate_kk_\"+saveFileName+\".svg\", format=\"svg\", dpi=1200)\n",
    "        fig_fr.savefig(exportDir+\"/intermediate_fr_\"+saveFileName+\".svg\", format=\"svg\", dpi=1200)\n",
    "\n",
    "        cq.exporters.export(\n",
    "                            result,\n",
    "                            exportDir+\"/CAD_\" + saveFileName +\".svg\",\n",
    "                            opt={\n",
    "                                \"showAxes\": False,\n",
    "                                \"projectionDir\": (-0.25, -0.25, 0.5),\n",
    "                                }\n",
    "                            )\n",
    "        \n",
    "        cq.exporters.export(\n",
    "                            result,\n",
    "                            exportDir + \"/\" + saveFileName + \".stp\",\n",
    "                            cq.exporters.ExportTypes.STEP)\n",
    "        \n",
    "            #SVG Export - XY Plane from above\n",
    "        bb = result.val().BoundingBox()\n",
    "        cq.exporters.export(result,\n",
    "                            (exportDir + \"/XYplane_\" + saveFileName + '.svg'),\n",
    "                            opt={\n",
    "                                \"showAxes\": False,\n",
    "                                \"projectionDir\":(0,0,1),\n",
    "                                \"output_width\":bb.xlen,\n",
    "                                \"output_height\":bb.ylen})\n",
    "        \n",
    "            # visualize the SVG export\n",
    "        \n",
    "        fig = plt.figure()\n",
    "        img_png = cairosvg.svg2png(url=(exportDir + \"/XYplane_\" + saveFileName + '.svg'),write_to=(exportDir + \"/XYplane_\" + saveFileName +'.png'))\n",
    "        img = mpimg.imread((exportDir + \"/XYplane_\" + saveFileName +'.png'))\n",
    "        plt.close(fig)\n",
    "        # imgplot = plt.imshow(img)\n",
    "        # plt.show()\n",
    "        \n",
    "            #DXF Export (looks like XY planeish - have some weird spare lines)\n",
    "        cq.exporters.export(result,\n",
    "                            exportDir + \"/\" + saveFileName + \".dxf\")\n",
    "        doc = ezdxf.readfile(\n",
    "                            exportDir + \"/\" + saveFileName + \".dxf\")\n",
    "        msp = doc.modelspace()\n",
    "        \n",
    "        fig_dxf = plt.figure()\n",
    "        ax_dxf = fig_dxf.add_axes([0,0,1,1])\n",
    "        ctx = RenderContext(doc)\n",
    "        msp_properties = LayoutProperties.from_layout(msp)\n",
    "        msp_properties.set_colors(\"#eaeaeaff\")\n",
    "        out = MatplotlibBackend(ax_dxf)\n",
    "        Frontend(ctx, out).draw_layout(\n",
    "            msp,\n",
    "            finalize=True,\n",
    "            layout_properties=msp_properties,\n",
    "            )\n",
    "        fig_dxf.set_size_inches(w,h)\n",
    "        plt.close(fig_dxf)\n",
    "        # plt.show()\n",
    "\n",
    "        if hasSaveRun:\n",
    "            fig_canvas_agg_save.get_tk_widget().forget()\n",
    "        window['-SAVE PREVIEW STATUS-'].update(visible=True)\n",
    "        fig_canvas_agg_save = draw_figure(window['-CADVAS-'].TKCanvas, fig_dxf)\n",
    "        hasSaveRun = True\n",
    "\n",
    "window.close()"
   ]
  },
  {
   "cell_type": "markdown",
   "metadata": {},
   "source": [
    "GANGLIA Procedure 1 (Non-GUI Version)"
   ]
  },
  {
   "cell_type": "code",
   "execution_count": 2,
   "metadata": {},
   "outputs": [
    {
     "data": {
      "image/png": "[encoded data removed]",
      "text/plain": [
       "<Figure size 640x480 with 1 Axes>"
      ]
     },
     "metadata": {},
     "output_type": "display_data"
    },
    {
     "data": {
      "image/png": "[encoded data removed]",
      "text/plain": [
       "<Figure size 640x480 with 1 Axes>"
      ]
     },
     "metadata": {},
     "output_type": "display_data"
    },
    {
     "data": {
      "application/vnd.plotly.v1+json": {
       "config": {
        "plotlyServerURL": "https://plot.ly"
       },
       "data": [
        {
         "customdata": [
          [
           12,
           "Presynaptic"
          ],
          [
           0,
           "Postsynaptic"
          ]
         ],
         "hovertemplate": "Edge=0<br>x=%{x}<br>y=%{y}<br>z=%{z}<br>Cell ID=%{customdata[0]}<br>Cell Role=%{customdata[1]}<extra></extra>",
         "legendgroup": "0",
         "line": {
          "color": "#636efa",
          "dash": "solid"
         },
         "marker": {
          "symbol": "circle"
         },
         "mode": "markers+lines",
         "name": "0",
         "scene": "scene",
         "showlegend": true,
         "type": "scatter3d",
         "x": [
          -0.0751363301095326,
          1.116538922783314
         ],
         "y": [
          -0.5428897503183316,
          -0.6704576220273781
         ],
         "z": [
          0.5411343410279885,
          1.0615636696001989
         ]
        },
        {
         "customdata": [
          [
           13,
           "Presynaptic"
          ],
          [
           2,
           "Postsynaptic"
          ]
         ],
         "hovertemplate": "Edge=1<br>x=%{x}<br>y=%{y}<br>z=%{z}<br>Cell ID=%{customdata[0]}<br>Cell Role=%{customdata[1]}<extra></extra>",
         "legendgroup": "1",
         "line": {
          "color": "#EF553B",
          "dash": "solid"
         },
         "marker": {
          "symbol": "circle"
         },
         "mode": "markers+lines",
         "name": "1",
         "scene": "scene",
         "showlegend": true,
         "type": "scatter3d",
         "x": [
          -0.6013229952759578,
          -0.20293177507420698
         ],
         "y": [
          -0.6402793095956179,
          0.06285989795495438
         ],
         "z": [
          -1.1152616824810921,
          -2.034384490671368
         ]
        },
        {
         "customdata": [
          [
           14,
           "Presynaptic"
          ],
          [
           4,
           "Postsynaptic"
          ]
         ],
         "hovertemplate": "Edge=2<br>x=%{x}<br>y=%{y}<br>z=%{z}<br>Cell ID=%{customdata[0]}<br>Cell Role=%{customdata[1]}<extra></extra>",
         "legendgroup": "2",
         "line": {
          "color": "#00cc96",
          "dash": "solid"
         },
         "marker": {
          "symbol": "circle"
         },
         "mode": "markers+lines",
         "name": "2",
         "scene": "scene",
         "showlegend": true,
         "type": "scatter3d",
         "x": [
          1.1049566046546149,
          -0.0986838830574433
         ],
         "y": [
          0.5388567622182813,
          0.6227958262776242
         ],
         "z": [
          0.6482811539664545,
          0.8343916710078095
         ]
        },
        {
         "customdata": [
          [
           15,
           "Presynaptic"
          ],
          [
           4,
           "Postsynaptic"
          ]
         ],
         "hovertemplate": "Edge=3<br>x=%{x}<br>y=%{y}<br>z=%{z}<br>Cell ID=%{customdata[0]}<br>Cell Role=%{customdata[1]}<extra></extra>",
         "legendgroup": "3",
         "line": {
          "color": "#ab63fa",
          "dash": "solid"
         },
         "marker": {
          "symbol": "circle"
         },
         "mode": "markers+lines",
         "name": "3",
         "scene": "scene",
         "showlegend": true,
         "type": "scatter3d",
         "x": [
          -0.010142200407563532,
          -0.0986838830574433
         ],
         "y": [
          1.813384445477962,
          0.6227958262776242
         ],
         "z": [
          0.6377791676860094,
          0.8343916710078095
         ]
        },
        {
         "customdata": [
          [
           12,
           "Presynaptic"
          ],
          [
           3,
           "Postsynaptic"
          ]
         ],
         "hovertemplate": "Edge=4<br>x=%{x}<br>y=%{y}<br>z=%{z}<br>Cell ID=%{customdata[0]}<br>Cell Role=%{customdata[1]}<extra></extra>",
         "legendgroup": "4",
         "line": {
          "color": "#FFA15A",
          "dash": "solid"
         },
         "marker": {
          "symbol": "circle"
         },
         "mode": "markers+lines",
         "name": "4",
         "scene": "scene",
         "showlegend": true,
         "type": "scatter3d",
         "x": [
          -0.0751363301095326,
          0.25623923704046186
         ],
         "y": [
          -0.5428897503183316,
          -1.2813775157468372
         ],
         "z": [
          0.5411343410279885,
          -0.42264987030140805
         ]
        },
        {
         "customdata": [
          [
           16,
           "Presynaptic"
          ],
          [
           4,
           "Postsynaptic"
          ]
         ],
         "hovertemplate": "Edge=5<br>x=%{x}<br>y=%{y}<br>z=%{z}<br>Cell ID=%{customdata[0]}<br>Cell Role=%{customdata[1]}<extra></extra>",
         "legendgroup": "5",
         "line": {
          "color": "#19d3f3",
          "dash": "solid"
         },
         "marker": {
          "symbol": "circle"
         },
         "mode": "markers+lines",
         "name": "5",
         "scene": "scene",
         "showlegend": true,
         "type": "scatter3d",
         "x": [
          -1.0513096307293446,
          -0.0986838830574433
         ],
         "y": [
          0.4020374777272392,
          0.6227958262776242
         ],
         "z": [
          0.7749011804281859,
          0.8343916710078095
         ]
        },
        {
         "customdata": [
          [
           12,
           "Presynaptic"
          ],
          [
           4,
           "Postsynaptic"
          ]
         ],
         "hovertemplate": "Edge=6<br>x=%{x}<br>y=%{y}<br>z=%{z}<br>Cell ID=%{customdata[0]}<br>Cell Role=%{customdata[1]}<extra></extra>",
         "legendgroup": "6",
         "line": {
          "color": "#FF6692",
          "dash": "solid"
         },
         "marker": {
          "symbol": "circle"
         },
         "mode": "markers+lines",
         "name": "6",
         "scene": "scene",
         "showlegend": true,
         "type": "scatter3d",
         "x": [
          -0.0751363301095326,
          -0.0986838830574433
         ],
         "y": [
          -0.5428897503183316,
          0.6227958262776242
         ],
         "z": [
          0.5411343410279885,
          0.8343916710078095
         ]
        },
        {
         "customdata": [
          [
           16,
           "Presynaptic"
          ],
          [
           5,
           "Postsynaptic"
          ]
         ],
         "hovertemplate": "Edge=7<br>x=%{x}<br>y=%{y}<br>z=%{z}<br>Cell ID=%{customdata[0]}<br>Cell Role=%{customdata[1]}<extra></extra>",
         "legendgroup": "7",
         "line": {
          "color": "#B6E880",
          "dash": "solid"
         },
         "marker": {
          "symbol": "circle"
         },
         "mode": "markers+lines",
         "name": "7",
         "scene": "scene",
         "showlegend": true,
         "type": "scatter3d",
         "x": [
          -1.0513096307293446,
          -0.6063812871358667
         ],
         "y": [
          0.4020374777272392,
          -0.510972117173853
         ],
         "z": [
          0.7749011804281859,
          1.646575394326102
         ]
        },
        {
         "customdata": [
          [
           16,
           "Presynaptic"
          ],
          [
           6,
           "Postsynaptic"
          ]
         ],
         "hovertemplate": "Edge=8<br>x=%{x}<br>y=%{y}<br>z=%{z}<br>Cell ID=%{customdata[0]}<br>Cell Role=%{customdata[1]}<extra></extra>",
         "legendgroup": "8",
         "line": {
          "color": "#FF97FF",
          "dash": "solid"
         },
         "marker": {
          "symbol": "circle"
         },
         "mode": "markers+lines",
         "name": "8",
         "scene": "scene",
         "showlegend": true,
         "type": "scatter3d",
         "x": [
          -1.0513096307293446,
          0.027861037697510523
         ],
         "y": [
          0.4020374777272392,
          0.736472484089352
         ],
         "z": [
          0.7749011804281859,
          -0.0501484393458674
         ]
        },
        {
         "customdata": [
          [
           12,
           "Presynaptic"
          ],
          [
           6,
           "Postsynaptic"
          ]
         ],
         "hovertemplate": "Edge=9<br>x=%{x}<br>y=%{y}<br>z=%{z}<br>Cell ID=%{customdata[0]}<br>Cell Role=%{customdata[1]}<extra></extra>",
         "legendgroup": "9",
         "line": {
          "color": "#FECB52",
          "dash": "solid"
         },
         "marker": {
          "symbol": "circle"
         },
         "mode": "markers+lines",
         "name": "9",
         "scene": "scene",
         "showlegend": true,
         "type": "scatter3d",
         "x": [
          -0.0751363301095326,
          0.027861037697510523
         ],
         "y": [
          -0.5428897503183316,
          0.736472484089352
         ],
         "z": [
          0.5411343410279885,
          -0.0501484393458674
         ]
        },
        {
         "customdata": [
          [
           17,
           "Presynaptic"
          ],
          [
           6,
           "Postsynaptic"
          ]
         ],
         "hovertemplate": "Edge=10<br>x=%{x}<br>y=%{y}<br>z=%{z}<br>Cell ID=%{customdata[0]}<br>Cell Role=%{customdata[1]}<extra></extra>",
         "legendgroup": "10",
         "line": {
          "color": "#636efa",
          "dash": "solid"
         },
         "marker": {
          "symbol": "circle"
         },
         "mode": "markers+lines",
         "name": "10",
         "scene": "scene",
         "showlegend": true,
         "type": "scatter3d",
         "x": [
          0.1993831055295999,
          0.027861037697510523
         ],
         "y": [
          1.0889762672109884,
          0.736472484089352
         ],
         "z": [
          -1.3617323949704054,
          -0.0501484393458674
         ]
        },
        {
         "customdata": [
          [
           14,
           "Presynaptic"
          ],
          [
           6,
           "Postsynaptic"
          ]
         ],
         "hovertemplate": "Edge=11<br>x=%{x}<br>y=%{y}<br>z=%{z}<br>Cell ID=%{customdata[0]}<br>Cell Role=%{customdata[1]}<extra></extra>",
         "legendgroup": "11",
         "line": {
          "color": "#EF553B",
          "dash": "solid"
         },
         "marker": {
          "symbol": "circle"
         },
         "mode": "markers+lines",
         "name": "11",
         "scene": "scene",
         "showlegend": true,
         "type": "scatter3d",
         "x": [
          1.1049566046546149,
          0.027861037697510523
         ],
         "y": [
          0.5388567622182813,
          0.736472484089352
         ],
         "z": [
          0.6482811539664545,
          -0.0501484393458674
         ]
        },
        {
         "customdata": [
          [
           15,
           "Presynaptic"
          ],
          [
           6,
           "Postsynaptic"
          ]
         ],
         "hovertemplate": "Edge=12<br>x=%{x}<br>y=%{y}<br>z=%{z}<br>Cell ID=%{customdata[0]}<br>Cell Role=%{customdata[1]}<extra></extra>",
         "legendgroup": "12",
         "line": {
          "color": "#00cc96",
          "dash": "solid"
         },
         "marker": {
          "symbol": "circle"
         },
         "mode": "markers+lines",
         "name": "12",
         "scene": "scene",
         "showlegend": true,
         "type": "scatter3d",
         "x": [
          -0.010142200407563532,
          0.027861037697510523
         ],
         "y": [
          1.813384445477962,
          0.736472484089352
         ],
         "z": [
          0.6377791676860094,
          -0.0501484393458674
         ]
        },
        {
         "customdata": [
          [
           17,
           "Presynaptic"
          ],
          [
           7,
           "Postsynaptic"
          ]
         ],
         "hovertemplate": "Edge=13<br>x=%{x}<br>y=%{y}<br>z=%{z}<br>Cell ID=%{customdata[0]}<br>Cell Role=%{customdata[1]}<extra></extra>",
         "legendgroup": "13",
         "line": {
          "color": "#ab63fa",
          "dash": "solid"
         },
         "marker": {
          "symbol": "circle"
         },
         "mode": "markers+lines",
         "name": "13",
         "scene": "scene",
         "showlegend": true,
         "type": "scatter3d",
         "x": [
          0.1993831055295999,
          1.2334852328108536
         ],
         "y": [
          1.0889762672109884,
          1.4257285427766389
         ],
         "z": [
          -1.3617323949704054,
          -1.9820858326780275
         ]
        },
        {
         "customdata": [
          [
           12,
           "Presynaptic"
          ],
          [
           8,
           "Postsynaptic"
          ]
         ],
         "hovertemplate": "Edge=14<br>x=%{x}<br>y=%{y}<br>z=%{z}<br>Cell ID=%{customdata[0]}<br>Cell Role=%{customdata[1]}<extra></extra>",
         "legendgroup": "14",
         "line": {
          "color": "#FFA15A",
          "dash": "solid"
         },
         "marker": {
          "symbol": "circle"
         },
         "mode": "markers+lines",
         "name": "14",
         "scene": "scene",
         "showlegend": true,
         "type": "scatter3d",
         "x": [
          -0.0751363301095326,
          -0.7392678531444553
         ],
         "y": [
          -0.5428897503183316,
          -1.373049415316362
         ],
         "z": [
          0.5411343410279885,
          -0.24230581692498607
         ]
        },
        {
         "customdata": [
          [
           6,
           "Presynaptic"
          ],
          [
           9,
           "Postsynaptic"
          ]
         ],
         "hovertemplate": "Edge=15<br>x=%{x}<br>y=%{y}<br>z=%{z}<br>Cell ID=%{customdata[0]}<br>Cell Role=%{customdata[1]}<extra></extra>",
         "legendgroup": "15",
         "line": {
          "color": "#19d3f3",
          "dash": "solid"
         },
         "marker": {
          "symbol": "circle"
         },
         "mode": "markers+lines",
         "name": "15",
         "scene": "scene",
         "showlegend": true,
         "type": "scatter3d",
         "x": [
          0.027861037697510523,
          -0.9252681825502833
         ],
         "y": [
          0.736472484089352,
          0.35873689543937964
         ],
         "z": [
          -0.0501484393458674,
          -0.2531054498645837
         ]
        },
        {
         "customdata": [
          [
           13,
           "Presynaptic"
          ],
          [
           8,
           "Postsynaptic"
          ]
         ],
         "hovertemplate": "Edge=16<br>x=%{x}<br>y=%{y}<br>z=%{z}<br>Cell ID=%{customdata[0]}<br>Cell Role=%{customdata[1]}<extra></extra>",
         "legendgroup": "16",
         "line": {
          "color": "#FF6692",
          "dash": "solid"
         },
         "marker": {
          "symbol": "circle"
         },
         "mode": "markers+lines",
         "name": "16",
         "scene": "scene",
         "showlegend": true,
         "type": "scatter3d",
         "x": [
          -0.6013229952759578,
          -0.7392678531444553
         ],
         "y": [
          -0.6402793095956179,
          -1.373049415316362
         ],
         "z": [
          -1.1152616824810921,
          -0.24230581692498607
         ]
        },
        {
         "customdata": [
          [
           4,
           "Presynaptic"
          ],
          [
           9,
           "Postsynaptic"
          ]
         ],
         "hovertemplate": "Edge=17<br>x=%{x}<br>y=%{y}<br>z=%{z}<br>Cell ID=%{customdata[0]}<br>Cell Role=%{customdata[1]}<extra></extra>",
         "legendgroup": "17",
         "line": {
          "color": "#B6E880",
          "dash": "solid"
         },
         "marker": {
          "symbol": "circle"
         },
         "mode": "markers+lines",
         "name": "17",
         "scene": "scene",
         "showlegend": true,
         "type": "scatter3d",
         "x": [
          -0.0986838830574433,
          -0.9252681825502833
         ],
         "y": [
          0.6227958262776242,
          0.35873689543937964
         ],
         "z": [
          0.8343916710078095,
          -0.2531054498645837
         ]
        },
        {
         "customdata": [
          [
           13,
           "Presynaptic"
          ],
          [
           9,
           "Postsynaptic"
          ]
         ],
         "hovertemplate": "Edge=18<br>x=%{x}<br>y=%{y}<br>z=%{z}<br>Cell ID=%{customdata[0]}<br>Cell Role=%{customdata[1]}<extra></extra>",
         "legendgroup": "18",
         "line": {
          "color": "#FF97FF",
          "dash": "solid"
         },
         "marker": {
          "symbol": "circle"
         },
         "mode": "markers+lines",
         "name": "18",
         "scene": "scene",
         "showlegend": true,
         "type": "scatter3d",
         "x": [
          -0.6013229952759578,
          -0.9252681825502833
         ],
         "y": [
          -0.6402793095956179,
          0.35873689543937964
         ],
         "z": [
          -1.1152616824810921,
          -0.2531054498645837
         ]
        },
        {
         "customdata": [
          [
           16,
           "Presynaptic"
          ],
          [
           9,
           "Postsynaptic"
          ]
         ],
         "hovertemplate": "Edge=19<br>x=%{x}<br>y=%{y}<br>z=%{z}<br>Cell ID=%{customdata[0]}<br>Cell Role=%{customdata[1]}<extra></extra>",
         "legendgroup": "19",
         "line": {
          "color": "#FECB52",
          "dash": "solid"
         },
         "marker": {
          "symbol": "circle"
         },
         "mode": "markers+lines",
         "name": "19",
         "scene": "scene",
         "showlegend": true,
         "type": "scatter3d",
         "x": [
          -1.0513096307293446,
          -0.9252681825502833
         ],
         "y": [
          0.4020374777272392,
          0.35873689543937964
         ],
         "z": [
          0.7749011804281859,
          -0.2531054498645837
         ]
        },
        {
         "customdata": [
          [
           12,
           "Presynaptic"
          ],
          [
           10,
           "Postsynaptic"
          ]
         ],
         "hovertemplate": "Edge=20<br>x=%{x}<br>y=%{y}<br>z=%{z}<br>Cell ID=%{customdata[0]}<br>Cell Role=%{customdata[1]}<extra></extra>",
         "legendgroup": "20",
         "line": {
          "color": "#636efa",
          "dash": "solid"
         },
         "marker": {
          "symbol": "circle"
         },
         "mode": "markers+lines",
         "name": "20",
         "scene": "scene",
         "showlegend": true,
         "type": "scatter3d",
         "x": [
          -0.0751363301095326,
          -1.3410145402693892
         ],
         "y": [
          -0.5428897503183316,
          -0.7321811760621343
         ],
         "z": [
          0.5411343410279885,
          1.003832350008983
         ]
        },
        {
         "customdata": [
          [
           17,
           "Presynaptic"
          ],
          [
           11,
           "Postsynaptic"
          ]
         ],
         "hovertemplate": "Edge=21<br>x=%{x}<br>y=%{y}<br>z=%{z}<br>Cell ID=%{customdata[0]}<br>Cell Role=%{customdata[1]}<extra></extra>",
         "legendgroup": "21",
         "line": {
          "color": "#EF553B",
          "dash": "solid"
         },
         "marker": {
          "symbol": "circle"
         },
         "mode": "markers+lines",
         "name": "21",
         "scene": "scene",
         "showlegend": true,
         "type": "scatter3d",
         "x": [
          0.1993831055295999,
          -0.3349745817551237
         ],
         "y": [
          1.0889762672109884,
          1.9777061345836064
         ],
         "z": [
          -1.3617323949704054,
          -2.0776471580859472
         ]
        },
        {
         "customdata": [
          [
           5,
           "Presynaptic"
          ],
          [
           12,
           "Postsynaptic"
          ]
         ],
         "hovertemplate": "Edge=22<br>x=%{x}<br>y=%{y}<br>z=%{z}<br>Cell ID=%{customdata[0]}<br>Cell Role=%{customdata[1]}<extra></extra>",
         "legendgroup": "22",
         "line": {
          "color": "#00cc96",
          "dash": "solid"
         },
         "marker": {
          "symbol": "circle"
         },
         "mode": "markers+lines",
         "name": "22",
         "scene": "scene",
         "showlegend": true,
         "type": "scatter3d",
         "x": [
          -0.6063812871358667,
          -0.0751363301095326
         ],
         "y": [
          -0.510972117173853,
          -0.5428897503183316
         ],
         "z": [
          1.646575394326102,
          0.5411343410279885
         ]
        },
        {
         "customdata": [
          [
           3,
           "Presynaptic"
          ],
          [
           13,
           "Postsynaptic"
          ]
         ],
         "hovertemplate": "Edge=23<br>x=%{x}<br>y=%{y}<br>z=%{z}<br>Cell ID=%{customdata[0]}<br>Cell Role=%{customdata[1]}<extra></extra>",
         "legendgroup": "23",
         "line": {
          "color": "#ab63fa",
          "dash": "solid"
         },
         "marker": {
          "symbol": "circle"
         },
         "mode": "markers+lines",
         "name": "23",
         "scene": "scene",
         "showlegend": true,
         "type": "scatter3d",
         "x": [
          0.25623923704046186,
          -0.6013229952759578
         ],
         "y": [
          -1.2813775157468372,
          -0.6402793095956179
         ],
         "z": [
          -0.42264987030140805,
          -1.1152616824810921
         ]
        },
        {
         "customdata": [
          [
           0,
           "Presynaptic"
          ],
          [
           14,
           "Postsynaptic"
          ]
         ],
         "hovertemplate": "Edge=24<br>x=%{x}<br>y=%{y}<br>z=%{z}<br>Cell ID=%{customdata[0]}<br>Cell Role=%{customdata[1]}<extra></extra>",
         "legendgroup": "24",
         "line": {
          "color": "#FFA15A",
          "dash": "solid"
         },
         "marker": {
          "symbol": "circle"
         },
         "mode": "markers+lines",
         "name": "24",
         "scene": "scene",
         "showlegend": true,
         "type": "scatter3d",
         "x": [
          1.116538922783314,
          1.1049566046546149
         ],
         "y": [
          -0.6704576220273781,
          0.5388567622182813
         ],
         "z": [
          1.0615636696001989,
          0.6482811539664545
         ]
        },
        {
         "customdata": [
          [
           1,
           "Presynaptic"
          ],
          [
           15,
           "Postsynaptic"
          ]
         ],
         "hovertemplate": "Edge=25<br>x=%{x}<br>y=%{y}<br>z=%{z}<br>Cell ID=%{customdata[0]}<br>Cell Role=%{customdata[1]}<extra></extra>",
         "legendgroup": "25",
         "line": {
          "color": "#19d3f3",
          "dash": "solid"
         },
         "marker": {
          "symbol": "circle"
         },
         "mode": "markers+lines",
         "name": "25",
         "scene": "scene",
         "showlegend": true,
         "type": "scatter3d",
         "x": [
          -0.026857184105346633,
          -0.010142200407563532
         ],
         "y": [
          2.8493380592958624,
          1.813384445477962
         ],
         "z": [
          1.184170468058986,
          0.6377791676860094
         ]
        },
        {
         "customdata": [
          [
           10,
           "Presynaptic"
          ],
          [
           16,
           "Postsynaptic"
          ]
         ],
         "hovertemplate": "Edge=26<br>x=%{x}<br>y=%{y}<br>z=%{z}<br>Cell ID=%{customdata[0]}<br>Cell Role=%{customdata[1]}<extra></extra>",
         "legendgroup": "26",
         "line": {
          "color": "#FF6692",
          "dash": "solid"
         },
         "marker": {
          "symbol": "circle"
         },
         "mode": "markers+lines",
         "name": "26",
         "scene": "scene",
         "showlegend": true,
         "type": "scatter3d",
         "x": [
          -1.3410145402693892,
          -1.0513096307293446
         ],
         "y": [
          -0.7321811760621343,
          0.4020374777272392
         ],
         "z": [
          1.003832350008983,
          0.7749011804281859
         ]
        },
        {
         "customdata": [
          [
           2,
           "Presynaptic"
          ],
          [
           17,
           "Postsynaptic"
          ]
         ],
         "hovertemplate": "Edge=27<br>x=%{x}<br>y=%{y}<br>z=%{z}<br>Cell ID=%{customdata[0]}<br>Cell Role=%{customdata[1]}<extra></extra>",
         "legendgroup": "27",
         "line": {
          "color": "#B6E880",
          "dash": "solid"
         },
         "marker": {
          "symbol": "circle"
         },
         "mode": "markers+lines",
         "name": "27",
         "scene": "scene",
         "showlegend": true,
         "type": "scatter3d",
         "x": [
          -0.20293177507420698,
          0.1993831055295999
         ],
         "y": [
          0.06285989795495438,
          1.0889762672109884
         ],
         "z": [
          -2.034384490671368,
          -1.3617323949704054
         ]
        }
       ],
       "layout": {
        "legend": {
         "title": {
          "text": "Edge"
         },
         "tracegroupgap": 0
        },
        "scene": {
         "domain": {
          "x": [
           0,
           1
          ],
          "y": [
           0,
           1
          ]
         },
         "xaxis": {
          "title": {
           "text": "x"
          }
         },
         "yaxis": {
          "title": {
           "text": "y"
          }
         },
         "zaxis": {
          "title": {
           "text": "z"
          }
         }
        },
        "template": {
         "data": {
          "bar": [
           {
            "error_x": {
             "color": "#2a3f5f"
            },
            "error_y": {
             "color": "#2a3f5f"
            },
            "marker": {
             "line": {
              "color": "#E5ECF6",
              "width": 0.5
             },
             "pattern": {
              "fillmode": "overlay",
              "size": 10,
              "solidity": 0.2
             }
            },
            "type": "bar"
           }
          ],
          "barpolar": [
           {
            "marker": {
             "line": {
              "color": "#E5ECF6",
              "width": 0.5
             },
             "pattern": {
              "fillmode": "overlay",
              "size": 10,
              "solidity": 0.2
             }
            },
            "type": "barpolar"
           }
          ],
          "carpet": [
           {
            "aaxis": {
             "endlinecolor": "#2a3f5f",
             "gridcolor": "white",
             "linecolor": "white",
             "minorgridcolor": "white",
             "startlinecolor": "#2a3f5f"
            },
            "baxis": {
             "endlinecolor": "#2a3f5f",
             "gridcolor": "white",
             "linecolor": "white",
             "minorgridcolor": "white",
             "startlinecolor": "#2a3f5f"
            },
            "type": "carpet"
           }
          ],
          "choropleth": [
           {
            "colorbar": {
             "outlinewidth": 0,
             "ticks": ""
            },
            "type": "choropleth"
           }
          ],
          "contour": [
           {
            "colorbar": {
             "outlinewidth": 0,
             "ticks": ""
            },
            "colorscale": [
             [
              0,
              "#0d0887"
             ],
             [
              0.1111111111111111,
              "#46039f"
             ],
             [
              0.2222222222222222,
              "#7201a8"
             ],
             [
              0.3333333333333333,
              "#9c179e"
             ],
             [
              0.4444444444444444,
              "#bd3786"
             ],
             [
              0.5555555555555556,
              "#d8576b"
             ],
             [
              0.6666666666666666,
              "#ed7953"
             ],
             [
              0.7777777777777778,
              "#fb9f3a"
             ],
             [
              0.8888888888888888,
              "#fdca26"
             ],
             [
              1,
              "#f0f921"
             ]
            ],
            "type": "contour"
           }
          ],
          "contourcarpet": [
           {
            "colorbar": {
             "outlinewidth": 0,
             "ticks": ""
            },
            "type": "contourcarpet"
           }
          ],
          "heatmap": [
           {
            "colorbar": {
             "outlinewidth": 0,
             "ticks": ""
            },
            "colorscale": [
             [
              0,
              "#0d0887"
             ],
             [
              0.1111111111111111,
              "#46039f"
             ],
             [
              0.2222222222222222,
              "#7201a8"
             ],
             [
              0.3333333333333333,
              "#9c179e"
             ],
             [
              0.4444444444444444,
              "#bd3786"
             ],
             [
              0.5555555555555556,
              "#d8576b"
             ],
             [
              0.6666666666666666,
              "#ed7953"
             ],
             [
              0.7777777777777778,
              "#fb9f3a"
             ],
             [
              0.8888888888888888,
              "#fdca26"
             ],
             [
              1,
              "#f0f921"
             ]
            ],
            "type": "heatmap"
           }
          ],
          "heatmapgl": [
           {
            "colorbar": {
             "outlinewidth": 0,
             "ticks": ""
            },
            "colorscale": [
             [
              0,
              "#0d0887"
             ],
             [
              0.1111111111111111,
              "#46039f"
             ],
             [
              0.2222222222222222,
              "#7201a8"
             ],
             [
              0.3333333333333333,
              "#9c179e"
             ],
             [
              0.4444444444444444,
              "#bd3786"
             ],
             [
              0.5555555555555556,
              "#d8576b"
             ],
             [
              0.6666666666666666,
              "#ed7953"
             ],
             [
              0.7777777777777778,
              "#fb9f3a"
             ],
             [
              0.8888888888888888,
              "#fdca26"
             ],
             [
              1,
              "#f0f921"
             ]
            ],
            "type": "heatmapgl"
           }
          ],
          "histogram": [
           {
            "marker": {
             "pattern": {
              "fillmode": "overlay",
              "size": 10,
              "solidity": 0.2
             }
            },
            "type": "histogram"
           }
          ],
          "histogram2d": [
           {
            "colorbar": {
             "outlinewidth": 0,
             "ticks": ""
            },
            "colorscale": [
             [
              0,
              "#0d0887"
             ],
             [
              0.1111111111111111,
              "#46039f"
             ],
             [
              0.2222222222222222,
              "#7201a8"
             ],
             [
              0.3333333333333333,
              "#9c179e"
             ],
             [
              0.4444444444444444,
              "#bd3786"
             ],
             [
              0.5555555555555556,
              "#d8576b"
             ],
             [
              0.6666666666666666,
              "#ed7953"
             ],
             [
              0.7777777777777778,
              "#fb9f3a"
             ],
             [
              0.8888888888888888,
              "#fdca26"
             ],
             [
              1,
              "#f0f921"
             ]
            ],
            "type": "histogram2d"
           }
          ],
          "histogram2dcontour": [
           {
            "colorbar": {
             "outlinewidth": 0,
             "ticks": ""
            },
            "colorscale": [
             [
              0,
              "#0d0887"
             ],
             [
              0.1111111111111111,
              "#46039f"
             ],
             [
              0.2222222222222222,
              "#7201a8"
             ],
             [
              0.3333333333333333,
              "#9c179e"
             ],
             [
              0.4444444444444444,
              "#bd3786"
             ],
             [
              0.5555555555555556,
              "#d8576b"
             ],
             [
              0.6666666666666666,
              "#ed7953"
             ],
             [
              0.7777777777777778,
              "#fb9f3a"
             ],
             [
              0.8888888888888888,
              "#fdca26"
             ],
             [
              1,
              "#f0f921"
             ]
            ],
            "type": "histogram2dcontour"
           }
          ],
          "mesh3d": [
           {
            "colorbar": {
             "outlinewidth": 0,
             "ticks": ""
            },
            "type": "mesh3d"
           }
          ],
          "parcoords": [
           {
            "line": {
             "colorbar": {
              "outlinewidth": 0,
              "ticks": ""
             }
            },
            "type": "parcoords"
           }
          ],
          "pie": [
           {
            "automargin": true,
            "type": "pie"
           }
          ],
          "scatter": [
           {
            "fillpattern": {
             "fillmode": "overlay",
             "size": 10,
             "solidity": 0.2
            },
            "type": "scatter"
           }
          ],
          "scatter3d": [
           {
            "line": {
             "colorbar": {
              "outlinewidth": 0,
              "ticks": ""
             }
            },
            "marker": {
             "colorbar": {
              "outlinewidth": 0,
              "ticks": ""
             }
            },
            "type": "scatter3d"
           }
          ],
          "scattercarpet": [
           {
            "marker": {
             "colorbar": {
              "outlinewidth": 0,
              "ticks": ""
             }
            },
            "type": "scattercarpet"
           }
          ],
          "scattergeo": [
           {
            "marker": {
             "colorbar": {
              "outlinewidth": 0,
              "ticks": ""
             }
            },
            "type": "scattergeo"
           }
          ],
          "scattergl": [
           {
            "marker": {
             "colorbar": {
              "outlinewidth": 0,
              "ticks": ""
             }
            },
            "type": "scattergl"
           }
          ],
          "scattermapbox": [
           {
            "marker": {
             "colorbar": {
              "outlinewidth": 0,
              "ticks": ""
             }
            },
            "type": "scattermapbox"
           }
          ],
          "scatterpolar": [
           {
            "marker": {
             "colorbar": {
              "outlinewidth": 0,
              "ticks": ""
             }
            },
            "type": "scatterpolar"
           }
          ],
          "scatterpolargl": [
           {
            "marker": {
             "colorbar": {
              "outlinewidth": 0,
              "ticks": ""
             }
            },
            "type": "scatterpolargl"
           }
          ],
          "scatterternary": [
           {
            "marker": {
             "colorbar": {
              "outlinewidth": 0,
              "ticks": ""
             }
            },
            "type": "scatterternary"
           }
          ],
          "surface": [
           {
            "colorbar": {
             "outlinewidth": 0,
             "ticks": ""
            },
            "colorscale": [
             [
              0,
              "#0d0887"
             ],
             [
              0.1111111111111111,
              "#46039f"
             ],
             [
              0.2222222222222222,
              "#7201a8"
             ],
             [
              0.3333333333333333,
              "#9c179e"
             ],
             [
              0.4444444444444444,
              "#bd3786"
             ],
             [
              0.5555555555555556,
              "#d8576b"
             ],
             [
              0.6666666666666666,
              "#ed7953"
             ],
             [
              0.7777777777777778,
              "#fb9f3a"
             ],
             [
              0.8888888888888888,
              "#fdca26"
             ],
             [
              1,
              "#f0f921"
             ]
            ],
            "type": "surface"
           }
          ],
          "table": [
           {
            "cells": {
             "fill": {
              "color": "#EBF0F8"
             },
             "line": {
              "color": "white"
             }
            },
            "header": {
             "fill": {
              "color": "#C8D4E3"
             },
             "line": {
              "color": "white"
             }
            },
            "type": "table"
           }
          ]
         },
         "layout": {
          "annotationdefaults": {
           "arrowcolor": "#2a3f5f",
           "arrowhead": 0,
           "arrowwidth": 1
          },
          "autotypenumbers": "strict",
          "coloraxis": {
           "colorbar": {
            "outlinewidth": 0,
            "ticks": ""
           }
          },
          "colorscale": {
           "diverging": [
            [
             0,
             "#8e0152"
            ],
            [
             0.1,
             "#c51b7d"
            ],
            [
             0.2,
             "#de77ae"
            ],
            [
             0.3,
             "#f1b6da"
            ],
            [
             0.4,
             "#fde0ef"
            ],
            [
             0.5,
             "#f7f7f7"
            ],
            [
             0.6,
             "#e6f5d0"
            ],
            [
             0.7,
             "#b8e186"
            ],
            [
             0.8,
             "#7fbc41"
            ],
            [
             0.9,
             "#4d9221"
            ],
            [
             1,
             "#276419"
            ]
           ],
           "sequential": [
            [
             0,
             "#0d0887"
            ],
            [
             0.1111111111111111,
             "#46039f"
            ],
            [
             0.2222222222222222,
             "#7201a8"
            ],
            [
             0.3333333333333333,
             "#9c179e"
            ],
            [
             0.4444444444444444,
             "#bd3786"
            ],
            [
             0.5555555555555556,
             "#d8576b"
            ],
            [
             0.6666666666666666,
             "#ed7953"
            ],
            [
             0.7777777777777778,
             "#fb9f3a"
            ],
            [
             0.8888888888888888,
             "#fdca26"
            ],
            [
             1,
             "#f0f921"
            ]
           ],
           "sequentialminus": [
            [
             0,
             "#0d0887"
            ],
            [
             0.1111111111111111,
             "#46039f"
            ],
            [
             0.2222222222222222,
             "#7201a8"
            ],
            [
             0.3333333333333333,
             "#9c179e"
            ],
            [
             0.4444444444444444,
             "#bd3786"
            ],
            [
             0.5555555555555556,
             "#d8576b"
            ],
            [
             0.6666666666666666,
             "#ed7953"
            ],
            [
             0.7777777777777778,
             "#fb9f3a"
            ],
            [
             0.8888888888888888,
             "#fdca26"
            ],
            [
             1,
             "#f0f921"
            ]
           ]
          },
          "colorway": [
           "#636efa",
           "#EF553B",
           "#00cc96",
           "#ab63fa",
           "#FFA15A",
           "#19d3f3",
           "#FF6692",
           "#B6E880",
           "#FF97FF",
           "#FECB52"
          ],
          "font": {
           "color": "#2a3f5f"
          },
          "geo": {
           "bgcolor": "white",
           "lakecolor": "white",
           "landcolor": "#E5ECF6",
           "showlakes": true,
           "showland": true,
           "subunitcolor": "white"
          },
          "hoverlabel": {
           "align": "left"
          },
          "hovermode": "closest",
          "mapbox": {
           "style": "light"
          },
          "paper_bgcolor": "white",
          "plot_bgcolor": "#E5ECF6",
          "polar": {
           "angularaxis": {
            "gridcolor": "white",
            "linecolor": "white",
            "ticks": ""
           },
           "bgcolor": "#E5ECF6",
           "radialaxis": {
            "gridcolor": "white",
            "linecolor": "white",
            "ticks": ""
           }
          },
          "scene": {
           "xaxis": {
            "backgroundcolor": "#E5ECF6",
            "gridcolor": "white",
            "gridwidth": 2,
            "linecolor": "white",
            "showbackground": true,
            "ticks": "",
            "zerolinecolor": "white"
           },
           "yaxis": {
            "backgroundcolor": "#E5ECF6",
            "gridcolor": "white",
            "gridwidth": 2,
            "linecolor": "white",
            "showbackground": true,
            "ticks": "",
            "zerolinecolor": "white"
           },
           "zaxis": {
            "backgroundcolor": "#E5ECF6",
            "gridcolor": "white",
            "gridwidth": 2,
            "linecolor": "white",
            "showbackground": true,
            "ticks": "",
            "zerolinecolor": "white"
           }
          },
          "shapedefaults": {
           "line": {
            "color": "#2a3f5f"
           }
          },
          "ternary": {
           "aaxis": {
            "gridcolor": "white",
            "linecolor": "white",
            "ticks": ""
           },
           "baxis": {
            "gridcolor": "white",
            "linecolor": "white",
            "ticks": ""
           },
           "bgcolor": "#E5ECF6",
           "caxis": {
            "gridcolor": "white",
            "linecolor": "white",
            "ticks": ""
           }
          },
          "title": {
           "x": 0.05
          },
          "xaxis": {
           "automargin": true,
           "gridcolor": "white",
           "linecolor": "white",
           "ticks": "",
           "title": {
            "standoff": 15
           },
           "zerolinecolor": "white",
           "zerolinewidth": 2
          },
          "yaxis": {
           "automargin": true,
           "gridcolor": "white",
           "linecolor": "white",
           "ticks": "",
           "title": {
            "standoff": 15
           },
           "zerolinecolor": "white",
           "zerolinewidth": 2
          }
         }
        },
        "title": {
         "text": "Kamada Kawai 3D"
        }
       }
      }
     },
     "metadata": {},
     "output_type": "display_data"
    }
   ],
   "source": [
    "##### Setting Up the Tool\n",
    "\n",
    "#PROCEDURE 1: Determine candidate soma and branching node locations based on connectivity\n",
    "timeStart = time.time() #start time counter\n",
    "random.seed(0) #set the random seed to a constant seed for repeatability\n",
    "\n",
    "######\n",
    "'''\n",
    "USER SHOULD COMMENT IN THE APPROPRIATE NETWORK THEY WISH TO GENERATE A PATTERN FOR.\n",
    "IF THE USER WANTS TO MAKE THEIR OWN CONNECTIVITY LIST, THEY CAN DO IT IN A SIMILAR \n",
    "FORMAT AS 'edgeList' OR ('neuronNames' and 'cons') IN THESE EXAMPLES.\n",
    "\n",
    "The 'edgeList' is the list of connections, as pairs. MUST be only integers.\n",
    "The 'neuronNames' is a string list of words corresponding to names.\n",
    "The 'cons' is like 'edgeList', but uses the 'neuronNames' as the pairs, rather than integers.\n",
    "    'cons' will be converted to 'edgeList', since iGraph requires an input of a list of paired integers.\n",
    "'''\n",
    "\n",
    "'''\n",
    "# Half-Center Oscillator\n",
    "\n",
    "For more information: \n",
    "Marder, E., Bucher, D.: Central pattern generators and the con-\n",
    "trol of rhythmic movements. Current Biology 11(23), R986–\n",
    "R996 (11 2001). https://doi.org/10.1016/S0960-9822(01)00581-4\n",
    "'''\n",
    "\n",
    "# edgeList=[[0,1],\n",
    "#           [1,0]]\n",
    "# #         [2,1]]\n",
    "# saveFileName = \"half_center\"\n",
    "\n",
    "######\n",
    "\n",
    "###### \n",
    "'''\n",
    "Rat Hindlimb Motor Circuit\n",
    "#https://www.ncbi.nlm.nih.gov/pmc/articles/PMC6477610/\n",
    "\n",
    "Deng, K., Szczecinski, N.S., Arnold, D., Andrada, E., Fischer, M.S., Quinn,\n",
    "R.D., Hunt, A.J.: Neuromechanical Model of Rat Hindlimb Walking with\n",
    "Two-Layer CPGs. Biomimetics (Basel, Switzerland) 4(1), 21 (3 2019).\n",
    "https://doi.org/10.3390/biomimetics4010021\n",
    "'''\n",
    "\n",
    "# neuronNames = [\"ExtensorIN\",\n",
    "#                 \"FlexorIN\",\n",
    "#                 \"ExtensorHC\",\n",
    "#                 \"FlexorHC\",\n",
    "#                 \"ExtensorIaIN\",\n",
    "#                 \"FlexorIaIN\",\n",
    "#                 \"ExtensorMN\",\n",
    "#                 \"FlexorMN\",\n",
    "#                 \"ExtensorRE\",\n",
    "#                 \"FlexorRE\"]\n",
    "\n",
    "\n",
    "# con =  [[\"ExtensorIN\",\"FlexorHC\"], #B64 -> CBI2\n",
    "#         [\"ExtensorHC\",\"ExtensorIN\"],   #B4/B5 -> CBI3\n",
    "#         [\"FlexorIN\",\"ExtensorHC\"], #CBI2 -> B30/B40\n",
    "#         [\"FlexorHC\",\"FlexorIN\"], #CBI4 -> B30/B40\n",
    "#         [\"ExtensorHC\",\"ExtensorIaIN\"],  #B64 -> B4/B5\n",
    "#         [\"ExtensorHC\",\"ExtensorMN\"], #B31/B32 -> B30/B40\n",
    "#         [\"FlexorHC\",\"FlexorIaIN\"],   #B64 -> B30/B40\n",
    "#         [\"FlexorHC\",\"FlexorMN\"],   #B31/B32 -> B54\n",
    "#         [\"ExtensorIaIN\",\"FlexorIaIN\"],  #B31/32 -> B20\n",
    "#         [\"FlexorIaIN\",\"ExtensorIaIN\"],     #B64 -> B20\n",
    "#         [\"ExtensorIaIN\",\"FlexorMN\"],      #CBI3 -> B20\n",
    "#         [\"ExtensorRE\",\"ExtensorIaIN\"],      #CBI2 -> B20\n",
    "#         [\"FlexorIaIN\",\"ExtensorMN\"],      #CBI4 -> B20\n",
    "#         [\"FlexorRE\",\"FlexorIaIN\"],       #CBI3 -> B7\n",
    "#         [\"ExtensorMN\",\"ExtensorRE\"],    #B64 -> B6/B9 and B3\n",
    "#         [\"ExtensorRE\",\"ExtensorMN\"],     #B20 -> B8a/b\n",
    "#         [\"FlexorMN\",\"FlexorRE\"],    #B4/B5 -> B6/B9 and B3\n",
    "#         [\"FlexorRE\",\"FlexorMN\"],    #B30/B40 -> B8\n",
    "#         [\"FlexorRE\",\"ExtensorRE\"],      #B4/B5 -> B8\n",
    "#         [\"ExtensorRE\",\"FlexorRE\"]    #B31/B32 -> B8\n",
    "#         ]\n",
    "\n",
    "# edgeList = []\n",
    "# for cons in range(len(con)):\n",
    "#     pre = neuronNames.index(con[cons][0])\n",
    "#     post = neuronNames.index(con[cons][1])\n",
    "#     edgeList.append([pre,post])\n",
    "\n",
    "# saveFileName = \"ratMotor\"\n",
    "\n",
    "#######\n",
    "\n",
    "#######\n",
    "# User-designed 9-cell network\n",
    "\n",
    "# edgeList=[[0,1],\n",
    "#         [2,0],\n",
    "#         [3,0],\n",
    "#         [4,0],\n",
    "#         [5,0],\n",
    "#         [6,0],\n",
    "#         [1,2],\n",
    "#         [3,2],\n",
    "#         [7,4],\n",
    "#         [3,8]]\n",
    "\n",
    "# saveFileName = \"nineCell\"\n",
    "\n",
    "#######\n",
    "\n",
    "#######\n",
    "\n",
    "'''\n",
    "BASED ON WEBSTER-WOOD (2020) CONTROL FOR MULTIFUNCTIONALITY - FIG. 9\n",
    "\n",
    "Webster-Wood, V.A., Gill, J.P., Thomas, P.J., Chiel, H.J.: Control for multifunc-\n",
    "tionality: bioinspired control based on feeding in Aplysia californica. Biological Cy-\n",
    "bernetics 114(6), 557–588 (12 2020). https://doi.org/10.1007/s00422-020-00851-9\n",
    "'''\n",
    "\n",
    "neuronNames = [\"CBI-2\",\n",
    "                \"CBI-4\",\n",
    "                \"CBI-3\",\n",
    "                \"B4/B5\",\n",
    "                \"B30/B40\",\n",
    "                \"B64\",\n",
    "                \"B20\",\n",
    "                \"B7\",\n",
    "                \"B3/B6/B9\",\n",
    "                \"B8a/b\",\n",
    "                \"B31/B32\",\n",
    "                \"B38\"]\n",
    "\n",
    "\n",
    "con =  [[\"B64\",\"CBI-2\"], #B64 -> CBI2\n",
    "        [\"B4/B5\",\"CBI-3\"],   #B4/B5 -> CBI3\n",
    "        [\"CBI-2\",\"B30/B40\"], #CBI2 -> B30/B40\n",
    "        [\"CBI-4\",\"B30/B40\"], #CBI4 -> B30/B40\n",
    "        [\"B64\",\"B4/B5\"],  #B64 -> B4/B5\n",
    "        [\"B31/B32\",\"B30/B40\"], #B31/B32 -> B30/B40\n",
    "        [\"B64\",\"B30/B40\"],   #B64 -> B30/B40\n",
    "        [\"B31/B32\",\"B64\"],   #B31/B32 -> B54\n",
    "        [\"B31/B32\", \"B20\"],  #B31/32 -> B20\n",
    "        [\"B64\",\"B20\"],     #B64 -> B20\n",
    "        [\"CBI-3\",\"B20\"],      #CBI3 -> B20\n",
    "        [\"CBI-2\",\"B20\"],      #CBI2 -> B20\n",
    "        [\"CBI-4\",\"B20\"],      #CBI4 -> B20\n",
    "        [\"CBI-3\",\"B7\"],       #CBI3 -> B7\n",
    "        [\"B64\",\"B3/B6/B9\"],    #B64 -> B6/B9 and B3\n",
    "        [\"B20\", \"B8a/b\"],     #B20 -> B8a/b\n",
    "        [\"B4/B5\",\"B3/B6/B9\"],    #B4/B5 -> B6/B9 and B3\n",
    "        [\"B30/B40\",\"B8a/b\"],    #B30/B40 -> B8\n",
    "        [\"B4/B5\",\"B8a/b\"],      #B4/B5 -> B8\n",
    "        [\"B31/B32\",\"B8a/b\"],    #B31/B32 -> B8\n",
    "        [\"B64\",\"B31/B32\"],   #B64 -> B31/B32\n",
    "        [\"CBI-3\",\"B38\"]       #CBI3 -> B38\n",
    "        ]\n",
    "\n",
    "edgeList = []\n",
    "for cons in range(len(con)):\n",
    "    pre = neuronNames.index(con[cons][0])\n",
    "    post = neuronNames.index(con[cons][1])\n",
    "    edgeList.append([pre,post])\n",
    "\n",
    "saveFileName = \"boolean\"\n",
    "\n",
    "################\n",
    "\n",
    "\n",
    "allPreCells = [preC[0] for preC in edgeList] #all the pre-synaptic cells in the list\n",
    "preCellCounter = collections.Counter(allPreCells) #count how many repeats of the same pre-synaptic cell (multiple axonal outputs)\n",
    "multiAxonPre = {k:v for (k,v) in preCellCounter.items() if v > 1} #list of all the pre-synaptic cells with multiple axonal outputs\n",
    "multiAxonPreCellID = list(multiAxonPre) #list version\n",
    "\n",
    "#initial cell ID value for the first branching node or \"false cell\"\n",
    "#this value is the next largest cell ID number\n",
    "fcVal = max([element for innerList in edgeList for element in innerList])+1\n",
    "falseCells = [] #preallocate an empty array to record all the false cells or branching nodes\n",
    "\n",
    "#add additional connection pairs based on branching nodes needed\n",
    "for fcInsert in range(len(multiAxonPreCellID)):\n",
    "    falseCells.append(fcVal)\n",
    "    multiAxonCellTemp = multiAxonPreCellID[fcInsert]\n",
    "    idxMultiAxon = [i for i, x in enumerate(allPreCells) if x == multiAxonCellTemp]\n",
    "    for fc in range(len(idxMultiAxon)):\n",
    "        edgeList[idxMultiAxon[fc]][0] = fcVal\n",
    "        \n",
    "    edgeList.append([multiAxonCellTemp,fcVal])\n",
    "    fcVal = fcVal + 1\n",
    "\n",
    "numCells = np.max(edgeList)+1 #number of cells & branching nodes\n",
    "numEdges = len(edgeList) #number of connections or edges\n",
    "\n",
    "\n",
    "#Create an iGraph Graph based on the connections list\n",
    "g = ig.Graph(edges=edgeList)\n",
    "\n",
    "#add an attribute to the graph based on whether the cell ID is for a real cell ('True') or a branching node ('False')\n",
    "g.vs[\"isCell\"] = True\n",
    "for i in range(len(falseCells)):\n",
    "    g.vs[falseCells[i]][\"isCell\"] = False\n",
    "\n",
    "#generate the somas/branching node placements based on either the Kamada-Kawai ('kk') or Fruchterman-Reingold ('fr') algorithms\n",
    "    #Kamada-Kawai\n",
    "fig_kk,ax_kk = plt.subplots()\n",
    "ax_kk.set_aspect(\"equal\")\n",
    "l_kk = g.layout_kamada_kawai()\n",
    "ig.plot(g,layout=l_kk,target=ax_kk,axes=False,vertex_label=g.vs.indices)\n",
    "lcoord_kk = l_kk.coords\n",
    "plt.title('Kamada Kawai')\n",
    "plt.show()\n",
    "\n",
    "    #Fruchterman-Reingold\n",
    "fig_fr,ax_fr = plt.subplots()\n",
    "ax_fr.set_aspect(\"equal\")\n",
    "l_fr=g.layout_fruchterman_reingold()\n",
    "ig.plot(g,layout=l_fr,target=ax_fr,axes=True,vertex_label=g.vs.indices)\n",
    "lcoord_fr = l_fr.coords\n",
    "plt.title('Fruchterman Reingold')\n",
    "plt.show()\n",
    "\n",
    "    #Kamada-Kawai 3D (Work in progress)\n",
    "\n",
    "l_kk3 = g.layout_kamada_kawai(dim=3)\n",
    "lcoord_kk3 = l_kk3.coords\n",
    "previousCellRole = 'Postsynaptic'\n",
    "for i in range(len(edgeList)*2):\n",
    "    if previousCellRole == 'Postsynaptic':\n",
    "        currentCellRole = 'Presynaptic'\n",
    "        cellIdx = 0\n",
    "    else:\n",
    "        currentCellRole = 'Postsynaptic'\n",
    "        cellIdx = 1\n",
    "    previousCellRole = currentCellRole\n",
    "    cellID = cellID = edgeList[int(np.floor(i/2))][cellIdx]\n",
    "    \n",
    "    if i == 0:\n",
    "        edgeList_dictDetails = {'Edge': [int(np.floor(i/2))],\n",
    "                                'Cell Role': [currentCellRole],\n",
    "                                'Cell ID': [cellID],\n",
    "                                'x': [lcoord_kk3[cellID][0]],\n",
    "                                'y': [lcoord_kk3[cellID][1]],\n",
    "                                'z': [lcoord_kk3[cellID][2]]}\n",
    "    else:\n",
    "        edgeList_dictDetails['Edge'].append(int(np.floor(i/2)))\n",
    "        edgeList_dictDetails['Cell Role'].append(currentCellRole)\n",
    "        edgeList_dictDetails['Cell ID'].append(cellID)\n",
    "        edgeList_dictDetails['x'].append(lcoord_kk3[cellID][0])\n",
    "        edgeList_dictDetails['y'].append(lcoord_kk3[cellID][1])\n",
    "        edgeList_dictDetails['z'].append(lcoord_kk3[cellID][2])\n",
    "\n",
    "edgeList_dfDetails = pd.DataFrame(edgeList_dictDetails)\n",
    "\n",
    "fig_kk3 = px.line_3d(edgeList_dfDetails, x=\"x\", y=\"y\", z=\"z\", color='Edge', hover_data=[\"Cell ID\",\"Cell Role\"],markers=True,title=\"Kamada Kawai 3D\")\n",
    "fig_kk3.show()\n",
    "\n",
    "\n",
    "\n",
    "time_graphPreUser = time.time() #end timer for Procedure 1\n",
    "time_procedure1 = time_graphPreUser - timeStart #duration for Procedure 1"
   ]
  },
  {
   "cell_type": "markdown",
   "metadata": {},
   "source": [
    "GANGLIA User Input (In Between Procedures) (Non-GUI Version)"
   ]
  },
  {
   "cell_type": "code",
   "execution_count": 3,
   "metadata": {},
   "outputs": [
    {
     "name": "stdout",
     "output_type": "stream",
     "text": [
      "Please select the graph drawing algorithm you wish to continue with.\n",
      "Kamada-Kawai was selected.\n"
     ]
    }
   ],
   "source": [
    "#USER INPUT\n",
    "#Here is where the user is prompted to select which set of soma/branching node placements\n",
    "#that the user wishes to use for the pattern generation\n",
    "print(\"Please select the graph drawing algorithm you wish to continue with.\")\n",
    "graphDrawingUserChoice = input(\"For Kamada-Kawai, enter 'kk'. For Fruchterman-Reingold, enter 'fr': \")\n",
    "whileLoopSignal = 0\n",
    "\n",
    "while whileLoopSignal == 0:\n",
    "    if graphDrawingUserChoice == \"kk\":\n",
    "        whileLoopSignal = 1\n",
    "        print(\"Kamada-Kawai was selected.\")\n",
    "        \n",
    "        lcoord = lcoord_kk\n",
    "        \n",
    "    elif graphDrawingUserChoice == \"fr\":\n",
    "        whileLoopSignal = 2\n",
    "        print(\"Fruchterman-Reingold was selected.\")\n",
    "        \n",
    "        lcoord = lcoord_fr\n",
    "        \n",
    "    else:\n",
    "        print(\"Your input was invalid. Please select an appropriate option.\")\n",
    "        print(\"Please select the graph drawing algorithm you wish to continue with.\")\n",
    "        graphDrawingUserChoice = input(\"For Kamada-Kawai, enter 'kk'. For Fruchterman-Reingold, enter 'fr': \")\n",
    "        \n",
    "    \n",
    "saveFileName = saveFileName + \"_\" + graphDrawingUserChoice #update the save file name to include with kk or fr"
   ]
  },
  {
   "cell_type": "markdown",
   "metadata": {},
   "source": [
    "GANGLIA Procedure 2 (Non-GUI Version)"
   ]
  },
  {
   "cell_type": "code",
   "execution_count": 4,
   "metadata": {},
   "outputs": [
    {
     "name": "stdout",
     "output_type": "stream",
     "text": [
      "[12, 0] and [16, 5] intersect.\n",
      "[12, 0] and [10, 16] intersect.\n",
      "[15, 4] and [14, 6] intersect.\n",
      "[12, 4] and [16, 6] intersect.\n",
      "[12, 4] and [16, 9] intersect.\n",
      "[16, 6] and [4, 9] intersect.\n",
      "[12, 6] and [4, 9] intersect.\n",
      "[12, 6] and [16, 9] intersect.\n",
      "[5, 12] and [10, 16] intersect.\n",
      "Total number of intersections: 9\n",
      "No dendrites need to be added for cell ID: 4\n",
      "No dendrites need to be added for cell ID: 6\n",
      "No dendrites need to be added for cell ID: 9\n",
      "The cell 12 is a false cell. No soma or extra dendrites will be added.\n",
      "The cell 13 is a false cell. No soma or extra dendrites will be added.\n",
      "The cell 14 is a false cell. No soma or extra dendrites will be added.\n",
      "The cell 15 is a false cell. No soma or extra dendrites will be added.\n",
      "The cell 16 is a false cell. No soma or extra dendrites will be added.\n",
      "The cell 17 is a false cell. No soma or extra dendrites will be added.\n",
      "Time Elapsed for Procedure 1 (s): 1.0483813285827637\n",
      "Time Elapsed for Procedure 2 (s): 5.819784164428711\n",
      "Time Elapsed Total (s): 6.868165493011475\n",
      "IGRAPH U--- 18 28 --\n",
      "+ attr: isCell (v)\n",
      "+ edges:\n",
      "0--12 2--13 4--14 4--15 3--12 4--16 4--12 5--16 6--16 6--12 6--17 6--14 6--15\n",
      "7--17 8--12 6--9 8--13 4--9 9--13 9--16 10--12 11--17 5--12 3--13 0--14 1--15\n",
      "10--16 2--17\n"
     ]
    },
    {
     "data": {
      "application/javascript": "\n\nfunction render(data, parent_element, ratio){\n    \n    // Initial setup\n    const renderWindow = vtk.Rendering.Core.vtkRenderWindow.newInstance();\n    const renderer = vtk.Rendering.Core.vtkRenderer.newInstance({ background: [1, 1, 1 ] });\n    renderWindow.addRenderer(renderer);\n        \n    // iterate over all children children\n    for (var el of data){ \n        var trans = el.position;\n        var rot = el.orientation;\n        var rgba = el.color;\n        var shape = el.shape;\n        \n        // load the inline data\n        var reader = vtk.IO.XML.vtkXMLPolyDataReader.newInstance();\n        const textEncoder = new TextEncoder();\n        reader.parseAsArrayBuffer(textEncoder.encode(shape));\n\n        // setup actor,mapper and add\n        const mapper = vtk.Rendering.Core.vtkMapper.newInstance();\n        mapper.setInputConnection(reader.getOutputPort());\n        mapper.setResolveCoincidentTopologyToPolygonOffset();\n        mapper.setResolveCoincidentTopologyPolygonOffsetParameters(0.9,20);\n\n        const actor = vtk.Rendering.Core.vtkActor.newInstance();\n        actor.setMapper(mapper);\n\n        // set color and position\n        actor.getProperty().setColor(rgba.slice(0,3));\n        actor.getProperty().setOpacity(rgba[3]);\n        \n        actor.rotateZ(rot[2]*180/Math.PI);\n        actor.rotateY(rot[1]*180/Math.PI);\n        actor.rotateX(rot[0]*180/Math.PI);\n        \n        actor.setPosition(trans);\n\n        renderer.addActor(actor);\n\n    };\n    \n    renderer.resetCamera();\n    \n    const openglRenderWindow = vtk.Rendering.OpenGL.vtkRenderWindow.newInstance();\n    renderWindow.addView(openglRenderWindow);\n\n    // Add output to the \"parent element\"\n    var container;\n    var dims;\n    \n    if(typeof(parent_element.appendChild) !== \"undefined\"){\n        container = document.createElement(\"div\");\n        parent_element.appendChild(container);\n        dims = parent_element.getBoundingClientRect();\n    }else{\n        container = parent_element.append(\"<div/>\").children(\"div:last-child\").get(0);\n        dims = parent_element.get(0).getBoundingClientRect();\n    };\n\n    openglRenderWindow.setContainer(container);\n    \n    // handle size\n    if (ratio){\n        openglRenderWindow.setSize(dims.width, dims.width*ratio);\n    }else{\n        openglRenderWindow.setSize(dims.width, dims.height);\n    };\n    \n    // Interaction setup\n    const interact_style = vtk.Interaction.Style.vtkInteractorStyleManipulator.newInstance();\n\n    const manips = {\n        rot: vtk.Interaction.Manipulators.vtkMouseCameraTrackballRotateManipulator.newInstance(),\n        pan: vtk.Interaction.Manipulators.vtkMouseCameraTrackballPanManipulator.newInstance(),\n        zoom1: vtk.Interaction.Manipulators.vtkMouseCameraTrackballZoomManipulator.newInstance(),\n        zoom2: vtk.Interaction.Manipulators.vtkMouseCameraTrackballZoomManipulator.newInstance(),\n        roll: vtk.Interaction.Manipulators.vtkMouseCameraTrackballRollManipulator.newInstance(),\n    };\n\n    manips.zoom1.setControl(true);\n    manips.zoom2.setScrollEnabled(true);\n    manips.roll.setShift(true);\n    manips.pan.setButton(2);\n\n    for (var k in manips){\n        interact_style.addMouseManipulator(manips[k]);\n    };\n\n    const interactor = vtk.Rendering.Core.vtkRenderWindowInteractor.newInstance();\n    interactor.setView(openglRenderWindow);\n    interactor.initialize();\n    interactor.bindEvents(container);\n    interactor.setInteractorStyle(interact_style);\n\n    // Orientation marker\n\n    const axes = vtk.Rendering.Core.vtkAnnotatedCubeActor.newInstance();\n    axes.setXPlusFaceProperty({text: '+X'});\n    axes.setXMinusFaceProperty({text: '-X'});\n    axes.setYPlusFaceProperty({text: '+Y'});\n    axes.setYMinusFaceProperty({text: '-Y'});\n    axes.setZPlusFaceProperty({text: '+Z'});\n    axes.setZMinusFaceProperty({text: '-Z'});\n\n    const orientationWidget = vtk.Interaction.Widgets.vtkOrientationMarkerWidget.newInstance({\n        actor: axes,\n        interactor: interactor });\n    orientationWidget.setEnabled(true);\n    orientationWidget.setViewportCorner(vtk.Interaction.Widgets.vtkOrientationMarkerWidget.Corners.BOTTOM_LEFT);\n    orientationWidget.setViewportSize(0.2);\n\n};\n\n\nnew Promise(\n  function(resolve, reject)\n  {\n    if (typeof(require) !== \"undefined\" ){\n        require.config({\n         \"paths\": {\"vtk\": \"https://unpkg.com/vtk\"},\n        });\n        require([\"vtk\"], resolve, reject);\n    } else if ( typeof(vtk) === \"undefined\" ){\n        var script = document.createElement(\"script\");\n    \tscript.onload = resolve;\n    \tscript.onerror = reject;\n    \tscript.src = \"https://unpkg.com/vtk.js\";\n    \tdocument.head.appendChild(script);\n    } else { resolve() };\n }\n).then(() => {\n    var parent_element = element;\n    var data = [{\"shape\": \"<?xml version=\\\"1.0\\\"?>\\n<VTKFile type=\\\"PolyData\\\" version=\\\"0.1\\\" byte_order=\\\"LittleEndian\\\" header_type=\\\"UInt32\\\" compressor=\\\"vtkZLibDataCompressor\\\">\\n  <PolyData>\\n    <Piece NumberOfPoints=\\\"18350\\\"                NumberOfVerts=\\\"590\\\"                  NumberOfLines=\\\"9063\\\"                 NumberOfStrips=\\\"0\\\"                    NumberOfPolys=\\\"5528\\\"                >\\n      <PointData Normals=\\\"Normals\\\">\\n        <DataArray type=\\\"Float32\\\" Name=\\\"Normals\\\" NumberOfComponents=\\\"3\\\" format=\\\"appended\\\" RangeMin=\\\"0\\\"                    RangeMax=\\\"1.0000000975\\\"         offset=\\\"0\\\"                   />\\n      </PointData>\\n      <CellData Normals=\\\"Normals\\\">\\n        <DataArray type=\\\"Int64\\\" IdType=\\\"1\\\" Name=\\\"SUBSHAPE_IDS\\\" format=\\\"appended\\\" RangeMin=\\\"5\\\"                    RangeMax=\\\"2070\\\"                 offset=\\\"27180\\\"               />\\n        <DataArray type=\\\"Int64\\\" IdType=\\\"1\\\" Name=\\\"MESH_TYPES\\\" format=\\\"appended\\\" RangeMin=\\\"2\\\"                    RangeMax=\\\"7\\\"                    offset=\\\"32684\\\"               />\\n        <DataArray type=\\\"Float32\\\" Name=\\\"Normals\\\" NumberOfComponents=\\\"3\\\" format=\\\"appended\\\" RangeMin=\\\"0.99999996138\\\"        RangeMax=\\\"1.0000000398\\\"         offset=\\\"33112\\\"               />\\n      </CellData>\\n      <Points>\\n        <DataArray type=\\\"Float32\\\" Name=\\\"Points\\\" NumberOfComponents=\\\"3\\\" format=\\\"appended\\\" RangeMin=\\\"12.01268721\\\"          RangeMax=\\\"490.52940606\\\"         offset=\\\"51292\\\"               />\\n      </Points>\\n      <Verts>\\n        <DataArray type=\\\"Int64\\\" Name=\\\"connectivity\\\" format=\\\"appended\\\" RangeMin=\\\"\\\"                     RangeMax=\\\"\\\"                     offset=\\\"179368\\\"              />\\n        <DataArray type=\\\"Int64\\\" Name=\\\"offsets\\\" format=\\\"appended\\\" RangeMin=\\\"\\\"                     RangeMax=\\\"\\\"                     offset=\\\"180640\\\"              />\\n      </Verts>\\n      <Lines>\\n        <DataArray type=\\\"Int64\\\" Name=\\\"connectivity\\\" format=\\\"appended\\\" RangeMin=\\\"\\\"                     RangeMax=\\\"\\\"                     offset=\\\"181904\\\"              />\\n        <DataArray type=\\\"Int64\\\" Name=\\\"offsets\\\" format=\\\"appended\\\" RangeMin=\\\"\\\"                     RangeMax=\\\"\\\"                     offset=\\\"208868\\\"              />\\n      </Lines>\\n      <Strips>\\n        <DataArray type=\\\"Int64\\\" Name=\\\"connectivity\\\" format=\\\"appended\\\" RangeMin=\\\"\\\"                     RangeMax=\\\"\\\"                     offset=\\\"226068\\\"              />\\n        <DataArray type=\\\"Int64\\\" Name=\\\"offsets\\\" format=\\\"appended\\\" RangeMin=\\\"\\\"                     RangeMax=\\\"\\\"                     offset=\\\"226084\\\"              />\\n      </Strips>\\n      <Polys>\\n        <DataArray type=\\\"Int64\\\" Name=\\\"connectivity\\\" format=\\\"appended\\\" RangeMin=\\\"\\\"                     RangeMax=\\\"\\\"                     offset=\\\"226100\\\"              />\\n        <DataArray type=\\\"Int64\\\" Name=\\\"offsets\\\" format=\\\"appended\\\" RangeMin=\\\"\\\"                     RangeMax=\\\"\\\"                     offset=\\\"256232\\\"              />\\n      </Polys>\\n    </Piece>\\n  </PolyData>\\n  <AppendedData encoding=\\\"base64\\\">\\n   _BwAAAACAAAAoXAAANAAAADQAAAA0AAAANAAAACwCAADRQgAAqAkAAA==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BAAAAACAAABoWgAAxwkAAFoCAADcAQAAAwIAAA==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BAAAAACAAABoWgAATgAAAEoAAABOAAAAPQAAAA==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BwAAAACAAAAoXAAAGjoAABQ5AACbNAAA6CsAANs7AAB+OAAAAy8AAA==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AQAAAACAAABwEgAApgMAAA==eJw118MWGAYARcHYtm3btm3btm3btm3btpM2ttFGXXTyNvMJ79wAAf5fQAZiYAZhUAZjcIZgSIZiaIZhWIZjeEZgREZiZEZhVEZjdMZgTMZibMZhXMZjfCZgQiZiYiZhUiZjcqZgSqZiaqZhWqZjemZgRmZiZmZhVmZjduZgTuZibuZhXuZjfhZgQRZiYRZhURZjcZZgSZZiaZZhWZZjeVZgRVZiZVZhVVZjddZgTdZibdZhXdZjfTZgQzZiYzZhUzZjc7ZgS7Zia7ZhW7Zje3ZgR3ZiZ3ZhV3Zjd/ZgT/Zib/ZhX/Zjfw7gQA7iYA7hUA7jcI7gSI7iaI7hWI7jeE7gRE7iZE7hVE7jdM7gTM7ibM7hXM7jfC7gQi7iYi7hUi7jcq7gSq7iaq7hWq7jem7gRm7iZm7hVm7jdu7gTu7ibu7hXu7jfh7gQR7iYR7hUR7jcZ7gSZ7iaZ7hWZ7jeV7gRV7iZV7hVV7jdd7gTd7ibd7hXd7jfT7gX/ybD/mIj/mET/mMz/mCL/mKr/mGb/mO7/mBH/mJn/mFX/mN//BffucP/uQv/uaf4w/IQAzMIAzKYAzOEAzJUAzNMAzLcAzPCIzISIzMKIzKaIzOGIzJWIzNOIzLeIzPBEzIREzMJEzKZEzOFEzJVEzNNEzLdEzPDMzITMzMLMzKbMzOHMzJXMzNPMzLfMzPAizIQizMIizKYizOEizJUizNMizLcizPCqzISqzMKqzKaqzOGqzJWqzNOqzLeqzPBmzIRmzMJmzKZmzOFmzJVmzNNmzLdmzPDuzITuzMLuzKbuzOHuzJXuzNPuzLfuzPARzIQRzMIRzKYRzOERzJURzNMRzLcRzPCZzISZzMKZzKaZzOGZzJWZzNOZzLeZzPBVzIRVzMJVzKZVzOFVzJVVzNNVzLdVzPDdzITdzMLdzKbdzOHdzJXdzNPdzLfdzPAzzIQzzMIzzKYzzOEzzJUzzNMzzLczzPC7zIS7zMK7zKa7zOG7zJW7zNO7zLe7zPB/yLf/MhH/Exn/Apn/E5X/AlX/E13/At3/E9P/AjP/Ezv/Arv/Ef/svv/MGf/MXf/BP8ARmIgRmEQRmMwRmCIRmKoRmGYRmO4RmBERmJkRmFURmN0RmDMRmLsRmHcRmP8ZmACZmIiZmESZmMyZmCKZmKqZmGaZmO6ZmBGZmJmZmFWZmN2ZmDOZmLuZmHeZmP+VmABVmIhVmERVmMxVmCJVmKpVmGZfkfrccMZw==AQAAAACAAABwEgAAogMAAA==eJw110MCGAYAAMHYtm3btm3bNhvbZhvbtm3btu0eOt3LvGEDBvivQAzMIAzKYAzOEAzJUAzNMAzLcAzPCIzISIzMKIzKaIzOGIzJWIzNOIzLeIzPBEzIREzMJEzKZEzOFEzJVEzNNEzLdEzPDMzITMzMLMzKbMzOHMzJXMzNPMzLfMzPAizIQizMIizKYizOEizJUizNMizLcizPCqzISqzMKqzKaqzOGqzJWqzNOqzLeqzPBmzIRmzMJmzKZmzOFmzJVmzNNmzLdmzPDuzITuzMLuzKbuzOHuzJXuzNPuzLv9iP/TmAAzmIgzmEQzmMwzmCIzmKozmGYzmO4zmBEzmJkzmFUzmN0zmDMzmLs/k3/+EczuU8zucCLuQiLuYSLuUyLucKruQqruYaruU6rucGbuQmbuYWbuU2bucO7uQu7uYe7uU+7ucBHuQhHuYRHuUxHucJnuQpnuYZnuU5nucFXuQlXuYVXuU1XucN3uQt3uYd3uU93ucDPuQjPuYTPuUzPucLvuQrvuYbvuU7vucHfuQnfuYXfuU3fucP/uQv/uYfBggIBmJgBmFQBmNwhmBIhmJohmFYhmN4RmBERmJkRmFURmN0xmBMxmJsxmFcxmN8JmBCJmJiJmFSJmNypmBKpmJqpmFapmN6ZmBGZmJmZmFWZmN25mBO5mJu5mFe5mN+FmBBFmJhFmFRFmNxlmBJlmJplmFZlmN5VmBFVmJlVmFVVmN11mBN1mJt1mFd1mN9NmBDNmJjNmFTNmNztmBLtmJrtmFbtmN7dmBHdmJndmFXdmN39mBP9mJv9mFf/sV+7M8BHMhBHMwhHMphHM4RHMlRHM0xHMtxHM8JnMhJnMwpnMppnM4ZnMlZnM2/+Q/ncC7ncT4XcCEXcTGXcCmXcTlXcCVXcTXXcC3XcT03cCM3cTO3cCu3cTt3cCd3cTf3cC/3cT8P8CAP8TCP8CiP8ThP8CRP8TTP8CzP8Twv8CIv8TKv8Cqv8Tpv8CZv8Tbv8C7v8T4f8CEf8TGf8Cmf8Tlf8CVf8TXf8C3f8T0/8CM/8TO/8Cu/8Tt/8Cd/8Tf/8P/hD8hADMwgDMpgDM4QDMlQDM0wDMtwDM8IjMhIjMwojMpojM4YjMlYjM04jMt4jM8ETMhETMwkTMpkTM4UTMlUTM00TMt0TM8MzMhMzMwszMpszM4czMlczM08zMt8zM8CLMhCLMwiLMpiLM4SLMlSLM0yLMty/BcThAy3BQAAAACAAABwNgAAwRAAAPERAAB6EQAAbRIAAEMIAAA=eJxdxUMQIAiCAMG2bdu2bdu2bdu2bdu2bds2Z7ov4rY+U/nJcoEC/L/yXIErciWurKvoqrqarq5r6Jq6lq6t6+i6up6urxvohrqRbqyb6Ka6mW6uW+iWupVurdtwW27H7bkDd+RO3Jm7cFfuprvrHrqn7qV76z66r+6n++sBeqAepAfrIXqoHqaH6xF6pB6lR+sxeiyP4/E8gSfyJJ7MU3iqnqan6xl6pp6lZ+s5eq6ep+frBXqhXqQX6yV6qV6ml+sVeqVepVfrNbyW1/F63sAbeRNv5i16q96mt+sdeqfepXfrPXqv3qf36wP6oD6kD+sj+qg+po/rE/qkPqVP8xk+y+f4PF/gi3yJL+sr+qq+pq/rG/qmvqVv6zv6rr6n7+sH+qF+pB/rJ/qpfqaf6xf6pX7Fr/kNv+V3/J4/8Ef+xJ/5C3/lb/ydf/BP/qV/63/0v/qP/qsDBP7vAXUgHVgH0UF1MB1ch9AhdSgdWofRYXU4HV5H0BE5EkfmKByVo3F0jsExdSwdW8fRcXU8HV8n0Al1Ip1YJ9FJdTKdXKfQKXUqnVqn0Wl1Op1eZ+CMnIkzcxbOytk4O+fQOXUunVvn0Xl1Pp1fF9AFdSFdWBfRRXUxXVyX0CV1KV1al9FldTldnitwRa7ElbkKV9XVdHVdQ9fUtXRtXUfX1fV0fd1AN9SNdGPdRDfVzXRz3UK31K10a91Gt9XtdHvdQXfUnXRn3YW7cjfuzj24J/fi3txH99X9dH89QA/Ug/RgPUQP1cP0cD1Cj9Sj9Gg9Ro/V4/R4PUFP1JP0ZD1FT9XT9HQ9Q8/Us/RsnsNzeR7P5wW8kBfxYr1EL9XL9HK9Qq/Uq/RqvUav1ev0er1Bb9Sb9Ga9RW/V2/R2vUPv1Lv0br1H79X79H59QB/Uh/gwH+GjfIyP8wl9Up/Sp/UZfVaf0+f1BX1RX9KX9RV9VV/T1/UNfVPf0rf1HX1X39P39QP9UD/Sj/UT/VQ/08/5Bb/kV/ya3/Bbfsfv9Qf9UX/Sn/UX/VV/09/1D/1T/9K/9T/6X/1H/9UBgvz3gDqQDqyD6KA6mA6uQ+iQOpQOrcPosDoch+cIHJEjcWSOwlE5mo6uY+iYOpaOrePouDqejq8T6IQ6kU6sk+ikOplOrlPolDqVTq3T6LQ6nU6vM+iMOpPOrLPorJyNs3MOzsm5OLfOo/PqfDq/LqAL6kK6sC6ii+piurguoUvqUrq0LqPL6nK6vK6gK+pKXJmrcFWuxtW5BtfkWrq2rqPr6nq6vm6gG+pGurFuopvqZrq5bqFb6la6tW6j2+p2ur3uoDtyJ+7MXbgrd+Pu3IN76l66t+6j++p+ur8eoAfqQXqwHqKH6mF6uB6hR/IoHs1jeCyP4/F6gp6oJ+nJeoqeqqfp6XqGnqln6dl6jp6r5+n5eoFeqBfpxXoJL+VlvJxX8Epexat5jV6r1+n1eoPeqDfpzXqL3qq36e16h96pd+ndeo/eq/fp/foAH+RDfJiP8FE+xsf5BJ/kU/q0PqPP6nP6vL6gL+pL+rK+oq/qa/q6vqFv6lv6tr6j7+p7+j4/4If8iB/zE37Kz/i5fqFf6lf6tX6j3+p3+r3+oD/qT/qz/qK/6m/6u/6hf+pf+rf+h//lP/yXAwT9XwE5EAfmIDqoDqaD6xA6pA6lQ+swOqwOp8PrCDqijqQj6yg6qo6mo+sYOibH4tgch+NyPI6vE+iEOpFOrJPopDqZTq5T6JQ6lU6t0+i0Op1OrzPojDqTzqyz6Kw6G2fnHJyTc3FuzsN5OZ/OrwvogrqQLqyL6KK6mC6uS+iSupQurcvosrqcLq8r6Iq6kq6sq+iqXI2rcw2uybW4Ntfhurqerq8b6Ia6kW6sm+imuplurlvolrqVbq3b6La6nW6vO+iOupPurLtwV+7G3bkH9+Re3Jv76L66n+6vB+iBepAerIfooXqYHq5H6JF6lB6tx+ixepweryfoiXqSnsxTeCpP4+k8g2fqWXq2nqPn6nl6vl6gF+pFerFeopfqZXq5XqFX6lV6tV6j1+p1er3ewBt5E2/mLbyVt/F23qF36l16t96j9+p9er8+oA/qQ/qwPqKP6mP6uD6hT+pT+rQ+o8/qc/o8X+CLfIkv8xW+ytf4ur6hb+pb+ra+o+/qe/q+fqAf6kf6sX6in+pn+rl+oV/qV/q1fqPf6nf8nj/wR/7En/kLf+Vv+rv+oX/qX/q3/kf/q//ovzpAsP8eUAfSgXUQHVQH08F1CB1Sh9KhdRgdlsNxeI7AETkSR+YoHJWjcXSOwTE5FsfWcXRcHU/H1wl0Qp1IJ9ZJdFKdTCfXKXRKnUqn1ml0Wp1Op9cZdEadSWfWWXRWnU1n1zl0Tp1L59Z5dF6dT+fXBXRBXUgX1kV0UV1MF9cldEkuxaW5DJfV5XR5XUFX1JV0ZV1FV9XVdHVdQ9fUtXRtXUfX1fV0fd2AG3IjbsxNuCk30811C91St9KtdRvdVrfT7XUH3VF30p11F91Vd9PddQ/dU/fSvXUf3Vf30/31AD2QB/FgHsJDeRgP5xE8Uo/So/UYPVaP0+P1BD1RT9KTeQpP5Wk8nWfwTD1Lz9Zz9Fw9T8/XC/RCvUgv1kv0Ur1ML+cVvJJX8Wpew2v1Or1eb9Ab9Sa9WW/RW/U2vV3v0Dv1Lr1b79F79T69Xx/QB/UhfVgf0Uf1MX1cn9An9Sl9ms/wWT7H5/kCX+RLfFlf0Vf1Nb7ON/gm3+LbfEff1ff0ff1AP9SP9GP9hJ/yM37OL/glv+LX/Ibf8jv9Xn/QH/Un/Vl/0V/1N/1d/+Cf/It/8z/8L//hvxwg+P8KyIE4MAfhoBxMB9chdEgdSofWYXRYHU6H1xF0RB1JR9ZROCpH4+gcg2NyLI7NcXRcHU/H1wl0Qp1IJ9ZJdFKdTCfXKXRKnUqn1ml0Wp1Op9cZdEadSWfWWXRWnU1n1zl0Tp1L59Z5OC/n4/xcgAtyIS7MRbgoF+PiXEKX1KV0aV1Gl9XldHldQVfUlXRlXUVX1dV0dV1D19S1dG1dR9fV9bg+N+CG3IgbcxPdVDfTzXUL3VK30q11G91Wt9PtdQfdUXfSnXUX3VV30911D91T99K9dR/dV/fT/fUAPVAP0oP1ED1UD9PD9Qg9kkfxaB7DY3kcj9cT9EQ9SU/WU/RUPU1P1zP0TD1Lz9Zz9Fw9T8/XC/RCvUgv1kv0Ur1ML9cr9Eq9Sq/Wa3gtr+P1vIE38ibezFv0Vr1Nb9c79E7exbt5D+/lfbyfD/BBPsSH+Qgf5WN8nE/wST7Fp/kMn+VzfJ4v8EW+xJf5Cl/la3ydb/BNvsW3+Q7f5Xt8nx/wQ37Ej/kJP+Vn/Jxf8Et+xa/5Db/ld/yeP/BH/sSf+Qt/5W/8Xf/QP/Uv/Vv/o//Vf/RfHSDEfw+oA+nAOogOqoPp4DoEh+RQHJrD6LA6nA6vI+iIOpKOrKPoqDqajq5j6Jg6lo6t4+i4Op6OrxPohDqRTsxJOCkn4+ScglNyKk7NaTgtp+P0nIEzcibOzFk4K2fj7JyDc3Iuzs15OC/n4/xcgAvqQrqwLqKL6mK6uC6hS+pSurQuo8vqcrq8rqAr6kq6sq6iq+pqurquoWvqWlyb63Bdrsf1uQE35EbcmJtwU27GzbkFt+RW3JrbcFtux+25A3fkTtyZu3BX7qa76x66p+6le+s+uq/up/vrAXqgHqQH6yF6qB6mh+sReqQepUfrMXosj+PxPIEn8iSezFN4Kk/j6TyDZ/Isnq3n6Ll6np6vF+iFepFerJfopXqZXq5X6JV6lV6t1+i1ep1erzfojXoTb+YtvJW38XbewTt5F+/mPbyX9/F+PsAH+ZA+rI/oo/qYPq5P6JP6lD6tz+iz+pw+ry/oi/qSvqyv6Kv6mr6ub+ibfItv8x2+y/f4Pj/gh/yIH/MTfsrP+Dm/4Jf6lX6t3+i3+p1+rz/oj/qT/qy/6K/6m/6uf+if+pf+rf/R/+o/+q8OEPJ/BeRAHJiDcFAOxsE5BIfkUByaw3BYDsfhOQJH5EgcmaNwVI7G0TkGx+RYHJvjcFyOp+PrBDqhTqQT6yQ6qU6mk+sUOqVOpVPrNDqtTqfT6ww6o86kM+ssOitn4+ycg3NyLs7NeTgv5+P8XIALciEurIvoorqYLq5L6JK6lC6ty+iyupwuryvoirqSrqyr6Kq6mq6ua+iauhbX5jpcl+txfW7ADbkRN+Ym3JSbcXNuwS25lW6t2+i2up1urzvojrqT7qy76K66m+6ue+ieupfurfvovrqf7q8H6IE8iAfzEB7Kw3g4j+CRPIpH8xgey+N4PE/giXqSnqyn6Kl6mp6uZ+iZepaerefouXqenq8X6IV6kV6sl+ileplerlfwSl7Fq3kNr+V1vJ438EbexJt5C2/lbbydd/BO3sW7eY/eq/fp/fqAPqgP6cP6iD6qj+nj+oQ+qU/p0/qMPqvP6fP6gr7Il/gyX+GrfI2v8w2+ybf4Nt/hu3yP7/MDfqgf6cf6iX6qn+nn+oV+qV/p1/qNfqvf6ff6g/6oP+nP+ov+qr/xd/7BP/kX/+Z/+F/+w385QKj/FZADcWAOwkE5mA6uQ+iQOpQOrcPosDqcDq8j6Ig6ko6so+ioOpqOrmPomDqWjs1xOC7H4/icgBNyIk7MSTgpJ+PknIJTcipOzWk4Lafj9JyBM3ImzsxZOCtn4+w6h86pc+ncOo/Oq/Pp/LqALqgL6cK6iC6qi+niuoQuqUvp0lyGy3I5Ls8VuCJX4spchatyNa7ONbgm1+Lauo6uq+vp+rqBbqgb6ca6iW6qm+nmuoVuqVvp1rqNbqvb6fa6A3fkTtyZu3BX7sbduQf35F7cm/vovrqf7q8H6IF6kB6sh+ihepgerkfokXqUHq3H8Fgex+N5Ak/kSTyZp/BUnsbTeQbP5Fk8m+fouXqenq8X6IV6kV6sl+ileplerlfolXqVXq3X6LV6nV6vN+iNepPezFt4K2/j7byDd/Iu3s17eC/v4/18gA/yIT7MR/ioPqaP6xP6pD6lT+sz+qw+p8/rC/qivqQv6yv6qr6mr+sb+qa+pW/rO3yX7/F9fsAP+RE/5if8lJ/xc37BL/kVv+Y3/Jbf8Xv+wB/5E3/mL/yVv+nv+of+qX/p3/of/a/+o//qAKH/e0AdSAfWQXRQHUwH1yF0SB1Kh9ZhdFgdTofXEXREHUlH1lF0VI7G0TkGx+RYHJvjcFyOx/E5ASfkRJyYk3BSnUwn1yl0Sp1Kp9ZpdFqdTqfXGXRGnUln1ll0Vp1NZ9c5dE6dS+fWeXRenU/n1wV0QV1IF9ZFuCgX4+JcgktyKS7NZbgsl+PyXIErciWuzFW4KlfT1XUNXVPX0rV1HV1X19P1dQPdUDfSjXUT3VQ30811C91St9KtdRvdVrfT7XUH3VF30p11F92Vu3F37sE9uRf35j7cl/txfz1AD9SD9GA9RA/Vw/RwPUKP1KP0aD1Gj9Xj9Hg9QU/Uk/RkPUVP1dP0dD1Dz9Sz9Gw9R8/V83g+L+CFvIgX8xJeyst4Oa/glbyKV/MaXsvreD1v0Bv1Jr1Zb9Fb9Ta9Xe/QO/UuvVvv0Xv1Pr1fH9AH9SF9WB/RR/UxfVyf0Cf1KX1an9Fn9Tl9ni/wRb7El/kKX+VrfJ1v8E2+xbf5Dt/V9/R9/UA/1I/0Y/1EP9XP9HP9Qr/Ur/Rr/Ua/1e/0e/1Bf9Sf9Gf9RX/V3/j/AIEjduB4nF3FQxAgCIIAwbZt27Zt27Zt27Zt27btmbZt+yJu6zOVn/wSOsD/+6q/6e/6h/6pf/Fv/sN/OUCY/xWQA3FgDsJBORgH5xAckkNxaA7DYTkch+cIHJEjcWSOwlE5GkfnGDqmjqVj6zg6ro6n4+sEOqFOpBPrJDqpTqaT6xQ6pU6lU+s0Oq1Op9NzBs7ImTgzZ+GsnI2zcw7Oybk4N+fhvJyP83MBLqgL6cK6iC6qi+niuoQuqUvp0rqMLqvL6fK6gq6oK+nKuoquqqvp6roG1+RaXJvrcF2ux/W5ATfkRtyYm3BTbqab6xa6pW6lW+s2uq1up9vrDrqj7qQ76y66q+6mu+seuqfupXvrProv9+P+PIAH8iAezEN4KA/j4TyCR/IoHs1jeCyP4/E8gSfyJJ7MU3gqT+PpPINn8iyezXN4Ls/j+byAF/IiXsxLeCkv4+W8glfyKl7Na3gtr+P1eoPeqDfpzXqL3qq36e16h96pd+ndeo/eq/fp/fqAPqgP6cP6iD6qj/FxPsEn+RSf5jN8ls/xeb7AF/kSX+YrfJWv8XW+of/R/+qb+pa+re/ou/qevq8f6If6kX6sn+in+pl+rl/ol/qVfq3f6Lf8jt/zB/7In/gzf+Gv/I2/8w/+yb/4t/6j/+oAYf97QB1IB9ZBdFAdTAfXIXRIHUqH1mF0WB1Oh9cRdEQdSUfWUTgqR+PoHINjciyOzXE4Lsfj+JyAE3IiTsxJdFKdTCfXKXRKnUqn1ml0Wp1Op9cZdEadSWfWWXRWnU1n1zl0Tp1L5+Y8nJfzcX4uwAW5EBfmIlyUi3FxXUKX1KV0aV1Gl9XldHldQVfUlXRlXUVX1dV0dV1D19S1dG1dR9fV9XR93UA31I10Y91EN9XNdHPdQrfUrXRr3Ua31e10e91Bd9SddGfdRXflbtyde3BP7sW9uQ/35X7cnwfwQB7Eg3kID+VhPJxH8EgexaN5DI/lcTyeJ/BEnsSTeQpP5Wk8nWfwTJ7Fs3kOz+V5PF8v0Av1Ir1YL9FL9TK9XK/QK/UqvVqv0Wv1Or1eb9Ab9SbezFt4K2/T2/UOvVPv0rv1Hr1X79P79QF9UB/Sh/URfVQf08f1CX1Sn9Kn9Rl9Vp/T5/UFfZEv8WW+wlf5Gl/nG/wP/8s3+Rbf5jt8l+/xfX7AD/kRP+Yn/JSf8XN+wS/5Fb/mN/yW3/F7/sAf+RN/1l/0V/1Nf9c/9E/9S//Wf/RfDhDufwXkQBxYB9FBdTAdXIfQIXUoHVqH0WF1OB1eR9ARORJH5igclaNxdI7BMTkWx+Y4HJfjcXxOwAk5ESfmJJyUk3FyTsEpORWn5jScltNxes7AGTkTZ+YsnFVn09l1Dp1T59K5dR6dV+fT+XUBXVAX0oV1EV1UF9PFdQldUpfSpXUZXVaX0+V1BV1RV9KVuQpX5WpcnWtwTa7FtbkO1+V6XJ8bcENuxI11E91UN9PNdQvdUrfSrbkNt+V23J47cEfdSXfWXbgrd+Pu3IN7ci/uzX24L/fj/jyAB/IgHsxDeCgP4+E8gkfyKB7NY3gsj+PxPIEn8iSezFN4Kk/j6TyDZ/Isns1zeC7P4/m8gBfyIl7MS3gpL+PlvIJX8ipezWt4La/j9byBN/Im3sxbeCtv4+28g3fyLt7Ne/RevU/v1wf0QX1IH9ZH9FF9jI/zCT7Jp/g0n+GzfI7P8wW+yJf4Ml/hq3yNr/MN/of/5Zt8i2/zHb7L9/g+P+CH/Igf8xN+ys/4Ob/gl/yKX/Mbfsvv+D1/0B/1J/1Zf9Ff9Tf9Xf/QP/Uv/Vv/0X91gPD/KyAH4sAchINyMA7OITgkh+LQHIbDcjgOzxE4IkfiyByFo3I0js4xOCbH4tgch+NyPB1fJ9AJdSKdWCfRSXUynVyn0Cl1Kp1ap9FpdTqdXmfQGXUmnVln0Vl1Np1d59A5dS6dW+fReXU+zs8FuCAX0oV1EV1UF9PFdQldUpfSpXUZXVaX0+V1BV1RV9KVdRVdVVfT1XUNrsm1uDbX4bpcj+tzA27IjbgxN+Gm3Iybcwtuya24NbfhttyO23MH7siduDN34a7cjbtzD+7Jvbg39+G+3I/78wAeyIN4MA/hoTyMh/MIHsmjeDSP4bE8jsfzBJ7Ik/RkPUVP1dP0dD1Dz9Sz9Gw9R8/V8/R8vUAv1Iv0Yr1EL9XL9HK9Qq/Uq/RqvUav1ev0er1Bb9Sb9Ga9RW/V2/R23sE7eRfv5j28l/fxfj7AB/kQH+YjfJSP8XE+wSf5FJ/mM3yWz/F5vsAX9SV9WV/RV/U1fV3f0P/of/VNfUvf1nf0XX1P39cP9EP9SD/WT/RT/Uw/1y/0S/1Kv9Zv+C2/4/f8gT/yJ/7MX/grf+Pv/IN/8i/+zX/4LweI8L8CciAOzEE4KAfj4BxCh9ShdGgdRoflcByeI3BEjsSROQpH5WgcnWNwTI7FsTkOx+V4HJ8TcEJOxIk5CSflZJycU3BKTsWpOQ2n5XScnjNwRs7EmTkLZ+VsnJ1zcE7Oxbk5D+flfJyfC3BBLsSFuQgX5WJcnEtwSS7FpbkMl+VyXJ4rcEWuxJW5Clflalyda3BNrsW1uQ7X5XpcnxtwQ27EjbkJN+Vm3JxbcEtuxa25DbfldtyeO3BH7sSduQt35W7cnXtwT+7FvbkP9+V+3J8H8EAexIN5CA/lYTycR/BIHsWjeQyP5XE8nifwRJ7Ek3kKT+VpPJ1n8EyexbN5Ds/leTyfF/BCXsSL9RK9VC/Ty/UKvVKv0qv1Gr1Wr9Pr9Qa9UW/Sm/UWvVVv09v1Dr1T7+LdvIf38j69Xx/QB/UhfVgf0Uf1MX1cn9An9Sl9Wp/RZ/U5fZ4v8EW+xJf5Cl/la3ydb/A//C/f5Ft8m+/wXb7H9/kBP+RH/Jif8FN+xs/5Bb/kV/ya3/Bbfsfv+QN/5E/8mb/wV/7G3/kH/+Rf/Jv/8F8OEPF/BeRAHJiDcFAOxsE5BIfkUByaw3BYDsfhOQJH5EgcmaNwVI7G0TkGx+RYHJvjcFyOx/E5ASfkRJyYk3BSTsbJOQWn5FScmtNwWk7H6TkDZ+RMnJmzcFbOxtk5B+fkXJyb83Bezsf5uQAX5EJcmItwUS7GxbkEl+RSXJrLcFkux+W5AlfkSlyZq3BVrsbVuQbX5Fpcm+twXa7H9bkBN+RG3JibcFNuxs25BbfkVtya23BbbsftuQN35E7cmbtwV+7G3bkH9+Re3Jv7cF/ux/15AA/kQTyYh/BQHsbDeQSP5FE8msfwWB7H43kCT+RJPJmn8FQ9TU/XM/RMPUvP1nP0XD1Pz9cL9EK9SC/WS/RSvUwv1yv0Sr1Kr9Zr9Fq9jtfzBt7Im3gzb+GtvI238w69U+/Su/UevVfv0/v1AX1QH9KH9RF9VB/Tx/UJfVKf0qf1GX1Wn9Pn+QJf5Et8ma/wVb7G1/UN/Y/+V9/Ut/RtfUff1ff0ff1AP9SP9GP9RD/Vz/Rz/UK/1K/0a/2G3/I7fs8f+CN/4s/8RX/V3/R3/UP/1L/0b/1H/9UBIv33gDqQDqyD6KA6mA6uQ+iQOpQOrcPosByOw3MEjsiRODJH4ag6mo6uY+iYOpaOrePouDqejq8T6IQ6kU6sk+ikOplOrlPolDqVTq3TcFpOx+k5A2fkTJyZs3BWzsbZOQfn5Fycm/PovDqfzq8L6IK6kC6si+iiupgurkvokrqULq3L6LK6nC6vK+iKupKuzFW4Klfj6lyDa3Itrq3r6Lq6nq6vG+iGupFurJvoprqZbq5b6Ja6lW6t2+i2up1urzvojroTd+Yu3JW7cXfuwT25l+6t++i+up/urwfogXqQHqyH6KF6mB6uR+iRepQercfosXqcHq8n6Ik8iSfzFJ7K03i6nqFn6ll6tp6j5+p5er5eoBfqRXqxXqKX6mV6uV6hV+pVerVeo9fqdXq93qA36k16s96it+ptvJ138E7exbt5D+/lfXq/PqAP6kP6sD6ij+pj+rg+oU/qU/q0PqPP6nP6vL6gL+pL+rK+oq/qa/q6vqH/0f/qm/qWvs13+C7f4/v8gB/yI36sn+in+pl+rl/ol/qVfq3f6Lf6nX6vP+iP+pP+rL/or/qb/q5/6J/6l/6t/+i/OkDk/x5QB9KBdRAOysE4OIfgkBxKh9ZhdFgdTofXEXREHUlH1lF0VB1NR9cxdEwdS8fWcXRcHU/H1wl0Qp1IJ9ZJdFKdTCfXKXRKTsWpOQ2n5XScnjNwRp1JZ9ZZdFadTWfXOXROnUvn1nl0Xp1P59cFdEFdSBfWRXRRXUwX1yV0SV1Kl9ZldFldTpfXFbgiV+LKXIWrcjWuzjV0TV1L19Z1dF1dT9fXDXRD3Ug31k10U91MN9ctdEvdSrfWbXRb3U631x10R91Jd9ZddFfdTXfnHtyTe3Fv7sN9dT/dXw/QA/UgPVgP0UP1MD1cj9Aj9Sg9Wo/RY/U4PV5P0BP1JD1ZT+GpPI2n8wyeybN4Ns/Rc/U8PV8v0Av1Ir1YL9FL9TK9XK/QK/UqvVqv0Wv1Or1eb9Ab9Sa9mbfwVt7G23kH7+RdvFvv0Xv1Pr1fH9AH9SF9WB/RR/UxfVyf0Cf1KX2az/BZPsfn+QJf1Jf0ZX1FX9XX9HV9Q/+j/9U39S19W9/Rd/U9fV8/0A/1I/1YP+Gn/Iyf8wt+ya/4Nb/Rb/U7/V5/0B/1J/1Zf9Ff9Tf9Xf/QP/Uv/Vv/0X91gCj/PaAOxIE5CAflYBycQ3BIDsWhOYwOq8Pp8DqCjqgj6cg6io6qo+noOoaOqWPp2DqOjqvj6fg6gU7IiTgxJ+GknIyTcwpOqVPp1DqNTqvT6fQ6g86oM+nMOovOqrPp7DqHzqlz6dw6j86r83F+LsAFuRAX5iJclIvp4rqELqlL6dK6jC6ry+nyuoKuqCvpyrqKrqqr6eq6hq6pa+naXIfrcj2uzw24oW6kG+smuqluppvrFrqlbqVb6za6rW6n2+sOuqPupDvrLrqr7qa76x7ck3txb+7Dfbkf9+cBeqAepAfrIXqoHqaH6xF6pB6lR+sxeqwep8frCXqinqQn6yl6qp6mp/MMnsmzeDbP4bk8j+frBXqhXqQX6yV6qV6ml+sVeqVepVfrNXqtXqfX6w16o96kN+steqvextt5B+/kXbyb9/Be3qf36wP6oD6kD+sj+qg+po/rE/qkPqVP6zP6rD6nz+sL+qK+pC/rK/oqX+PrfIP/4X/5pr6lb+s7+q6+p+/rB/qhfqQf6yf6qX6mn+sX+qV+pV/rN/qtfqff6w/8kT/xZ/7CX/kbf+cf+qf+pX/rP/qvDhD1vwfUgXRgHUQH1cF0cB1Ch9ShdGgdRofV4XR4HUFH5EgcmaNwVI7G0TkGx9SxdGwdR8fV8XR8nUAn1Il0Yp1EJ9XJdHKdQqfUqXRqnUan1el0ep2BM3ImzsxZOCtn4+ycQ+fUuXRunUfn1fl0fl1AF9SFdGFdRBfVxXRxXUKX1KV0aV1Gl9XldHmuwBW5ElfmKlyVq3F1rsE1uRbX5jpcV9fT9XUD3VA30o11E91UN9PNdQvdUrfSrXUb3Va30+11B91Rd9KddRfdVXfT3XUP3VP30r11H91X99P99QA9UA/Sg/UQPVQP08P1CD1Sj9KjeQyP5XE8Xk/QE/UkPVlP0VP1ND1dz9Az9Sw9W8/Rc/U8PV8v0Av1Il7MS3gpL+PlvEKv1Kv0ar1Gr9Xr9Hq9QW/Um/RmvUVv1dv0dr1D79S79G69R+/V+/R+fUAf1If0YT7CR/kYH+cTfJJP8Wl9Rp/V5/R5fUFf1Jf0ZX1FX+VrfJ1v8D/8L9/Ut/RtfUff1ff0ff1AP9SP9GP9RD/Vz/RzfsEv+RW/5jf8Vr/T7/UH/VF/0p/1F/1Vf9Pf9Q/9U//Sv/Uf/VcHiPbfA+pAOrAOooPqYDq4DqFD6lA6tA6jw3I4Ds8ROCJH4sgchaPqaDq6jsExORbH5jgcl+Pp+DqBTqgT6cQ6iU6qk3FyTsEpORWn5jScltNxes6gM+pMOrPOorPqbDq7zqFz6lycm/NwXs7H+bkAF+RCXJiLcFEuxsW5hC6pS+nSuowuq8vp8rqCrqgr6cq6iq6qq3F1rsE1uRbX5jpcl+vp+rqBbqgb6ca6iW6qm/H/AfPD+C54nF3FQxQYiIIAwdi2bdv2xLZt27YzsW3btm3btva9nb78rks1jRbg/zXTzXUL3VK30q11G91Wt9PtdQfdUXfSnXUX3VV30911D91T99K9dR/dl/txfx7AA3kQD+YhPJSH8XAewSP1KD1aj9Fj9Tg9Xk/QE/Uk/a+erKfoqXqanq5n6Jl6lp6t5+i5eh7P5wW8kBfxYl6il+plerleoVfqVXq1XqPX6nV6vd6gN+pNerPeorfqbXq73qF36l16t96j9+p9er8+oA/qQ/qwPqKP6mP6uD6hT/IpPs1n+Cyf4/P6gr6oL+nL+oq+qq/p6/qGvqlv6dv6jr6r7+n7+oF+qB/px/qJfqqf6ef6hX6pX+nX+g2/5Xf8nj/wR/7En/mL/qq/6e/6h/7Jv/g3/+G/HCD6fwXkQByYg3BQDsbBOQSH5FAcmsNwWA7H4TkCR+RIHJmjcFSOxtE5BsfkWByb43BcjsfxOQEn5EScmJNwUk7GyTkFp+RUnJrTcFpOx+k5A2fkTJyZs3BWzsbZOQfn1Ll0bp1H59X5dH5dQBfUhXRhXUQX1cV0cV1C/6NLcikuzWW4rC6ny+sKuqKupCvrKrqqrqar6xq6pq6la+s6uq6up+vrBrqhbqQb6ybclJtxc27BLbkVt+Y23JbbcXvuwB25E3fmLtyVu3F37sE9uRf35j7cl/txfx7AA3kQD+YhPJSH8XAewSN5FI/mMTyWx/F4nqAn6kn6Xz1ZT9FT9TQ9Xc/QM/UsPVvP0XP1PD1fL9AL9SK9WC/RS/UyvVyv4JW8ilfzGr1Wr9Pr9Qa9UW/Sm/UWvVVv09v1Dr1T79K79R69V+/T+/UBfVAf0of1EX2Uj/FxPsEn+RSf5jN8ls/xeb7AF/kSX+YrfJWv8XW+wTf5Ft/mO3yX7/F9fsAP+RE/5if8lJ/xc/1Cv9Sv9Gv9Rr/V7/R7/UF/1J/0Z/1Ff9Xf9Hf9Q//Uv/Rv/Uf/1QFi/FdADsSBOYgOqoPp4DqEDqlD6dA6jA6rw+nwOoKOqCPpyDqKjqqj6eg6ho6pY+nYHIfjcjyOzwk4ISfixJyEk3IyTs4pOCWn4tSchtNyOk7PGTgjZ+LMnIWzcjbOzjk4p86lc+s8Oq/Op/PrArqgLqQL6yK6qC6mi+sS+h9dUpfSpXUZXVaX0+W5AlfkSlxZV9FVdTVdXdfQNXUtXVvX0XV1PV1fN9ANdSPdWDfRTXUz3Vy30C11K27Nbbgtt+P23IE7cifuzF24K3fj7tyDe3Iv7s19uC/34/48gAfyIB7MQ/RQPUwP1yP0SD1Kj9Zj9Fg9To/XE/REPUn/qyfrKXqqnqan6xl6pp7Fs3kOz+V5er5eoBfqRXqxXqKX6mV6uV6hV+pVerVeo9fqdXq93qA36k16s96it/I23s47eCfv4t28h/fyPt7PB/ggH+LDfISP8jE+zif4JJ/i03yGz/I5Ps8X+KK+pC/rK/qqvqav6xv6pr6lb+s7+q6+p+/rB/qhfqQf6yf6qX6mn+sX/JJf8Wt+o9/qd/q9/qA/6k/6s/6iv+pv+rv+oX/qX/q3/qP/6gAx//eAOpAOrIPooByMg3MIDsmhODSH4bAcjsNzBI7IkTgyR+GoHI2jcwyOybE4NsfhuByP43MCTsiJODEn4aScjJNzCk6pU+nUOo1Oq9Pp9DqDzqgz6cw6i86qs+nsOofOqXPp3DqPzqvz6fy6ABfkQlyYi+iiupgurkvof3RJXUqX1mV0WV1Ol9cVdEVdSVfWVXRVXU1X1zV0TV2La3Mdrsv1uD434IbciBtzE27Kzbg5t+CW3Ipbcxtuy+24PXfgjtyJO3MX7srduDv30D11L91b99F9dT/dXw/QA/UgPVgP0UP1MD1cj9Aj9Sg9Wo/RY/U4PZ4n8ESexP/qyXqKnqqn6el6hp6pZ+nZeo6eq+fp+XqBXqgX6cV6iV6ql+nleoVeyat4Na/htbyO1/MG3sibeDNv4a28jbfzDt7Ju3g37+G9vI/38wE+yIf4sD6ij+pj+rg+oU/qU/q0PqPP6nP6vL6gL+pL+rK+oq/qa/q6vqFv6lt8m+/wXb6n7+sH+qF+pB/rJ/qpfqaf6xf6pX6lX+s3+q1+p9/rD/qj/qQ/6y/6K3/j7/yDf/Iv/s1/+C8HiPVfATkQB+YgHJSDcXAOwSE5FIfmMByWw3F4jsARORJH1lF0VB1NR9cxdEwdS8fWcXRcHU/H1wl0Qp1IJ9ZJdFKdTCfXKXRKnYpTcxpOy+l0ep1BZ9SZdGadRWfV2XR2nUPn1Ll0bp1H59X5dH5dQBfUhXRhXUQX5WJcnEvwP1ySS3FpLsNluRyX5wpckStxZa7CVbkaV+caXJNrcW2uw3W5HtfnBtyQG+nGuoluqpvp5rqFbqlb6da6jW6r2+n2uoPuqDvpzrqL7qq76e7cg3tyL+6t++i+up/urwfogXqQHqyH6KF6mB6uR+iRepQercfosXqcHq8n8ESexP/yZJ7CU3kaT+cZPJNn8Wyew3N5Hs/nBbyQF/FiXsJLeRkv5xW8Uq/Sq/UavVav0+v1Br1Rb9Kb9Ra9VW/T2/UOvVPv0rv1Hr1X7+P9fIAP8iF9WB/RR/UxfVyf0Cf1KX1an9Fn9Tl9Xl/QF/UlfVlf0Vf1NX2db/BNvsW3+Q7f5Xt8nx/wQ37Ej/kJP+Vn/Jxf8Et+xa/5Db/ld/yeP/BH/sSf9Rf9VX/T3/UP/VP/0r/1H/1XB4j9vwfUgXRgHUQH1cF0cB1Ch9ShODSH4bAcTofXEXREHUlH1lF0VB1NR9cxdEwdS8fWcXRcHU/H1wl0Qp1IJ+YknJSTcXJOwSk5FafmNJyW03F6zsAZORNn5iyclbNxds7BOTkX5+Y8nJfzcX4uwAW5EBfmIlyUi3FxLsH/cEkuxaW5DJflcrq8rqAr6kq6sq6iq+pqurquoWvqWrq2rqPr6nq6vm6gG+pG3JibcFNuppvrFrqlbqVb6za6rW6n2+sOuqPupDvrLrqr7qa76x66p+7FvbkP9+V+3J8H8EAexIN5CA/lYTycR/BIHsWjeQyP5XE8nifwRJ7E//JknsJT9TQ9Xc/QM/UsPVvP0XP1PD1fL9AL9SK9WC/RS/UyvVyv0Cv1Kl7Na3gtr9Pr9Qa9UW/Sm/UWvVVv09v1Dr1T79K79R69V+/T+/UBfVAf0of5CB/lY3ycT/BJPsWn+Qyf5XN8ni/wRb7El/kKX+VrfF3f0Df1LX1b39F39T19Xz/QD/Uj/Vg/0U/1M/2cX/BLfsWv9Rv9Vr/T7/UH/VF/0p/1F/1Vf9Pf9Q/9U//Sv/kP/+UAcf4rIAfiwByEg3IwDs4hOCSH4tAchsNyOA7PETgiR+LIHIWjcjSOzjE4po6lY+s4Oq6Op+PrBDqhTqQT6yQ6qU6mk+sUOqVOpVPrNDqtTqfT6wyckTNxZs6is+psOrvOoXPqXDq3zqPz6nw6vy6gC+pCurAuoovqYrq4LqH/0SV1KS7NZbgsl+PyXIErciWuzFW4Klfj6lyDa3Itrs11uC7X4/rcgBtyI27MTbgpN9PNdQvdUrfSrXUb3Va30+11B91Rd9KddRfdVXfT3XUP3VP30r11H92X+3F/HsAD9SA9WA/RQ/UwPVyP0CP1KD1aj9Fj9Tg9Xk/QE/Uk/a+erKfoqXqans4zeCbP4tk8h+fyPJ7PC3ghL+LFvISX8jJezit4Ja/i1byG1/I6Xs8beCNv4s28hbfyNt7OO3gn7+LdvIf36n16vz6gD+pD+rA+oo/qY/q4PqFP6lP6tD6jz+pz+ry+oC/qS/qyvqKv6mv6ur6hb+pb+ra+w3f5Ht/nB/qhfqQf6yf6qX6mn+sX+qV+pV/rN/qtfqff6w/6o/6kP+sv+qv+pr/rH/qn/qV/6z/6rw4Q938PyIE4MAfhoByMg3MIDsmhODSH4bAcjsNzBI7IkTgyR+GoHI2jcwyOybE4to6j4+p4Or5OoBPqRDqxTqKT6mQ6uU6hU+pUOrVOo9PqdDq9zqAz6kw6s86is+psOrvOoXPqXJyb83Bezqfz6wK6oC6kC+siuqgupovrEvofXVKX0qV1GV1Wl9PldQVdUVfSlXUVXVVX09V1DV1T19K1dR2uy/W4PjfghtyIG3MTbsrNuDm34JbciltzG27L7bg9d+CO3Ik7cxfuyt24O/fQPXUv3Vv30X11P91fD9AD9SA9WA/RQ/UwPVyP0CP1KD1aj9Fj9Tg9Xk/QE/Uk/a+erKfoqXoaT+cZPJNn6dl6jp6r5+n5eoFeqBfpxXqJXqqX6eV6hV6pV+nVeo1eq9fp9XqD3qg36c16i96qt+nteofeybt4N+/hvbyP9/MBPsiH+DAf4aN8jI/zCT7Jp/g0n+Gz+pw+ry/oi/qSvqyv6Kv6mr6ub+ib+pa+re/ou/qevq8f6If6kX6sn+in+pl+rl/ol/qVfq3f8Ft+x+/5g/6oP+nP+ov+qr/p7/qH/ql/6d/6j/6rA8T73wPqQDqwDqKD6mA6uA6hQ+pQOrQOo8PqcDq8jqAjciSOzFE4Kkfj6ByDY3Isjs1xOC7H4/icgBNyIk7MSTgpJ+PknIJTcipOzWk4rU6n0+sMOqPOpDPrLDqrzqaz6xw6p86lc+s8Oq/Op/PrArqgLqQL6yK6qC6mi+sS+h9dUpfSpbkMl+VyXF5X0BV1JV1ZV9FVdTVdXdfQNXUtXVvX0XV1PV1fN9ANdSPdWDfRTXUz3Vy30C11K91at9FtdTtuzx24I3fiztyFu3I37s49uCf34t7ch/tyP+7PA3ggD+LBPISH8jAeziN4JI/i0TxGj9Xj9Hg9QU/Uk/S/erKeoqfqaXq6nqFn6ll6tp6j5+p5er5eoBfqRXqxXqKX6mV6uV6hV+pVvJrX8Fpep9frDXqj3qQ36y16q96mt+sdeqfepXfrPXqv3qf36wP6oD6kD+sj+qg+po/rE/qkPqVP6zP6LJ/j83yBL/IlvsxX+Cpf4+t8g2/yLb7Nd/gu3+P7/IAf8iN+zE/4KT/j5/yCX/Irfs1v+C2/4/f6g/6oP+nP+ov+qr/p7/qH/ql/6d/6j/6rA8T/3wPqQDqwDqKD6mA6uA7BITkUh+YwOqwOp8PrCDqijqQj6yg6qo6mo+sYOqaOpWPrODqujqfj6wQ6oU6kE3MSTsrJODmn4JScilNzGk7L6Tg9Z+CMnIkzcxbOytk4O+fgnJyLc3Mezsv5OL8uoAvqQrqwLqKL6mK6uC6h/9EldSldWpfRZXU5XV5X0BV1JV1ZV9FVuRpX5xpcU9fStXUdXVfX0/V1A91QN9KNdRPdVDfTzXUL3VK30q11G91Wt9PtdQfuyJ24M3fhrtyNu3MP7sm9uDf34b7cj/vzAB7Ig3gwD+GhPIyH8wgeyaN4NI/hsTxOj9cT9EQ9Sf+rJ+speqqepqfrGXqmnqVn6zl6rp6n5+sFeqFepBfrJbyUl/FyXqFX6lV6tV6j1+p1er3eoDfqTXqz3qK36m16u96hd+pderfeo/fqfXo/H+CDfIgP8xE+ysf4OJ/gk3yKT/MZPsvn+Dxf4It8iS/zFb7K1/g63+CbfItv8x2+y/f4Pj/gh/yIH/MTfsrP+Dm/4Jf8il/zG37L7/g9f+CP/Ik/8xf+yt/4O//gn/yLf/Mf/ssBEvxXQA7EgTkIB+VgHJxDcEgOxaE5DIflcBxeR9ARdSQdWUfRUXU0HV3H0DF1LB1bx9FxdTwdXyfQCXUinVgn0Ul1Mk7OKTglp9KpdRqdVqfT6XUGnVFn0pl1Fp1VZ9PZdQ6dU+fSuXUenVfn0/l1AV2QC3FhLsJFuRgX5xL8D5fkUlyay3BZLsfluQJX5EpcmatwVa7G1bkG1+RaXJvr6Lq6nq6vG+iGupFurJvoprqZbq5b6Ja6lW6t2+i2up1urzvojrqT7sxduCt34+66h+6pe+neuo/uq/vp/nqAHqgH6cF6iB6qh+nh/H8WBMUmeJxdxUMUGIiCAMHYtm3btm3bmolt27Zt27Zt2072vZ2+/K5LDUsQ4P8N1yP0SD1Kj9Zj9Fgex+N5Ak/kSTyZp/BUnsbTeQbP5Fk8m+fwXJ7H83kBL+RFvJiX8FJexst5Ba/kVbxar9Fr9Tq9Xm/QG/UmvVlv0Vv1Nr1d79A79S69W+/Re/U+vV8f0Af1IT7MR/goH9PH9Ql9Up/Sp/UZfVaf0+f1BX1RX9KX9RV9VV/T1/UNfVPf0rf1HX2X7/F9fsAP+RE/5if8lJ/xc37BL/kVv+Y3/Jbf8Xv+wB/5E3/mL/yVv/F3/UP/1L/0b/1H/9UBEv7vAXUgHVgH0UF1MB1ch9AhdSgdWofRYXU4HV5H4IgciSNzFB1VR9PRdQwdU8fSsXUcHVfH0/F1Ap1QJ9KJdRKdVCfTyXUKnVKn0qk5DafldJyeM3BGzsSZOQtn5WycnXNwTs7FuTkP5+V8nF8X0AV1IV1YF9FFdTFdXJfQJXUpXVqX0WV1OV1eV9AVdSVdWVfRVXU1XV3X0DV1LV1b19F1dT1dXzfQDXUj3Vg30U11M91ct9AtdSvdWrfRbbkdt+cO/I/+V3fUnXRn3UV31d10d91D99S9dG/dR/fV/XR/PUAP1IP0YD1ED9XD9HA9Qo/Uo/RoPUaP1eP0eD1BT9ST9GQ9RU/V0/R0PUPP1LP0bD1Hz+V5PJ8X8EJexIt5CS/lZbycV/BKXsWreQ2v5XW8njfwRt7Em3kLb+VtvJ138E7exbt5D+/lfbyfD/BBPsSH+Qgf5WN8nE/wST7Fp/kMn+VzfJ4v8EV9SV/WV/RVfU1f1zf0TX1L39Z39F19T9/XD/RD/Ug/1k/4KT/j5/xCv9Sv9Gv9Rr/V7/R7/UF/1J/0Z/1Ff9Xf9Hf9Q//Uv/Rv/sN/OUCi/wqoA+nAOogOqoPp4DqEDqlD6dA6jA6rw+nwOoKOqCPpyDqKjqqj6eg6ho6pY+nYOg7H5XgcnxPohDqRTqyT6KQ6mU6uU+iUOpVOrdPotDqdTq8z6Iw6k86ss+isOpvOrnPonDqXzs15OC/n4/xcgAtyIS7MRbgoF+PiXIJLcikuzWW4LJfj8lyBK3IlrsxVuCpX4+pcg2tyLa7Ndbgu1+P63IAbciNuzE24KTfj5tyCW3Irbs1tuC234/bcgf/hf7kjd+LOuovuqrvp7rqH7ql76d66j+7L/bg/D+CBepAerIfooXqYHq5H6JF6lB7NY3isHqfH6wl6op6kJ+speqqepqfrGXqmnqVn8xyey/N4vl6gF+pFerFeopfqZXq5XqFX6lV6tV6j1/I6Xs8beCNv4s28hbfyNt7OO3gn7+LdvIf38j7ezwf4IB/iw3yEj/IxPs4n+CSf4tN8hs/yOT7PF/giX+LLfIWv8jW+zjf4Jt/i23yH7/I9vs8P+KF+pB/rJ/qpfqaf6xf6pX6lX+s3+q1+p9/rD/qj/qQ/6y/6q/6mv+sf+qf+pX/rP/qvDpD4fw/IgTgwB+GgOpgOrkPokDqUDq3D6LA6nA6vI+iIOpKOrKPoqDqajq5j6Jg6lo6t4+i4Op6OrxPohDqRTsxJOCkn4+ScglNyKk7NaTgtp+P0nIEzcibOzFk4K2fj7DqHzqlz6dw6j86r8+n8XIALciEurIvoorqYLq5L6JK6lC7NZbgsl+PyXIEr6kq6sq7CVbkaV+cauqaupWtzHa7L9bg+N+CG3IgbcxNuys24ObfgltyKW3MbbsvtuD134H/4X+7Inbgzd+Gu3I27cw/uyb24N/fhvtyP+/MAHsiDeDAP4aE8jIfzCB7Jo3g0j+GxPI7H8wSeyJN4Mk/hqTyNp/MMnsmzeDbP4bk8j+fzAl7Ii3gxL+GlvIyX8wpeyat4Na/htbyO1/MG3sibeDNv4a28jbfzDt7Ju3i33qP36n16vz6gD+pD+rA+oo/yMT7OJ/ikPqVP6zP6rD6nz+sL+qK+pC/zFb7K1/g63+CbfItv8x2+y/f4Pj/gh/yIH/MTfsrP+Dm/4Jf8il/zG37L7/g9f+CP/Ik/8xf+yt/4O//gn/yLf/Mf/ssBkvxXQA7EgTkIB+VgHJxDcEgOxaE5DIflcByeI3BEjsSROQpH5WgcnWNwTI7FsXUcHVfH0/F1Ap1QJ9KJdRKdVCfTyXUKnZJTcWpOw2l1Op1eZ9AZdSadWWfRWXU2nV3n0Dl1Lp2b83Bezsf5uQAX5EJcmItwUS7GxbkEl+RSXJrLcFkux+W5AlfkSlyZq3BVrsbVuQbX5Fpcm+twXa7H9bkBN+RG3JibcFPdTDfXLXRL3Uq31m10W91Ot9cd9D/6X91Rd9KddRfdVXfT3XUP3VP30r11H91X99P99QA9UA/Sg3kID+VhPFyP0CP1KD1aj9Fj9Tg9Xk/QE/UkPVlP0VP1ND1dz9Az9Sw9W8/Rc/U8PV8v0Av1Ir1YL9FL9TK9nFfwSl7Fq/UavVav0+v1Br1Rb9Kb9Ra9VW/T2/UOvVPv0rv1Hr1X79P79QF9kA/xYT7CR/UxfVyf0Cf1KX1an9Fn9Tl9Xl/QF/UlfVlf0Vf1NX1d39A39S19m+/wXb7H9/kBP+RH/Jif8FN+xs/5Bb/kV/ya3/Bbfsfv+QN/5E/8mb/wV/7G3/kH/+Rf/Jv/8F8OkPS/AnIgDsxBOCgH4+AcgkNyKA7NYTgsh+PwHIEjciSOzFE4Kkfj6ByDY3Isjs1xOC7H4/icgBNyIk7MSTgpJ+PknIJTcipOzWk4Lafj9JyBM+pMOrPOorPqbDq7zqFz6lw6t86j8+p8Or8uoAvqQrqwLqKL6mK6uC6hS+pSurQuo8vqcrq8rqAr6kq6sq6iq+pqXJ1rcE2upWvrOrqurqfr6wa6oW6kG+smuqluppvrFrqlbqVb6za6rW6n2+sO+h/9r+6oO+nOuovuqrvp7rqH7ql76d66j+7L/bg/D+CBPIgH8xAeysN4OI/gkTyKR/MYHsvjeDxP4Ik8iSfzFJ7K03g6z+CZPItn8xyey/N4Pi/ghbyIF+sleqleppfrFXqlXqVX6zV6rV6n1+sNeqPepDfrLXqr3qa36x16p96ld+s9eq/ep/frA3yQD/FhPqKP6mP6uD6hT+pT+rQ+o8/qc/q8vqAv6kv6sr6ir+pr+rq+oW/qW/q2vqPv6nv6vn6gH/IjfsxP+Ck/4+f8gl/yK37Nb/gtv+P3/IE/8if+zF/4K3/j7/yDf/Iv/s1/+C8HSPZfATkQB+YgHJSDcXAdQofUoXRoHYbDcjgOzxF0RB1JR9ZRdFSOxtE5BsfkWByb43BcjsfxOQEn5EScmJNwUk7GyTkFp+RUnJrTcFpOx+k5A2fkTJyZs3BWzsbZOQfn5Fycm/NwXs7H+bkAF+RCXJiLcFEuxsW5BJfkUlyay3BZLsfluQJX5EpcmatwVa7G1bkG1+RaXJvrcF2ux/W5ATfkRtyYm3BTbsbNuQW35FbcmttwW27H7bkD/8P/ckfuxJ25C3flbtyde3BP7sW9uQ/35X7cnwfwQB7Eg3kID+VhPJxH8EgexaN5DI/lcTyeJ/BEnsSTeQpP5Wk8nWfwTJ7Fs3kOz+V5PJ8X8EJexIt5CS/lZbycV/BKXsWreQ2v5XW8njfwRt7Em3kLb+VtvJ138E7exbt5D+/lfbyfD/BBPsSH+Qgf5WN8nE/wST7Fp/kMn+VzfJ4v8EW+xJf5Cl/la3ydb/BNvsW3+Q7f5Xt8nx/wQ37Ej/kJP+Vn/Jxf8Et+xa/5Db/ld/yeP/BH/sSf+Qt/5W/8nX/wT/7Fv/kP/+UAyf8rIAfiwByEg3IwDs4hOCSH4tAchsNyOA7PETgiR+LIHIWjcjSOzjE4Jsfi2ByH43I8js8JOKFOpBPrJDqpTqaT6xQ6pU6lU+s0Oq1Op9PrDDqjzqQz6yw6q86ms+scnJNzcW7Oo/PqfDq/LqAL6kK6sC6ii+piurguoUvqUrq0LqPL6nK6vK6gK+pKujJX4aq6mq6ua+iaupaurevourqerq8b6Ia6kW6sm+imuhk35xbcklvp1rqNbqvb6fa6g/5H/6s76k66s+6iu+puurvuoXtyL+7Nfbgv9+P+PIAH8iAezEN4KA/j4TyCR/IoHs1jeCyP4/E8gSfyJJ7MU3gqT+PpPINn8iyezXN4Ls/j+byAF/IiXsxLeCkv4+W8glfyKl7Na3gtr+P1vIE38ibezFt4K2/j7XqH3ql36d16j96r9+n9+oA+qA/pw/qIPqqP6eP6hD6pT+nT+ow+q8/p8/qCvqgv8WW+wlf5Gl/nG3yTb+nb+o6+q+/p+/qBfqgf6cf6iX6qn+nn+oV+qV/p1/qNfqvf6ff8gT/yJ/7MX/grf+Pv+of+qX/p3/qP/qsDpPjfA+pAOrAOooPqYDq4DqFD6lA6tA6jw+pwHJ4jcESOxJE5CkflaDq6jqFj6lg6to6j4+p4Or5OoBPqRDqxTqKT6mQ6uU6hU+pUOjWn4bScjtNzBs7ImTgzZ+GsnI2zcw7Oybk4N+fhvJyP83MBLsiFuLAuoovqYrq4LqFL6lK6tC6jy+pyuryuoCvqSrqyrqKr6mq6uq6ha+paXJvrcF2ux/W5ATfkRrqxbqKb6ma6uW6hW+pWurVuo9vqdrq97qD/0f/qjrqT7qy76K66m+7OPbgn9+Le3If7cj/urwfogXqQHqyH6KF6mB6uR+iRepQercfosXqcHq8n6Il6kp6sp+ipehpP5xk8k2fxbJ7Dc3menq8X6IV6kV6sl+ileplerlfolXqVXq3X6LV6nV6vN+iNepPerLforbyNt/MO3sm7eDfv4b28j/fzAT7Ih/gwH+GjfIyP8wk+yaf4NJ/hs3yOz/MFvsiX+DJf4at8ja/zDb7Jt/g23+G7+p6+rx/oh/qRfqyf6Kf6mX6uX+iX+pV+zW/4Lb/j9/yBP/In/sxf+Ct/4+/8g3/qX/q3/qP/6gAp//eAOpAOzEE4KAfj4ByCQ3IoDq3D6LA6nA6vI+iIOpKOrKPoqDqajq5j6Jg6lo6t4+i4Oh7H5wSckBNxYk7CSTmZTq5T6JQ6lU6t0+i0Op1OrzPojDqTzqyz6Kw6m86uc+icOpfOrfPovDqfzs8FuCAX4sJchItyMS6uS+iSupQurcvosrqcLq8r6IpciStzFa7K1bg61+CaXItrcx2uy/W4PjfghtyIG3MTbsrNuDm34JbciltzG27L7bg9d+B/9L+6o+6kO+suuqvuprvrHrqn7qV76z66r+6n++sBeqAepAfrIXqoHsbDeQSP5FE8msfwWB6nx+sJeqKepCfrKXqqnqan6xl6pp6lZ+s5eq6ep+frBXqhXqQX6yV6KS/j5byCV/IqXs1reK1ep9frDXqj3qQ36y16q96mt+sdeqfepXfrPXqv3qf36wP6oD6kD+sjfJSP8XE+wSf5FJ/mM/qsPqfP6wv6or6kL+sr+qq+pq/rG/qmvqVv6zv6rr6n7+sH+qF+pB/zE37Kz/g5v+CX/Ipf8xt+y+/4PX/gj/yJP/MX/srf+Dv/4J/8i3/zH/7LAVL9V0AOxIE5CAflYBycQ3BIDsWhOQyH5XAcniNwRI7EkTkKR+VoHJ1jcEyOxbE5DsfV8XR8nUAn1Il0Yp1EJ9XJdHKdQqfUqXRqnUan1el0ep1BZ9SZdGadhbNyNs7OOTgn5+LcnEfn1fl0fl1AF9SFdGFdRBfVxXRxXUKX1KV0aV1Gl9XldHldQVfUlXRlrsJVuRpX5xpck2txbV1H19X1dH3dQDfUjXRj3UQ31c10c91Ct9StdGvdRrfV7XR73UH/o//ljtyJO3MX7srduDv30D11L91b99F9dT/dXw/QA/UgPVgP0UP1MD1cj9Aj9Sg9Wo/RY/U4PZ4n8ESexJN5Ck/laTydZ/BMnsWzeQ7P5Xk8nxfwQl7Ei3kJL+VlvJxX8Epexat5Da/ldbyeN/BG3sSbeQtv5W28nXfwTt7Fu3kP7+V9vF8f0Af1IX1YH9FH9TF9XJ/QJ/UpfVqf0Wf1OX1eX9AX9SV9WV/RV/U1fV3f0Df1LX1b3+G7fI/v8wN+yI/4MT/RT/Uz/Vy/0C/1K/1av9Fv9Tv9Xn/QH/Un/Vl/0V/5G3/nH/xT/9K/9R/9VwdI/b8H1IF0YB1EB9XBdHAdQofUoXRoHUaH1eF0eB1BR9SRODJH4agcjaNzDI7JsXRsHUfH1fF0fJ1AJ9SJdGKdRCfVyXRynUKn1Kl0ap1Gp9XpdHqdQWfkTJyZs3BWzsbZOQfn1Ll0bp1H59X5dH5dQBfUhXRhXUQX1cV0cV1Cl9Sl+P8A/bc5anicXcVDFBgGAkDB2HaapLHNxrZt27Zt27Zt27Zt29n3tv/SP5cpnjLA/5XQJXUpXVqX0WW5HJfnClyRK3FlrsJVdTVdXdfQNXUtXVvX0XV1PV1fN9ANdSPdWDfRTbkZN+cW3JJbcWvdRrfV7XR73UF31J10Z91Fd9XddHfdQ/fUvXRv3Uf31f10fz2AB/IgHsxDeCgP4+E8Qo/Uo/RoPUaP1eP0eD1BT9ST9GQ9RU/V0/R0PUPP1LP0bD2H5/I8ns8LeCEv4sW8hJfyMl7OK3glr+LVvIbX8jpezxt4I2/izbyFt/I23s47eCfv4t28h/fyPt7PB/ggH9KH9RF9VB/Tx/UJfVKf0qf1GX1Wn9Pn9QV9UV/Sl/UVfVVf09f1DX2Tb/FtvsN3+R7f5wf8UD/Sj/UT/VQ/08/1C/1Sv9Kv9Rv9Vr/T7/UH/VF/0p/1F/1Vf9Pf9Q/+yb/4N//hAKn+LSAH4sA6iA6qg+ngOoQOqUPp0DqMDqvD6fA6go6oI+nIOoqOqqPp6DqGjqn/4lgcm+Pw3xyX43F8TqAT6kQ6sU6ik+pkOrlOoVPqVDq1TqPT6nQ6vc6gM+pMOrPOov/RWTkbZ+ccnJNzcW7Ow3k5H+fnAlyQC3FhXUQX1cV0cV1Cl9SldGldRpfV5XR5XUFX5EpcmatwVa7G1bkG19S1dG1dR9fV9XR93UA31I10Y91EN9XNdHPdQrfUrXRr3Ua31e10e91Bd9SddGfdRXfV3XR33UP35F7cm/twX+7H/XkAD+RBPJiH8FAexsP1CD1Sj9Kj9Rg9Vo/T4/UEPZEn8WSewlN5Gk/nGTyTZ/FsnsNzeR7P5wW8kBfxYl7CS3kZL+cVvJJX8Wpew2t5Ha/nDbyRN/Fm3sJbeRtv5x28k3fxbt7De3kf7+cDfJAP8WF9RB/Vx/RxfUKf1Kf0aX1Gn9Xn9Hl9QV/Ul/RlfUVf1df0dX1D39S39G19R9/V9/R9/UA/1I/4MT/hp/yMn/MLfsmv9Gv9Rr/V7/R7/UF/1J/0Z/1Ff9Xf9Hf9Q//Uv/Rv/UcHSP3fA+pAOrAOooPqYDq4DqFD6lA6tA7DYTkch+cIHJEjcWSOoqPqaDq6jqFj6r90LB1bx9F/67g6no6vE+iEOpFOrJPopDqZTq5T6JQ6lU6t0+i0Op1OrzPojJyJM3MW/oezcjadXefQOXUunVvn0Xl1Pp1fF9AFdSFdWBfRRXUxXVyX0CV1KV1al9FldTldXlfQFXUlXVlX0VW5GlfnGlyTa3FtrsN1dT1dXzfQDXUj3Vg30U11M91ct9AtdSvdWrfRbXU73V530B11J91Zd9FddTfdXffQPXUv3Vv34b7cj/vzAB7Ig3gwD9FD9TA9XI/QI/UoPVqP0WP1OD1eT9AT9SQ9WU/RU/U0PV3P0DP1LD1bz9Fz9Tw9Xy/QC/UivZiX8FJexst5Ba/kVbya1/BaXsfreQNv5E28mbfwVt7G23kH7+RdvJv38F7ex/v5AB/kQ3yYj/BRPsbH+QSf5FN8ms/wWT7H5/kCX+RLfJmv8FW+xtf5Bt/kW3yb7/Bdvsf3+QE/1I/0Y/1EP9XP9HP9Qr/Ur/Rr/Ua/1e/0e/1Bf9Sf9Gf9RX/V3/R3/UP/1L/0b/1HB0jz3wPqQByYg3BQDsbBOQSH5FAcmsNwWA7H4TkCR+RIHJmjcFSOxtE5BsfkvzgWx+Y4/DfH5XgcnxNwQk7EiTkJJ+VknJxTcEpOxak5DafldJyeM3BGzsSZOQv/w1k5G2fnHJyTc3FuzsN5OR/n5wJckAtxYS7CRbkYF+cSXJJLcWkuw2W5HJfnClyRK3FlrsJVuRpX5xpck2txba7Ddbke1+cG3JAbcWNuwk25GTfnFtySW3FrbsNtuR235w7ckTtxZ+7CXbkbd+ce3JN7cW/uw325H/fnATyQB/FgHsJDeRgP5xE8kkfxaB7DY3kcj+cJPJEn8WSewlN5Gk/nGTyTZ/FsnsNzeR7P5wW8kBfxYl7CS3kZL9cr9Eq9Sq/Wa/RavU6v1xv0Rr1Jb9Zb9Fa9TW/XO/ROvUvv1nv0Xr1P79cH9EF9SB/WR/RRfUwf1yf0SX1Kn9Zn9Fl9Tp/XF/RFfUlf1lf0Vb7G1/kG3+RbfJvv8F19T9/XD/ghP+LH/ISf8jN+zi/0S/1Kv9Zv9Ft+x+/5A3/kT/yZv/BX/U1/1z/0T/1L/9Z/dIC0/z2gDqQD6yA6qA6mg+sQOqQOpUPrMDqsDqfD6wg6oo6kI+soOqqOpqPrGDqm/kvH0rF1HP6b43I8js8JOCEn4sSchJNyMk7OKTglp+LUnIbTcjpOzxk4I2fizJyF/+GsnI2zcw7Oybk4N+fhvJyP83MBLsiFuDAX4aJcjItzCS7Jpbg0l+GyXI7LcwWuyJW4MlfhqlyNq3MNrsm1uDbX4bpcj+tzA27IjbgxN+Gm3Iybcwtuya24NbfhttyO23MH7siduDN34a7cjbtzD+7Jvbg39+G+3I/78wAeyIN4MA/hoTyMh/MIHsmjeDSP4bE8jsfzBJ7Ik3gyT+GpPI2n8wyeybN4Ns/huTyP5/MCXsiLeDEv4aW8jJfzCl7Jq3g1r+G1vI7X8wbeyJt4M2/hrbyNt/MO3sm7eDfv4b28j/fzAT7Ih/gwH+GjfIyP8wk+yaf4NJ/hs3yOz/MFvsiX+DJf4at8ja/zDb7Jt/g23+G7fI/v8wN+yI/4MT/hp/yMn/MLfsmv+DW/4bf8jt/zB/7In/gzf+Gv/I2/8w/+yb/4N//hAOn+LSAH4sAchINyMA7OITgkh+LQHIbDcjgOzxE4IkfiyPw/nUWt7w==AwAAAACAAAA4GwAApBYAAKAWAAAGBQAAeJw1/eErMG4YBmY/MzPzmpmZec1MkiRJkiRJkiRJkiRJkiRJkiRJkiRJkiRJkiRJkiRJkiRJkiRJT5IkSZIk7cNz/O4vx99w3/d1nWfAn38nkEEMZghDGcZwRjCSUYxmDGMZx3gmMJFJTGYKU5nGdGYwk1nMZg5zmcd8FrCQRSxmCUtZxnJWsJJVrGYNa1nHejawkU1sZgtb2cZ2drCTXexmD3vZx34OcJBDHOYIRznGcU5wklOc5gxnOcd5LnCRS1zmCle5xnVucJNb3OYOd7nHfR7wkEc85glPecZzXvCSV7zmDW95x3v+5QMf+cRnvvCVb3znBz/5xW/+8Jd//od/BDCQQQxmCEMZxnBGMJJRjGYMYxnHeCYwkUlMZgpTmcZ0ZjCTWcxmDnOZx3wWsJBFLGYJS1nGclawklWsZg1rWcd6NrCRTWxmC1vZxnZ2sJNd7GYPe9nHfg5wkEMc5ghHOcZxTnCSU5zmDGc5x3kucJFLXOYKV7nGdW5wk1vc5g53ucd9HvCQRzzmCU95xnNe8JJXvOYNb3nHe/7lAx/5xGe+8JVvfOcHP/nFb/7wl38CwEAGMZghDGUYwxnBSEYxmjGMZRzjmcBEJjGZKUxlGtOZwUxmMZs5zGUe81nAQhaxmCUsZRnLWcFKVrGaNaxlHevZwEY2sZktbGUb29nBTnaxmz3sZR/7OcBBDnGYIxzlGMc5wUlOcZoznOUc57nARS5xmStc5RrXucFNbnGbO9zlHvd5wEMe8ZgnPOUZz3nBS17xmje85R3v+ZcPfOQTn/nCV77xnR/85Be/+cNf/vkf/xHAQAYxmCEMZRjDGcFIRjGaMYxlHOOZwEQmMZkpTGUa05nBTGYxmznMZR7zWcBCFrGYJSxlGctZwUpWsZo1rGUd69nARjaxmS1sZRvb2cFOdrGbPexlH/s5wEEOcZgjHOUYxznBSU5xmjOc5RznucBFLnGZK1zlGte5wU1ucZs73OUe93nAQx7xmCc85RnPecFLXvGaN7zlHe/5lw985BOf+cJXvvGdH/zkF7/5w1/+d+EPYCCDGMwQhjKM4YxgJKMYzRjGMo7xTGAik5jMFKYyjenMYCazmM0c5jKP+SxgIYtYzBKWsozlrGAlq1jNGtayjvVsYCOb2MwWtrKN7exgJ7vYzR72so/9HOAghzjMEY5yjOOc4CSnOM0ZznKO81zgIpe4zBWuco3r3OAmt7jNHe5yj/s84CGPeMwTnvKM57zgJa94zRve8o73/MsHPvKJz3zhK9/4zg9+8ovf/OEv//xP/whgIIMYzBCGMozhjGAkoxjNGMYyjvFMYCKTmMwUpjKN6cxgJrOYzRzmMo/5LGAhi1jMEpayjOWsYCWrWM0a1rKO9WxgI5vYzBa2so3t7GAnu9jNHvayj/0c4CCHOMwRjnKM45zgJKc4zRnOco7zXOAil7jMFa5yjevc4Ca3uM0d7nKP+zzgIY94zBOe8oznvOAlr3jNG97yjvf8ywc+8onPfOEr3/jOD37yi9/84S//e+gPYCCDGMwQhjKM4YxgJKMYzRjGMo7xTGAik5jMFKYyjenMYCazmM0c5jKP+SxgIYtYzBKWsozlrGAlq1jNGtayjvVsYCOb2MwWtrKN7exgJ7vYzR72so/9HOAghzjMEY5yjOOc4CSnOM0ZznKO81zgIpe4zBWuco3r3OAmt7jNHe5yj/s84CGPeMwTnvKM57zgJa94zRve8o73/MsHPvKJz3zhK9/4zg9+8ovf/OEv//zP/whgIIMYzBCGMozhjGAkoxjNGMYyjvFMYCKTmMwUpjKN6cxgJrOYzRzmMo/5LGAhi1jMEpayjOWsYCWrWM0a1rKO9WxgI5vYzBa2so3t7GAnu9jNHvayj/0c4CCHOMwRjnKM45zgJKc4zRnOco7zXOAil7jMFa5yjevc4Ca3uM0d7nKP+zzgIY94zBOe8oznvOAlr3jNG97yjvf8ywc+8onPfOEr3/jOD37yi9/84S//++APYCCDGMwQhjKM4YxgJKMYzRjGMo7xTGAik5jMFKYyjenMYCazmM0c5jKP+SxgIYtYzBKWsozlrGAlq1jNGtayjvVsYCOb2MwWtrKN7exgJ7vYzR72so/9HOAghzjMEY5yjOOc4CSnOM0ZznKO81zgIpe4zBWuco3r3OAmt7jNHe5yj/s84CGPeMwTnvKM57zgJa94zRve8o73/MsHPvKJz3zhK9/4zg9+8ovf/OEv//wv/whgIIMYzBCGMozhjGAkoxjNGMYyjvFMYCKTmMwUpjKN6cxgJrOYzRzmMo/5LGAhi1jMEpayjOWsYCWrWM0a1rKO9WxgI5vYzBa2so3t7GAnu9jNHvayj/0c4CCHOMwRjnKM45zgJKc4zRnOco7zXOAil7jMFa5yjevc4Ca3uM0d7nKP+zzgIY94zBOe8oznvOAlr3jNG97yjvf8ywc+8onPfOEr3/jOD37yi9/84S//G+wLYCCDGMwQhjKM4YxgJKMYzRjGMo7xTGAik5jMFKYyjenMYCazmM0c5jKP+SxgIYtYzBKWsozlrGAlq1jNGtayjvVsYCOb2MwWtrKN7exgJ7vYzR72so/9HOAghzjMEY5yjOOc4CSnOM0ZznKO81zgIpe4zBWuco3r3OAmt7jNHe5yj/s84CGPeMwTnvKM57zgJa94zRve8o73/MsHPvKJz3zhK9/4zg9+8ovf/OEv//z//hHAQAYxmCEMZRjDGcFIRjGaMYxlHOOZwEQmMZkpTGUa05nBTGYxmznMZR7zWcBCFrGYJSxlGctZwUpWsZo1rGUd69nARjaxmS1sZRvb2cFOdrGbPexlH/s5wEEOcZgjHOUYxznBSU5xmjOc5RznucBFLnGZK1zlGte5wU1ucZs73OUe93nAQx7xmCc85RnPecFLXvGaN7zlHe/5lw985BOf+cJXvvGdH/zkF7/5w1/+N9AfwEAGMZghDGUYwxnBSEYxmjGMZRzjmcBEJjGZKUxlGtOZwUxmMZs5zGUe81nAQhaxmCUsZRnLWcFKVrGaNaxlHevZwEY2sZktbGUb29nBTnaxmz3sZR/7OcBBDnGYIxzlGMc5wUlOcZoznOUc57nARS5xmStc5RrXucFNbnGbO9zlHvd5wEMe8ZgnPOUZz3nBS17xmje85R3v+ZcPfOQTn/nCV77xnR/85Be/+cNf/vlf/xHAQAYxmCEMZRjDGcFIRjGaMYxlHOOZwEQmMZkpTGUa05nBTGYxmznMZR7zWcBCFrGYJSxlGctZwUpWsZo1rGUd69nARjaxmS1sZRvb2cFOdrGbPexlH/s5wEEOcZgjHOUYxznBSU5xmjOc5RznucBFLnGZK1zlGte5wU1ucZs73OUe93nAQx7xmCc85RnPecFLXvGaN7zlHe/5lw985BOf+cJXvvGdH/zkF7/5w1/+t8gXwEAGMZghDGUYwxnBSEYxmjGMZRzjmcBEJjGZKUxlGtOZwUxmMZs5zGUe81nAQhaxmCUsZRnLWcFKVrGaNaxlHevZwEY2sZktbGUb29nBTnaxmz3sZR/7OcBBDnGYIxzlGMc5wUlOcZoznOUc57nARS5xmStc5RrXucFNbnGbO9zlHvd5wEMe8ZgnPOUZz3nBS17xmje85R3v+ZcPfOQTn/nCV77xnR/85Be/+cNf/vnf/hHAQAYxmCEMZRjDGcFIRjGaMYxlHOOZwEQmMZkpTGUa05nBTGYxmznMZR7zWcBCFrGYJSxlGctZwUpWsZo1rGUd69nARjaxmS1sZRvb2cFOdrGbPexlH/s5wEEOcZgjHOUYxznBSU5xmjOc5RznucBFLnGZK1zlGte5wU1ucZs73OUe93nAQx7xmCc85RnPecFLXvGaN7zlHe/5lw985BOf+cJXvvGdH/zkF7/5w1/+t8AfwEAGMZghDGUYwxnBSEYxmjGMZRzjmcBEJjGZKUxlGtOZwUxmMZs5zGUe81nAQhaxmCUsZRnLWcFKVrGaNaxlHevZwEY2sZktbGUb29nBTnaxmz3sZR/7OcBBDnGYIxzlGMc5wUlOcZoznOUc57nARS5xmStc5RrXucFNbnGbO9zlHvd5wEMe8ZgnPOUZz3nBS17xmje85R3v+ZcPfOQTn/nCV77xnR/85Be/+cNf/vnf/xHAQAYxmCEMZRjDGcFIRjGaMYxlHOOZwEQmMZkpTGUa05nBTGYxmznMZR7zWcBCFrGYJSxlGctZwUpWsZo1rGUd69nARjaxmS1sZRvb2cFOdrGbPexlH/s5wEEOcZgjHOUYxznBSU5xmjOc5RznucBFLnGZK1zlGte5wU1ucZs73OUe93nAQx7xmCc85RnPecFLXvGaN7zlHe/5lw985BOf+cJXvvGdH/zkF7/5w1/+F9wTwEAGMZghDGUYwxnBSEYxmjGMZRzjmcBEJjGZKUxlGtOZwUxmMZs5zGUe81nAQhaxmCUsZRnLWcFKVrGaNaxlHevZwEY2sZktbGUb29nBTnaxmz3sZR/7OcBBDnGYIxzlGMc5wUlOcZoznOUc57nARS5xmStc5RrXucFNbnGbO9zlHvd5wEMe8ZgnPOUZz3nBS17xmje85R3v+ZcPfOQTn/nCV77xnR/85Be/+cNf/vk//hHAQAYxmCEMZRjDGcFIRjGaMYxlHOOZwEQmMZkpTGUa05nBTGYxmznMZR7zWcBCFrGYJSxlGctZwUpWsZo1rGUd69nARjaxmS1sZRvb2cFOdrGbPexlH/s5wEEOcZgjHOUYxznBSU5xmjOc5RznucBFLnGZK1zlGte5wU1ucZs73OUe93nAQx7xmCc85RnPecFLXvGaN7zlHe/5lw985BOf+cJXvvGdH/zkF7/5w1/+F9gXwEAGMZghDGUYwxnBSEYxmjGMZRzjmcBEJjGZKUxlGtOZwUxmMZs5zGUe81nAQhaxmCUsZRnLWcFKVrGaNaxlHevZwEY2sZktbGUb29nBTnaxmz3sZR/7OcBBDnGYIxzlGMc5wUlOcZoznOUc57nARS5xmStc5RrXucFNbnGbO9zlHvd5wEMe8ZgnPOUZz3nBS17xmje85R3v+ZcPfOQTn/nCV77xnR/85Be/+cNf/vk//xHAQAYxmCEMZRjDGcFIRjGaMYxlHOOZwEQmMZkpTGUa05nBTGYxmznMZR7zWcBCFrGYJSxlGctZwUpWsZo1rGUd69nARjaxmS1sZRvb2cFOdrGbPexlH/s5wEEOcZgjHOUYxznBSU5xmjOc5RznucBFLnGZK1zlGte5wU1ucZs73OUe93nAQx7xmCc85RnPecFLXvGaN7zlHe/5lw985BOf+cJXvvGdH/zkF7/5w1/+F9QbwEAGMZghDGUYwxnBSEYxmjGMZRzjmcBEJjGZKUxlGtOZwUxmMZs5zGUe81nAQhaxmCUsZRnLWcFKVrGaNaxlHevZwEY2sZktbGUb29nBTnaxmz3sZR/7OcBBDnGYIxzlGMc5wUlOcZoznOUc57nARS5xmStc5RrXucFNbnGbO9zlHvd5wEMe8ZgnPOUZz3nBS17xmje85R3v+ZcPfOQTn/nCV77xnR/85Be/+cNf/vm//hHAQAYxmCEMZRjDGcFIRjGaMYxlHOOZwEQmMZkpTGUa05nBTGYxmznMZR7zWcBCFrGYJSxlGctZwUpWsZo1rGUd69nARjaxmS1sZRvb2cFOdrGbPexlH/s5wEEOcZgjHOUYxznBSU5xmjOc5RznucBFLnGZK1zlGte5wU1ucZs73OUe93nAQx7xmCc85RnPecFLXvGaN7zlHe/5lw985BOf+cJXvvGdH/zkF7/5w1/+F9AfwEAGMZghDGUYwxnBSEYxmjGMZRzjmcBEJjGZKUxlGtOZwUxmMZs5zGUe81nAQhaxmCUsZRnLWcFKVrGaNaxlHevZwEY2sZktbGUb29nBTnaxmz3sZR/7OcBBDnGYIxzlGMc5wUlOcZoznOUc57nARS5xmStc5RrXucFNbnGbO9zlHvd5wEMe8ZgnPOUZz3nBS17xmje85R3v+ZcPfOQTn/nCV77xnR/85Be/+cNf/vn//yOAgQxiMEMYyjCGM4KRjGI0YxjLOMYzgYlMYjJTmMo0pjODmcxiNnOYyzzms4CFLGIxS1jKMpazgpWsYjVrWMs61rOBjWxiM1vYyja2s4Od7GI3e9jLPvZzgIMc4jBHOMoxjnOCk5ziNGc4yznOc4GLXOIyV7jKNa5zg5vc4jZ3uMs97vOAhzziMU94yjOe84KXvOI1b3jLO97zLx/4yCc+84WvfOM7P/jJL37zh7/8r5gngIEMYjBDGMowhjOCkYxiNGMYyzjGM4GJTGIyU5jKNKYzg5nMYjZzmMs85rOAhSxiMUtYyjKWs4KVrGI1a1jLOtazgY1sYjNb2Mo2trODnexiN3vYyz72c4CDHOIwRzjKMY5zgpOc4jRnOMs5znOBi1ziMle4yjWuc4Ob3OI2d7jLPe7zgIc84jFPeMoznvOCl7ziNW94yzve8y8f+MgnPvOFr3zjOz/4yS9+84e//PN//yOAgQxiMEMYyjCGM4KRjGI0YxjLOMYzgYlMYjJTmMo0pjODmcxiNnOYyzzms4CFLGIxS1jKMpazgpWsYjVrWMs61rOBjWxiM1vYyja2s4Od7GI3e9jLPvZzgIMc4jBHOMoxjnOCk5ziNGc4yznOc4GLXOIyV7jKNa5zg5vc4jZ3uMs97vOAhzziMU94yjOe84KXvOI1b3jLO97zLx/4yCc+84WvfOM7P/jJL37zh7/8r5AvgIEMYjBDGMowhjOCkYxiNGMYyzjGM4GJTGIyU5jKNKYzg5nMYjZzmMs85rOAhSxiMUtYyjKWs4KVrGI1a1jLOtazgY1sYjNb2Mo2trODnexiN3vYyz72c4CDHOIwRzjKMY5zgpOc4jRnOMs5znOBi1ziMle4yjWuc4Ob3OI2d7jLPe7zgIc84jFPeMoznvOCl7ziNW94yzve8y8f+MgnPvOFr3zjOz/4yS9+84e//PP//COAgQxiMEMYyjCGM4KRjGI0YxjLOMYzgYlMYjJTmMo0pjODmcxiNnOYyzzms4CFLGIxS1jKMpazgpWsYjVrWMs61rOBjWxiM1vYyja2s4Od7GI3e9jLPvZzgIMc4jBHOMoxjnOCk5ziNGc4yznOc4GLXOIyV7jKNa5zg5vc4jZ3uMs97vOAhzziMU94yjOe84KXvOI1b3jLO97zLx/4yCc+84WvfOM7P/jJL37zh7/8r4g3gIEMYjBDGMowhjOCkYxiNGMYyzjGM4GJTGIyU5jKNKYzg5nMYjZzmMs85rOAhSxiMUtYyjKWs4KVrGI1a1jLOtazgY1sYjNb2Mo2trODnexiN3vYyz72c4CDHOIwRzjKMY5zgpOc4jRnOMs5znOBi1ziMle4yjWuc4Ob3OI2d7jLPe7zgIc84jFPeMoznvOCl7ziNW94yzve8y8f+MgnPvOFr3zjOz/4yS9+84e//PP//iOAgQxiMEMYyjCGM4KRjGI0YxjLOMYzgYlMYjJTmMo0pjODmcxiNnOYyzzms4CFLGIxS1jKMpazgpWsYjVrWMs61rOBjWxiM1vYyja2s4Od7GI3e9jLPvZzgIMc4jBHOMoxjnOCk5ziNGc4yznOc4GLXOIyV7jKNa5zg5vc4jZ3uMs97vOAhzziMU94yjOe84KXvOI1b3jLO97zLx/4yCc+84WvfOM7P/jJL37zh7/8E/+P/w8HS+iZeJwtxVEoKAAAGFpJ0k2SJEkyM88z8zwzMzOTJEmSJEmSJEmSJEmSJEmSJEmSJEmSJEk3SZIkSZIk6SZJkiRJWs05PycwPuD/CnKwQ/zHoQ5zuCMc6ShHO8axjnO8E5zoJCc7xalOc7oznOksZzvHuc5zvgtc6CIXu8SlLnO5K1zpKle7xrWuc70b3OgmN7vFrW5zuzvc6S53u8e97nO/BzzoIQ97xKMe87gnPOkpT3vGs57zvBe86CUve8WrXvO6N7zpLW97x7v+6z3v+8CHPvKxT3zqM5/7wpe+8rVvfOs73/ufH/zoJz/7xa9+87s//Okvf/vHAf/ht0AHOdgh/uNQhzncEY50lKMd41jHOd4JTnSSk53iVKc53RnOdJazneNc5znfBS50kYtd4lKXudwVrnSVq13jWte53g1udJOb3eJWt7ndHe50l7vd4173ud8DHvSQhz3iUY953BOe9JSnPeNZz3neC170kpe94lWved0b3vSWt73jXf/1nvd94EMf+dgnPvWZz33hS1/52je+9Z3v/c8PfvSTn/3iV7/53R/+9Je//eOAhN8CHeRgh/iPQx3mcEc40lGOdoxjHed4JzjRSU52ilOd5nRnONNZznaOc53nfBe40EUudolLXeZyV7jSVa52jWtd53o3uNFNbnaLW93mdne4013udo973ed+D3jQQx72iEc95nFPeNJTnvaMZz3neS940Ute9opXveZ1b3jTW972jnf913ve94EPfeRjn/jUZz73hS995Wvf+NZ3vvc/P/jRT372i1/95nd/+NNf/vaPA/7jb4EOcrBD/MehDnO4IxzpKEc7xrGOc7wTnOgkJzvFqU5zujOc6SxnO8e5znO+C1zoIhe7xKUuc7krXOkqV7vGta5zvRvc6CY3u8WtbnO7O9zpLne7x73uc78HPOghD3vEox7zuCc86SlPe8aznvO8F7zoJS97xate87o3vOktb3vHu/7rPe/7wIc+8rFPfOozn/vCl77ytW986zvf+58f/OgnP/vFr37zuz/86S9/+8cBib8FOsjBDvEfhzrM4Y5wpKMc7RjHOs7xTnCik5zsFKc6zenOcKaznO0c5zrP+S5woYtc7BKXuszlrnClq1ztGte6zvVucKOb3OwWt7rN7e5wp7vc7R73us/9HvCghzzsEY96zOOe8KSnPO0Zz3rO817wope87BWves3r3vCmt7ztHe/6r/e87wMf+sjHPvGpz3zuC1/6yte+8a3vfO9/fvCjn/zsF7/6ze/+8Ke//O0fB/yn3wId5GCH+I9DHeZwRzjSUY52jGMd53gnONFJTnaKU53mdGc401nOdo5zned8F7jQRS52iUtd5nJXuNJVrnaNa13neje40U1udotb3eZ2d7jTXe52j3vd534PeNBDHvaIRz3mcU940lOe9oxnPed5L3jRS172ile95nVveNNb3vaOd/3Xe973gQ995GOf+NRnPveFL33la9/41ne+9z8/+NFPfvaLX/3md3/401/+9o8Dkn4LdJCDHeI/DnWYwx3hSEc52jGOdZzjneBEJznZKU51mtOd4UxnOds5znWe813gQhe52CUudZnLXeFKV7naNa51nevd4EY3udktbnWb293hTne52z3udZ/7PeBBD3nYIx71mMc94UlPedoznvWc573gRS952Ste9ZrXveFNb3nbO971X+953wc+9JGPfeJTn/ncF770la9941vf+d7//OBHP/nZL371m9/94U9/+ds/Dvh/fgt0kIMd4j8OdZjDHeFIRznaMY51nOOd4EQnOdkpTnWa053hTGc52znOdZ7zXeBCF7nYJS51mctd4UpXudo1rnWd693gRje52S1udZvb3eFOd7nbPe51n/s94EEPedgjHvWYxz3hSU952jOe9ZznveBFL3nZK171mte94U1veds73vVf73nfBz70kY994lOf+dwXvvSVr33jW9/53v/84Ec/+dkvfvWb3/3hT3/52z8OSP4t0EEOdoj/ONRhDneEIx3laMc41nGOd4ITneRkpzjVaU53hjOd5WznONd5zneBC13kYpe41GUud4UrXeVq17jWda53gxvd5Ga3uNVtbneHO93lbve4133u94AHPeRhj3jUYx73hCc95WnPeNZznveCF73kZa941Wte94Y3veVt73jXf73nfR/40Ec+9olPfeZzX/jSV772jW9953v/84Mf/eRnv/jVb373hz/95W//OOD//S3QQQ52iP841GEOd4QjHeVoxzjWcY53ghOd5GSnONVpTneGM53lbOc413nOd4ELXeRil7jUZS53hStd5WrXuNZ1rneDG93kZre41W1ud4c73eVu97jXfe73gAc95GGPeNRjHveEJz3lac941nOe94IXveRlr3jVa173hje95W3veNd/ved9H/jQRz72iU995nNf+NJXvvaNb33ne//zgx/95Ge/+NVvfveHP/3lb/84IOW3QAc52CH+41CHOdwRjnSUox3jWMc53glOdJKTneJUpzndGc50lrOd41znOd8FLnSRi13iUpe53BWudJWrXeNa17neDW50k5vd4la3ud0d7nSXu93jXve53wMe9JCHPeJRj3ncE570lKc941nPed4LXvSSl73iVa953Rve9Ja3veNd//We933gQx/52Cc+9ZnPfeFLX/naN771ne/9zw9+9JOf/eJXv/ndH/70l7/944D//FuggxzsEP9xqMMc7ghHOsrRjnGs4xzvBCc6yclOcarTnO4MZzrL2c5xrvOc7wIXusjFLnGpy1zuCle6ytWuca3rXO8GN7rJzW5xq9vc7g53usvd7nGv+9zvAQ96yMMe8ajHPO4JT3rK057xrOc87wUvesnLXvGq17zuDW96y9ve8a7/es/7PvChj3zsE5/6zOe+8KWvfO0b3/rO9/7nBz/6yc9+8avf/O4Pf/rL3/5xQOpvgQ5ysEP8x6EOc7gjHOkoRzvGsY5zvBOc6CQnO8WpTnO6M5zpLGc7x7nOc74LXOgiF7vEpS5zuStc6SpXu8a1rnO9G9zoJje7xa1uc7s73Okud7vHve5zvwc86CEPe8SjHvO4JzzpKU97xrOe87wXvOglL3vFq17zuje86S1ve8e7/us97/vAhz7ysU986jOf+8KXvvK1b3zrO9/7nx/86Cc/+8WvfvO7P/zpL3/7xwH/5bdABznYIf7jUIc53BGOdJSjHeNYxzneCU50kpOd4lSnOd0ZznSWs53jXOc53wUudJGLXeJSl7ncFa50latd41rXud4NbnSTm93iVre53R3udJe73eNe97nfAx70kIc94lGPedwTnvSUpz3jWc953gte9JKXveJVr3ndG970lre9413/9Z73feBDH/nYJz71mc994Utf+do3vvWd7/3PD370k5/94le/+d0f/vSXv/3jgLTfAh3kYIf4j0Md5nBHONJRjnaMYx3neCc40UlOdopTneZ0ZzjTWc52jnOd53wXuNBFLnaJS13mcle40lWudo1rXed6N7jRTW52i1vd5nZ3uNNd7naPe93nfg940EMe9ohHPeZxT3jSU572jGc953kveNFLXvaKV73mdW9401ve9o53/dd73veBD33kY5/41Gc+94UvfeVr3/jWd773Pz/40U9+9otf/eZ3f/jTX/72jwP+v98CHeRgh/iPQx3mcEc40lGOdoxjHed4JzjRSU52ilOd5nRnONNZznaOc53nfBe40EUudolLXeZyV7jSVa52jWtd53o3uNFNbnaLW93mdne4013udo973ed+D3jQQx72iEc95nFPeNJTnvaMZz3neS940Ute9opXveZ1b3jTW972jnf913ve94EPfeRjn/jUZz73hS995Wvf+NZ3vvc/P/jRT372i1/95nd/+NNf/vaPA9J/C3SQgx3iPw51mMMd4UhHOdoxjnWc453gRCc52SlOdZrTneFMZznbOc51nvNd4EIXudglLnWZy13hSle52jWudZ3r3eBGN7nZLW51m9vd4U53uds97nWf+z3gQQ952CMe9ZjHPeFJT3naM571nOe94EUvedkrXvWa173hTW952zve9V/ved8HPvSRj33iU5/53Be+9JWvfeNb3/ne//zgRz/52S9+9Zvf/eFPf/nbPw74/38LdJCDHeI/DnWYwx3hSEc52jGOdZzjneBEJznZKU51mtOd4UxnOds5znWe813gQhe52CUudZnLXeFKV7naNa51nevd4EY3udktbnWb293hTne52z3udZ/7PeBBD3nYIx71mMc94UlPedoznvWc573gRS952Ste9ZrXveFNb3nbO971X+953wc+9JGPfeJTn/ncF770la9941vf+d7//OBHP/nZL371m9/94U9/+ds/Dsj4LdBBDnaI/zjUYQ53hCMd5WjHONZxjneCE53kZKc41WlOd4YzneVs5zjXec53gQtd5GKXuNRlLneFK13late41nWud4Mb3eRmt7jVbW53hzvd5W73uNd97veABz3kYY941GMe94QnPeVpz3jWc573ghe95GWveNVrXveGN73lbe9413+9530f+NBHPvaJT33mc1/40le+9o1vfed7//ODH/3kZ7/41W9+94c//eVv/zjgv/4W6CAHO8R/HOowhzvCkY5ytGMc6zjHO8GJTnKyU5zqNKc7w5nOcrZznOs857vAhS5ysUtc6jKXu8KVrnK1a1zrOte7wY1ucrNb3Oo2t7vDne5yt3vc6z73e8CDHvKwRzzqMY97wpOe8rRnPOs5z3vBi17ysle86jWve8Ob3vK2d7zrv97zvg986CMf+8SnPvO5L3zpK1/7xre+873/+cGPfvKzX/zqN7/7w5/+8rd/HJD5W6CDHOwQ/3GowxzuCEc6ytGOcazjHO8EJzrJyU5xqtOc7gxnOsvZznGu85zvAhe6yMUucanLXO4KV7rK1a5xretc7wY3usnNbnGr29zuDne6y93uca/73O8BD3rIwx7xqMc87glPesrTnvGs5zzvBS96ycte8arXvO4Nb3rL297xrv96z/s+8KGPfOwTn/rM577wpa987Rvf+s73/ucHP/rJz37xq9/87g9/+svf/nHAf/st0EEOdoj/ONRhDneEIx3laMc41nGOd4ITneRkpzjVaU53hjOd5WznONd5zneBC13kYpe41GUud4UrXeVq17jWda53gxvd5Ga3uNVtbneHO93lbve4133u94AHPeRhj3jUYx73hCc95WnPeNZznveCF73kZa941Wte94Y3veVt73jXf73nfR/40Ec+9olPfeZzX/jSV772jW9953v/84Mf/eRnv/jVb373hz/95W//OCDrt0AHOdgh/uNQhzncEY50lKMd41jHOd4JTnSSk53iVKc53RnOdJazneNc5znfBS50kYtd4lKXudwVrnSVq13jWte53g1udJOb3eJWt7ndHe50l7vd4173ud8DHvSQhz3iUY953BOe9JSnPeNZz3neC170kpe94lWved0b3vSWt73jXf/1nvd94EMf+dgnPvWZz33hS1/52je+9Z3v/c8PfvSTn/3iV7/53R/+9Je//eOA//5boIMc7BD/cajDHO4IRzrK0Y5xrOMc7wQnOsnJTnGq05zuDGc6y9nOca7znO8CF7rIxS5xqctc7gpXusrVrnGt61zvBje6yc1ucavb3O4Od7rL3e5xr/vc7wEPesjDHvGoxzzuCU96ytOe8aznPO8FL3rJy17xqte87g1vesvb3vGu/3rP+z7woY987BOf+sznvvClr3ztG9/6zvf+5wc/+snPfvGr3/zuD3/6y9/+cUD2b4EOcrBD/MehDnO4IxzpKEc7xrGOc7wTnOgkJzvFqU5zujOc6SxnO8e5znO+C1zoIhe7xKUuc7krXOkqV7vGta5zvRvc6CY3u8WtbnO7O9zpLne7x73uc78HPOghD3vEox7zuCc86SlPe8aznvO8F7zoJS97xate87o3vOktb3vHu/7rPe/7wIc+8rFPfOozn/vCl77ytW986zvf+58f/OgnP/vFr37zuz/86S9/+8cB/+O3QAc52CH+41CHOdwRjnSUox3jWMc53glOdJKTneJUpzndGc50lrOd41znOd8FLnSRi13iUpe53BWudJWrXeNa17neDW50k5vd4la3ud0d7nSXu93jXve53wMe9JCHPeJRj3ncE570lKc941nPed4LXvSSl73iVa953Rve9Ja3veNd//We933gQx/52Cc+9ZnPfeFLX/naN771ne/9zw9+9JOf/eJXv/ndH/70l7/944Cc3wId5GCH+I9DHeZwRzjSUY52jGMd53gnONFJTnaKU53mdGc401nOdo5zned8F7jQRS52iUtd5nJXuNJVrnaNa13neje40U1udotb3eZ2d7jTXe52j3vd534PeNBDHvaIRz3mcU940lOe9oxnPed5L3jRS172ile95nVveNNb3vaOd/3Xe973gQ995GOf+NRnPveFL33la9/41ne+9z8/+NFPfvaLX/3md3/401/+9o8D/udvgQ5ysEP8x6EOc7gjHOkoRzvGsY5zvBOc6CQnO8WpTnO6M5zpLGc7x7nOc74LXOgiF7vEpS5zuStc6SpXu8a1rnO9G9zoJje7xa1uc7s73Okud7vHve5zvwc86CEPe8SjHvO4JzzpKU97xrOe87wXvOglL3vFq17zuje86S1ve8e7/us97/vAhz7ysU986jOf+8KXvvK1b3zrO9/7nx/86Cc/+8WvfvO7P/zpL3/7xwG5vwU6yMEO8R+HOszhjnCkoxztGMc6zvFOcKKTnOwUpzrN6c5wprOc7RznOs/5LnChi1zsEpe6zOWucKWrXO0a17rO9W5wo5vc7Ba3us3t7nCnu9ztHve6z/0e8KCHPOwRj3rM457wpKc87RnPes7zXvCil7zsFa96zeve8Ka3vO0d7/qv97zvAx/6yMc+8anPfO4LX/rK177xre98739+8KOf/OwXv/rN7/7wp7/87R8H/K/fAh3kYIf4j0Md5nBHONJRjnaMYx3neCc40UlOdopTneZ0ZzjTWc52jnOd53wXuNBFLnaJS13mcle40lWudo1rXed6N7jRTW52i1vd5nZ3uNNd7naPe93nfg940EMe9ohHPeZxT3jSU572jGc953kveNFLXvaKV73mdW9401ve9o53/dd73veBD33kY5/41Gc+94UvfeVr3/jWd773Pz/40U9+9otf/eZ3f/jTX/72jwPyfgt0kIMd4j8OdZjDHeFIRznaMY51nOOd4EQnOdkpTnWa053hTGc52znOdZ7zXeBCF7nYJS51mctd4UpXudo1rnWd693gRje52S1udZvb3eFOd7nbPe51n/s94EEPedgjHvWYxz3hSU952jOe9ZznveBFL3nZK171mte94U1veds73vVf73nfBz70kY994lOf+dwXvvSVr33jW9/53v/84Ec/+dkvfvWb3/3hT3/52z8O+N+/BTrIwQ7xH4c6zOGOcKSjHO0YxzrO8U5wopOc7BSnOs3pznCms5ztHOc6z/kucKGLXOwSl7rM5a5wpatc7RrXus71bnCjm9zsFre6ze3ucKe73O0e97rP/R7woIc87BGPeszjnvCkpzztGc96zvNe8KKXvOwVr3rN697wpre87R3v+q/3vO8DH/rIxz7xqc987gtf+srXvvGt73zvf37wo5/87Be/+s3v/vCnv/ztHwfk//Z/AIgO6Ld4nC3FUUQgAKIAwCRJkiRJkiRJkiRJkl7XJUmSJEmSJEmSJEmSJEmSJEmSJEmSJEmSJEmSJMlaSZIkyUqS4zXzM4EFAf8vyMEOcajDHO4IRzrK0Y5xrOMc7wQnOsnJTnGq05zuDGc6y9nOca7znO8CF7rIxS5xqctc7gpXusrVrnGt61zvBje6yc1ucavb3O4Od7rL3e5xr/vc7wEPesjDHvGoxzzuCU96ytOe8aznPO8FL3rJy17xqte87g1vesvb3vGu97zvAx/6yMc+8anPfO4LX/rK177xre/8x3997wc/+snPfvGr3/zuD//zp7/87R8H/N9vgQ5ysEMc6jCHO8KRjnK0YxzrOMc7wYlOcrJTnOo0pzvDmc5ytnOc6zznu8CFLnKxS1zqMpe7wpWucrVrXOs617vBjW5ys1vc6ja3u8Od7nK3e9zrPvd7wIMe8rBHPOoxj3vCk57ytGc86znPe8GLXvKyV7zqNa97w5ve8rZ3vOs97/vAhz7ysU986jOf+8KXvvK1b3zrO//xX9/7wY9+8rNf/Oo3v/vD//zpL3/7xwGFvwU6yMEOcajDHO4IRzrK0Y5xrOMc7wQnOsnJTnGq05zuDGc6y9nOca7znO8CF7rIxS5xqctc7gpXusrVrnGt61zvBje6yc1ucavb3O4Od7rL3e5xr/vc7wEPesjDHvGoxzzuCU96ytOe8aznPO8FL3rJy17xqte87g1vesvb3vGu97zvAx/6yMc+8anPfO4LX/rK177xre/8x3997wc/+snPfvGr3/zuD//zp7/87R8H/Oe3QAc52CEOdZjDHeFIRznaMY51nOOd4EQnOdkpTnWa053hTGc52znOdZ7zXeBCF7nYJS51mctd4UpXudo1rnWd693gRje52S1udZvb3eFOd7nbPe51n/s94EEPedgjHvWYxz3hSU952jOe9ZznveBFL3nZK171mte94U1veds73vWe933gQx/52Cc+9ZnPfeFLX/naN771nf/4r+/94Ec/+dkvfvWb3/3hf/70l7/944Ci3wId5GCHONRhDneEIx3laMc41nGOd4ITneRkpzjVaU53hjOd5WznONd5zneBC13kYpe41GUud4UrXeVq17jWda53gxvd5Ga3uNVtbneHO93lbve4133u94AHPeRhj3jUYx73hCc95WnPeNZznveCF73kZa941Wte94Y3veVt73jXe973gQ995GOf+NRnPveFL33la9/41nf+47++94Mf/eRnv/jVb373h//501/+9o8D/vtboIMc7BCHOszhjnCkoxztGMc6zvFOcKKTnOwUpzrN6c5wprOc7RznOs/5LnChi1zsEpe6zOWucKWrXO0a17rO9W5wo5vc7Ba3us3t7nCnu9ztHve6z/0e8KCHPOwRj3rM457wpKc87RnPes7zXvCil7zsFa96zeve8Ka3vO0d73rP+z7woY987BOf+sznvvClr3ztG9/6zn/81/d+8KOf/OwXv/rN7/7wP3/6y9/+cUDxb4EOcrBDHOowhzvCkY5ytGMc6zjHO8GJTnKyU5zqNKc7w5nOcrZznOs857vAhS5ysUtc6jKXu8KVrnK1a1zrOte7wY1ucrNb3Oo2t7vDne5yt3vc6z73e8CDHvKwRzzqMY97wpOe8rRnPOs5z3vBi17ysle86jWve8Ob3vK2d7zrPe/7wIc+8rFPfOozn/t/hMeKpw==AAAAAACAAAAAAAAAAAAAAACAAAAAAAAABQAAAACAAABABgAAIRcAAJoUAADqFAAASxYAADYBAAA=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\\n  </AppendedData>\\n</VTKFile>\\n\", \"color\": [1, 0.8, 0, 1], \"position\": [0, 0, 0], \"orientation\": [0, 0, 0]}];\n    render(data, parent_element, 0.5);\n});\n",
      "text/plain": [
       "<cadquery.cq.Workplane at 0x1be1025c050>"
      ]
     },
     "metadata": {},
     "output_type": "display_data"
    }
   ],
   "source": [
    "#   BEGIN PROCEDURE 2: Generate neural circuit micro-pattern\n",
    "#### Get Distances between somas and/or branching nodes\n",
    "time_graphPostUser = time.time() #begin timer for Procedure 2\n",
    "\n",
    "dist_mat =np.zeros(numEdges)\n",
    "for i in range(numEdges):\n",
    "    dist_mat[i] = abs(math.dist(lcoord[edgeList[i][0]],lcoord[edgeList[i][1]]))\n",
    "\n",
    "#Feature sizes for the pattern (can be edited by the User)\n",
    "somaR = 25; #soma radius, um\n",
    "neuriteWidth = 10; #neurite short dimension, um\n",
    "axonLength = 90; #axon long dimension, um (target/average length desired)\n",
    "dendriteLength = 20; #dendrite long dimension, um\n",
    "gapLength = 10; #distance between the end of the axon and the end of the dendrite (synaptic cleft)\n",
    "\n",
    "extrudeThickness = 5 #extrude thickness for the 3D model\n",
    "\n",
    "#the following are parameters only if the soma area space needs a scoop (not necessary for now)\n",
    "scoopDepth = 2.5 #how deep into the extrude should the deepest point of the scoop should go (center of a sphere)\n",
    "                 #ideally, this value should be less than the extrude thickness\n",
    "scoopR = 15 #the radius of the scoop at the top rim\n",
    "            #ideally, this value should be less than the somaR\n",
    "scoopSphereR = scoopDepth/2 + (scoopR*2)**2/(8*scoopDepth) #radius of the sphere to make the desired scoop\n",
    "\n",
    "multiBump = 50 #if there is a mutually connected pair with no additional axonal outputs, this is the sagitta of the arc pathway between the two cells\n",
    "\n",
    "avgDist = np.mean([min(dist_mat), max(dist_mat)]) #average distance between all of the somas and/or branching nodes\n",
    "scaleFactor = (axonLength+dendriteLength+2*somaR+gapLength)/avgDist #scale factor for soma/branching node position\n",
    "\n",
    "#scaling the model\n",
    "scaledCoords = np.array(lcoord)*scaleFactor\n",
    "scaledDist = dist_mat*scaleFactor\n",
    "#scaledCoords = scaledCoords - scaledCoords[0,:] #uncomment if you want the coordinates to also be normalized, relative to the first cell\n",
    "                                                 #uncommenting may cause issues due to the first cell having coordinates of (0,0)\n",
    "#scaledCoordsMM = scaledCoords/1000 #only for reporting purposes if someone wanted to scale the coordinates value by 1000\n",
    "\n",
    "\n",
    "angs = [None]*numCells #preallocate an array for storing angles for neurite orientation, relative to the global coordinate system\n",
    "neuritesCount = np.zeros(numCells) #preallocate array for counting the number of neurites per cell\n",
    "\n",
    "minNeurites = 4  #minimum number of neurites per cell (to ensure polarity if the pattern were to be used for microcontact printing)\n",
    "'''\n",
    "Based on:\n",
    "Yamamoto, H., Matsumura, R., Takaoki, H., Katsurabayashi, S., Hirano-\n",
    "Iwata, A., Niwano, M.: Unidirectional signal propagation in primary\n",
    "neurons micropatterned at a single-cell resolution. Applied Physics\n",
    "Letters 109(4), 043703 (7 2016). https://doi.org/10.1063/1.4959836\n",
    "\n",
    "They patterned neurons to grow on bipolar, quadrupolar, and octupolar patterns.\n",
    "They found that the quadrupolar pattern worked well in terms of the health of the \n",
    "cells and their ability to appropriately polarize.\n",
    "\n",
    "***********************************************\n",
    "***Currently the method to add additional neurites to meet the minimum expects the minimum neurites to be added\n",
    "to be 4 - if this value is changed, the tool may not work as intended. **********\n",
    "'''\n",
    "\n",
    "numIntersections = 0 #initialize variable for the number of intersections for the whole pattern\n",
    "multiCellComplete = [] #preallocate an empty array for keeping track of which individual mutual synapsing pairs have already been completed (excluding those with additional axonal outputs)\n",
    "\n",
    "result = cq.Workplane(\"XY\") #initialize the 3D model\n",
    "\n",
    "for connection in range(numEdges): #for each connection pair\n",
    "    #positions of the pre- and post-synaptic connections for testing intersections (first pair of connections)\n",
    "    pos1_preCell = Point(scaledCoords[edgeList[connection][0]][0], scaledCoords[edgeList[connection][0]][1])\n",
    "    pos1_postCell = Point(scaledCoords[edgeList[connection][1]][0], scaledCoords[edgeList[connection][1]][1])\n",
    "    \n",
    "    #determine whether there are any intersections in the pattern\n",
    "    for jj in range(numEdges - connection - 1):\n",
    "        # print(\"Comparing: \" + str(edgeList[connection]) + \" and \" + str(edgeList[connection+jj+1]) )\n",
    "        #positions of the pre- and post-synaptic connections for the second pair of connections\n",
    "        pos2_preCell = Point(scaledCoords[edgeList[connection+jj+1][0]][0], scaledCoords[edgeList[connection+jj+1][0]][1])\n",
    "        pos2_postCell = Point(scaledCoords[edgeList[connection+jj+1][1]][0], scaledCoords[edgeList[connection+jj+1][1]][1])\n",
    "        if doIntersect(pos1_preCell, pos1_postCell, pos2_preCell, pos2_postCell) and (not bool(set(edgeList[connection]) & set(edgeList[connection+jj+1]))):\n",
    "            numIntersections = numIntersections + 1\n",
    "            print(str(edgeList[connection]) + \" and \" + str(edgeList[connection+jj+1]) + \" intersect.\")\n",
    "    \n",
    "    #coordinates of the pre- and post-synaptic connections\n",
    "    preSynCoord = scaledCoords[edgeList[connection][0]]\n",
    "    postSynCoord = scaledCoords[edgeList[connection][1]]\n",
    "    \n",
    "    #increase number count of neurites for each cell in the connection\n",
    "    neuritesCount[edgeList[connection][0]] = neuritesCount[edgeList[connection][0]]+1\n",
    "    neuritesCount[edgeList[connection][1]] = neuritesCount[edgeList[connection][1]]+1\n",
    "    \n",
    "    #angle in which the pre-synaptic cell is relative to the post-synaptic cell\n",
    "    post2preAng = math.degrees(math.atan2( (preSynCoord[1]-postSynCoord[1]), (preSynCoord[0]-postSynCoord[0])) )\n",
    "    \n",
    "    #re-set the angle from [-180, 180] to [0, 360]\n",
    "    if post2preAng < 0:\n",
    "        post2preAng = post2preAng + 360\n",
    "        pre2postAng = post2preAng - 180\n",
    "\n",
    "    else:\n",
    "        pre2postAng = post2preAng + 180\n",
    "        \n",
    "    \n",
    "    \n",
    "    if g.count_multiple(connection) == 2: #if the two connecting points are mutually synapsing, add 2 curved neurite paths\n",
    "        \n",
    "        #curved path for the dendrite and axon (no gap yet) (sagitta arc)\n",
    "        dendriteAxon = cq.Workplane(\"XZ\",origin=(postSynCoord[0],postSynCoord[1],extrudeThickness/2)).rect(neuriteWidth,extrudeThickness).sweep(cq.Workplane(\"XY\",origin=(postSynCoord[0],postSynCoord[1],0)).sagittaArc((preSynCoord[0]-postSynCoord[0],preSynCoord[1]-postSynCoord[1]),multiBump))\n",
    "        \n",
    "        result = result.union(dendriteAxon)\n",
    "        multiCellComplete.append(edgeList[connection])\n",
    "        \n",
    "        #the following is to create the gap between the axon and the dendrite paths\n",
    "        arcW = math.dist(preSynCoord,postSynCoord) #arc width of sagitta arc\n",
    "        arcR = multiBump/2 + (arcW**2)/(8*multiBump) #arc radius of sagitta arc\n",
    "        arcAng = math.degrees(math.acos(1- (multiBump / arcR))) #tangent angle at the start of the sagitta arc\n",
    "        post2preAng = post2preAng + arcAng\n",
    "        pre2postAng = pre2postAng - arcAng\n",
    "        \n",
    "        #create the gap solid to \"cut\" from the dendrite/axon path\n",
    "        gapAngStart = (dendriteLength+(arcR*2*math.asin(somaR/(2*arcR))))/arcR #radians, start angle of gap\n",
    "        gapChordAng = post2preAng-math.degrees(gapAngStart)/2 #angle of chord for the gap, relative to X axis\n",
    "        \n",
    "        chordDist = 2*arcR*math.sin(gapAngStart/2) #chord distance from center of soma to gap\n",
    "        \n",
    "        gap_deltaX = chordDist*math.cos(math.radians(gapChordAng)) #change in X coordinate, relative to soma center, to reach gap beginning\n",
    "        gap_deltaY = chordDist*math.sin(math.radians(gapChordAng)) #change in Y coordinate, relative to soma center, to reach gap beginning\n",
    "        \n",
    "        gapEndAng = (dendriteLength+(arcR*2*math.asin(somaR/(2*arcR))) + gapLength)/arcR #radians, end point of gap\n",
    "        gapEndChordAng = post2preAng-math.degrees(gapEndAng)/2 #angle of chord, relative to X axis\n",
    "        chordDistEnd = 2*arcR*math.sin(gapEndAng/2) #chord distance from center of soma to end of gap\n",
    "        gapEnd_deltaX = chordDistEnd*math.cos(math.radians(gapEndChordAng)) #change in X coordinate, relative to soma center, to reach gap beginning\n",
    "        gapEnd_deltaY = chordDistEnd*math.sin(math.radians(gapEndChordAng)) #change in Y coordinate, relative to soma center, to reach gap beginning\n",
    "        \n",
    "        #intial solid from the cell to the start of the gap\n",
    "        gap5 = cq.Workplane(\"XZ\",origin=(postSynCoord[0],postSynCoord[1],3*extrudeThickness/4)).rect(neuriteWidth*1.1,extrudeThickness/2).sweep(cq.Workplane(\"XY\",origin=(postSynCoord[0],postSynCoord[1],0)).radiusArc((gap_deltaX, gap_deltaY),arcR))\n",
    "        #initial solid from the cell to the end of the gap\n",
    "        gap6 = cq.Workplane(\"XZ\",origin=(postSynCoord[0],postSynCoord[1],3*extrudeThickness/4)).rect(neuriteWidth*1.1,extrudeThickness/2).sweep(cq.Workplane(\"XY\",origin=(postSynCoord[0],postSynCoord[1],0)).radiusArc((gapEnd_deltaX, gapEnd_deltaY),arcR))\n",
    "        \n",
    "        #cut the gap5 solid from the gap6 solid to create the solid for the gap\n",
    "        gap7 = gap6.cut(gap5)\n",
    "        \n",
    "        #cut the gap7 from the dendriteAxon path to separate them and create the synaptic cleft\n",
    "        result = result.cut(gap7)\n",
    "\n",
    "\n",
    "    else: #if not a mutually synapsing connection add straight paths for the dendrite and axon\n",
    "        \n",
    "        #create a short path solid for the dendrite based on the dendrite length from the post-synaptic cell, towards the pre-synaptic cell\n",
    "        dendrite = cq.Workplane(\"XY\").rect(dendriteLength+somaR,neuriteWidth,centered=False).extrude(extrudeThickness).translate((0,-neuriteWidth/2,0)).rotate((0,0,0),(0,0,1),post2preAng).translate((postSynCoord[0],postSynCoord[1],0))\n",
    "        result = result.union(dendrite) #add the dendrite solid to the full model\n",
    "        \n",
    "        #calculate the axonal length based on the dendrite length, gap length, and the remaining distance between the pre- and post-synaptic cells\n",
    "        axonLen = scaledDist[connection]-somaR-gapLength-dendriteLength\n",
    "\n",
    "        #create a long path solid for the axon based on the axon length, from the pre-synaptic cell, towards the post-synaptic cell\n",
    "        axon = cq.Workplane(\"XY\").rect(axonLen,neuriteWidth,centered=False).extrude(extrudeThickness).translate((0,-neuriteWidth/2,0)).rotate((0,0,0),(0,0,1),pre2postAng).translate((preSynCoord[0],preSynCoord[1],0))\n",
    "        result = result.union(axon) #add the axon solid to the full model\n",
    "        \n",
    "        #do not add the gap if the connection is with a branching node (fill the gap space). else, add a gap (do not fill the gap space)\n",
    "        if edgeList[connection][1] in set(falseCells):\n",
    "            gap = cq.Workplane(\"XY\").rect(gapLength,neuriteWidth,centered=False).extrude(extrudeThickness).translate((axonLen,-neuriteWidth/2,0)).rotate((0,0,0),(0,0,1),pre2postAng).translate((preSynCoord[0],preSynCoord[1],0))\n",
    "        else:\n",
    "            gap = cq.Workplane(\"XY\").rect(gapLength,neuriteWidth,centered=False).extrude(extrudeThickness/2).translate((axonLen,-neuriteWidth/2,0)).rotate((0,0,0),(0,0,1),pre2postAng).translate((preSynCoord[0],preSynCoord[1],0))\n",
    "        \n",
    "        result = result.add(gap) #add the relevant gap solid to the full model\n",
    "        \n",
    "    #record all of the angles for the pre- and post-synaptic cells\n",
    "    if angs[edgeList[connection][1]] is None:\n",
    "        angs[edgeList[connection][1]] = [post2preAng]\n",
    "    else:\n",
    "        angs[edgeList[connection][1]].append(post2preAng)\n",
    "    \n",
    "    if angs[edgeList[connection][0]] is None:\n",
    "        angs[edgeList[connection][0]] = [pre2postAng]\n",
    "    else:\n",
    "        angs[edgeList[connection][0]].append(pre2postAng)\n",
    "        \n",
    "print(\"Total number of intersections: \" + str(numIntersections))        \n",
    "        \n",
    "        \n",
    "#This for loop adds additional neurites, if the minimum is not met, and the solids for the somas (for each cell)\n",
    "for i in range(numCells):\n",
    "    \n",
    "    #check if the cell has already has an axon\n",
    "    hasAxon = any(cIdx in [i] for cIdx in allPreCells)\n",
    "    \n",
    "    #check if the cell is a branching node or already met the neurite minimum. If so, do not add more neurites and do not add a large circular area for a soma.\n",
    "    if any(cIdx in [i] for cIdx in falseCells):\n",
    "        print(\"The cell \" + str(i) + \" is a false cell. No soma or extra dendrites will be added.\")\n",
    "        falseSoma = cq.Workplane(\"XY\").box(neuriteWidth,neuriteWidth,extrudeThickness).translate((scaledCoords[i][0],scaledCoords[i][1],extrudeThickness/2))\n",
    "        result = result.union(falseSoma)\n",
    "\n",
    "    elif (angs[i] == None):\n",
    "        print(\"The cell \" + str(i) + \" has no connections. No soma or extra dendrites will be added.\")\n",
    "        \n",
    "    else: #cell is a real cell (not branching node) and has less than the minimum number of neurites\n",
    "        \n",
    "        #calculate the largest angular gap between the existing neurites\n",
    "        angsSort = sorted(angs[i])\n",
    "        angsDiff = np.append(np.diff(angsSort),(angsSort[0]+360-angsSort[-1]))\n",
    "        largestGap = max(angsDiff)\n",
    "        largestGapLoc = np.argmax(angsDiff)\n",
    "        \n",
    "        #calculate the number of neurites to be added to meet the minimum\n",
    "        numDen2Add = int(minNeurites - neuritesCount[i])\n",
    "            \n",
    "        #The method to determine the angular orientation of the remaining neurites\n",
    "        #depends on the angular gaps between the existing neurites and the number of \n",
    "        #remaining neurites to be added.\n",
    "            \n",
    "        if numDen2Add == 2: #if the number of neurites to be added is 2\n",
    "            #deterine which method to add the remaining neurites based on the standard \n",
    "            # deviation of the neurite angle orientation\n",
    "            #the method that results in the smallest standard deviation is the method used\n",
    "            #for placing additional neurites\n",
    "            \n",
    "            #method 1 - put both neurites within the largest gap\n",
    "            method1_midAngDelta = largestGap/3\n",
    "            method1_std = np.std([min(angsDiff), method1_midAngDelta, method1_midAngDelta, method1_midAngDelta])\n",
    "            \n",
    "            \n",
    "            #method 2 - put one neurite between each gap\n",
    "            method2_midAngDelta = angsDiff/2            \n",
    "            method2_std = np.std([method2_midAngDelta[0], method2_midAngDelta[0], method2_midAngDelta[1], method2_midAngDelta[1]])\n",
    "            denAng = np.ones(2)\n",
    "            \n",
    "            if method1_std < method2_std:\n",
    "                denAng[0] = angsSort[largestGapLoc] + method1_midAngDelta\n",
    "                denAng[1] = denAng[0] + method1_midAngDelta\n",
    "            else:\n",
    "                denAng[0] = angsSort[0] + method2_midAngDelta[0]\n",
    "                denAng[1] = angsSort[1] + method2_midAngDelta[1]\n",
    "                \n",
    "            for denIdx in range(2):\n",
    "                \n",
    "                #if the neuron does not already have an axon, add one of the remaining\n",
    "                #neurites with the target axon length. else, add a dendrite\n",
    "                if denIdx == 0 and hasAxon == False:\n",
    "                    neuriteLength = axonLength\n",
    "                else:   \n",
    "                    neuriteLength = dendriteLength\n",
    "                \n",
    "                neurite = cq.Workplane(\"XY\").rect(neuriteLength+somaR,neuriteWidth,centered=False).extrude(extrudeThickness).translate((0,-neuriteWidth/2,0)).rotate((0,0,0),(0,0,1),denAng[denIdx]).translate((scaledCoords[i][0],scaledCoords[i][1],0))\n",
    "                result = result.union(neurite)\n",
    "                \n",
    "            \n",
    "                \n",
    "        elif numDen2Add == 1: #number of neurites to add is 1\n",
    "        \n",
    "            #add the single neurite in the middle of the largest gap between the existing neurites\n",
    "            addDenAng = angsSort[largestGapLoc] + largestGap/2\n",
    "            \n",
    "            #if the neuron does not already have an axon, add one of the remaining\n",
    "            #neurites with the target axon length. else, add a dendrite\n",
    "            if hasAxon == False:\n",
    "                neuriteLength = axonLength\n",
    "            else:\n",
    "                neuriteLength = dendriteLength\n",
    "            \n",
    "            neurite = cq.Workplane(\"XY\").rect(neuriteLength+somaR,neuriteWidth,centered=False).extrude(extrudeThickness).translate((0,-neuriteWidth/2,0)).rotate((0,0,0),(0,0,1),addDenAng).translate((scaledCoords[i][0],scaledCoords[i][1],0))\n",
    "            result = result.union(neurite)\n",
    "                        \n",
    "        elif numDen2Add == 3: #number of neurites to add is 3\n",
    "        \n",
    "            #With the assumption that the minimum number of neurites to add is 4\n",
    "            #that means there is only one existing neurite.\n",
    "            #For four neurites evenly spaced, all of the neurites are 90 degrees relative to each other\n",
    "\n",
    "            #if the neuron does not already have an axon, add one of the remaining\n",
    "            #neurites with the target axon length. else, add a dendrite\n",
    "            for denIdx in range(3):\n",
    "                if denIdx == 0 and hasAxon == False:\n",
    "                    neuriteLength = axonLength\n",
    "                else:   \n",
    "                    neuriteLength = dendriteLength\n",
    "\n",
    "                neurite = cq.Workplane(\"XY\").rect(neuriteLength+somaR,neuriteWidth,centered=False).extrude(extrudeThickness).translate((0,-neuriteWidth/2,0)).rotate((0,0,0),(0,0,1),angs[i][0]+(90*(1+denIdx))).translate((scaledCoords[i][0],scaledCoords[i][1],0))\n",
    "                result = result.union(neurite)\n",
    "                \n",
    "        elif numDen2Add <= 0: #number of neurites is less than or equal to 0 - means there are no neurites that need to be added\n",
    "            print(\"No dendrites need to be added for cell ID: \" + str(i))\n",
    "            \n",
    "        else: #if for some reason, an invalid number is needed (likely the minimum neurites was changed to be larger than 4 or not a number)\n",
    "            print(\"Invalid number of extra neurites to add\")\n",
    "\n",
    "        soma = cq.Workplane(\"XY\").circle(somaR).extrude(extrudeThickness).translate((scaledCoords[i][0],scaledCoords[i][1],0))\n",
    "        result = result.union(soma)#.cut(cq.Workplane(\"XY\").sphere(scoopSphereR).translate((scaledCoords[i][0],scaledCoords[i][1],scoopSphereR+extrudeThickness-scoopDepth)))\n",
    "            #Scoop in the soma area could be uncommented needed\n",
    "           \n",
    "time_postModel = time.time() #end timer for procedure 2\n",
    "timeElapsed = (time_graphPreUser - timeStart) + (time_postModel - time_graphPostUser) #total time elapsed (procedure1 + procedure2) DOES NOT INCLUDE USER SELECTION TIME\n",
    "time_procedure2 = (time_postModel - time_graphPostUser) #time elapsed for procedure 2\n",
    "\n",
    "print(\"Time Elapsed for Procedure 1 (s): \" + str(time_procedure1))\n",
    "print(\"Time Elapsed for Procedure 2 (s): \" + str(time_procedure2))\n",
    "print(\"Time Elapsed Total (s): \" + str(timeElapsed))\n",
    "print(g)\n",
    "\n",
    "display(result)"
   ]
  },
  {
   "cell_type": "markdown",
   "metadata": {},
   "source": [
    "GANGLIA Save Process (Non-GUI Version)"
   ]
  },
  {
   "cell_type": "code",
   "execution_count": 21,
   "metadata": {},
   "outputs": [
    {
     "name": "stdout",
     "output_type": "stream",
     "text": [
      "Your input was invalid. Please select an appropriate option.\n",
      "Results not saved.\n"
     ]
    }
   ],
   "source": [
    "# The user is asked whether they would like to actually save the results.\n",
    "\n",
    "graphDrawingUserChoice = input(\"Do you want to save the results? [y/n]: \")\n",
    "whileLoopSignal = 0\n",
    "\n",
    "while whileLoopSignal == 0:\n",
    "    if graphDrawingUserChoice == \"y\":\n",
    "        \n",
    "        print(\"Results saving...\")   \n",
    "        ''' USER NEEDS TO UPDATE THIS AS NEEDED\n",
    "            #Directory to export files to \n",
    "        '''\n",
    "        exportDir = input(\"Save Directory: \") or 'G:/Shared drives/CMU BORG - Constrained Neuron Patterning & Transfer/02 Design Tool/exportTests/v11'\n",
    "        # exportDir = 'G:/Shared drives/CMU BORG - Constrained Neuron Patterning & Transfer/02 Design Tool/exportTests/v11'\n",
    "        \n",
    "        fig_kk.savefig(exportDir+\"/intermediate_kk_\"+saveFileName+\".svg\", format=\"svg\", dpi=1200)\n",
    "        fig_fr.savefig(exportDir+\"/intermediate_fr_\"+saveFileName+\".svg\", format=\"svg\", dpi=1200)\n",
    "\n",
    "        cq.exporters.export(\n",
    "                            result,\n",
    "                            exportDir+\"/CAD_\" + saveFileName +\".svg\",\n",
    "                            opt={\n",
    "                                \"showAxes\": False,\n",
    "                                \"projectionDir\": (-0.25, -0.25, 0.5),\n",
    "                                }\n",
    "                            )\n",
    "        \n",
    "        cq.exporters.export(\n",
    "                            result,\n",
    "                            exportDir + \"/\" + saveFileName + \".stp\",\n",
    "                            cq.exporters.ExportTypes.STEP)\n",
    "        \n",
    "            #SVG Export - XY Plane from above\n",
    "        bb = result.val().BoundingBox()\n",
    "        cq.exporters.export(result,\n",
    "                            (exportDir + \"/XYplane_\" + saveFileName + '.svg'),\n",
    "                            opt={\n",
    "                                \"showAxes\": False,\n",
    "                                \"projectionDir\":(0,0,1),\n",
    "                                \"output_width\":bb.xlen,\n",
    "                                \"output_height\":bb.ylen})\n",
    "        \n",
    "            # visualize the SVG export\n",
    "        \n",
    "        fig = plt.figure()\n",
    "        img_png = cairosvg.svg2png(url=(exportDir + \"/XYplane_\" + saveFileName + '.svg'),write_to=(exportDir + \"/XYplane_\" + saveFileName +'.png'))\n",
    "        img = mpimg.imread((exportDir + \"/XYplane_\" + saveFileName +'.png'))\n",
    "        imgplot = plt.imshow(img)\n",
    "        plt.show()\n",
    "        \n",
    "            #DXF Export (looks like XY planeish - have some weird spare lines)\n",
    "        cq.exporters.export(result,\n",
    "                            exportDir + \"/\" + saveFileName + \".dxf\")\n",
    "        doc = ezdxf.readfile(\n",
    "                            exportDir + \"/\" + saveFileName + \".dxf\")\n",
    "        msp = doc.modelspace()\n",
    "        \n",
    "        fig = plt.figure()\n",
    "        ax = fig.add_axes([0,0,1,1])\n",
    "        ctx = RenderContext(doc)\n",
    "        msp_properties = LayoutProperties.from_layout(msp)\n",
    "        msp_properties.set_colors(\"#eaeaeaff\")\n",
    "        out = MatplotlibBackend(ax)\n",
    "        Frontend(ctx, out).draw_layout(\n",
    "            msp,\n",
    "            finalize=True,\n",
    "            layout_properties=msp_properties,\n",
    "            )\n",
    "        plt.show()\n",
    "        \n",
    "        whileLoopSignal = 1\n",
    "\n",
    "    elif graphDrawingUserChoice == \"n\":\n",
    "        \n",
    "        print(\"Results not saved.\")\n",
    "        whileLoopSignal = 2\n",
    "        \n",
    "    else:\n",
    "        print(\"Your input was invalid. Please select an appropriate option.\")\n",
    "        graphDrawingUserChoice = input(\"Do you want to save the results? [y/n]: \")"
   ]
  }
 ],
 "metadata": {
  "kernelspec": {
   "display_name": "venvGANGLIA_v00",
   "language": "python",
   "name": "python3"
  },
  "language_info": {
   "codemirror_mode": {
    "name": "ipython",
    "version": 3
   },
   "file_extension": ".py",
   "mimetype": "text/x-python",
   "name": "python",
   "nbconvert_exporter": "python",
   "pygments_lexer": "ipython3",
   "version": "3.11.4"
  },
  "orig_nbformat": 4
 },
 "nbformat": 4,
 "nbformat_minor": 2
}
