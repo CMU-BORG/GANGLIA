{
 "cells": [
  {
   "cell_type": "markdown",
   "metadata": {},
   "source": [
    "Initial Set Up (Modules, User-Defined Functions, etc)"
   ]
  },
  {
   "cell_type": "code",
   "execution_count": 1,
   "metadata": {},
   "outputs": [],
   "source": [
    "# -*- coding: utf-8 -*-\n",
    "\"\"\"\n",
    "Generation of Automatic Neuron Graph-Like Interconnected Arrangements (GANGLIA)\n",
    "\n",
    "Liao, A.S., Zhang, Y.J., Webster-Wood, V.A. (2023). GANGLIA: A Tool for Designing Customized Neuron Circuit Patterns. In: Meder, F., Hunt, A., Margheri, L., Mura, A., Mazzolai, B. (eds) Biomimetic and Biohybrid Systems. Living Machines 2023. Lecture Notes in Computer Science(), vol 14158. Springer, Cham. https://doi.org/10.1007/978-3-031-39504-8_14\n",
    "\n",
    "2023 March 31\n",
    "\n",
    "@author: Ashlee S. Liao\n",
    "\"\"\"\n",
    "import matplotlib.pyplot as plt\n",
    "import igraph as ig\n",
    "import numpy as np\n",
    "import math\n",
    "import random\n",
    "import ezdxf\n",
    "from ezdxf.addons.drawing.properties import LayoutProperties\n",
    "from ezdxf.addons.drawing import RenderContext, Frontend\n",
    "from ezdxf.addons.drawing.matplotlib import MatplotlibBackend\n",
    "import cadquery as cq\n",
    "# import subprocess\n",
    "import collections\n",
    "import cairosvg\n",
    "import matplotlib.image as mpimg\n",
    "import time\n",
    "import PySimpleGUI as psg\n",
    "from matplotlib.backends.backend_tkagg import FigureCanvasTkAgg\n",
    "import matplotlib\n",
    "import plotly.express as px\n",
    "import pandas as pd\n",
    "\n",
    "matplotlib.use('TkAgg')\n",
    "%matplotlib inline\n",
    "\n",
    "random.seed(0) #set the random seed to a constant seed for repeatability\n",
    "\n",
    "#to check intersections (https://www.geeksforgeeks.org/check-if-two-given-line-segments-intersect/)\n",
    "\n",
    "##############\n",
    "# A Python3 program to find if 2 given line segments intersect or not\n",
    "  \n",
    "class Point:\n",
    "    def __init__(self, x, y):\n",
    "        self.x = x\n",
    "        self.y = y\n",
    "  \n",
    "# Given three collinear points p, q, r, the function checks if \n",
    "# point q lies on line segment 'pr' \n",
    "def onSegment(p, q, r):\n",
    "    if ( (q.x <= max(p.x, r.x)) and (q.x >= min(p.x, r.x)) and \n",
    "           (q.y <= max(p.y, r.y)) and (q.y >= min(p.y, r.y))):\n",
    "        return True\n",
    "    return False\n",
    "  \n",
    "def orientation(p, q, r):\n",
    "    # to find the orientation of an ordered triplet (p,q,r)\n",
    "    # function returns the following values:\n",
    "    # 0 : Collinear points\n",
    "    # 1 : Clockwise points\n",
    "    # 2 : Counterclockwise\n",
    "      \n",
    "    # See https://www.geeksforgeeks.org/orientation-3-ordered-points/amp/ \n",
    "    # for details of below formula. \n",
    "      \n",
    "    val = (float(q.y - p.y) * (r.x - q.x)) - (float(q.x - p.x) * (r.y - q.y))\n",
    "    if (val > 0):\n",
    "          \n",
    "        # Clockwise orientation\n",
    "        return 1\n",
    "    elif (val < 0):\n",
    "          \n",
    "        # Counterclockwise orientation\n",
    "        return 2\n",
    "    else:\n",
    "          \n",
    "        # Collinear orientation\n",
    "        return 0\n",
    "  \n",
    "# The main function that returns true if \n",
    "# the line segment 'p1q1' and 'p2q2' intersect.\n",
    "def doIntersect(p1,q1,p2,q2):\n",
    "      \n",
    "    # Find the 4 orientations required for \n",
    "    # the general and special cases\n",
    "    o1 = orientation(p1, q1, p2)\n",
    "    o2 = orientation(p1, q1, q2)\n",
    "    o3 = orientation(p2, q2, p1)\n",
    "    o4 = orientation(p2, q2, q1)\n",
    "  \n",
    "    # General case\n",
    "    if ((o1 != o2) and (o3 != o4)):\n",
    "        return True\n",
    "  \n",
    "    # Special Cases\n",
    "  \n",
    "    # p1 , q1 and p2 are collinear and p2 lies on segment p1q1\n",
    "    if ((o1 == 0) and onSegment(p1, p2, q1)):\n",
    "        return True\n",
    "  \n",
    "    # p1 , q1 and q2 are collinear and q2 lies on segment p1q1\n",
    "    if ((o2 == 0) and onSegment(p1, q2, q1)):\n",
    "        return True\n",
    "  \n",
    "    # p2 , q2 and p1 are collinear and p1 lies on segment p2q2\n",
    "    if ((o3 == 0) and onSegment(p2, p1, q2)):\n",
    "        return True\n",
    "  \n",
    "    # p2 , q2 and q1 are collinear and q1 lies on segment p2q2\n",
    "    if ((o4 == 0) and onSegment(p2, q1, q2)):\n",
    "        return True\n",
    "  \n",
    "    # If none of the cases\n",
    "    return False\n",
    "\n",
    "def draw_figure(canvas, figure):\n",
    "    figure_canvas_agg = FigureCanvasTkAgg(figure, canvas)\n",
    "    figure_canvas_agg.draw()\n",
    "    figure_canvas_agg.get_tk_widget().pack(side='top', fill='both', expand=1)\n",
    "    return figure_canvas_agg\n",
    "\n",
    "##################"
   ]
  },
  {
   "cell_type": "markdown",
   "metadata": {},
   "source": [
    "GANGLIA GUI Version"
   ]
  },
  {
   "cell_type": "code",
   "execution_count": 2,
   "metadata": {},
   "outputs": [],
   "source": [
    "plt.ioff()\n",
    "\n",
    "\n",
    "circuitNames = ['Half-Center Oscillator', 'Rat Hindlimb Motor Circuit', 'User-Designed 9-Cell Circuit', 'Apysia Feeding Circuit']\n",
    "graphNames = ['Fruchterman-Reingold','Kamada-Kawai']\n",
    "layout = [[psg.Text('GUI Test')],\n",
    "          [psg.Combo(circuitNames,readonly=True,key='-CIRCUIT-',default_value=circuitNames[0]),psg.Button('Generate Layouts')],\n",
    "          [psg.Text('Layout Preview',visible=False,key='-LAYOUT PREVIEW STATUS-')],\n",
    "          [psg.Canvas(key='-FRCANVAS-'),psg.Canvas(key='-KKCANVAS-')],\n",
    "          [psg.Combo(graphNames,readonly=True,key='-GRAPH-',disabled=True,default_value=graphNames[0]), psg.Button('Generate CAD layout',disabled=True,key='-CADButton-')],\n",
    "          [psg.Text(key='-CAD Status-')],\n",
    "          [psg.Text('Save Location'),psg.FolderBrowse(key='-FOLDERBROWSE-',target='-FOLDER-',disabled=True),psg.Button('Save',key='-SAVEBUTTON-',disabled=True)],\n",
    "          [psg.Input(key='-FOLDER-', enable_events=True, visible=False, disabled=True)],\n",
    "          [psg.Text('Save Preview',visible=False,key='-SAVE PREVIEW STATUS-')],\n",
    "          [psg.Canvas(key='-CADVAS-')],\n",
    "          [psg.Button('Close')]]\n",
    "\n",
    "window = psg.Window('Demo', layout, finalize=True, element_justification='center', font='Helvetica 18')\n",
    "# fig_canvas_agg = draw_figure(window['-CANVAS-'].TKCanvas, fig_fr)\n",
    "# event, values = window.read()\n",
    "# window.close()\n",
    "\n",
    "hasGraphRun = False\n",
    "hasCADRun = False\n",
    "hasSaveRun = False\n",
    "\n",
    "while True:\n",
    "    event, values = window.read()\n",
    "    if event == psg.WIN_CLOSED or event == 'Close':\n",
    "        break\n",
    "    elif event == 'Generate Layouts':\n",
    "        timeStart = time.time() #start time counter\n",
    "        if values['-CIRCUIT-'] == 'Half-Center Oscillator':\n",
    "            '''\n",
    "            # Half-Center Oscillator\n",
    "\n",
    "            For more information: \n",
    "            Marder, E., Bucher, D.: Central pattern generators and the con-\n",
    "            trol of rhythmic movements. Current Biology 11(23), R986–\n",
    "            R996 (11 2001). https://doi.org/10.1016/S0960-9822(01)00581-4\n",
    "            '''\n",
    "\n",
    "            edgeList=[[0,1],\n",
    "                    [1,0]]\n",
    "            saveFileName = \"half_center\"\n",
    "        elif values['-CIRCUIT-'] == 'Rat Hindlimb Motor Circuit':\n",
    "            '''\n",
    "            Rat Hindlimb Motor Circuit\n",
    "            #https://www.ncbi.nlm.nih.gov/pmc/articles/PMC6477610/\n",
    "\n",
    "            Deng, K., Szczecinski, N.S., Arnold, D., Andrada, E., Fischer, M.S., Quinn,\n",
    "            R.D., Hunt, A.J.: Neuromechanical Model of Rat Hindlimb Walking with\n",
    "            Two-Layer CPGs. Biomimetics (Basel, Switzerland) 4(1), 21 (3 2019).\n",
    "            https://doi.org/10.3390/biomimetics4010021\n",
    "            '''\n",
    "\n",
    "            neuronNames = [\"ExtensorIN\",\n",
    "                            \"FlexorIN\",\n",
    "                            \"ExtensorHC\",\n",
    "                            \"FlexorHC\",\n",
    "                            \"ExtensorIaIN\",\n",
    "                            \"FlexorIaIN\",\n",
    "                            \"ExtensorMN\",\n",
    "                            \"FlexorMN\",\n",
    "                            \"ExtensorRE\",\n",
    "                            \"FlexorRE\"]\n",
    "\n",
    "\n",
    "            con =  [[\"ExtensorIN\",\"FlexorHC\"],\n",
    "                    [\"ExtensorHC\",\"ExtensorIN\"],\n",
    "                    [\"FlexorIN\",\"ExtensorHC\"],\n",
    "                    [\"FlexorHC\",\"FlexorIN\"],\n",
    "                    [\"ExtensorHC\",\"ExtensorIaIN\"],\n",
    "                    [\"ExtensorHC\",\"ExtensorMN\"],\n",
    "                    [\"FlexorHC\",\"FlexorIaIN\"],\n",
    "                    [\"FlexorHC\",\"FlexorMN\"],\n",
    "                    [\"ExtensorIaIN\",\"FlexorIaIN\"],\n",
    "                    [\"FlexorIaIN\",\"ExtensorIaIN\"],\n",
    "                    [\"ExtensorIaIN\",\"FlexorMN\"],\n",
    "                    [\"ExtensorRE\",\"ExtensorIaIN\"],\n",
    "                    [\"FlexorIaIN\",\"ExtensorMN\"],\n",
    "                    [\"FlexorRE\",\"FlexorIaIN\"],\n",
    "                    [\"ExtensorMN\",\"ExtensorRE\"],\n",
    "                    [\"ExtensorRE\",\"ExtensorMN\"],\n",
    "                    [\"FlexorMN\",\"FlexorRE\"],\n",
    "                    [\"FlexorRE\",\"FlexorMN\"],\n",
    "                    [\"FlexorRE\",\"ExtensorRE\"],\n",
    "                    [\"ExtensorRE\",\"FlexorRE\"]\n",
    "                    ]\n",
    "\n",
    "            edgeList = []\n",
    "            for cons in range(len(con)):\n",
    "                pre = neuronNames.index(con[cons][0])\n",
    "                post = neuronNames.index(con[cons][1])\n",
    "                edgeList.append([pre,post])\n",
    "\n",
    "            saveFileName = \"ratMotor\"\n",
    "\n",
    "        elif values['-CIRCUIT-'] == 'User-Designed 9-Cell Circuit':\n",
    "            # User-designed 9-cell network\n",
    "\n",
    "            edgeList=[[0,1],\n",
    "                    [2,0],\n",
    "                    [3,0],\n",
    "                    [4,0],\n",
    "                    [5,0],\n",
    "                    [6,0],\n",
    "                    [1,2],\n",
    "                    [3,2],\n",
    "                    [7,4],\n",
    "                    [3,8]]\n",
    "\n",
    "            saveFileName = \"nineCell\"\n",
    "        \n",
    "        elif values['-CIRCUIT-'] == 'Apysia Feeding Circuit':\n",
    "            '''\n",
    "            BASED ON WEBSTER-WOOD (2020) CONTROL FOR MULTIFUNCTIONALITY - FIG. 9\n",
    "\n",
    "            Webster-Wood, V.A., Gill, J.P., Thomas, P.J., Chiel, H.J.: Control for multifunc-\n",
    "            tionality: bioinspired control based on feeding in Aplysia californica. Biological Cy-\n",
    "            bernetics 114(6), 557–588 (12 2020). https://doi.org/10.1007/s00422-020-00851-9\n",
    "            '''\n",
    "\n",
    "            neuronNames = [\"CBI-2\",\n",
    "                            \"CBI-4\",\n",
    "                            \"CBI-3\",\n",
    "                            \"B4/B5\",\n",
    "                            \"B30/B40\",\n",
    "                            \"B64\",\n",
    "                            \"B20\",\n",
    "                            \"B7\",\n",
    "                            \"B3/B6/B9\",\n",
    "                            \"B8a/b\",\n",
    "                            \"B31/B32\",\n",
    "                            \"B38\"]\n",
    "\n",
    "\n",
    "            con =  [[\"B64\",\"CBI-2\"], #B64 -> CBI2\n",
    "                    [\"B4/B5\",\"CBI-3\"],   #B4/B5 -> CBI3\n",
    "                    [\"CBI-2\",\"B30/B40\"], #CBI2 -> B30/B40\n",
    "                    [\"CBI-4\",\"B30/B40\"], #CBI4 -> B30/B40\n",
    "                    [\"B64\",\"B4/B5\"],  #B64 -> B4/B5\n",
    "                    [\"B31/B32\",\"B30/B40\"], #B31/B32 -> B30/B40\n",
    "                    [\"B64\",\"B30/B40\"],   #B64 -> B30/B40\n",
    "                    [\"B31/B32\",\"B64\"],   #B31/B32 -> B54\n",
    "                    [\"B31/B32\", \"B20\"],  #B31/32 -> B20\n",
    "                    [\"B64\",\"B20\"],     #B64 -> B20\n",
    "                    [\"CBI-3\",\"B20\"],      #CBI3 -> B20\n",
    "                    [\"CBI-2\",\"B20\"],      #CBI2 -> B20\n",
    "                    [\"CBI-4\",\"B20\"],      #CBI4 -> B20\n",
    "                    [\"CBI-3\",\"B7\"],       #CBI3 -> B7\n",
    "                    [\"B64\",\"B3/B6/B9\"],    #B64 -> B6/B9 and B3\n",
    "                    [\"B20\", \"B8a/b\"],     #B20 -> B8a/b\n",
    "                    [\"B4/B5\",\"B3/B6/B9\"],    #B4/B5 -> B6/B9 and B3\n",
    "                    [\"B30/B40\",\"B8a/b\"],    #B30/B40 -> B8\n",
    "                    [\"B4/B5\",\"B8a/b\"],      #B4/B5 -> B8\n",
    "                    [\"B31/B32\",\"B8a/b\"],    #B31/B32 -> B8\n",
    "                    [\"B64\",\"B31/B32\"],   #B64 -> B31/B32\n",
    "                    [\"CBI-3\",\"B38\"]       #CBI3 -> B38\n",
    "                    ]\n",
    "\n",
    "            edgeList = []\n",
    "            for cons in range(len(con)):\n",
    "                pre = neuronNames.index(con[cons][0])\n",
    "                post = neuronNames.index(con[cons][1])\n",
    "                edgeList.append([pre,post])\n",
    "\n",
    "            saveFileName = \"boolean\"\n",
    "\n",
    "        # End of establishing circuit connectivity\n",
    "        \n",
    "        allPreCells = [preC[0] for preC in edgeList] #all the pre-synaptic cells in the list\n",
    "        preCellCounter = collections.Counter(allPreCells) #count how many repeats of the same pre-synaptic cell (multiple axonal outputs)\n",
    "        multiAxonPre = {k:v for (k,v) in preCellCounter.items() if v > 1} #list of all the pre-synaptic cells with multiple axonal outputs\n",
    "        multiAxonPreCellID = list(multiAxonPre) #list version\n",
    "\n",
    "        #initial cell ID value for the first branching node or \"false cell\"\n",
    "        #this value is the next largest cell ID number\n",
    "        fcVal = max([element for innerList in edgeList for element in innerList])+1\n",
    "        falseCells = [] #preallocate an empty array to record all the false cells or branching nodes\n",
    "\n",
    "        #add additional connection pairs based on branching nodes needed\n",
    "        for fcInsert in range(len(multiAxonPreCellID)):\n",
    "            falseCells.append(fcVal)\n",
    "            multiAxonCellTemp = multiAxonPreCellID[fcInsert]\n",
    "            idxMultiAxon = [i for i, x in enumerate(allPreCells) if x == multiAxonCellTemp]\n",
    "            for fc in range(len(idxMultiAxon)):\n",
    "                edgeList[idxMultiAxon[fc]][0] = fcVal\n",
    "                \n",
    "            edgeList.append([multiAxonCellTemp,fcVal])\n",
    "            fcVal = fcVal + 1\n",
    "\n",
    "        numCells = np.max(edgeList)+1 #number of cells & branching nodes\n",
    "        numEdges = len(edgeList) #number of connections or edges\n",
    "\n",
    "\n",
    "        #Create an iGraph Graph based on the connections list\n",
    "        g = ig.Graph(edges=edgeList)\n",
    "\n",
    "        #add an attribute to the graph based on whether the cell ID is for a real cell ('True') or a branching node ('False')\n",
    "        g.vs[\"isCell\"] = True\n",
    "        for i in range(len(falseCells)):\n",
    "            g.vs[falseCells[i]][\"isCell\"] = False\n",
    "\n",
    "        #generate the somas/branching node placements based on either the Kamada-Kawai ('kk') or Fruchterman-Reingold ('fr') algorithms\n",
    "            #Kamada-Kawai\n",
    "        fig_kk,ax_kk = plt.subplots()\n",
    "        ax_kk.set_aspect(\"equal\")\n",
    "        l_kk = g.layout_kamada_kawai()\n",
    "        ig.plot(g,layout=l_kk,target=ax_kk,axes=False,vertex_label=g.vs.indices)\n",
    "        lcoord_kk = l_kk.coords\n",
    "        plt.title('Kamada Kawai')\n",
    "        plt.close(fig_kk)\n",
    "        # plt.show()\n",
    "\n",
    "            #Fruchterman-Reingold\n",
    "        fig_fr,ax_fr = plt.subplots()\n",
    "        ax_fr.set_aspect(\"equal\")\n",
    "        l_fr=g.layout_fruchterman_reingold()\n",
    "        ig.plot(g,layout=l_fr,target=ax_fr,axes=True,vertex_label=g.vs.indices)\n",
    "        lcoord_fr = l_fr.coords\n",
    "        plt.title('Fruchterman Reingold')\n",
    "        plt.close(fig_fr)\n",
    "        # plt.show()\n",
    "\n",
    "        time_graphPreUser = time.time() #end timer for Procedure 1\n",
    "        time_procedure1 = time_graphPreUser - timeStart #duration for Procedure 1\n",
    "        if hasGraphRun:\n",
    "            fig_canvas_agg_fr.get_tk_widget().forget()\n",
    "            fig_canvas_agg_kk.get_tk_widget().forget()\n",
    "        fig_canvas_agg_fr = draw_figure(window['-FRCANVAS-'].TKCanvas, fig_fr)\n",
    "        fig_canvas_agg_kk = draw_figure(window['-KKCANVAS-'].TKCanvas, fig_kk)\n",
    "\n",
    "        window['-LAYOUT PREVIEW STATUS-'].update(visible=True)\n",
    "        hasGraphRun = True\n",
    "        window.Element('-GRAPH-').update(disabled=False)\n",
    "        window.Element('-CADButton-').update(disabled=False)\n",
    "\n",
    "    elif event == '-CADButton-':\n",
    "        if values['-GRAPH-'] == 'Fruchterman-Reingold':\n",
    "            print(\"Fruchterman-Reingold was selected.\")\n",
    "            lcoord = lcoord_fr\n",
    "            window['-CAD Status-'].update(value=\"Fruchterman-Reingold was selected.\")\n",
    "        elif values['-GRAPH-'] == 'Kamada-Kawai':\n",
    "            print(\"Kamada-Kawai was selected.\")\n",
    "            lcoord = lcoord_kk\n",
    "            window['-CAD Status-'].update(value=\"Kamada-Kawai was selected.\")\n",
    "\n",
    "        saveFileName = saveFileName + \"_\" + graphDrawingUserChoice #update the save file name to include with kk or fr\n",
    "\n",
    "        #   BEGIN PROCEDURE 2: Generate neural circuit micro-pattern\n",
    "        #### Get Distances between somas and/or branching nodes\n",
    "        time_graphPostUser = time.time() #begin timer for Procedure 2\n",
    "\n",
    "        dist_mat =np.zeros(numEdges)\n",
    "        for i in range(numEdges):\n",
    "            dist_mat[i] = abs(math.dist(lcoord[edgeList[i][0]],lcoord[edgeList[i][1]]))\n",
    "\n",
    "        #Feature sizes for the pattern (can be edited by the User)\n",
    "        somaR = 25; #soma radius, um\n",
    "        neuriteWidth = 10; #neurite short dimension, um\n",
    "        axonLength = 90; #axon long dimension, um (target/average length desired)\n",
    "        dendriteLength = 20; #dendrite long dimension, um\n",
    "        gapLength = 10; #distance between the end of the axon and the end of the dendrite (synaptic cleft)\n",
    "\n",
    "        extrudeThickness = 5 #extrude thickness for the 3D model\n",
    "\n",
    "        #the following are parameters only if the soma area space needs a scoop (not necessary for now)\n",
    "        scoopDepth = 2.5 #how deep into the extrude should the deepest point of the scoop should go (center of a sphere)\n",
    "                        #ideally, this value should be less than the extrude thickness\n",
    "        scoopR = 15 #the radius of the scoop at the top rim\n",
    "                    #ideally, this value should be less than the somaR\n",
    "        scoopSphereR = scoopDepth/2 + (scoopR*2)**2/(8*scoopDepth) #radius of the sphere to make the desired scoop\n",
    "\n",
    "        multiBump = 50 #if there is a mutually connected pair with no additional axonal outputs, this is the sagitta of the arc pathway between the two cells\n",
    "\n",
    "        avgDist = np.mean([min(dist_mat), max(dist_mat)]) #average distance between all of the somas and/or branching nodes\n",
    "        scaleFactor = (axonLength+dendriteLength+2*somaR+gapLength)/avgDist #scale factor for soma/branching node position\n",
    "\n",
    "        #scaling the model\n",
    "        scaledCoords = np.array(lcoord)*scaleFactor\n",
    "        scaledDist = dist_mat*scaleFactor\n",
    "        #scaledCoords = scaledCoords - scaledCoords[0,:] #uncomment if you want the coordinates to also be normalized, relative to the first cell\n",
    "                                                        #uncommenting may cause issues due to the first cell having coordinates of (0,0)\n",
    "        #scaledCoordsMM = scaledCoords/1000 #only for reporting purposes if someone wanted to scale the coordinates value by 1000\n",
    "\n",
    "\n",
    "        angs = [None]*numCells #preallocate an array for storing angles for neurite orientation, relative to the global coordinate system\n",
    "        neuritesCount = np.zeros(numCells) #preallocate array for counting the number of neurites per cell\n",
    "\n",
    "        minNeurites = 4  #minimum number of neurites per cell (to ensure polarity if the pattern were to be used for microcontact printing)\n",
    "        '''\n",
    "        Based on:\n",
    "        Yamamoto, H., Matsumura, R., Takaoki, H., Katsurabayashi, S., Hirano-\n",
    "        Iwata, A., Niwano, M.: Unidirectional signal propagation in primary\n",
    "        neurons micropatterned at a single-cell resolution. Applied Physics\n",
    "        Letters 109(4), 043703 (7 2016). https://doi.org/10.1063/1.4959836\n",
    "\n",
    "        They patterned neurons to grow on bipolar, quadrupolar, and octupolar patterns.\n",
    "        They found that the quadrupolar pattern worked well in terms of the health of the \n",
    "        cells and their ability to appropriately polarize.\n",
    "\n",
    "        ***********************************************\n",
    "        ***Currently the method to add additional neurites to meet the minimum expects the minimum neurites to be added\n",
    "        to be 4 - if this value is changed, the tool may not work as intended. **********\n",
    "        '''\n",
    "\n",
    "        numIntersections = 0 #initialize variable for the number of intersections for the whole pattern\n",
    "        multiCellComplete = [] #preallocate an empty array for keeping track of which individual mutual synapsing pairs have already been completed (excluding those with additional axonal outputs)\n",
    "\n",
    "        result = cq.Workplane(\"XY\") #initialize the 3D model\n",
    "\n",
    "        for connection in range(numEdges): #for each connection pair\n",
    "            #positions of the pre- and post-synaptic connections for testing intersections (first pair of connections)\n",
    "            pos1_preCell = Point(scaledCoords[edgeList[connection][0]][0], scaledCoords[edgeList[connection][0]][1])\n",
    "            pos1_postCell = Point(scaledCoords[edgeList[connection][1]][0], scaledCoords[edgeList[connection][1]][1])\n",
    "            \n",
    "            #determine whether there are any intersections in the pattern\n",
    "            for jj in range(numEdges - connection - 1):\n",
    "                # print(\"Comparing: \" + str(edgeList[connection]) + \" and \" + str(edgeList[connection+jj+1]) )\n",
    "                #positions of the pre- and post-synaptic connections for the second pair of connections\n",
    "                pos2_preCell = Point(scaledCoords[edgeList[connection+jj+1][0]][0], scaledCoords[edgeList[connection+jj+1][0]][1])\n",
    "                pos2_postCell = Point(scaledCoords[edgeList[connection+jj+1][1]][0], scaledCoords[edgeList[connection+jj+1][1]][1])\n",
    "                if doIntersect(pos1_preCell, pos1_postCell, pos2_preCell, pos2_postCell) and (not bool(set(edgeList[connection]) & set(edgeList[connection+jj+1]))):\n",
    "                    numIntersections = numIntersections + 1\n",
    "                    print(str(edgeList[connection]) + \" and \" + str(edgeList[connection+jj+1]) + \" intersect.\")\n",
    "            \n",
    "            #coordinates of the pre- and post-synaptic connections\n",
    "            preSynCoord = scaledCoords[edgeList[connection][0]]\n",
    "            postSynCoord = scaledCoords[edgeList[connection][1]]\n",
    "            \n",
    "            #increase number count of neurites for each cell in the connection\n",
    "            neuritesCount[edgeList[connection][0]] = neuritesCount[edgeList[connection][0]]+1\n",
    "            neuritesCount[edgeList[connection][1]] = neuritesCount[edgeList[connection][1]]+1\n",
    "            \n",
    "            #angle in which the pre-synaptic cell is relative to the post-synaptic cell\n",
    "            post2preAng = math.degrees(math.atan2( (preSynCoord[1]-postSynCoord[1]), (preSynCoord[0]-postSynCoord[0])) )\n",
    "            \n",
    "            #re-set the angle from [-180, 180] to [0, 360]\n",
    "            if post2preAng < 0:\n",
    "                post2preAng = post2preAng + 360\n",
    "                pre2postAng = post2preAng - 180\n",
    "\n",
    "            else:\n",
    "                pre2postAng = post2preAng + 180\n",
    "                \n",
    "            \n",
    "            \n",
    "            if g.count_multiple(connection) == 2: #if the two connecting points are mutually synapsing, add 2 curved neurite paths\n",
    "                \n",
    "                #curved path for the dendrite and axon (no gap yet) (sagitta arc)\n",
    "                dendriteAxon = cq.Workplane(\"XZ\",origin=(postSynCoord[0],postSynCoord[1],extrudeThickness/2)).rect(neuriteWidth,extrudeThickness).sweep(cq.Workplane(\"XY\",origin=(postSynCoord[0],postSynCoord[1],0)).sagittaArc((preSynCoord[0]-postSynCoord[0],preSynCoord[1]-postSynCoord[1]),multiBump))\n",
    "                \n",
    "                result = result.union(dendriteAxon)\n",
    "                multiCellComplete.append(edgeList[connection])\n",
    "                \n",
    "                #the following is to create the gap between the axon and the dendrite paths\n",
    "                arcW = math.dist(preSynCoord,postSynCoord) #arc width of sagitta arc\n",
    "                arcR = multiBump/2 + (arcW**2)/(8*multiBump) #arc radius of sagitta arc\n",
    "                arcAng = math.degrees(math.acos(1- (multiBump / arcR))) #tangent angle at the start of the sagitta arc\n",
    "                post2preAng = post2preAng + arcAng\n",
    "                pre2postAng = pre2postAng - arcAng\n",
    "                \n",
    "                #create the gap solid to \"cut\" from the dendrite/axon path\n",
    "                gapAngStart = (dendriteLength+(arcR*2*math.asin(somaR/(2*arcR))))/arcR #radians, start angle of gap\n",
    "                gapChordAng = post2preAng-math.degrees(gapAngStart)/2 #angle of chord for the gap, relative to X axis\n",
    "                \n",
    "                chordDist = 2*arcR*math.sin(gapAngStart/2) #chord distance from center of soma to gap\n",
    "                \n",
    "                gap_deltaX = chordDist*math.cos(math.radians(gapChordAng)) #change in X coordinate, relative to soma center, to reach gap beginning\n",
    "                gap_deltaY = chordDist*math.sin(math.radians(gapChordAng)) #change in Y coordinate, relative to soma center, to reach gap beginning\n",
    "                \n",
    "                gapEndAng = (dendriteLength+(arcR*2*math.asin(somaR/(2*arcR))) + gapLength)/arcR #radians, end point of gap\n",
    "                gapEndChordAng = post2preAng-math.degrees(gapEndAng)/2 #angle of chord, relative to X axis\n",
    "                chordDistEnd = 2*arcR*math.sin(gapEndAng/2) #chord distance from center of soma to end of gap\n",
    "                gapEnd_deltaX = chordDistEnd*math.cos(math.radians(gapEndChordAng)) #change in X coordinate, relative to soma center, to reach gap beginning\n",
    "                gapEnd_deltaY = chordDistEnd*math.sin(math.radians(gapEndChordAng)) #change in Y coordinate, relative to soma center, to reach gap beginning\n",
    "                \n",
    "                #intial solid from the cell to the start of the gap\n",
    "                gap5 = cq.Workplane(\"XZ\",origin=(postSynCoord[0],postSynCoord[1],3*extrudeThickness/4)).rect(neuriteWidth*1.1,extrudeThickness/2).sweep(cq.Workplane(\"XY\",origin=(postSynCoord[0],postSynCoord[1],0)).radiusArc((gap_deltaX, gap_deltaY),arcR))\n",
    "                #initial solid from the cell to the end of the gap\n",
    "                gap6 = cq.Workplane(\"XZ\",origin=(postSynCoord[0],postSynCoord[1],3*extrudeThickness/4)).rect(neuriteWidth*1.1,extrudeThickness/2).sweep(cq.Workplane(\"XY\",origin=(postSynCoord[0],postSynCoord[1],0)).radiusArc((gapEnd_deltaX, gapEnd_deltaY),arcR))\n",
    "                \n",
    "                #cut the gap5 solid from the gap6 solid to create the solid for the gap\n",
    "                gap7 = gap6.cut(gap5)\n",
    "                \n",
    "                #cut the gap7 from the dendriteAxon path to separate them and create the synaptic cleft\n",
    "                result = result.cut(gap7)\n",
    "\n",
    "\n",
    "            else: #if not a mutually synapsing connection add straight paths for the dendrite and axon\n",
    "                \n",
    "                #create a short path solid for the dendrite based on the dendrite length from the post-synaptic cell, towards the pre-synaptic cell\n",
    "                dendrite = cq.Workplane(\"XY\").rect(dendriteLength+somaR,neuriteWidth,centered=False).extrude(extrudeThickness).translate((0,-neuriteWidth/2,0)).rotate((0,0,0),(0,0,1),post2preAng).translate((postSynCoord[0],postSynCoord[1],0))\n",
    "                result = result.union(dendrite) #add the dendrite solid to the full model\n",
    "                \n",
    "                #calculate the axonal length based on the dendrite length, gap length, and the remaining distance between the pre- and post-synaptic cells\n",
    "                axonLen = scaledDist[connection]-somaR-gapLength-dendriteLength\n",
    "\n",
    "                #create a long path solid for the axon based on the axon length, from the pre-synaptic cell, towards the post-synaptic cell\n",
    "                axon = cq.Workplane(\"XY\").rect(axonLen,neuriteWidth,centered=False).extrude(extrudeThickness).translate((0,-neuriteWidth/2,0)).rotate((0,0,0),(0,0,1),pre2postAng).translate((preSynCoord[0],preSynCoord[1],0))\n",
    "                result = result.union(axon) #add the axon solid to the full model\n",
    "                \n",
    "                #do not add the gap if the connection is with a branching node (fill the gap space). else, add a gap (do not fill the gap space)\n",
    "                if edgeList[connection][1] in set(falseCells):\n",
    "                    gap = cq.Workplane(\"XY\").rect(gapLength,neuriteWidth,centered=False).extrude(extrudeThickness).translate((axonLen,-neuriteWidth/2,0)).rotate((0,0,0),(0,0,1),pre2postAng).translate((preSynCoord[0],preSynCoord[1],0))\n",
    "                else:\n",
    "                    gap = cq.Workplane(\"XY\").rect(gapLength,neuriteWidth,centered=False).extrude(extrudeThickness/2).translate((axonLen,-neuriteWidth/2,0)).rotate((0,0,0),(0,0,1),pre2postAng).translate((preSynCoord[0],preSynCoord[1],0))\n",
    "                \n",
    "                result = result.add(gap) #add the relevant gap solid to the full model\n",
    "                \n",
    "            #record all of the angles for the pre- and post-synaptic cells\n",
    "            if angs[edgeList[connection][1]] is None:\n",
    "                angs[edgeList[connection][1]] = [post2preAng]\n",
    "            else:\n",
    "                angs[edgeList[connection][1]].append(post2preAng)\n",
    "            \n",
    "            if angs[edgeList[connection][0]] is None:\n",
    "                angs[edgeList[connection][0]] = [pre2postAng]\n",
    "            else:\n",
    "                angs[edgeList[connection][0]].append(pre2postAng)\n",
    "                \n",
    "        print(\"Total number of intersections: \" + str(numIntersections))        \n",
    "                \n",
    "                \n",
    "        #This for loop adds additional neurites, if the minimum is not met, and the solids for the somas (for each cell)\n",
    "        for i in range(numCells):\n",
    "            \n",
    "            #check if the cell has already has an axon\n",
    "            hasAxon = any(cIdx in [i] for cIdx in allPreCells)\n",
    "            \n",
    "            #check if the cell is a branching node or already met the neurite minimum. If so, do not add more neurites and do not add a large circular area for a soma.\n",
    "            if any(cIdx in [i] for cIdx in falseCells):\n",
    "                print(\"The cell \" + str(i) + \" is a false cell. No soma or extra dendrites will be added.\")\n",
    "                falseSoma = cq.Workplane(\"XY\").box(neuriteWidth,neuriteWidth,extrudeThickness).translate((scaledCoords[i][0],scaledCoords[i][1],extrudeThickness/2))\n",
    "                result = result.union(falseSoma)\n",
    "\n",
    "            elif (angs[i] == None):\n",
    "                print(\"The cell \" + str(i) + \" has no connections. No soma or extra dendrites will be added.\")\n",
    "                \n",
    "            else: #cell is a real cell (not branching node) and has less than the minimum number of neurites\n",
    "                \n",
    "                #calculate the largest angular gap between the existing neurites\n",
    "                angsSort = sorted(angs[i])\n",
    "                angsDiff = np.append(np.diff(angsSort),(angsSort[0]+360-angsSort[-1]))\n",
    "                largestGap = max(angsDiff)\n",
    "                largestGapLoc = np.argmax(angsDiff)\n",
    "                \n",
    "                #calculate the number of neurites to be added to meet the minimum\n",
    "                numDen2Add = int(minNeurites - neuritesCount[i])\n",
    "                    \n",
    "                #The method to determine the angular orientation of the remaining neurites\n",
    "                #depends on the angular gaps between the existing neurites and the number of \n",
    "                #remaining neurites to be added.\n",
    "                    \n",
    "                if numDen2Add == 2: #if the number of neurites to be added is 2\n",
    "                    #deterine which method to add the remaining neurites based on the standard \n",
    "                    # deviation of the neurite angle orientation\n",
    "                    #the method that results in the smallest standard deviation is the method used\n",
    "                    #for placing additional neurites\n",
    "                    \n",
    "                    #method 1 - put both neurites within the largest gap\n",
    "                    method1_midAngDelta = largestGap/3\n",
    "                    method1_std = np.std([min(angsDiff), method1_midAngDelta, method1_midAngDelta, method1_midAngDelta])\n",
    "                    \n",
    "                    \n",
    "                    #method 2 - put one neurite between each gap\n",
    "                    method2_midAngDelta = angsDiff/2            \n",
    "                    method2_std = np.std([method2_midAngDelta[0], method2_midAngDelta[0], method2_midAngDelta[1], method2_midAngDelta[1]])\n",
    "                    denAng = np.ones(2)\n",
    "                    \n",
    "                    if method1_std < method2_std:\n",
    "                        denAng[0] = angsSort[largestGapLoc] + method1_midAngDelta\n",
    "                        denAng[1] = denAng[0] + method1_midAngDelta\n",
    "                    else:\n",
    "                        denAng[0] = angsSort[0] + method2_midAngDelta[0]\n",
    "                        denAng[1] = angsSort[1] + method2_midAngDelta[1]\n",
    "                        \n",
    "                    for denIdx in range(2):\n",
    "                        \n",
    "                        #if the neuron does not already have an axon, add one of the remaining\n",
    "                        #neurites with the target axon length. else, add a dendrite\n",
    "                        if denIdx == 0 and hasAxon == False:\n",
    "                            neuriteLength = axonLength\n",
    "                        else:   \n",
    "                            neuriteLength = dendriteLength\n",
    "                        \n",
    "                        neurite = cq.Workplane(\"XY\").rect(neuriteLength+somaR,neuriteWidth,centered=False).extrude(extrudeThickness).translate((0,-neuriteWidth/2,0)).rotate((0,0,0),(0,0,1),denAng[denIdx]).translate((scaledCoords[i][0],scaledCoords[i][1],0))\n",
    "                        result = result.union(neurite)\n",
    "                        \n",
    "                    \n",
    "                        \n",
    "                elif numDen2Add == 1: #number of neurites to add is 1\n",
    "                \n",
    "                    #add the single neurite in the middle of the largest gap between the existing neurites\n",
    "                    addDenAng = angsSort[largestGapLoc] + largestGap/2\n",
    "                    \n",
    "                    #if the neuron does not already have an axon, add one of the remaining\n",
    "                    #neurites with the target axon length. else, add a dendrite\n",
    "                    if hasAxon == False:\n",
    "                        neuriteLength = axonLength\n",
    "                    else:\n",
    "                        neuriteLength = dendriteLength\n",
    "                    \n",
    "                    neurite = cq.Workplane(\"XY\").rect(neuriteLength+somaR,neuriteWidth,centered=False).extrude(extrudeThickness).translate((0,-neuriteWidth/2,0)).rotate((0,0,0),(0,0,1),addDenAng).translate((scaledCoords[i][0],scaledCoords[i][1],0))\n",
    "                    result = result.union(neurite)\n",
    "                                \n",
    "                elif numDen2Add == 3: #number of neurites to add is 3\n",
    "                \n",
    "                    #With the assumption that the minimum number of neurites to add is 4\n",
    "                    #that means there is only one existing neurite.\n",
    "                    #For four neurites evenly spaced, all of the neurites are 90 degrees relative to each other\n",
    "\n",
    "                    #if the neuron does not already have an axon, add one of the remaining\n",
    "                    #neurites with the target axon length. else, add a dendrite\n",
    "                    for denIdx in range(3):\n",
    "                        if denIdx == 0 and hasAxon == False:\n",
    "                            neuriteLength = axonLength\n",
    "                        else:   \n",
    "                            neuriteLength = dendriteLength\n",
    "\n",
    "                        neurite = cq.Workplane(\"XY\").rect(neuriteLength+somaR,neuriteWidth,centered=False).extrude(extrudeThickness).translate((0,-neuriteWidth/2,0)).rotate((0,0,0),(0,0,1),angs[i][0]+(90*(1+denIdx))).translate((scaledCoords[i][0],scaledCoords[i][1],0))\n",
    "                        result = result.union(neurite)\n",
    "                        \n",
    "                elif numDen2Add <= 0: #number of neurites is less than or equal to 0 - means there are no neurites that need to be added\n",
    "                    print(\"No dendrites need to be added for cell ID: \" + str(i))\n",
    "                    \n",
    "                else: #if for some reason, an invalid number is needed (likely the minimum neurites was changed to be larger than 4 or not a number)\n",
    "                    print(\"Invalid number of extra neurites to add\")\n",
    "\n",
    "                soma = cq.Workplane(\"XY\").circle(somaR).extrude(extrudeThickness).translate((scaledCoords[i][0],scaledCoords[i][1],0))\n",
    "                result = result.union(soma)#.cut(cq.Workplane(\"XY\").sphere(scoopSphereR).translate((scaledCoords[i][0],scaledCoords[i][1],scoopSphereR+extrudeThickness-scoopDepth)))\n",
    "                    #Scoop in the soma area could be uncommented needed\n",
    "                \n",
    "        time_postModel = time.time() #end timer for procedure 2\n",
    "        timeElapsed = (time_graphPreUser - timeStart) + (time_postModel - time_graphPostUser) #total time elapsed (procedure1 + procedure2) DOES NOT INCLUDE USER SELECTION TIME\n",
    "        time_procedure2 = (time_postModel - time_graphPostUser) #time elapsed for procedure 2\n",
    "\n",
    "        print(\"Time Elapsed for Procedure 1 (s): \" + str(time_procedure1))\n",
    "        print(\"Time Elapsed for Procedure 2 (s): \" + str(time_procedure2))\n",
    "        print(\"Time Elapsed Total (s): \" + str(timeElapsed))\n",
    "        print(g)\n",
    "\n",
    "        display(result)\n",
    "\n",
    "        hasCADRun = True\n",
    "        window.Element('-FOLDERBROWSE-').update(disabled=False)\n",
    "        \n",
    "\n",
    "    elif event == '-FOLDER-':\n",
    "        window.Element('-SAVEBUTTON-').update(disabled=False)\n",
    "        window['-FOLDER-'].update(visible=True)\n",
    "    elif event == '-SAVEBUTTON-':\n",
    "        print(\"Results saving...\")   \n",
    "        ''' USER NEEDS TO UPDATE THIS AS NEEDED\n",
    "            #Directory to export files to \n",
    "        '''\n",
    "        # exportDir = input(\"Save Directory: \") or 'G:/Shared drives/CMU BORG - Constrained Neuron Patterning & Transfer/02 Design Tool/exportTests/v11'\n",
    "        # exportDir = 'G:/Shared drives/CMU BORG - Constrained Neuron Patterning & Transfer/02 Design Tool/exportTests/v11'\n",
    "        exportDir = values['-FOLDERBROWSE-']\n",
    "        \n",
    "        fig_kk.savefig(exportDir+\"/intermediate_kk_\"+saveFileName+\".svg\", format=\"svg\", dpi=1200)\n",
    "        fig_fr.savefig(exportDir+\"/intermediate_fr_\"+saveFileName+\".svg\", format=\"svg\", dpi=1200)\n",
    "\n",
    "        cq.exporters.export(\n",
    "                            result,\n",
    "                            exportDir+\"/CAD_\" + saveFileName +\".svg\",\n",
    "                            opt={\n",
    "                                \"showAxes\": False,\n",
    "                                \"projectionDir\": (-0.25, -0.25, 0.5),\n",
    "                                }\n",
    "                            )\n",
    "        \n",
    "        cq.exporters.export(\n",
    "                            result,\n",
    "                            exportDir + \"/\" + saveFileName + \".stp\",\n",
    "                            cq.exporters.ExportTypes.STEP)\n",
    "        \n",
    "            #SVG Export - XY Plane from above\n",
    "        bb = result.val().BoundingBox()\n",
    "        cq.exporters.export(result,\n",
    "                            (exportDir + \"/XYplane_\" + saveFileName + '.svg'),\n",
    "                            opt={\n",
    "                                \"showAxes\": False,\n",
    "                                \"projectionDir\":(0,0,1),\n",
    "                                \"output_width\":bb.xlen,\n",
    "                                \"output_height\":bb.ylen})\n",
    "        \n",
    "            # visualize the SVG export\n",
    "        \n",
    "        fig = plt.figure()\n",
    "        img_png = cairosvg.svg2png(url=(exportDir + \"/XYplane_\" + saveFileName + '.svg'),write_to=(exportDir + \"/XYplane_\" + saveFileName +'.png'))\n",
    "        img = mpimg.imread((exportDir + \"/XYplane_\" + saveFileName +'.png'))\n",
    "        plt.close(fig)\n",
    "        # imgplot = plt.imshow(img)\n",
    "        # plt.show()\n",
    "        \n",
    "            #DXF Export (looks like XY planeish - have some weird spare lines)\n",
    "        cq.exporters.export(result,\n",
    "                            exportDir + \"/\" + saveFileName + \".dxf\")\n",
    "        doc = ezdxf.readfile(\n",
    "                            exportDir + \"/\" + saveFileName + \".dxf\")\n",
    "        msp = doc.modelspace()\n",
    "        \n",
    "        fig_dxf = plt.figure()\n",
    "        ax_dxf = fig_dxf.add_axes([0,0,1,1])\n",
    "        ctx = RenderContext(doc)\n",
    "        msp_properties = LayoutProperties.from_layout(msp)\n",
    "        msp_properties.set_colors(\"#eaeaeaff\")\n",
    "        out = MatplotlibBackend(ax_dxf)\n",
    "        Frontend(ctx, out).draw_layout(\n",
    "            msp,\n",
    "            finalize=True,\n",
    "            layout_properties=msp_properties,\n",
    "            )\n",
    "        plt.close(fig_dxf)\n",
    "        # plt.show()\n",
    "\n",
    "        if hasSaveRun:\n",
    "            fig_canvas_agg\n",
    "        window['-SAVE PREVIEW STATUS-'].update(visible=True)\n",
    "        fig_canvas_agg_save = draw_figure(window['-CADVAS-'].TKCanvas, fig_dxf)\n",
    "        hasSaveRun = True\n",
    "\n",
    "window.close()\n"
   ]
  },
  {
   "cell_type": "markdown",
   "metadata": {},
   "source": [
    "GANGLIA Procedure 1 (Non-GUI Version)"
   ]
  },
  {
   "cell_type": "code",
   "execution_count": 36,
   "metadata": {},
   "outputs": [
    {
     "data": {
      "image/png": "[encoded data removed]",
      "text/plain": [
       "<Figure size 640x480 with 1 Axes>"
      ]
     },
     "metadata": {},
     "output_type": "display_data"
    },
    {
     "data": {
      "image/png": "[encoded data removed]",
      "text/plain": [
       "<Figure size 640x480 with 1 Axes>"
      ]
     },
     "metadata": {},
     "output_type": "display_data"
    },
    {
     "data": {
      "application/vnd.plotly.v1+json": {
       "config": {
        "plotlyServerURL": "https://plot.ly"
       },
       "data": [
        {
         "customdata": [
          [
           12,
           "Presynaptic"
          ],
          [
           0,
           "Postsynaptic"
          ]
         ],
         "hovertemplate": "Edge=0<br>x=%{x}<br>y=%{y}<br>z=%{z}<br>Cell ID=%{customdata[0]}<br>Cell Role=%{customdata[1]}<extra></extra>",
         "legendgroup": "0",
         "line": {
          "color": "#636efa",
          "dash": "solid"
         },
         "marker": {
          "symbol": "circle"
         },
         "mode": "lines+markers",
         "name": "0",
         "scene": "scene",
         "showlegend": true,
         "type": "scatter3d",
         "x": [
          -0.0751363301095326,
          1.116538922783314
         ],
         "y": [
          -0.5428897503183316,
          -0.6704576220273781
         ],
         "z": [
          0.5411343410279885,
          1.0615636696001989
         ]
        },
        {
         "customdata": [
          [
           13,
           "Presynaptic"
          ],
          [
           2,
           "Postsynaptic"
          ]
         ],
         "hovertemplate": "Edge=1<br>x=%{x}<br>y=%{y}<br>z=%{z}<br>Cell ID=%{customdata[0]}<br>Cell Role=%{customdata[1]}<extra></extra>",
         "legendgroup": "1",
         "line": {
          "color": "#EF553B",
          "dash": "solid"
         },
         "marker": {
          "symbol": "circle"
         },
         "mode": "lines+markers",
         "name": "1",
         "scene": "scene",
         "showlegend": true,
         "type": "scatter3d",
         "x": [
          -0.6013229952759578,
          -0.20293177507420698
         ],
         "y": [
          -0.6402793095956179,
          0.06285989795495438
         ],
         "z": [
          -1.1152616824810921,
          -2.034384490671368
         ]
        },
        {
         "customdata": [
          [
           14,
           "Presynaptic"
          ],
          [
           4,
           "Postsynaptic"
          ]
         ],
         "hovertemplate": "Edge=2<br>x=%{x}<br>y=%{y}<br>z=%{z}<br>Cell ID=%{customdata[0]}<br>Cell Role=%{customdata[1]}<extra></extra>",
         "legendgroup": "2",
         "line": {
          "color": "#00cc96",
          "dash": "solid"
         },
         "marker": {
          "symbol": "circle"
         },
         "mode": "lines+markers",
         "name": "2",
         "scene": "scene",
         "showlegend": true,
         "type": "scatter3d",
         "x": [
          1.1049566046546149,
          -0.0986838830574433
         ],
         "y": [
          0.5388567622182813,
          0.6227958262776242
         ],
         "z": [
          0.6482811539664545,
          0.8343916710078095
         ]
        },
        {
         "customdata": [
          [
           15,
           "Presynaptic"
          ],
          [
           4,
           "Postsynaptic"
          ]
         ],
         "hovertemplate": "Edge=3<br>x=%{x}<br>y=%{y}<br>z=%{z}<br>Cell ID=%{customdata[0]}<br>Cell Role=%{customdata[1]}<extra></extra>",
         "legendgroup": "3",
         "line": {
          "color": "#ab63fa",
          "dash": "solid"
         },
         "marker": {
          "symbol": "circle"
         },
         "mode": "lines+markers",
         "name": "3",
         "scene": "scene",
         "showlegend": true,
         "type": "scatter3d",
         "x": [
          -0.010142200407563532,
          -0.0986838830574433
         ],
         "y": [
          1.813384445477962,
          0.6227958262776242
         ],
         "z": [
          0.6377791676860094,
          0.8343916710078095
         ]
        },
        {
         "customdata": [
          [
           12,
           "Presynaptic"
          ],
          [
           3,
           "Postsynaptic"
          ]
         ],
         "hovertemplate": "Edge=4<br>x=%{x}<br>y=%{y}<br>z=%{z}<br>Cell ID=%{customdata[0]}<br>Cell Role=%{customdata[1]}<extra></extra>",
         "legendgroup": "4",
         "line": {
          "color": "#FFA15A",
          "dash": "solid"
         },
         "marker": {
          "symbol": "circle"
         },
         "mode": "lines+markers",
         "name": "4",
         "scene": "scene",
         "showlegend": true,
         "type": "scatter3d",
         "x": [
          -0.0751363301095326,
          0.25623923704046186
         ],
         "y": [
          -0.5428897503183316,
          -1.2813775157468372
         ],
         "z": [
          0.5411343410279885,
          -0.42264987030140805
         ]
        },
        {
         "customdata": [
          [
           16,
           "Presynaptic"
          ],
          [
           4,
           "Postsynaptic"
          ]
         ],
         "hovertemplate": "Edge=5<br>x=%{x}<br>y=%{y}<br>z=%{z}<br>Cell ID=%{customdata[0]}<br>Cell Role=%{customdata[1]}<extra></extra>",
         "legendgroup": "5",
         "line": {
          "color": "#19d3f3",
          "dash": "solid"
         },
         "marker": {
          "symbol": "circle"
         },
         "mode": "lines+markers",
         "name": "5",
         "scene": "scene",
         "showlegend": true,
         "type": "scatter3d",
         "x": [
          -1.0513096307293446,
          -0.0986838830574433
         ],
         "y": [
          0.4020374777272392,
          0.6227958262776242
         ],
         "z": [
          0.7749011804281859,
          0.8343916710078095
         ]
        },
        {
         "customdata": [
          [
           12,
           "Presynaptic"
          ],
          [
           4,
           "Postsynaptic"
          ]
         ],
         "hovertemplate": "Edge=6<br>x=%{x}<br>y=%{y}<br>z=%{z}<br>Cell ID=%{customdata[0]}<br>Cell Role=%{customdata[1]}<extra></extra>",
         "legendgroup": "6",
         "line": {
          "color": "#FF6692",
          "dash": "solid"
         },
         "marker": {
          "symbol": "circle"
         },
         "mode": "lines+markers",
         "name": "6",
         "scene": "scene",
         "showlegend": true,
         "type": "scatter3d",
         "x": [
          -0.0751363301095326,
          -0.0986838830574433
         ],
         "y": [
          -0.5428897503183316,
          0.6227958262776242
         ],
         "z": [
          0.5411343410279885,
          0.8343916710078095
         ]
        },
        {
         "customdata": [
          [
           16,
           "Presynaptic"
          ],
          [
           5,
           "Postsynaptic"
          ]
         ],
         "hovertemplate": "Edge=7<br>x=%{x}<br>y=%{y}<br>z=%{z}<br>Cell ID=%{customdata[0]}<br>Cell Role=%{customdata[1]}<extra></extra>",
         "legendgroup": "7",
         "line": {
          "color": "#B6E880",
          "dash": "solid"
         },
         "marker": {
          "symbol": "circle"
         },
         "mode": "lines+markers",
         "name": "7",
         "scene": "scene",
         "showlegend": true,
         "type": "scatter3d",
         "x": [
          -1.0513096307293446,
          -0.6063812871358667
         ],
         "y": [
          0.4020374777272392,
          -0.510972117173853
         ],
         "z": [
          0.7749011804281859,
          1.646575394326102
         ]
        },
        {
         "customdata": [
          [
           16,
           "Presynaptic"
          ],
          [
           6,
           "Postsynaptic"
          ]
         ],
         "hovertemplate": "Edge=8<br>x=%{x}<br>y=%{y}<br>z=%{z}<br>Cell ID=%{customdata[0]}<br>Cell Role=%{customdata[1]}<extra></extra>",
         "legendgroup": "8",
         "line": {
          "color": "#FF97FF",
          "dash": "solid"
         },
         "marker": {
          "symbol": "circle"
         },
         "mode": "lines+markers",
         "name": "8",
         "scene": "scene",
         "showlegend": true,
         "type": "scatter3d",
         "x": [
          -1.0513096307293446,
          0.027861037697510523
         ],
         "y": [
          0.4020374777272392,
          0.736472484089352
         ],
         "z": [
          0.7749011804281859,
          -0.0501484393458674
         ]
        },
        {
         "customdata": [
          [
           12,
           "Presynaptic"
          ],
          [
           6,
           "Postsynaptic"
          ]
         ],
         "hovertemplate": "Edge=9<br>x=%{x}<br>y=%{y}<br>z=%{z}<br>Cell ID=%{customdata[0]}<br>Cell Role=%{customdata[1]}<extra></extra>",
         "legendgroup": "9",
         "line": {
          "color": "#FECB52",
          "dash": "solid"
         },
         "marker": {
          "symbol": "circle"
         },
         "mode": "lines+markers",
         "name": "9",
         "scene": "scene",
         "showlegend": true,
         "type": "scatter3d",
         "x": [
          -0.0751363301095326,
          0.027861037697510523
         ],
         "y": [
          -0.5428897503183316,
          0.736472484089352
         ],
         "z": [
          0.5411343410279885,
          -0.0501484393458674
         ]
        },
        {
         "customdata": [
          [
           17,
           "Presynaptic"
          ],
          [
           6,
           "Postsynaptic"
          ]
         ],
         "hovertemplate": "Edge=10<br>x=%{x}<br>y=%{y}<br>z=%{z}<br>Cell ID=%{customdata[0]}<br>Cell Role=%{customdata[1]}<extra></extra>",
         "legendgroup": "10",
         "line": {
          "color": "#636efa",
          "dash": "solid"
         },
         "marker": {
          "symbol": "circle"
         },
         "mode": "lines+markers",
         "name": "10",
         "scene": "scene",
         "showlegend": true,
         "type": "scatter3d",
         "x": [
          0.1993831055295999,
          0.027861037697510523
         ],
         "y": [
          1.0889762672109884,
          0.736472484089352
         ],
         "z": [
          -1.3617323949704054,
          -0.0501484393458674
         ]
        },
        {
         "customdata": [
          [
           14,
           "Presynaptic"
          ],
          [
           6,
           "Postsynaptic"
          ]
         ],
         "hovertemplate": "Edge=11<br>x=%{x}<br>y=%{y}<br>z=%{z}<br>Cell ID=%{customdata[0]}<br>Cell Role=%{customdata[1]}<extra></extra>",
         "legendgroup": "11",
         "line": {
          "color": "#EF553B",
          "dash": "solid"
         },
         "marker": {
          "symbol": "circle"
         },
         "mode": "lines+markers",
         "name": "11",
         "scene": "scene",
         "showlegend": true,
         "type": "scatter3d",
         "x": [
          1.1049566046546149,
          0.027861037697510523
         ],
         "y": [
          0.5388567622182813,
          0.736472484089352
         ],
         "z": [
          0.6482811539664545,
          -0.0501484393458674
         ]
        },
        {
         "customdata": [
          [
           15,
           "Presynaptic"
          ],
          [
           6,
           "Postsynaptic"
          ]
         ],
         "hovertemplate": "Edge=12<br>x=%{x}<br>y=%{y}<br>z=%{z}<br>Cell ID=%{customdata[0]}<br>Cell Role=%{customdata[1]}<extra></extra>",
         "legendgroup": "12",
         "line": {
          "color": "#00cc96",
          "dash": "solid"
         },
         "marker": {
          "symbol": "circle"
         },
         "mode": "lines+markers",
         "name": "12",
         "scene": "scene",
         "showlegend": true,
         "type": "scatter3d",
         "x": [
          -0.010142200407563532,
          0.027861037697510523
         ],
         "y": [
          1.813384445477962,
          0.736472484089352
         ],
         "z": [
          0.6377791676860094,
          -0.0501484393458674
         ]
        },
        {
         "customdata": [
          [
           17,
           "Presynaptic"
          ],
          [
           7,
           "Postsynaptic"
          ]
         ],
         "hovertemplate": "Edge=13<br>x=%{x}<br>y=%{y}<br>z=%{z}<br>Cell ID=%{customdata[0]}<br>Cell Role=%{customdata[1]}<extra></extra>",
         "legendgroup": "13",
         "line": {
          "color": "#ab63fa",
          "dash": "solid"
         },
         "marker": {
          "symbol": "circle"
         },
         "mode": "lines+markers",
         "name": "13",
         "scene": "scene",
         "showlegend": true,
         "type": "scatter3d",
         "x": [
          0.1993831055295999,
          1.2334852328108536
         ],
         "y": [
          1.0889762672109884,
          1.4257285427766389
         ],
         "z": [
          -1.3617323949704054,
          -1.9820858326780275
         ]
        },
        {
         "customdata": [
          [
           12,
           "Presynaptic"
          ],
          [
           8,
           "Postsynaptic"
          ]
         ],
         "hovertemplate": "Edge=14<br>x=%{x}<br>y=%{y}<br>z=%{z}<br>Cell ID=%{customdata[0]}<br>Cell Role=%{customdata[1]}<extra></extra>",
         "legendgroup": "14",
         "line": {
          "color": "#FFA15A",
          "dash": "solid"
         },
         "marker": {
          "symbol": "circle"
         },
         "mode": "lines+markers",
         "name": "14",
         "scene": "scene",
         "showlegend": true,
         "type": "scatter3d",
         "x": [
          -0.0751363301095326,
          -0.7392678531444553
         ],
         "y": [
          -0.5428897503183316,
          -1.373049415316362
         ],
         "z": [
          0.5411343410279885,
          -0.24230581692498607
         ]
        },
        {
         "customdata": [
          [
           6,
           "Presynaptic"
          ],
          [
           9,
           "Postsynaptic"
          ]
         ],
         "hovertemplate": "Edge=15<br>x=%{x}<br>y=%{y}<br>z=%{z}<br>Cell ID=%{customdata[0]}<br>Cell Role=%{customdata[1]}<extra></extra>",
         "legendgroup": "15",
         "line": {
          "color": "#19d3f3",
          "dash": "solid"
         },
         "marker": {
          "symbol": "circle"
         },
         "mode": "lines+markers",
         "name": "15",
         "scene": "scene",
         "showlegend": true,
         "type": "scatter3d",
         "x": [
          0.027861037697510523,
          -0.9252681825502833
         ],
         "y": [
          0.736472484089352,
          0.35873689543937964
         ],
         "z": [
          -0.0501484393458674,
          -0.2531054498645837
         ]
        },
        {
         "customdata": [
          [
           13,
           "Presynaptic"
          ],
          [
           8,
           "Postsynaptic"
          ]
         ],
         "hovertemplate": "Edge=16<br>x=%{x}<br>y=%{y}<br>z=%{z}<br>Cell ID=%{customdata[0]}<br>Cell Role=%{customdata[1]}<extra></extra>",
         "legendgroup": "16",
         "line": {
          "color": "#FF6692",
          "dash": "solid"
         },
         "marker": {
          "symbol": "circle"
         },
         "mode": "lines+markers",
         "name": "16",
         "scene": "scene",
         "showlegend": true,
         "type": "scatter3d",
         "x": [
          -0.6013229952759578,
          -0.7392678531444553
         ],
         "y": [
          -0.6402793095956179,
          -1.373049415316362
         ],
         "z": [
          -1.1152616824810921,
          -0.24230581692498607
         ]
        },
        {
         "customdata": [
          [
           4,
           "Presynaptic"
          ],
          [
           9,
           "Postsynaptic"
          ]
         ],
         "hovertemplate": "Edge=17<br>x=%{x}<br>y=%{y}<br>z=%{z}<br>Cell ID=%{customdata[0]}<br>Cell Role=%{customdata[1]}<extra></extra>",
         "legendgroup": "17",
         "line": {
          "color": "#B6E880",
          "dash": "solid"
         },
         "marker": {
          "symbol": "circle"
         },
         "mode": "lines+markers",
         "name": "17",
         "scene": "scene",
         "showlegend": true,
         "type": "scatter3d",
         "x": [
          -0.0986838830574433,
          -0.9252681825502833
         ],
         "y": [
          0.6227958262776242,
          0.35873689543937964
         ],
         "z": [
          0.8343916710078095,
          -0.2531054498645837
         ]
        },
        {
         "customdata": [
          [
           13,
           "Presynaptic"
          ],
          [
           9,
           "Postsynaptic"
          ]
         ],
         "hovertemplate": "Edge=18<br>x=%{x}<br>y=%{y}<br>z=%{z}<br>Cell ID=%{customdata[0]}<br>Cell Role=%{customdata[1]}<extra></extra>",
         "legendgroup": "18",
         "line": {
          "color": "#FF97FF",
          "dash": "solid"
         },
         "marker": {
          "symbol": "circle"
         },
         "mode": "lines+markers",
         "name": "18",
         "scene": "scene",
         "showlegend": true,
         "type": "scatter3d",
         "x": [
          -0.6013229952759578,
          -0.9252681825502833
         ],
         "y": [
          -0.6402793095956179,
          0.35873689543937964
         ],
         "z": [
          -1.1152616824810921,
          -0.2531054498645837
         ]
        },
        {
         "customdata": [
          [
           16,
           "Presynaptic"
          ],
          [
           9,
           "Postsynaptic"
          ]
         ],
         "hovertemplate": "Edge=19<br>x=%{x}<br>y=%{y}<br>z=%{z}<br>Cell ID=%{customdata[0]}<br>Cell Role=%{customdata[1]}<extra></extra>",
         "legendgroup": "19",
         "line": {
          "color": "#FECB52",
          "dash": "solid"
         },
         "marker": {
          "symbol": "circle"
         },
         "mode": "lines+markers",
         "name": "19",
         "scene": "scene",
         "showlegend": true,
         "type": "scatter3d",
         "x": [
          -1.0513096307293446,
          -0.9252681825502833
         ],
         "y": [
          0.4020374777272392,
          0.35873689543937964
         ],
         "z": [
          0.7749011804281859,
          -0.2531054498645837
         ]
        },
        {
         "customdata": [
          [
           12,
           "Presynaptic"
          ],
          [
           10,
           "Postsynaptic"
          ]
         ],
         "hovertemplate": "Edge=20<br>x=%{x}<br>y=%{y}<br>z=%{z}<br>Cell ID=%{customdata[0]}<br>Cell Role=%{customdata[1]}<extra></extra>",
         "legendgroup": "20",
         "line": {
          "color": "#636efa",
          "dash": "solid"
         },
         "marker": {
          "symbol": "circle"
         },
         "mode": "lines+markers",
         "name": "20",
         "scene": "scene",
         "showlegend": true,
         "type": "scatter3d",
         "x": [
          -0.0751363301095326,
          -1.3410145402693892
         ],
         "y": [
          -0.5428897503183316,
          -0.7321811760621343
         ],
         "z": [
          0.5411343410279885,
          1.003832350008983
         ]
        },
        {
         "customdata": [
          [
           17,
           "Presynaptic"
          ],
          [
           11,
           "Postsynaptic"
          ]
         ],
         "hovertemplate": "Edge=21<br>x=%{x}<br>y=%{y}<br>z=%{z}<br>Cell ID=%{customdata[0]}<br>Cell Role=%{customdata[1]}<extra></extra>",
         "legendgroup": "21",
         "line": {
          "color": "#EF553B",
          "dash": "solid"
         },
         "marker": {
          "symbol": "circle"
         },
         "mode": "lines+markers",
         "name": "21",
         "scene": "scene",
         "showlegend": true,
         "type": "scatter3d",
         "x": [
          0.1993831055295999,
          -0.3349745817551237
         ],
         "y": [
          1.0889762672109884,
          1.9777061345836064
         ],
         "z": [
          -1.3617323949704054,
          -2.0776471580859472
         ]
        },
        {
         "customdata": [
          [
           5,
           "Presynaptic"
          ],
          [
           12,
           "Postsynaptic"
          ]
         ],
         "hovertemplate": "Edge=22<br>x=%{x}<br>y=%{y}<br>z=%{z}<br>Cell ID=%{customdata[0]}<br>Cell Role=%{customdata[1]}<extra></extra>",
         "legendgroup": "22",
         "line": {
          "color": "#00cc96",
          "dash": "solid"
         },
         "marker": {
          "symbol": "circle"
         },
         "mode": "lines+markers",
         "name": "22",
         "scene": "scene",
         "showlegend": true,
         "type": "scatter3d",
         "x": [
          -0.6063812871358667,
          -0.0751363301095326
         ],
         "y": [
          -0.510972117173853,
          -0.5428897503183316
         ],
         "z": [
          1.646575394326102,
          0.5411343410279885
         ]
        },
        {
         "customdata": [
          [
           3,
           "Presynaptic"
          ],
          [
           13,
           "Postsynaptic"
          ]
         ],
         "hovertemplate": "Edge=23<br>x=%{x}<br>y=%{y}<br>z=%{z}<br>Cell ID=%{customdata[0]}<br>Cell Role=%{customdata[1]}<extra></extra>",
         "legendgroup": "23",
         "line": {
          "color": "#ab63fa",
          "dash": "solid"
         },
         "marker": {
          "symbol": "circle"
         },
         "mode": "lines+markers",
         "name": "23",
         "scene": "scene",
         "showlegend": true,
         "type": "scatter3d",
         "x": [
          0.25623923704046186,
          -0.6013229952759578
         ],
         "y": [
          -1.2813775157468372,
          -0.6402793095956179
         ],
         "z": [
          -0.42264987030140805,
          -1.1152616824810921
         ]
        },
        {
         "customdata": [
          [
           0,
           "Presynaptic"
          ],
          [
           14,
           "Postsynaptic"
          ]
         ],
         "hovertemplate": "Edge=24<br>x=%{x}<br>y=%{y}<br>z=%{z}<br>Cell ID=%{customdata[0]}<br>Cell Role=%{customdata[1]}<extra></extra>",
         "legendgroup": "24",
         "line": {
          "color": "#FFA15A",
          "dash": "solid"
         },
         "marker": {
          "symbol": "circle"
         },
         "mode": "lines+markers",
         "name": "24",
         "scene": "scene",
         "showlegend": true,
         "type": "scatter3d",
         "x": [
          1.116538922783314,
          1.1049566046546149
         ],
         "y": [
          -0.6704576220273781,
          0.5388567622182813
         ],
         "z": [
          1.0615636696001989,
          0.6482811539664545
         ]
        },
        {
         "customdata": [
          [
           1,
           "Presynaptic"
          ],
          [
           15,
           "Postsynaptic"
          ]
         ],
         "hovertemplate": "Edge=25<br>x=%{x}<br>y=%{y}<br>z=%{z}<br>Cell ID=%{customdata[0]}<br>Cell Role=%{customdata[1]}<extra></extra>",
         "legendgroup": "25",
         "line": {
          "color": "#19d3f3",
          "dash": "solid"
         },
         "marker": {
          "symbol": "circle"
         },
         "mode": "lines+markers",
         "name": "25",
         "scene": "scene",
         "showlegend": true,
         "type": "scatter3d",
         "x": [
          -0.026857184105346633,
          -0.010142200407563532
         ],
         "y": [
          2.8493380592958624,
          1.813384445477962
         ],
         "z": [
          1.184170468058986,
          0.6377791676860094
         ]
        },
        {
         "customdata": [
          [
           10,
           "Presynaptic"
          ],
          [
           16,
           "Postsynaptic"
          ]
         ],
         "hovertemplate": "Edge=26<br>x=%{x}<br>y=%{y}<br>z=%{z}<br>Cell ID=%{customdata[0]}<br>Cell Role=%{customdata[1]}<extra></extra>",
         "legendgroup": "26",
         "line": {
          "color": "#FF6692",
          "dash": "solid"
         },
         "marker": {
          "symbol": "circle"
         },
         "mode": "lines+markers",
         "name": "26",
         "scene": "scene",
         "showlegend": true,
         "type": "scatter3d",
         "x": [
          -1.3410145402693892,
          -1.0513096307293446
         ],
         "y": [
          -0.7321811760621343,
          0.4020374777272392
         ],
         "z": [
          1.003832350008983,
          0.7749011804281859
         ]
        },
        {
         "customdata": [
          [
           2,
           "Presynaptic"
          ],
          [
           17,
           "Postsynaptic"
          ]
         ],
         "hovertemplate": "Edge=27<br>x=%{x}<br>y=%{y}<br>z=%{z}<br>Cell ID=%{customdata[0]}<br>Cell Role=%{customdata[1]}<extra></extra>",
         "legendgroup": "27",
         "line": {
          "color": "#B6E880",
          "dash": "solid"
         },
         "marker": {
          "symbol": "circle"
         },
         "mode": "lines+markers",
         "name": "27",
         "scene": "scene",
         "showlegend": true,
         "type": "scatter3d",
         "x": [
          -0.20293177507420698,
          0.1993831055295999
         ],
         "y": [
          0.06285989795495438,
          1.0889762672109884
         ],
         "z": [
          -2.034384490671368,
          -1.3617323949704054
         ]
        }
       ],
       "layout": {
        "legend": {
         "title": {
          "text": "Edge"
         },
         "tracegroupgap": 0
        },
        "scene": {
         "domain": {
          "x": [
           0,
           1
          ],
          "y": [
           0,
           1
          ]
         },
         "xaxis": {
          "title": {
           "text": "x"
          }
         },
         "yaxis": {
          "title": {
           "text": "y"
          }
         },
         "zaxis": {
          "title": {
           "text": "z"
          }
         }
        },
        "template": {
         "data": {
          "bar": [
           {
            "error_x": {
             "color": "#2a3f5f"
            },
            "error_y": {
             "color": "#2a3f5f"
            },
            "marker": {
             "line": {
              "color": "#E5ECF6",
              "width": 0.5
             },
             "pattern": {
              "fillmode": "overlay",
              "size": 10,
              "solidity": 0.2
             }
            },
            "type": "bar"
           }
          ],
          "barpolar": [
           {
            "marker": {
             "line": {
              "color": "#E5ECF6",
              "width": 0.5
             },
             "pattern": {
              "fillmode": "overlay",
              "size": 10,
              "solidity": 0.2
             }
            },
            "type": "barpolar"
           }
          ],
          "carpet": [
           {
            "aaxis": {
             "endlinecolor": "#2a3f5f",
             "gridcolor": "white",
             "linecolor": "white",
             "minorgridcolor": "white",
             "startlinecolor": "#2a3f5f"
            },
            "baxis": {
             "endlinecolor": "#2a3f5f",
             "gridcolor": "white",
             "linecolor": "white",
             "minorgridcolor": "white",
             "startlinecolor": "#2a3f5f"
            },
            "type": "carpet"
           }
          ],
          "choropleth": [
           {
            "colorbar": {
             "outlinewidth": 0,
             "ticks": ""
            },
            "type": "choropleth"
           }
          ],
          "contour": [
           {
            "colorbar": {
             "outlinewidth": 0,
             "ticks": ""
            },
            "colorscale": [
             [
              0,
              "#0d0887"
             ],
             [
              0.1111111111111111,
              "#46039f"
             ],
             [
              0.2222222222222222,
              "#7201a8"
             ],
             [
              0.3333333333333333,
              "#9c179e"
             ],
             [
              0.4444444444444444,
              "#bd3786"
             ],
             [
              0.5555555555555556,
              "#d8576b"
             ],
             [
              0.6666666666666666,
              "#ed7953"
             ],
             [
              0.7777777777777778,
              "#fb9f3a"
             ],
             [
              0.8888888888888888,
              "#fdca26"
             ],
             [
              1,
              "#f0f921"
             ]
            ],
            "type": "contour"
           }
          ],
          "contourcarpet": [
           {
            "colorbar": {
             "outlinewidth": 0,
             "ticks": ""
            },
            "type": "contourcarpet"
           }
          ],
          "heatmap": [
           {
            "colorbar": {
             "outlinewidth": 0,
             "ticks": ""
            },
            "colorscale": [
             [
              0,
              "#0d0887"
             ],
             [
              0.1111111111111111,
              "#46039f"
             ],
             [
              0.2222222222222222,
              "#7201a8"
             ],
             [
              0.3333333333333333,
              "#9c179e"
             ],
             [
              0.4444444444444444,
              "#bd3786"
             ],
             [
              0.5555555555555556,
              "#d8576b"
             ],
             [
              0.6666666666666666,
              "#ed7953"
             ],
             [
              0.7777777777777778,
              "#fb9f3a"
             ],
             [
              0.8888888888888888,
              "#fdca26"
             ],
             [
              1,
              "#f0f921"
             ]
            ],
            "type": "heatmap"
           }
          ],
          "heatmapgl": [
           {
            "colorbar": {
             "outlinewidth": 0,
             "ticks": ""
            },
            "colorscale": [
             [
              0,
              "#0d0887"
             ],
             [
              0.1111111111111111,
              "#46039f"
             ],
             [
              0.2222222222222222,
              "#7201a8"
             ],
             [
              0.3333333333333333,
              "#9c179e"
             ],
             [
              0.4444444444444444,
              "#bd3786"
             ],
             [
              0.5555555555555556,
              "#d8576b"
             ],
             [
              0.6666666666666666,
              "#ed7953"
             ],
             [
              0.7777777777777778,
              "#fb9f3a"
             ],
             [
              0.8888888888888888,
              "#fdca26"
             ],
             [
              1,
              "#f0f921"
             ]
            ],
            "type": "heatmapgl"
           }
          ],
          "histogram": [
           {
            "marker": {
             "pattern": {
              "fillmode": "overlay",
              "size": 10,
              "solidity": 0.2
             }
            },
            "type": "histogram"
           }
          ],
          "histogram2d": [
           {
            "colorbar": {
             "outlinewidth": 0,
             "ticks": ""
            },
            "colorscale": [
             [
              0,
              "#0d0887"
             ],
             [
              0.1111111111111111,
              "#46039f"
             ],
             [
              0.2222222222222222,
              "#7201a8"
             ],
             [
              0.3333333333333333,
              "#9c179e"
             ],
             [
              0.4444444444444444,
              "#bd3786"
             ],
             [
              0.5555555555555556,
              "#d8576b"
             ],
             [
              0.6666666666666666,
              "#ed7953"
             ],
             [
              0.7777777777777778,
              "#fb9f3a"
             ],
             [
              0.8888888888888888,
              "#fdca26"
             ],
             [
              1,
              "#f0f921"
             ]
            ],
            "type": "histogram2d"
           }
          ],
          "histogram2dcontour": [
           {
            "colorbar": {
             "outlinewidth": 0,
             "ticks": ""
            },
            "colorscale": [
             [
              0,
              "#0d0887"
             ],
             [
              0.1111111111111111,
              "#46039f"
             ],
             [
              0.2222222222222222,
              "#7201a8"
             ],
             [
              0.3333333333333333,
              "#9c179e"
             ],
             [
              0.4444444444444444,
              "#bd3786"
             ],
             [
              0.5555555555555556,
              "#d8576b"
             ],
             [
              0.6666666666666666,
              "#ed7953"
             ],
             [
              0.7777777777777778,
              "#fb9f3a"
             ],
             [
              0.8888888888888888,
              "#fdca26"
             ],
             [
              1,
              "#f0f921"
             ]
            ],
            "type": "histogram2dcontour"
           }
          ],
          "mesh3d": [
           {
            "colorbar": {
             "outlinewidth": 0,
             "ticks": ""
            },
            "type": "mesh3d"
           }
          ],
          "parcoords": [
           {
            "line": {
             "colorbar": {
              "outlinewidth": 0,
              "ticks": ""
             }
            },
            "type": "parcoords"
           }
          ],
          "pie": [
           {
            "automargin": true,
            "type": "pie"
           }
          ],
          "scatter": [
           {
            "fillpattern": {
             "fillmode": "overlay",
             "size": 10,
             "solidity": 0.2
            },
            "type": "scatter"
           }
          ],
          "scatter3d": [
           {
            "line": {
             "colorbar": {
              "outlinewidth": 0,
              "ticks": ""
             }
            },
            "marker": {
             "colorbar": {
              "outlinewidth": 0,
              "ticks": ""
             }
            },
            "type": "scatter3d"
           }
          ],
          "scattercarpet": [
           {
            "marker": {
             "colorbar": {
              "outlinewidth": 0,
              "ticks": ""
             }
            },
            "type": "scattercarpet"
           }
          ],
          "scattergeo": [
           {
            "marker": {
             "colorbar": {
              "outlinewidth": 0,
              "ticks": ""
             }
            },
            "type": "scattergeo"
           }
          ],
          "scattergl": [
           {
            "marker": {
             "colorbar": {
              "outlinewidth": 0,
              "ticks": ""
             }
            },
            "type": "scattergl"
           }
          ],
          "scattermapbox": [
           {
            "marker": {
             "colorbar": {
              "outlinewidth": 0,
              "ticks": ""
             }
            },
            "type": "scattermapbox"
           }
          ],
          "scatterpolar": [
           {
            "marker": {
             "colorbar": {
              "outlinewidth": 0,
              "ticks": ""
             }
            },
            "type": "scatterpolar"
           }
          ],
          "scatterpolargl": [
           {
            "marker": {
             "colorbar": {
              "outlinewidth": 0,
              "ticks": ""
             }
            },
            "type": "scatterpolargl"
           }
          ],
          "scatterternary": [
           {
            "marker": {
             "colorbar": {
              "outlinewidth": 0,
              "ticks": ""
             }
            },
            "type": "scatterternary"
           }
          ],
          "surface": [
           {
            "colorbar": {
             "outlinewidth": 0,
             "ticks": ""
            },
            "colorscale": [
             [
              0,
              "#0d0887"
             ],
             [
              0.1111111111111111,
              "#46039f"
             ],
             [
              0.2222222222222222,
              "#7201a8"
             ],
             [
              0.3333333333333333,
              "#9c179e"
             ],
             [
              0.4444444444444444,
              "#bd3786"
             ],
             [
              0.5555555555555556,
              "#d8576b"
             ],
             [
              0.6666666666666666,
              "#ed7953"
             ],
             [
              0.7777777777777778,
              "#fb9f3a"
             ],
             [
              0.8888888888888888,
              "#fdca26"
             ],
             [
              1,
              "#f0f921"
             ]
            ],
            "type": "surface"
           }
          ],
          "table": [
           {
            "cells": {
             "fill": {
              "color": "#EBF0F8"
             },
             "line": {
              "color": "white"
             }
            },
            "header": {
             "fill": {
              "color": "#C8D4E3"
             },
             "line": {
              "color": "white"
             }
            },
            "type": "table"
           }
          ]
         },
         "layout": {
          "annotationdefaults": {
           "arrowcolor": "#2a3f5f",
           "arrowhead": 0,
           "arrowwidth": 1
          },
          "autotypenumbers": "strict",
          "coloraxis": {
           "colorbar": {
            "outlinewidth": 0,
            "ticks": ""
           }
          },
          "colorscale": {
           "diverging": [
            [
             0,
             "#8e0152"
            ],
            [
             0.1,
             "#c51b7d"
            ],
            [
             0.2,
             "#de77ae"
            ],
            [
             0.3,
             "#f1b6da"
            ],
            [
             0.4,
             "#fde0ef"
            ],
            [
             0.5,
             "#f7f7f7"
            ],
            [
             0.6,
             "#e6f5d0"
            ],
            [
             0.7,
             "#b8e186"
            ],
            [
             0.8,
             "#7fbc41"
            ],
            [
             0.9,
             "#4d9221"
            ],
            [
             1,
             "#276419"
            ]
           ],
           "sequential": [
            [
             0,
             "#0d0887"
            ],
            [
             0.1111111111111111,
             "#46039f"
            ],
            [
             0.2222222222222222,
             "#7201a8"
            ],
            [
             0.3333333333333333,
             "#9c179e"
            ],
            [
             0.4444444444444444,
             "#bd3786"
            ],
            [
             0.5555555555555556,
             "#d8576b"
            ],
            [
             0.6666666666666666,
             "#ed7953"
            ],
            [
             0.7777777777777778,
             "#fb9f3a"
            ],
            [
             0.8888888888888888,
             "#fdca26"
            ],
            [
             1,
             "#f0f921"
            ]
           ],
           "sequentialminus": [
            [
             0,
             "#0d0887"
            ],
            [
             0.1111111111111111,
             "#46039f"
            ],
            [
             0.2222222222222222,
             "#7201a8"
            ],
            [
             0.3333333333333333,
             "#9c179e"
            ],
            [
             0.4444444444444444,
             "#bd3786"
            ],
            [
             0.5555555555555556,
             "#d8576b"
            ],
            [
             0.6666666666666666,
             "#ed7953"
            ],
            [
             0.7777777777777778,
             "#fb9f3a"
            ],
            [
             0.8888888888888888,
             "#fdca26"
            ],
            [
             1,
             "#f0f921"
            ]
           ]
          },
          "colorway": [
           "#636efa",
           "#EF553B",
           "#00cc96",
           "#ab63fa",
           "#FFA15A",
           "#19d3f3",
           "#FF6692",
           "#B6E880",
           "#FF97FF",
           "#FECB52"
          ],
          "font": {
           "color": "#2a3f5f"
          },
          "geo": {
           "bgcolor": "white",
           "lakecolor": "white",
           "landcolor": "#E5ECF6",
           "showlakes": true,
           "showland": true,
           "subunitcolor": "white"
          },
          "hoverlabel": {
           "align": "left"
          },
          "hovermode": "closest",
          "mapbox": {
           "style": "light"
          },
          "paper_bgcolor": "white",
          "plot_bgcolor": "#E5ECF6",
          "polar": {
           "angularaxis": {
            "gridcolor": "white",
            "linecolor": "white",
            "ticks": ""
           },
           "bgcolor": "#E5ECF6",
           "radialaxis": {
            "gridcolor": "white",
            "linecolor": "white",
            "ticks": ""
           }
          },
          "scene": {
           "xaxis": {
            "backgroundcolor": "#E5ECF6",
            "gridcolor": "white",
            "gridwidth": 2,
            "linecolor": "white",
            "showbackground": true,
            "ticks": "",
            "zerolinecolor": "white"
           },
           "yaxis": {
            "backgroundcolor": "#E5ECF6",
            "gridcolor": "white",
            "gridwidth": 2,
            "linecolor": "white",
            "showbackground": true,
            "ticks": "",
            "zerolinecolor": "white"
           },
           "zaxis": {
            "backgroundcolor": "#E5ECF6",
            "gridcolor": "white",
            "gridwidth": 2,
            "linecolor": "white",
            "showbackground": true,
            "ticks": "",
            "zerolinecolor": "white"
           }
          },
          "shapedefaults": {
           "line": {
            "color": "#2a3f5f"
           }
          },
          "ternary": {
           "aaxis": {
            "gridcolor": "white",
            "linecolor": "white",
            "ticks": ""
           },
           "baxis": {
            "gridcolor": "white",
            "linecolor": "white",
            "ticks": ""
           },
           "bgcolor": "#E5ECF6",
           "caxis": {
            "gridcolor": "white",
            "linecolor": "white",
            "ticks": ""
           }
          },
          "title": {
           "x": 0.05
          },
          "xaxis": {
           "automargin": true,
           "gridcolor": "white",
           "linecolor": "white",
           "ticks": "",
           "title": {
            "standoff": 15
           },
           "zerolinecolor": "white",
           "zerolinewidth": 2
          },
          "yaxis": {
           "automargin": true,
           "gridcolor": "white",
           "linecolor": "white",
           "ticks": "",
           "title": {
            "standoff": 15
           },
           "zerolinecolor": "white",
           "zerolinewidth": 2
          }
         }
        },
        "title": {
         "text": "Kamada Kawai 3D"
        }
       }
      }
     },
     "metadata": {},
     "output_type": "display_data"
    }
   ],
   "source": [
    "##### Setting Up the Tool\n",
    "\n",
    "#PROCEDURE 1: Determine candidate soma and branching node locations based on connectivity\n",
    "timeStart = time.time() #start time counter\n",
    "random.seed(0) #set the random seed to a constant seed for repeatability\n",
    "\n",
    "######\n",
    "'''\n",
    "USER SHOULD COMMENT IN THE APPROPRIATE NETWORK THEY WISH TO GENERATE A PATTERN FOR.\n",
    "IF THE USER WANTS TO MAKE THEIR OWN CONNECTIVITY LIST, THEY CAN DO IT IN A SIMILAR \n",
    "FORMAT AS 'edgeList' OR ('neuronNames' and 'cons') IN THESE EXAMPLES.\n",
    "\n",
    "The 'edgeList' is the list of connections, as pairs. MUST be only integers.\n",
    "The 'neuronNames' is a string list of words corresponding to names.\n",
    "The 'cons' is like 'edgeList', but uses the 'neuronNames' as the pairs, rather than integers.\n",
    "    'cons' will be converted to 'edgeList', since iGraph requires an input of a list of paired integers.\n",
    "'''\n",
    "\n",
    "'''\n",
    "# Half-Center Oscillator\n",
    "\n",
    "For more information: \n",
    "Marder, E., Bucher, D.: Central pattern generators and the con-\n",
    "trol of rhythmic movements. Current Biology 11(23), R986–\n",
    "R996 (11 2001). https://doi.org/10.1016/S0960-9822(01)00581-4\n",
    "'''\n",
    "\n",
    "# edgeList=[[0,1],\n",
    "#           [1,0]]\n",
    "# #         [2,1]]\n",
    "# saveFileName = \"half_center\"\n",
    "\n",
    "######\n",
    "\n",
    "###### \n",
    "'''\n",
    "Rat Hindlimb Motor Circuit\n",
    "#https://www.ncbi.nlm.nih.gov/pmc/articles/PMC6477610/\n",
    "\n",
    "Deng, K., Szczecinski, N.S., Arnold, D., Andrada, E., Fischer, M.S., Quinn,\n",
    "R.D., Hunt, A.J.: Neuromechanical Model of Rat Hindlimb Walking with\n",
    "Two-Layer CPGs. Biomimetics (Basel, Switzerland) 4(1), 21 (3 2019).\n",
    "https://doi.org/10.3390/biomimetics4010021\n",
    "'''\n",
    "\n",
    "# neuronNames = [\"ExtensorIN\",\n",
    "#                 \"FlexorIN\",\n",
    "#                 \"ExtensorHC\",\n",
    "#                 \"FlexorHC\",\n",
    "#                 \"ExtensorIaIN\",\n",
    "#                 \"FlexorIaIN\",\n",
    "#                 \"ExtensorMN\",\n",
    "#                 \"FlexorMN\",\n",
    "#                 \"ExtensorRE\",\n",
    "#                 \"FlexorRE\"]\n",
    "\n",
    "\n",
    "# con =  [[\"ExtensorIN\",\"FlexorHC\"], #B64 -> CBI2\n",
    "#         [\"ExtensorHC\",\"ExtensorIN\"],   #B4/B5 -> CBI3\n",
    "#         [\"FlexorIN\",\"ExtensorHC\"], #CBI2 -> B30/B40\n",
    "#         [\"FlexorHC\",\"FlexorIN\"], #CBI4 -> B30/B40\n",
    "#         [\"ExtensorHC\",\"ExtensorIaIN\"],  #B64 -> B4/B5\n",
    "#         [\"ExtensorHC\",\"ExtensorMN\"], #B31/B32 -> B30/B40\n",
    "#         [\"FlexorHC\",\"FlexorIaIN\"],   #B64 -> B30/B40\n",
    "#         [\"FlexorHC\",\"FlexorMN\"],   #B31/B32 -> B54\n",
    "#         [\"ExtensorIaIN\",\"FlexorIaIN\"],  #B31/32 -> B20\n",
    "#         [\"FlexorIaIN\",\"ExtensorIaIN\"],     #B64 -> B20\n",
    "#         [\"ExtensorIaIN\",\"FlexorMN\"],      #CBI3 -> B20\n",
    "#         [\"ExtensorRE\",\"ExtensorIaIN\"],      #CBI2 -> B20\n",
    "#         [\"FlexorIaIN\",\"ExtensorMN\"],      #CBI4 -> B20\n",
    "#         [\"FlexorRE\",\"FlexorIaIN\"],       #CBI3 -> B7\n",
    "#         [\"ExtensorMN\",\"ExtensorRE\"],    #B64 -> B6/B9 and B3\n",
    "#         [\"ExtensorRE\",\"ExtensorMN\"],     #B20 -> B8a/b\n",
    "#         [\"FlexorMN\",\"FlexorRE\"],    #B4/B5 -> B6/B9 and B3\n",
    "#         [\"FlexorRE\",\"FlexorMN\"],    #B30/B40 -> B8\n",
    "#         [\"FlexorRE\",\"ExtensorRE\"],      #B4/B5 -> B8\n",
    "#         [\"ExtensorRE\",\"FlexorRE\"]    #B31/B32 -> B8\n",
    "#         ]\n",
    "\n",
    "# edgeList = []\n",
    "# for cons in range(len(con)):\n",
    "#     pre = neuronNames.index(con[cons][0])\n",
    "#     post = neuronNames.index(con[cons][1])\n",
    "#     edgeList.append([pre,post])\n",
    "\n",
    "# saveFileName = \"ratMotor\"\n",
    "\n",
    "#######\n",
    "\n",
    "#######\n",
    "# User-designed 9-cell network\n",
    "\n",
    "# edgeList=[[0,1],\n",
    "#         [2,0],\n",
    "#         [3,0],\n",
    "#         [4,0],\n",
    "#         [5,0],\n",
    "#         [6,0],\n",
    "#         [1,2],\n",
    "#         [3,2],\n",
    "#         [7,4],\n",
    "#         [3,8]]\n",
    "\n",
    "# saveFileName = \"nineCell\"\n",
    "\n",
    "#######\n",
    "\n",
    "#######\n",
    "\n",
    "'''\n",
    "BASED ON WEBSTER-WOOD (2020) CONTROL FOR MULTIFUNCTIONALITY - FIG. 9\n",
    "\n",
    "Webster-Wood, V.A., Gill, J.P., Thomas, P.J., Chiel, H.J.: Control for multifunc-\n",
    "tionality: bioinspired control based on feeding in Aplysia californica. Biological Cy-\n",
    "bernetics 114(6), 557–588 (12 2020). https://doi.org/10.1007/s00422-020-00851-9\n",
    "'''\n",
    "\n",
    "neuronNames = [\"CBI-2\",\n",
    "                \"CBI-4\",\n",
    "                \"CBI-3\",\n",
    "                \"B4/B5\",\n",
    "                \"B30/B40\",\n",
    "                \"B64\",\n",
    "                \"B20\",\n",
    "                \"B7\",\n",
    "                \"B3/B6/B9\",\n",
    "                \"B8a/b\",\n",
    "                \"B31/B32\",\n",
    "                \"B38\"]\n",
    "\n",
    "\n",
    "con =  [[\"B64\",\"CBI-2\"], #B64 -> CBI2\n",
    "        [\"B4/B5\",\"CBI-3\"],   #B4/B5 -> CBI3\n",
    "        [\"CBI-2\",\"B30/B40\"], #CBI2 -> B30/B40\n",
    "        [\"CBI-4\",\"B30/B40\"], #CBI4 -> B30/B40\n",
    "        [\"B64\",\"B4/B5\"],  #B64 -> B4/B5\n",
    "        [\"B31/B32\",\"B30/B40\"], #B31/B32 -> B30/B40\n",
    "        [\"B64\",\"B30/B40\"],   #B64 -> B30/B40\n",
    "        [\"B31/B32\",\"B64\"],   #B31/B32 -> B54\n",
    "        [\"B31/B32\", \"B20\"],  #B31/32 -> B20\n",
    "        [\"B64\",\"B20\"],     #B64 -> B20\n",
    "        [\"CBI-3\",\"B20\"],      #CBI3 -> B20\n",
    "        [\"CBI-2\",\"B20\"],      #CBI2 -> B20\n",
    "        [\"CBI-4\",\"B20\"],      #CBI4 -> B20\n",
    "        [\"CBI-3\",\"B7\"],       #CBI3 -> B7\n",
    "        [\"B64\",\"B3/B6/B9\"],    #B64 -> B6/B9 and B3\n",
    "        [\"B20\", \"B8a/b\"],     #B20 -> B8a/b\n",
    "        [\"B4/B5\",\"B3/B6/B9\"],    #B4/B5 -> B6/B9 and B3\n",
    "        [\"B30/B40\",\"B8a/b\"],    #B30/B40 -> B8\n",
    "        [\"B4/B5\",\"B8a/b\"],      #B4/B5 -> B8\n",
    "        [\"B31/B32\",\"B8a/b\"],    #B31/B32 -> B8\n",
    "        [\"B64\",\"B31/B32\"],   #B64 -> B31/B32\n",
    "        [\"CBI-3\",\"B38\"]       #CBI3 -> B38\n",
    "        ]\n",
    "\n",
    "edgeList = []\n",
    "for cons in range(len(con)):\n",
    "    pre = neuronNames.index(con[cons][0])\n",
    "    post = neuronNames.index(con[cons][1])\n",
    "    edgeList.append([pre,post])\n",
    "\n",
    "saveFileName = \"boolean\"\n",
    "\n",
    "################\n",
    "\n",
    "\n",
    "allPreCells = [preC[0] for preC in edgeList] #all the pre-synaptic cells in the list\n",
    "preCellCounter = collections.Counter(allPreCells) #count how many repeats of the same pre-synaptic cell (multiple axonal outputs)\n",
    "multiAxonPre = {k:v for (k,v) in preCellCounter.items() if v > 1} #list of all the pre-synaptic cells with multiple axonal outputs\n",
    "multiAxonPreCellID = list(multiAxonPre) #list version\n",
    "\n",
    "#initial cell ID value for the first branching node or \"false cell\"\n",
    "#this value is the next largest cell ID number\n",
    "fcVal = max([element for innerList in edgeList for element in innerList])+1\n",
    "falseCells = [] #preallocate an empty array to record all the false cells or branching nodes\n",
    "\n",
    "#add additional connection pairs based on branching nodes needed\n",
    "for fcInsert in range(len(multiAxonPreCellID)):\n",
    "    falseCells.append(fcVal)\n",
    "    multiAxonCellTemp = multiAxonPreCellID[fcInsert]\n",
    "    idxMultiAxon = [i for i, x in enumerate(allPreCells) if x == multiAxonCellTemp]\n",
    "    for fc in range(len(idxMultiAxon)):\n",
    "        edgeList[idxMultiAxon[fc]][0] = fcVal\n",
    "        \n",
    "    edgeList.append([multiAxonCellTemp,fcVal])\n",
    "    fcVal = fcVal + 1\n",
    "\n",
    "numCells = np.max(edgeList)+1 #number of cells & branching nodes\n",
    "numEdges = len(edgeList) #number of connections or edges\n",
    "\n",
    "\n",
    "#Create an iGraph Graph based on the connections list\n",
    "g = ig.Graph(edges=edgeList)\n",
    "\n",
    "#add an attribute to the graph based on whether the cell ID is for a real cell ('True') or a branching node ('False')\n",
    "g.vs[\"isCell\"] = True\n",
    "for i in range(len(falseCells)):\n",
    "    g.vs[falseCells[i]][\"isCell\"] = False\n",
    "\n",
    "#generate the somas/branching node placements based on either the Kamada-Kawai ('kk') or Fruchterman-Reingold ('fr') algorithms\n",
    "    #Kamada-Kawai\n",
    "fig_kk,ax_kk = plt.subplots()\n",
    "ax_kk.set_aspect(\"equal\")\n",
    "l_kk = g.layout_kamada_kawai()\n",
    "ig.plot(g,layout=l_kk,target=ax_kk,axes=False,vertex_label=g.vs.indices)\n",
    "lcoord_kk = l_kk.coords\n",
    "plt.title('Kamada Kawai')\n",
    "plt.show()\n",
    "\n",
    "    #Fruchterman-Reingold\n",
    "fig_fr,ax_fr = plt.subplots()\n",
    "ax_fr.set_aspect(\"equal\")\n",
    "l_fr=g.layout_fruchterman_reingold()\n",
    "ig.plot(g,layout=l_fr,target=ax_fr,axes=True,vertex_label=g.vs.indices)\n",
    "lcoord_fr = l_fr.coords\n",
    "plt.title('Fruchterman Reingold')\n",
    "plt.show()\n",
    "\n",
    "    #Kamada-Kawai 3D (Work in progress)\n",
    "\n",
    "l_kk3 = g.layout_kamada_kawai(dim=3)\n",
    "lcoord_kk3 = l_kk3.coords\n",
    "previousCellRole = 'Postsynaptic'\n",
    "for i in range(len(edgeList)*2):\n",
    "    if previousCellRole == 'Postsynaptic':\n",
    "        currentCellRole = 'Presynaptic'\n",
    "        cellIdx = 0\n",
    "    else:\n",
    "        currentCellRole = 'Postsynaptic'\n",
    "        cellIdx = 1\n",
    "    previousCellRole = currentCellRole\n",
    "    cellID = cellID = edgeList[int(np.floor(i/2))][cellIdx]\n",
    "    \n",
    "    if i == 0:\n",
    "        edgeList_dictDetails = {'Edge': [int(np.floor(i/2))],\n",
    "                                'Cell Role': [currentCellRole],\n",
    "                                'Cell ID': [cellID],\n",
    "                                'x': [lcoord_kk3[cellID][0]],\n",
    "                                'y': [lcoord_kk3[cellID][1]],\n",
    "                                'z': [lcoord_kk3[cellID][2]]}\n",
    "    else:\n",
    "        edgeList_dictDetails['Edge'].append(int(np.floor(i/2)))\n",
    "        edgeList_dictDetails['Cell Role'].append(currentCellRole)\n",
    "        edgeList_dictDetails['Cell ID'].append(cellID)\n",
    "        edgeList_dictDetails['x'].append(lcoord_kk3[cellID][0])\n",
    "        edgeList_dictDetails['y'].append(lcoord_kk3[cellID][1])\n",
    "        edgeList_dictDetails['z'].append(lcoord_kk3[cellID][2])\n",
    "\n",
    "edgeList_dfDetails = pd.DataFrame(edgeList_dictDetails)\n",
    "\n",
    "fig_kk3 = px.line_3d(edgeList_dfDetails, x=\"x\", y=\"y\", z=\"z\", color='Edge', hover_data=[\"Cell ID\",\"Cell Role\"],markers=True,title=\"Kamada Kawai 3D\")\n",
    "fig_kk3.show()\n",
    "\n",
    "\n",
    "\n",
    "time_graphPreUser = time.time() #end timer for Procedure 1\n",
    "time_procedure1 = time_graphPreUser - timeStart #duration for Procedure 1"
   ]
  },
  {
   "cell_type": "markdown",
   "metadata": {},
   "source": [
    "GANGLIA User Input (In Between Procedures) (Non-GUI Version)"
   ]
  },
  {
   "cell_type": "code",
   "execution_count": null,
   "metadata": {},
   "outputs": [
    {
     "name": "stdout",
     "output_type": "stream",
     "text": [
      "Please select the graph drawing algorithm you wish to continue with.\n",
      "Kamada-Kawai was selected.\n"
     ]
    }
   ],
   "source": [
    "#USER INPUT\n",
    "#Here is where the user is prompted to select which set of soma/branching node placements\n",
    "#that the user wishes to use for the pattern generation\n",
    "print(\"Please select the graph drawing algorithm you wish to continue with.\")\n",
    "graphDrawingUserChoice = input(\"For Kamada-Kawai, enter 'kk'. For Fruchterman-Reingold, enter 'fr': \")\n",
    "whileLoopSignal = 0\n",
    "\n",
    "while whileLoopSignal == 0:\n",
    "    if graphDrawingUserChoice == \"kk\":\n",
    "        whileLoopSignal = 1\n",
    "        print(\"Kamada-Kawai was selected.\")\n",
    "        \n",
    "        lcoord = lcoord_kk\n",
    "        \n",
    "    elif graphDrawingUserChoice == \"fr\":\n",
    "        whileLoopSignal = 2\n",
    "        print(\"Fruchterman-Reingold was selected.\")\n",
    "        \n",
    "        lcoord = lcoord_fr\n",
    "        \n",
    "    else:\n",
    "        print(\"Your input was invalid. Please select an appropriate option.\")\n",
    "        print(\"Please select the graph drawing algorithm you wish to continue with.\")\n",
    "        graphDrawingUserChoice = input(\"For Kamada-Kawai, enter 'kk'. For Fruchterman-Reingold, enter 'fr': \")\n",
    "        \n",
    "    \n",
    "saveFileName = saveFileName + \"_\" + graphDrawingUserChoice #update the save file name to include with kk or fr"
   ]
  },
  {
   "cell_type": "markdown",
   "metadata": {},
   "source": [
    "GANGLIA Procedure 2 (Non-GUI Version)"
   ]
  },
  {
   "cell_type": "code",
   "execution_count": null,
   "metadata": {},
   "outputs": [
    {
     "name": "stdout",
     "output_type": "stream",
     "text": [
      "Total number of intersections: 0\n",
      "Time Elapsed for Procedure 1 (s): 0.08096671104431152\n",
      "Time Elapsed for Procedure 2 (s): 0.22192716598510742\n",
      "Time Elapsed Total (s): 0.30289387702941895\n",
      "IGRAPH U--- 2 2 --\n",
      "+ attr: isCell (v)\n",
      "+ edges:\n",
      "0--1 0--1\n"
     ]
    },
    {
     "data": {
      "application/javascript": "\n\nfunction render(data, parent_element, ratio){\n    \n    // Initial setup\n    const renderWindow = vtk.Rendering.Core.vtkRenderWindow.newInstance();\n    const renderer = vtk.Rendering.Core.vtkRenderer.newInstance({ background: [1, 1, 1 ] });\n    renderWindow.addRenderer(renderer);\n        \n    // iterate over all children children\n    for (var el of data){ \n        var trans = el.position;\n        var rot = el.orientation;\n        var rgba = el.color;\n        var shape = el.shape;\n        \n        // load the inline data\n        var reader = vtk.IO.XML.vtkXMLPolyDataReader.newInstance();\n        const textEncoder = new TextEncoder();\n        reader.parseAsArrayBuffer(textEncoder.encode(shape));\n\n        // setup actor,mapper and add\n        const mapper = vtk.Rendering.Core.vtkMapper.newInstance();\n        mapper.setInputConnection(reader.getOutputPort());\n        mapper.setResolveCoincidentTopologyToPolygonOffset();\n        mapper.setResolveCoincidentTopologyPolygonOffsetParameters(0.9,20);\n\n        const actor = vtk.Rendering.Core.vtkActor.newInstance();\n        actor.setMapper(mapper);\n\n        // set color and position\n        actor.getProperty().setColor(rgba.slice(0,3));\n        actor.getProperty().setOpacity(rgba[3]);\n        \n        actor.rotateZ(rot[2]*180/Math.PI);\n        actor.rotateY(rot[1]*180/Math.PI);\n        actor.rotateX(rot[0]*180/Math.PI);\n        \n        actor.setPosition(trans);\n\n        renderer.addActor(actor);\n\n    };\n    \n    renderer.resetCamera();\n    \n    const openglRenderWindow = vtk.Rendering.OpenGL.vtkRenderWindow.newInstance();\n    renderWindow.addView(openglRenderWindow);\n\n    // Add output to the \"parent element\"\n    var container;\n    var dims;\n    \n    if(typeof(parent_element.appendChild) !== \"undefined\"){\n        container = document.createElement(\"div\");\n        parent_element.appendChild(container);\n        dims = parent_element.getBoundingClientRect();\n    }else{\n        container = parent_element.append(\"<div/>\").children(\"div:last-child\").get(0);\n        dims = parent_element.get(0).getBoundingClientRect();\n    };\n\n    openglRenderWindow.setContainer(container);\n    \n    // handle size\n    if (ratio){\n        openglRenderWindow.setSize(dims.width, dims.width*ratio);\n    }else{\n        openglRenderWindow.setSize(dims.width, dims.height);\n    };\n    \n    // Interaction setup\n    const interact_style = vtk.Interaction.Style.vtkInteractorStyleManipulator.newInstance();\n\n    const manips = {\n        rot: vtk.Interaction.Manipulators.vtkMouseCameraTrackballRotateManipulator.newInstance(),\n        pan: vtk.Interaction.Manipulators.vtkMouseCameraTrackballPanManipulator.newInstance(),\n        zoom1: vtk.Interaction.Manipulators.vtkMouseCameraTrackballZoomManipulator.newInstance(),\n        zoom2: vtk.Interaction.Manipulators.vtkMouseCameraTrackballZoomManipulator.newInstance(),\n        roll: vtk.Interaction.Manipulators.vtkMouseCameraTrackballRollManipulator.newInstance(),\n    };\n\n    manips.zoom1.setControl(true);\n    manips.zoom2.setScrollEnabled(true);\n    manips.roll.setShift(true);\n    manips.pan.setButton(2);\n\n    for (var k in manips){\n        interact_style.addMouseManipulator(manips[k]);\n    };\n\n    const interactor = vtk.Rendering.Core.vtkRenderWindowInteractor.newInstance();\n    interactor.setView(openglRenderWindow);\n    interactor.initialize();\n    interactor.bindEvents(container);\n    interactor.setInteractorStyle(interact_style);\n\n    // Orientation marker\n\n    const axes = vtk.Rendering.Core.vtkAnnotatedCubeActor.newInstance();\n    axes.setXPlusFaceProperty({text: '+X'});\n    axes.setXMinusFaceProperty({text: '-X'});\n    axes.setYPlusFaceProperty({text: '+Y'});\n    axes.setYMinusFaceProperty({text: '-Y'});\n    axes.setZPlusFaceProperty({text: '+Z'});\n    axes.setZMinusFaceProperty({text: '-Z'});\n\n    const orientationWidget = vtk.Interaction.Widgets.vtkOrientationMarkerWidget.newInstance({\n        actor: axes,\n        interactor: interactor });\n    orientationWidget.setEnabled(true);\n    orientationWidget.setViewportCorner(vtk.Interaction.Widgets.vtkOrientationMarkerWidget.Corners.BOTTOM_LEFT);\n    orientationWidget.setViewportSize(0.2);\n\n};\n\n\nnew Promise(\n  function(resolve, reject)\n  {\n    if (typeof(require) !== \"undefined\" ){\n        require.config({\n         \"paths\": {\"vtk\": \"https://unpkg.com/vtk\"},\n        });\n        require([\"vtk\"], resolve, reject);\n    } else if ( typeof(vtk) === \"undefined\" ){\n        var script = document.createElement(\"script\");\n    \tscript.onload = resolve;\n    \tscript.onerror = reject;\n    \tscript.src = \"https://unpkg.com/vtk.js\";\n    \tdocument.head.appendChild(script);\n    } else { resolve() };\n }\n).then(() => {\n    var parent_element = element;\n    var data = [{\"shape\": \"<?xml version=\\\"1.0\\\"?>\\n<VTKFile type=\\\"PolyData\\\" version=\\\"0.1\\\" byte_order=\\\"LittleEndian\\\" header_type=\\\"UInt32\\\" compressor=\\\"vtkZLibDataCompressor\\\">\\n  <PolyData>\\n    <Piece NumberOfPoints=\\\"3952\\\"                 NumberOfVerts=\\\"64\\\"                   NumberOfLines=\\\"2160\\\"                 NumberOfStrips=\\\"0\\\"                    NumberOfPolys=\\\"1376\\\"                >\\n      <PointData Normals=\\\"Normals\\\">\\n        <DataArray type=\\\"Float32\\\" Name=\\\"Normals\\\" NumberOfComponents=\\\"3\\\" format=\\\"appended\\\" RangeMin=\\\"0\\\"                    RangeMax=\\\"1.0000000872\\\"         offset=\\\"0\\\"                   />\\n      </PointData>\\n      <CellData Normals=\\\"Normals\\\">\\n        <DataArray type=\\\"Int64\\\" IdType=\\\"1\\\" Name=\\\"SUBSHAPE_IDS\\\" format=\\\"appended\\\" RangeMin=\\\"5\\\"                    RangeMax=\\\"230\\\"                  offset=\\\"7744\\\"                />\\n        <DataArray type=\\\"Int64\\\" IdType=\\\"1\\\" Name=\\\"MESH_TYPES\\\" format=\\\"appended\\\" RangeMin=\\\"2\\\"                    RangeMax=\\\"7\\\"                    offset=\\\"8532\\\"                />\\n        <DataArray type=\\\"Float32\\\" Name=\\\"Normals\\\" NumberOfComponents=\\\"3\\\" format=\\\"appended\\\" RangeMin=\\\"0.99999996282\\\"        RangeMax=\\\"1.0000000385\\\"         offset=\\\"8656\\\"                />\\n      </CellData>\\n      <Points>\\n        <DataArray type=\\\"Float32\\\" Name=\\\"Points\\\" NumberOfComponents=\\\"3\\\" format=\\\"appended\\\" RangeMin=\\\"36.212721966\\\"         RangeMax=\\\"148.8030908\\\"          offset=\\\"15356\\\"               />\\n      </Points>\\n      <Verts>\\n        <DataArray type=\\\"Int64\\\" Name=\\\"connectivity\\\" format=\\\"appended\\\" RangeMin=\\\"\\\"                     RangeMax=\\\"\\\"                     offset=\\\"26780\\\"               />\\n        <DataArray type=\\\"Int64\\\" Name=\\\"offsets\\\" format=\\\"appended\\\" RangeMin=\\\"\\\"                     RangeMax=\\\"\\\"                     offset=\\\"26956\\\"               />\\n      </Verts>\\n      <Lines>\\n        <DataArray type=\\\"Int64\\\" Name=\\\"connectivity\\\" format=\\\"appended\\\" RangeMin=\\\"\\\"                     RangeMax=\\\"\\\"                     offset=\\\"27132\\\"               />\\n        <DataArray type=\\\"Int64\\\" Name=\\\"offsets\\\" format=\\\"appended\\\" RangeMin=\\\"\\\"                     RangeMax=\\\"\\\"                     offset=\\\"32912\\\"               />\\n      </Lines>\\n      <Strips>\\n        <DataArray type=\\\"Int64\\\" Name=\\\"connectivity\\\" format=\\\"appended\\\" RangeMin=\\\"\\\"                     RangeMax=\\\"\\\"                     offset=\\\"37056\\\"               />\\n        <DataArray type=\\\"Int64\\\" Name=\\\"offsets\\\" format=\\\"appended\\\" RangeMin=\\\"\\\"                     RangeMax=\\\"\\\"                     offset=\\\"37072\\\"               />\\n      </Strips>\\n      <Polys>\\n        <DataArray type=\\\"Int64\\\" Name=\\\"connectivity\\\" format=\\\"appended\\\" RangeMin=\\\"\\\"                     RangeMax=\\\"\\\"                     offset=\\\"37088\\\"               />\\n        <DataArray type=\\\"Int64\\\" Name=\\\"offsets\\\" format=\\\"appended\\\" RangeMin=\\\"\\\"                     RangeMax=\\\"\\\"                     offset=\\\"44556\\\"               />\\n      </Polys>\\n    </Piece>\\n  </PolyData>\\n  <AppendedData encoding=\\\"base64\\\">\\n   _AgAAAACAAABAOQAA/QEAAJ0UAAA=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AQAAAACAAACAcAAAPAIAAA==eJzt2lWLVWEcRnFvxFaMwe7u7sKOEbu7AwMDA7u7AwcTFRVFUcTARFEUcRAVxUERB0U/h3BcVwOH/zn7DPPu9+xn3fy+xCpa6H/FsASWwnJYASthZayK1bEm1sa6WB8bYmNsis2xJbbGttgeO2Jn7IrdsTf2xf44EAfjMByBo3AMjsMJOAmn4DScgbNwDs7DRbgMV+E6XI8bcTNuxe24C/fgPjyAh/AIHsPTeBbv4WMsElGLY8mIWhrLyljlI2qGjFUx5FbBalgDa3lqHRmrnqc2wEbYBJuF3BbYCttgO0/tIGN18tQu2A17YK8E7YP94jgAB6WZmTgUhxuO9NTROBbH48SQOxmn4nSc6amz09S5OD/NXIiLcSkuj+NKXI1rQ+4G3IRbcJun7khTd0bU3Qm6F/cbHvTUw3gUj+NJPIVn4ngOL+BFvIxX8BrewFt4F+/jQ3wUxyf4FJ/jS3yN7/ADfsTP+BW/4U/8hX+wsIy0ZaSUUkoppXRoTykDOERKKWVSLjBckqIrDNdIKaVMyhMy0mZJGcDzUgbwksxXrxpeN7xpeFs69Y7hAykD+Ew69YXhK8M3hm8Ns1P0vcxXPxl+Mcwx/C6d+kM6Ndfwt+FfQ9f/rSxYXf8tUkoppZQy2rr+ZqUfuv4EpZQy7Kb6L+tPllLK5HT9w8qCNUvKBHT9rUo/dP3j+q71D+sPdqv+XxlE179r1LR+XuvXzU5S1/+q71q/bU4eXf+kUdP1Pxo1c/No/bD/APkdd/s=AQAAAACAAACAcAAASQAAAA==eJztxbEJAAAIAKAIov8/buiKSBczVvrlZdu2bdu2bdu2bdu2bdu2bdu2bdu2bdu2bT++bdu2bdu2bdu2bdu2bdu27UMPNkdQUQ==AgAAAACAAADAKAAAPQUAAE8OAAA=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eJwtxbVhAgAAADCgSHF3p8XdHf7/ioFkSSDwFXTIPw474qhj/nXcCSedctoZZ51z3gUXXXLZFVddc90NN91y2x133XPfA//530OPPPbEU88898JLr7z2xlvvvPfBR5989sVX33z3w0+//PYHV0sH4Q==AQAAAACAAAAAAgAAcQAAAA==eJwtxUVCAgAAADBAQhrpLpXubvj/qziwXRYMfIT85bAjjjrmb8edcNIpp51x1jn/OO+Ciy657Iqrrrnuhptuue2Ou+6571//+d8DDz3y2BNPPfPcCy+98tobb73z3gcfffLZF199890PP/3yG5hLCCE=AgAAAACAAAAABwAAzQ8AAAwBAAA=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AQAAAACAAACAQwAAEAwAAA==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AAAAAACAAAAAAAAAAAAAAACAAAAAAAAAAgAAAACAAAAAAQAAgxUAAEcAAAA=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AQAAAACAAAAAKwAAXwgAAA==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\\n  </AppendedData>\\n</VTKFile>\\n\", \"color\": [1, 0.8, 0, 1], \"position\": [0, 0, 0], \"orientation\": [0, 0, 0]}];\n    render(data, parent_element, 0.5);\n});\n",
      "text/plain": [
       "<cadquery.cq.Workplane at 0x1e9b2f98e50>"
      ]
     },
     "metadata": {},
     "output_type": "display_data"
    }
   ],
   "source": [
    "#   BEGIN PROCEDURE 2: Generate neural circuit micro-pattern\n",
    "#### Get Distances between somas and/or branching nodes\n",
    "time_graphPostUser = time.time() #begin timer for Procedure 2\n",
    "\n",
    "dist_mat =np.zeros(numEdges)\n",
    "for i in range(numEdges):\n",
    "    dist_mat[i] = abs(math.dist(lcoord[edgeList[i][0]],lcoord[edgeList[i][1]]))\n",
    "\n",
    "#Feature sizes for the pattern (can be edited by the User)\n",
    "somaR = 25; #soma radius, um\n",
    "neuriteWidth = 10; #neurite short dimension, um\n",
    "axonLength = 90; #axon long dimension, um (target/average length desired)\n",
    "dendriteLength = 20; #dendrite long dimension, um\n",
    "gapLength = 10; #distance between the end of the axon and the end of the dendrite (synaptic cleft)\n",
    "\n",
    "extrudeThickness = 5 #extrude thickness for the 3D model\n",
    "\n",
    "#the following are parameters only if the soma area space needs a scoop (not necessary for now)\n",
    "scoopDepth = 2.5 #how deep into the extrude should the deepest point of the scoop should go (center of a sphere)\n",
    "                 #ideally, this value should be less than the extrude thickness\n",
    "scoopR = 15 #the radius of the scoop at the top rim\n",
    "            #ideally, this value should be less than the somaR\n",
    "scoopSphereR = scoopDepth/2 + (scoopR*2)**2/(8*scoopDepth) #radius of the sphere to make the desired scoop\n",
    "\n",
    "multiBump = 50 #if there is a mutually connected pair with no additional axonal outputs, this is the sagitta of the arc pathway between the two cells\n",
    "\n",
    "avgDist = np.mean([min(dist_mat), max(dist_mat)]) #average distance between all of the somas and/or branching nodes\n",
    "scaleFactor = (axonLength+dendriteLength+2*somaR+gapLength)/avgDist #scale factor for soma/branching node position\n",
    "\n",
    "#scaling the model\n",
    "scaledCoords = np.array(lcoord)*scaleFactor\n",
    "scaledDist = dist_mat*scaleFactor\n",
    "#scaledCoords = scaledCoords - scaledCoords[0,:] #uncomment if you want the coordinates to also be normalized, relative to the first cell\n",
    "                                                 #uncommenting may cause issues due to the first cell having coordinates of (0,0)\n",
    "#scaledCoordsMM = scaledCoords/1000 #only for reporting purposes if someone wanted to scale the coordinates value by 1000\n",
    "\n",
    "\n",
    "angs = [None]*numCells #preallocate an array for storing angles for neurite orientation, relative to the global coordinate system\n",
    "neuritesCount = np.zeros(numCells) #preallocate array for counting the number of neurites per cell\n",
    "\n",
    "minNeurites = 4  #minimum number of neurites per cell (to ensure polarity if the pattern were to be used for microcontact printing)\n",
    "'''\n",
    "Based on:\n",
    "Yamamoto, H., Matsumura, R., Takaoki, H., Katsurabayashi, S., Hirano-\n",
    "Iwata, A., Niwano, M.: Unidirectional signal propagation in primary\n",
    "neurons micropatterned at a single-cell resolution. Applied Physics\n",
    "Letters 109(4), 043703 (7 2016). https://doi.org/10.1063/1.4959836\n",
    "\n",
    "They patterned neurons to grow on bipolar, quadrupolar, and octupolar patterns.\n",
    "They found that the quadrupolar pattern worked well in terms of the health of the \n",
    "cells and their ability to appropriately polarize.\n",
    "\n",
    "***********************************************\n",
    "***Currently the method to add additional neurites to meet the minimum expects the minimum neurites to be added\n",
    "to be 4 - if this value is changed, the tool may not work as intended. **********\n",
    "'''\n",
    "\n",
    "numIntersections = 0 #initialize variable for the number of intersections for the whole pattern\n",
    "multiCellComplete = [] #preallocate an empty array for keeping track of which individual mutual synapsing pairs have already been completed (excluding those with additional axonal outputs)\n",
    "\n",
    "result = cq.Workplane(\"XY\") #initialize the 3D model\n",
    "\n",
    "for connection in range(numEdges): #for each connection pair\n",
    "    #positions of the pre- and post-synaptic connections for testing intersections (first pair of connections)\n",
    "    pos1_preCell = Point(scaledCoords[edgeList[connection][0]][0], scaledCoords[edgeList[connection][0]][1])\n",
    "    pos1_postCell = Point(scaledCoords[edgeList[connection][1]][0], scaledCoords[edgeList[connection][1]][1])\n",
    "    \n",
    "    #determine whether there are any intersections in the pattern\n",
    "    for jj in range(numEdges - connection - 1):\n",
    "        # print(\"Comparing: \" + str(edgeList[connection]) + \" and \" + str(edgeList[connection+jj+1]) )\n",
    "        #positions of the pre- and post-synaptic connections for the second pair of connections\n",
    "        pos2_preCell = Point(scaledCoords[edgeList[connection+jj+1][0]][0], scaledCoords[edgeList[connection+jj+1][0]][1])\n",
    "        pos2_postCell = Point(scaledCoords[edgeList[connection+jj+1][1]][0], scaledCoords[edgeList[connection+jj+1][1]][1])\n",
    "        if doIntersect(pos1_preCell, pos1_postCell, pos2_preCell, pos2_postCell) and (not bool(set(edgeList[connection]) & set(edgeList[connection+jj+1]))):\n",
    "            numIntersections = numIntersections + 1\n",
    "            print(str(edgeList[connection]) + \" and \" + str(edgeList[connection+jj+1]) + \" intersect.\")\n",
    "    \n",
    "    #coordinates of the pre- and post-synaptic connections\n",
    "    preSynCoord = scaledCoords[edgeList[connection][0]]\n",
    "    postSynCoord = scaledCoords[edgeList[connection][1]]\n",
    "    \n",
    "    #increase number count of neurites for each cell in the connection\n",
    "    neuritesCount[edgeList[connection][0]] = neuritesCount[edgeList[connection][0]]+1\n",
    "    neuritesCount[edgeList[connection][1]] = neuritesCount[edgeList[connection][1]]+1\n",
    "    \n",
    "    #angle in which the pre-synaptic cell is relative to the post-synaptic cell\n",
    "    post2preAng = math.degrees(math.atan2( (preSynCoord[1]-postSynCoord[1]), (preSynCoord[0]-postSynCoord[0])) )\n",
    "    \n",
    "    #re-set the angle from [-180, 180] to [0, 360]\n",
    "    if post2preAng < 0:\n",
    "        post2preAng = post2preAng + 360\n",
    "        pre2postAng = post2preAng - 180\n",
    "\n",
    "    else:\n",
    "        pre2postAng = post2preAng + 180\n",
    "        \n",
    "    \n",
    "    \n",
    "    if g.count_multiple(connection) == 2: #if the two connecting points are mutually synapsing, add 2 curved neurite paths\n",
    "        \n",
    "        #curved path for the dendrite and axon (no gap yet) (sagitta arc)\n",
    "        dendriteAxon = cq.Workplane(\"XZ\",origin=(postSynCoord[0],postSynCoord[1],extrudeThickness/2)).rect(neuriteWidth,extrudeThickness).sweep(cq.Workplane(\"XY\",origin=(postSynCoord[0],postSynCoord[1],0)).sagittaArc((preSynCoord[0]-postSynCoord[0],preSynCoord[1]-postSynCoord[1]),multiBump))\n",
    "        \n",
    "        result = result.union(dendriteAxon)\n",
    "        multiCellComplete.append(edgeList[connection])\n",
    "        \n",
    "        #the following is to create the gap between the axon and the dendrite paths\n",
    "        arcW = math.dist(preSynCoord,postSynCoord) #arc width of sagitta arc\n",
    "        arcR = multiBump/2 + (arcW**2)/(8*multiBump) #arc radius of sagitta arc\n",
    "        arcAng = math.degrees(math.acos(1- (multiBump / arcR))) #tangent angle at the start of the sagitta arc\n",
    "        post2preAng = post2preAng + arcAng\n",
    "        pre2postAng = pre2postAng - arcAng\n",
    "        \n",
    "        #create the gap solid to \"cut\" from the dendrite/axon path\n",
    "        gapAngStart = (dendriteLength+(arcR*2*math.asin(somaR/(2*arcR))))/arcR #radians, start angle of gap\n",
    "        gapChordAng = post2preAng-math.degrees(gapAngStart)/2 #angle of chord for the gap, relative to X axis\n",
    "        \n",
    "        chordDist = 2*arcR*math.sin(gapAngStart/2) #chord distance from center of soma to gap\n",
    "        \n",
    "        gap_deltaX = chordDist*math.cos(math.radians(gapChordAng)) #change in X coordinate, relative to soma center, to reach gap beginning\n",
    "        gap_deltaY = chordDist*math.sin(math.radians(gapChordAng)) #change in Y coordinate, relative to soma center, to reach gap beginning\n",
    "        \n",
    "        gapEndAng = (dendriteLength+(arcR*2*math.asin(somaR/(2*arcR))) + gapLength)/arcR #radians, end point of gap\n",
    "        gapEndChordAng = post2preAng-math.degrees(gapEndAng)/2 #angle of chord, relative to X axis\n",
    "        chordDistEnd = 2*arcR*math.sin(gapEndAng/2) #chord distance from center of soma to end of gap\n",
    "        gapEnd_deltaX = chordDistEnd*math.cos(math.radians(gapEndChordAng)) #change in X coordinate, relative to soma center, to reach gap beginning\n",
    "        gapEnd_deltaY = chordDistEnd*math.sin(math.radians(gapEndChordAng)) #change in Y coordinate, relative to soma center, to reach gap beginning\n",
    "        \n",
    "        #intial solid from the cell to the start of the gap\n",
    "        gap5 = cq.Workplane(\"XZ\",origin=(postSynCoord[0],postSynCoord[1],3*extrudeThickness/4)).rect(neuriteWidth*1.1,extrudeThickness/2).sweep(cq.Workplane(\"XY\",origin=(postSynCoord[0],postSynCoord[1],0)).radiusArc((gap_deltaX, gap_deltaY),arcR))\n",
    "        #initial solid from the cell to the end of the gap\n",
    "        gap6 = cq.Workplane(\"XZ\",origin=(postSynCoord[0],postSynCoord[1],3*extrudeThickness/4)).rect(neuriteWidth*1.1,extrudeThickness/2).sweep(cq.Workplane(\"XY\",origin=(postSynCoord[0],postSynCoord[1],0)).radiusArc((gapEnd_deltaX, gapEnd_deltaY),arcR))\n",
    "        \n",
    "        #cut the gap5 solid from the gap6 solid to create the solid for the gap\n",
    "        gap7 = gap6.cut(gap5)\n",
    "        \n",
    "        #cut the gap7 from the dendriteAxon path to separate them and create the synaptic cleft\n",
    "        result = result.cut(gap7)\n",
    "\n",
    "\n",
    "    else: #if not a mutually synapsing connection add straight paths for the dendrite and axon\n",
    "        \n",
    "        #create a short path solid for the dendrite based on the dendrite length from the post-synaptic cell, towards the pre-synaptic cell\n",
    "        dendrite = cq.Workplane(\"XY\").rect(dendriteLength+somaR,neuriteWidth,centered=False).extrude(extrudeThickness).translate((0,-neuriteWidth/2,0)).rotate((0,0,0),(0,0,1),post2preAng).translate((postSynCoord[0],postSynCoord[1],0))\n",
    "        result = result.union(dendrite) #add the dendrite solid to the full model\n",
    "        \n",
    "        #calculate the axonal length based on the dendrite length, gap length, and the remaining distance between the pre- and post-synaptic cells\n",
    "        axonLen = scaledDist[connection]-somaR-gapLength-dendriteLength\n",
    "\n",
    "        #create a long path solid for the axon based on the axon length, from the pre-synaptic cell, towards the post-synaptic cell\n",
    "        axon = cq.Workplane(\"XY\").rect(axonLen,neuriteWidth,centered=False).extrude(extrudeThickness).translate((0,-neuriteWidth/2,0)).rotate((0,0,0),(0,0,1),pre2postAng).translate((preSynCoord[0],preSynCoord[1],0))\n",
    "        result = result.union(axon) #add the axon solid to the full model\n",
    "        \n",
    "        #do not add the gap if the connection is with a branching node (fill the gap space). else, add a gap (do not fill the gap space)\n",
    "        if edgeList[connection][1] in set(falseCells):\n",
    "            gap = cq.Workplane(\"XY\").rect(gapLength,neuriteWidth,centered=False).extrude(extrudeThickness).translate((axonLen,-neuriteWidth/2,0)).rotate((0,0,0),(0,0,1),pre2postAng).translate((preSynCoord[0],preSynCoord[1],0))\n",
    "        else:\n",
    "            gap = cq.Workplane(\"XY\").rect(gapLength,neuriteWidth,centered=False).extrude(extrudeThickness/2).translate((axonLen,-neuriteWidth/2,0)).rotate((0,0,0),(0,0,1),pre2postAng).translate((preSynCoord[0],preSynCoord[1],0))\n",
    "        \n",
    "        result = result.add(gap) #add the relevant gap solid to the full model\n",
    "        \n",
    "    #record all of the angles for the pre- and post-synaptic cells\n",
    "    if angs[edgeList[connection][1]] is None:\n",
    "        angs[edgeList[connection][1]] = [post2preAng]\n",
    "    else:\n",
    "        angs[edgeList[connection][1]].append(post2preAng)\n",
    "    \n",
    "    if angs[edgeList[connection][0]] is None:\n",
    "        angs[edgeList[connection][0]] = [pre2postAng]\n",
    "    else:\n",
    "        angs[edgeList[connection][0]].append(pre2postAng)\n",
    "        \n",
    "print(\"Total number of intersections: \" + str(numIntersections))        \n",
    "        \n",
    "        \n",
    "#This for loop adds additional neurites, if the minimum is not met, and the solids for the somas (for each cell)\n",
    "for i in range(numCells):\n",
    "    \n",
    "    #check if the cell has already has an axon\n",
    "    hasAxon = any(cIdx in [i] for cIdx in allPreCells)\n",
    "    \n",
    "    #check if the cell is a branching node or already met the neurite minimum. If so, do not add more neurites and do not add a large circular area for a soma.\n",
    "    if any(cIdx in [i] for cIdx in falseCells):\n",
    "        print(\"The cell \" + str(i) + \" is a false cell. No soma or extra dendrites will be added.\")\n",
    "        falseSoma = cq.Workplane(\"XY\").box(neuriteWidth,neuriteWidth,extrudeThickness).translate((scaledCoords[i][0],scaledCoords[i][1],extrudeThickness/2))\n",
    "        result = result.union(falseSoma)\n",
    "\n",
    "    elif (angs[i] == None):\n",
    "        print(\"The cell \" + str(i) + \" has no connections. No soma or extra dendrites will be added.\")\n",
    "        \n",
    "    else: #cell is a real cell (not branching node) and has less than the minimum number of neurites\n",
    "        \n",
    "        #calculate the largest angular gap between the existing neurites\n",
    "        angsSort = sorted(angs[i])\n",
    "        angsDiff = np.append(np.diff(angsSort),(angsSort[0]+360-angsSort[-1]))\n",
    "        largestGap = max(angsDiff)\n",
    "        largestGapLoc = np.argmax(angsDiff)\n",
    "        \n",
    "        #calculate the number of neurites to be added to meet the minimum\n",
    "        numDen2Add = int(minNeurites - neuritesCount[i])\n",
    "            \n",
    "        #The method to determine the angular orientation of the remaining neurites\n",
    "        #depends on the angular gaps between the existing neurites and the number of \n",
    "        #remaining neurites to be added.\n",
    "            \n",
    "        if numDen2Add == 2: #if the number of neurites to be added is 2\n",
    "            #deterine which method to add the remaining neurites based on the standard \n",
    "            # deviation of the neurite angle orientation\n",
    "            #the method that results in the smallest standard deviation is the method used\n",
    "            #for placing additional neurites\n",
    "            \n",
    "            #method 1 - put both neurites within the largest gap\n",
    "            method1_midAngDelta = largestGap/3\n",
    "            method1_std = np.std([min(angsDiff), method1_midAngDelta, method1_midAngDelta, method1_midAngDelta])\n",
    "            \n",
    "            \n",
    "            #method 2 - put one neurite between each gap\n",
    "            method2_midAngDelta = angsDiff/2            \n",
    "            method2_std = np.std([method2_midAngDelta[0], method2_midAngDelta[0], method2_midAngDelta[1], method2_midAngDelta[1]])\n",
    "            denAng = np.ones(2)\n",
    "            \n",
    "            if method1_std < method2_std:\n",
    "                denAng[0] = angsSort[largestGapLoc] + method1_midAngDelta\n",
    "                denAng[1] = denAng[0] + method1_midAngDelta\n",
    "            else:\n",
    "                denAng[0] = angsSort[0] + method2_midAngDelta[0]\n",
    "                denAng[1] = angsSort[1] + method2_midAngDelta[1]\n",
    "                \n",
    "            for denIdx in range(2):\n",
    "                \n",
    "                #if the neuron does not already have an axon, add one of the remaining\n",
    "                #neurites with the target axon length. else, add a dendrite\n",
    "                if denIdx == 0 and hasAxon == False:\n",
    "                    neuriteLength = axonLength\n",
    "                else:   \n",
    "                    neuriteLength = dendriteLength\n",
    "                \n",
    "                neurite = cq.Workplane(\"XY\").rect(neuriteLength+somaR,neuriteWidth,centered=False).extrude(extrudeThickness).translate((0,-neuriteWidth/2,0)).rotate((0,0,0),(0,0,1),denAng[denIdx]).translate((scaledCoords[i][0],scaledCoords[i][1],0))\n",
    "                result = result.union(neurite)\n",
    "                \n",
    "            \n",
    "                \n",
    "        elif numDen2Add == 1: #number of neurites to add is 1\n",
    "        \n",
    "            #add the single neurite in the middle of the largest gap between the existing neurites\n",
    "            addDenAng = angsSort[largestGapLoc] + largestGap/2\n",
    "            \n",
    "            #if the neuron does not already have an axon, add one of the remaining\n",
    "            #neurites with the target axon length. else, add a dendrite\n",
    "            if hasAxon == False:\n",
    "                neuriteLength = axonLength\n",
    "            else:\n",
    "                neuriteLength = dendriteLength\n",
    "            \n",
    "            neurite = cq.Workplane(\"XY\").rect(neuriteLength+somaR,neuriteWidth,centered=False).extrude(extrudeThickness).translate((0,-neuriteWidth/2,0)).rotate((0,0,0),(0,0,1),addDenAng).translate((scaledCoords[i][0],scaledCoords[i][1],0))\n",
    "            result = result.union(neurite)\n",
    "                        \n",
    "        elif numDen2Add == 3: #number of neurites to add is 3\n",
    "        \n",
    "            #With the assumption that the minimum number of neurites to add is 4\n",
    "            #that means there is only one existing neurite.\n",
    "            #For four neurites evenly spaced, all of the neurites are 90 degrees relative to each other\n",
    "\n",
    "            #if the neuron does not already have an axon, add one of the remaining\n",
    "            #neurites with the target axon length. else, add a dendrite\n",
    "            for denIdx in range(3):\n",
    "                if denIdx == 0 and hasAxon == False:\n",
    "                    neuriteLength = axonLength\n",
    "                else:   \n",
    "                    neuriteLength = dendriteLength\n",
    "\n",
    "                neurite = cq.Workplane(\"XY\").rect(neuriteLength+somaR,neuriteWidth,centered=False).extrude(extrudeThickness).translate((0,-neuriteWidth/2,0)).rotate((0,0,0),(0,0,1),angs[i][0]+(90*(1+denIdx))).translate((scaledCoords[i][0],scaledCoords[i][1],0))\n",
    "                result = result.union(neurite)\n",
    "                \n",
    "        elif numDen2Add <= 0: #number of neurites is less than or equal to 0 - means there are no neurites that need to be added\n",
    "            print(\"No dendrites need to be added for cell ID: \" + str(i))\n",
    "            \n",
    "        else: #if for some reason, an invalid number is needed (likely the minimum neurites was changed to be larger than 4 or not a number)\n",
    "            print(\"Invalid number of extra neurites to add\")\n",
    "\n",
    "        soma = cq.Workplane(\"XY\").circle(somaR).extrude(extrudeThickness).translate((scaledCoords[i][0],scaledCoords[i][1],0))\n",
    "        result = result.union(soma)#.cut(cq.Workplane(\"XY\").sphere(scoopSphereR).translate((scaledCoords[i][0],scaledCoords[i][1],scoopSphereR+extrudeThickness-scoopDepth)))\n",
    "            #Scoop in the soma area could be uncommented needed\n",
    "           \n",
    "time_postModel = time.time() #end timer for procedure 2\n",
    "timeElapsed = (time_graphPreUser - timeStart) + (time_postModel - time_graphPostUser) #total time elapsed (procedure1 + procedure2) DOES NOT INCLUDE USER SELECTION TIME\n",
    "time_procedure2 = (time_postModel - time_graphPostUser) #time elapsed for procedure 2\n",
    "\n",
    "print(\"Time Elapsed for Procedure 1 (s): \" + str(time_procedure1))\n",
    "print(\"Time Elapsed for Procedure 2 (s): \" + str(time_procedure2))\n",
    "print(\"Time Elapsed Total (s): \" + str(timeElapsed))\n",
    "print(g)\n",
    "\n",
    "display(result)"
   ]
  },
  {
   "cell_type": "markdown",
   "metadata": {},
   "source": [
    "GANGLIA Save Process (Non-GUI Version)"
   ]
  },
  {
   "cell_type": "code",
   "execution_count": null,
   "metadata": {},
   "outputs": [
    {
     "name": "stdout",
     "output_type": "stream",
     "text": [
      "Results not saved.\n"
     ]
    }
   ],
   "source": [
    "# The user is asked whether they would like to actually save the results.\n",
    "\n",
    "graphDrawingUserChoice = input(\"Do you want to save the results? [y/n]: \")\n",
    "whileLoopSignal = 0\n",
    "\n",
    "while whileLoopSignal == 0:\n",
    "    if graphDrawingUserChoice == \"y\":\n",
    "        \n",
    "        print(\"Results saving...\")   \n",
    "        ''' USER NEEDS TO UPDATE THIS AS NEEDED\n",
    "            #Directory to export files to \n",
    "        '''\n",
    "        exportDir = input(\"Save Directory: \") or 'G:/Shared drives/CMU BORG - Constrained Neuron Patterning & Transfer/02 Design Tool/exportTests/v11'\n",
    "        # exportDir = 'G:/Shared drives/CMU BORG - Constrained Neuron Patterning & Transfer/02 Design Tool/exportTests/v11'\n",
    "        \n",
    "        fig_kk.savefig(exportDir+\"/intermediate_kk_\"+saveFileName+\".svg\", format=\"svg\", dpi=1200)\n",
    "        fig_fr.savefig(exportDir+\"/intermediate_fr_\"+saveFileName+\".svg\", format=\"svg\", dpi=1200)\n",
    "\n",
    "        cq.exporters.export(\n",
    "                            result,\n",
    "                            exportDir+\"/CAD_\" + saveFileName +\".svg\",\n",
    "                            opt={\n",
    "                                \"showAxes\": False,\n",
    "                                \"projectionDir\": (-0.25, -0.25, 0.5),\n",
    "                                }\n",
    "                            )\n",
    "        \n",
    "        cq.exporters.export(\n",
    "                            result,\n",
    "                            exportDir + \"/\" + saveFileName + \".stp\",\n",
    "                            cq.exporters.ExportTypes.STEP)\n",
    "        \n",
    "            #SVG Export - XY Plane from above\n",
    "        bb = result.val().BoundingBox()\n",
    "        cq.exporters.export(result,\n",
    "                            (exportDir + \"/XYplane_\" + saveFileName + '.svg'),\n",
    "                            opt={\n",
    "                                \"showAxes\": False,\n",
    "                                \"projectionDir\":(0,0,1),\n",
    "                                \"output_width\":bb.xlen,\n",
    "                                \"output_height\":bb.ylen})\n",
    "        \n",
    "            # visualize the SVG export\n",
    "        \n",
    "        fig = plt.figure()\n",
    "        img_png = cairosvg.svg2png(url=(exportDir + \"/XYplane_\" + saveFileName + '.svg'),write_to=(exportDir + \"/XYplane_\" + saveFileName +'.png'))\n",
    "        img = mpimg.imread((exportDir + \"/XYplane_\" + saveFileName +'.png'))\n",
    "        imgplot = plt.imshow(img)\n",
    "        plt.show()\n",
    "        \n",
    "            #DXF Export (looks like XY planeish - have some weird spare lines)\n",
    "        cq.exporters.export(result,\n",
    "                            exportDir + \"/\" + saveFileName + \".dxf\")\n",
    "        doc = ezdxf.readfile(\n",
    "                            exportDir + \"/\" + saveFileName + \".dxf\")\n",
    "        msp = doc.modelspace()\n",
    "        \n",
    "        fig = plt.figure()\n",
    "        ax = fig.add_axes([0,0,1,1])\n",
    "        ctx = RenderContext(doc)\n",
    "        msp_properties = LayoutProperties.from_layout(msp)\n",
    "        msp_properties.set_colors(\"#eaeaeaff\")\n",
    "        out = MatplotlibBackend(ax)\n",
    "        Frontend(ctx, out).draw_layout(\n",
    "            msp,\n",
    "            finalize=True,\n",
    "            layout_properties=msp_properties,\n",
    "            )\n",
    "        plt.show()\n",
    "        \n",
    "        whileLoopSignal = 1\n",
    "\n",
    "    elif graphDrawingUserChoice == \"n\":\n",
    "        \n",
    "        print(\"Results not saved.\")\n",
    "        whileLoopSignal = 2\n",
    "        \n",
    "    else:\n",
    "        print(\"Your input was invalid. Please select an appropriate option.\")\n",
    "        graphDrawingUserChoice = input(\"Do you want to save the results? [y/n]: \")"
   ]
  }
 ],
 "metadata": {
  "kernelspec": {
   "display_name": "venvGANGLIA_v00",
   "language": "python",
   "name": "python3"
  },
  "language_info": {
   "codemirror_mode": {
    "name": "ipython",
    "version": 3
   },
   "file_extension": ".py",
   "mimetype": "text/x-python",
   "name": "python",
   "nbconvert_exporter": "python",
   "pygments_lexer": "ipython3",
   "version": "3.11.4"
  },
  "orig_nbformat": 4
 },
 "nbformat": 4,
 "nbformat_minor": 2
}
